{
 "cells": [
  {
   "cell_type": "code",
   "execution_count": 1,
   "metadata": {},
   "outputs": [
    {
     "name": "stdout",
     "output_type": "stream",
     "text": [
      "['He is a good boy', 'He is an awesome player', 'She is the best', 'These burger are really nice']\n",
      "['Food is the worst here', 'This pizza tastes awful']\n"
     ]
    }
   ],
   "source": [
    "positive = ['good','awesome', 'best', 'nice'] \n",
    "negative = ['worst','awful'] \n",
    "comments = ['He is a good boy', \n",
    "'Food is the worst here', \n",
    "'He is an awesome player', \n",
    "'She is the best', \n",
    "'This pizza tastes awful', \n",
    "'These burger are really nice']\n",
    "\n",
    "pos_com = []\n",
    "neg_com = []\n",
    "\n",
    "for cmt in comments:\n",
    "    for word in positive:\n",
    "        if word in cmt:\n",
    "            pos_com.append(cmt)\n",
    "\n",
    "for cmt in comments:\n",
    "    for word in negative:\n",
    "        if word in cmt:\n",
    "            neg_com.append(cmt)\n",
    "\n",
    "print(pos_com)\n",
    "print(neg_com)"
   ]
  },
  {
   "cell_type": "code",
   "execution_count": null,
   "metadata": {},
   "outputs": [],
   "source": []
  }
 ],
 "metadata": {
  "kernelspec": {
   "display_name": "Python 3",
   "language": "python",
   "name": "python3"
  },
  "language_info": {
   "codemirror_mode": {
    "name": "ipython",
    "version": 3
   },
   "file_extension": ".py",
   "mimetype": "text/x-python",
   "name": "python",
   "nbconvert_exporter": "python",
   "pygments_lexer": "ipython3",
   "version": "3.11.4"
  }
 },
 "nbformat": 4,
 "nbformat_minor": 2
}
