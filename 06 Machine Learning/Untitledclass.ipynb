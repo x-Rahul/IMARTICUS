{
 "cells": [
  {
   "cell_type": "code",
   "execution_count": 1,
   "id": "a1bcb491",
   "metadata": {},
   "outputs": [],
   "source": [
    "import numpy as np\n",
    "import pandas as pd\n",
    "import matplotlib.pyplot as plt\n",
    "import seaborn as sns\n",
    "from scipy import stats # hypothesis testing - t test , z test anova etc .."
   ]
  },
  {
   "cell_type": "markdown",
   "id": "c1891cdf",
   "metadata": {},
   "source": [
    "##### fetching of data set"
   ]
  },
  {
   "cell_type": "code",
   "execution_count": 2,
   "id": "11548982",
   "metadata": {},
   "outputs": [],
   "source": [
    "df=pd.read_csv(r\"/Users/rahulmeena/Imarticus/GitHub/IMARTICUS/Datasets/class_exercise/Car_sales.csv\")"
   ]
  },
  {
   "cell_type": "markdown",
   "id": "bd2354f6",
   "metadata": {},
   "source": [
    "#### basic exploration of data "
   ]
  },
  {
   "cell_type": "code",
   "execution_count": 3,
   "id": "ee7a76e5",
   "metadata": {},
   "outputs": [],
   "source": [
    "# 1. row, columns, datatypes, head, tail,info"
   ]
  },
  {
   "cell_type": "code",
   "execution_count": 4,
   "id": "eca4e640",
   "metadata": {},
   "outputs": [
    {
     "data": {
      "text/plain": [
       "(157, 16)"
      ]
     },
     "execution_count": 4,
     "metadata": {},
     "output_type": "execute_result"
    }
   ],
   "source": [
    "df.shape"
   ]
  },
  {
   "cell_type": "code",
   "execution_count": 5,
   "id": "869edeb1",
   "metadata": {},
   "outputs": [
    {
     "data": {
      "text/plain": [
       "Manufacturer               object\n",
       "Model                      object\n",
       "Sales_in_thousands        float64\n",
       "four_year_resale_value    float64\n",
       "Vehicle_type               object\n",
       "Price_in_thousands        float64\n",
       "Engine_size               float64\n",
       "Horsepower                float64\n",
       "Wheelbase                 float64\n",
       "Width                     float64\n",
       "Length                    float64\n",
       "Curb_weight               float64\n",
       "Fuel_capacity             float64\n",
       "Fuel_efficiency           float64\n",
       "Latest_Launch              object\n",
       "Power_perf_factor         float64\n",
       "dtype: object"
      ]
     },
     "execution_count": 5,
     "metadata": {},
     "output_type": "execute_result"
    }
   ],
   "source": [
    "df.dtypes"
   ]
  },
  {
   "cell_type": "code",
   "execution_count": 6,
   "id": "83e3b5cd",
   "metadata": {},
   "outputs": [
    {
     "data": {
      "text/html": [
       "<div>\n",
       "<style scoped>\n",
       "    .dataframe tbody tr th:only-of-type {\n",
       "        vertical-align: middle;\n",
       "    }\n",
       "\n",
       "    .dataframe tbody tr th {\n",
       "        vertical-align: top;\n",
       "    }\n",
       "\n",
       "    .dataframe thead th {\n",
       "        text-align: right;\n",
       "    }\n",
       "</style>\n",
       "<table border=\"1\" class=\"dataframe\">\n",
       "  <thead>\n",
       "    <tr style=\"text-align: right;\">\n",
       "      <th></th>\n",
       "      <th>Manufacturer</th>\n",
       "      <th>Model</th>\n",
       "      <th>Sales_in_thousands</th>\n",
       "      <th>four_year_resale_value</th>\n",
       "      <th>Vehicle_type</th>\n",
       "      <th>Price_in_thousands</th>\n",
       "      <th>Engine_size</th>\n",
       "      <th>Horsepower</th>\n",
       "      <th>Wheelbase</th>\n",
       "      <th>Width</th>\n",
       "      <th>Length</th>\n",
       "      <th>Curb_weight</th>\n",
       "      <th>Fuel_capacity</th>\n",
       "      <th>Fuel_efficiency</th>\n",
       "      <th>Latest_Launch</th>\n",
       "      <th>Power_perf_factor</th>\n",
       "    </tr>\n",
       "  </thead>\n",
       "  <tbody>\n",
       "    <tr>\n",
       "      <th>0</th>\n",
       "      <td>Acura</td>\n",
       "      <td>Integra</td>\n",
       "      <td>16.919</td>\n",
       "      <td>16.360</td>\n",
       "      <td>Passenger</td>\n",
       "      <td>21.50</td>\n",
       "      <td>1.8</td>\n",
       "      <td>140.0</td>\n",
       "      <td>101.2</td>\n",
       "      <td>67.3</td>\n",
       "      <td>172.4</td>\n",
       "      <td>2.639</td>\n",
       "      <td>13.2</td>\n",
       "      <td>28.0</td>\n",
       "      <td>2/2/2012</td>\n",
       "      <td>58.280150</td>\n",
       "    </tr>\n",
       "    <tr>\n",
       "      <th>1</th>\n",
       "      <td>Acura</td>\n",
       "      <td>TL</td>\n",
       "      <td>39.384</td>\n",
       "      <td>19.875</td>\n",
       "      <td>Passenger</td>\n",
       "      <td>28.40</td>\n",
       "      <td>3.2</td>\n",
       "      <td>225.0</td>\n",
       "      <td>108.1</td>\n",
       "      <td>70.3</td>\n",
       "      <td>192.9</td>\n",
       "      <td>3.517</td>\n",
       "      <td>17.2</td>\n",
       "      <td>25.0</td>\n",
       "      <td>6/3/2011</td>\n",
       "      <td>91.370778</td>\n",
       "    </tr>\n",
       "    <tr>\n",
       "      <th>2</th>\n",
       "      <td>Acura</td>\n",
       "      <td>CL</td>\n",
       "      <td>14.114</td>\n",
       "      <td>18.225</td>\n",
       "      <td>Passenger</td>\n",
       "      <td>NaN</td>\n",
       "      <td>3.2</td>\n",
       "      <td>225.0</td>\n",
       "      <td>106.9</td>\n",
       "      <td>70.6</td>\n",
       "      <td>192.0</td>\n",
       "      <td>3.470</td>\n",
       "      <td>17.2</td>\n",
       "      <td>26.0</td>\n",
       "      <td>1/4/2012</td>\n",
       "      <td>NaN</td>\n",
       "    </tr>\n",
       "    <tr>\n",
       "      <th>3</th>\n",
       "      <td>Acura</td>\n",
       "      <td>RL</td>\n",
       "      <td>8.588</td>\n",
       "      <td>29.725</td>\n",
       "      <td>Passenger</td>\n",
       "      <td>42.00</td>\n",
       "      <td>3.5</td>\n",
       "      <td>210.0</td>\n",
       "      <td>114.6</td>\n",
       "      <td>71.4</td>\n",
       "      <td>196.6</td>\n",
       "      <td>3.850</td>\n",
       "      <td>18.0</td>\n",
       "      <td>22.0</td>\n",
       "      <td>3/10/2011</td>\n",
       "      <td>91.389779</td>\n",
       "    </tr>\n",
       "    <tr>\n",
       "      <th>4</th>\n",
       "      <td>Audi</td>\n",
       "      <td>A4</td>\n",
       "      <td>20.397</td>\n",
       "      <td>22.255</td>\n",
       "      <td>Passenger</td>\n",
       "      <td>23.99</td>\n",
       "      <td>1.8</td>\n",
       "      <td>150.0</td>\n",
       "      <td>102.6</td>\n",
       "      <td>68.2</td>\n",
       "      <td>178.0</td>\n",
       "      <td>2.998</td>\n",
       "      <td>16.4</td>\n",
       "      <td>27.0</td>\n",
       "      <td>10/8/2011</td>\n",
       "      <td>62.777639</td>\n",
       "    </tr>\n",
       "  </tbody>\n",
       "</table>\n",
       "</div>"
      ],
      "text/plain": [
       "  Manufacturer    Model  Sales_in_thousands  four_year_resale_value  \\\n",
       "0        Acura  Integra              16.919                  16.360   \n",
       "1        Acura       TL              39.384                  19.875   \n",
       "2        Acura       CL              14.114                  18.225   \n",
       "3        Acura       RL               8.588                  29.725   \n",
       "4         Audi       A4              20.397                  22.255   \n",
       "\n",
       "  Vehicle_type  Price_in_thousands  Engine_size  Horsepower  Wheelbase  Width  \\\n",
       "0    Passenger               21.50          1.8       140.0      101.2   67.3   \n",
       "1    Passenger               28.40          3.2       225.0      108.1   70.3   \n",
       "2    Passenger                 NaN          3.2       225.0      106.9   70.6   \n",
       "3    Passenger               42.00          3.5       210.0      114.6   71.4   \n",
       "4    Passenger               23.99          1.8       150.0      102.6   68.2   \n",
       "\n",
       "   Length  Curb_weight  Fuel_capacity  Fuel_efficiency Latest_Launch  \\\n",
       "0   172.4        2.639           13.2             28.0      2/2/2012   \n",
       "1   192.9        3.517           17.2             25.0      6/3/2011   \n",
       "2   192.0        3.470           17.2             26.0      1/4/2012   \n",
       "3   196.6        3.850           18.0             22.0     3/10/2011   \n",
       "4   178.0        2.998           16.4             27.0     10/8/2011   \n",
       "\n",
       "   Power_perf_factor  \n",
       "0          58.280150  \n",
       "1          91.370778  \n",
       "2                NaN  \n",
       "3          91.389779  \n",
       "4          62.777639  "
      ]
     },
     "execution_count": 6,
     "metadata": {},
     "output_type": "execute_result"
    }
   ],
   "source": [
    "df.head()"
   ]
  },
  {
   "cell_type": "code",
   "execution_count": 7,
   "id": "87e767c2",
   "metadata": {},
   "outputs": [
    {
     "name": "stdout",
     "output_type": "stream",
     "text": [
      "<class 'pandas.core.frame.DataFrame'>\n",
      "RangeIndex: 157 entries, 0 to 156\n",
      "Data columns (total 16 columns):\n",
      " #   Column                  Non-Null Count  Dtype  \n",
      "---  ------                  --------------  -----  \n",
      " 0   Manufacturer            157 non-null    object \n",
      " 1   Model                   157 non-null    object \n",
      " 2   Sales_in_thousands      157 non-null    float64\n",
      " 3   four_year_resale_value  121 non-null    float64\n",
      " 4   Vehicle_type            157 non-null    object \n",
      " 5   Price_in_thousands      155 non-null    float64\n",
      " 6   Engine_size             156 non-null    float64\n",
      " 7   Horsepower              156 non-null    float64\n",
      " 8   Wheelbase               156 non-null    float64\n",
      " 9   Width                   156 non-null    float64\n",
      " 10  Length                  156 non-null    float64\n",
      " 11  Curb_weight             155 non-null    float64\n",
      " 12  Fuel_capacity           156 non-null    float64\n",
      " 13  Fuel_efficiency         154 non-null    float64\n",
      " 14  Latest_Launch           157 non-null    object \n",
      " 15  Power_perf_factor       155 non-null    float64\n",
      "dtypes: float64(12), object(4)\n",
      "memory usage: 19.8+ KB\n"
     ]
    }
   ],
   "source": [
    "df.info()"
   ]
  },
  {
   "cell_type": "code",
   "execution_count": 8,
   "id": "6e7fc4d8",
   "metadata": {},
   "outputs": [],
   "source": [
    "# EDA - Exploratory data Analysis \n",
    "#1. Univariate Analysis -( Study each variable one by one)\n",
    "#     a. Numerical Var- (missing, min, max, mean, median, std, var, skewness, kurtosis, distribution (decile, percentile))\n",
    "#     b. Categorical Var- (missing , mode, freq distr, unique values)\n",
    "# 2. Bivariate Analysis - (Study two variable at a time)\n",
    "#     a. Numerical - Numerical (age-income) (relationship - correlation, graphs-scattered)\n",
    "#     b. Numerical - Categorical (Income - gender) (group by summary, relationship - hypothesis test)\n",
    "#     c. categorical to categorical (Gender-education) (crosstab, relationship - chisquare)"
   ]
  },
  {
   "cell_type": "code",
   "execution_count": 9,
   "id": "2c0e2d63",
   "metadata": {},
   "outputs": [
    {
     "data": {
      "text/plain": [
       "Index(['Manufacturer', 'Model', 'Vehicle_type', 'Latest_Launch'], dtype='object')"
      ]
     },
     "execution_count": 9,
     "metadata": {},
     "output_type": "execute_result"
    }
   ],
   "source": [
    "df.dtypes[df.dtypes==\"object\"].index  # list of objective Variables"
   ]
  },
  {
   "cell_type": "code",
   "execution_count": 10,
   "id": "97293d3a",
   "metadata": {},
   "outputs": [
    {
     "data": {
      "text/plain": [
       "0"
      ]
     },
     "execution_count": 10,
     "metadata": {},
     "output_type": "execute_result"
    }
   ],
   "source": [
    "df[\"Manufacturer\"].isnull().sum()  # missing value"
   ]
  },
  {
   "cell_type": "code",
   "execution_count": 11,
   "id": "d572e220",
   "metadata": {},
   "outputs": [
    {
     "data": {
      "text/plain": [
       "0    Dodge\n",
       "1     Ford\n",
       "Name: Manufacturer, dtype: object"
      ]
     },
     "execution_count": 11,
     "metadata": {},
     "output_type": "execute_result"
    }
   ],
   "source": [
    "df[\"Manufacturer\"].mode()  # mode"
   ]
  },
  {
   "cell_type": "code",
   "execution_count": 12,
   "id": "641a78a0",
   "metadata": {},
   "outputs": [
    {
     "data": {
      "text/plain": [
       "Manufacturer\n",
       "Dodge         11\n",
       "Ford          11\n",
       "Toyota         9\n",
       "Chevrolet      9\n",
       "Mercedes-B     9\n",
       "Mitsubishi     7\n",
       "Nissan         7\n",
       "Chrysler       7\n",
       "Volvo          6\n",
       "Oldsmobile     6\n",
       "Lexus          6\n",
       "Mercury        6\n",
       "Pontiac        6\n",
       "Volkswagen     6\n",
       "Saturn         5\n",
       "Cadillac       5\n",
       "Honda          5\n",
       "Plymouth       4\n",
       "Acura          4\n",
       "Buick          4\n",
       "Audi           3\n",
       "Jeep           3\n",
       "Porsche        3\n",
       "Hyundai        3\n",
       "BMW            3\n",
       "Lincoln        3\n",
       "Saab           2\n",
       "Subaru         2\n",
       "Jaguar         1\n",
       "Infiniti       1\n",
       "Name: count, dtype: int64"
      ]
     },
     "execution_count": 12,
     "metadata": {},
     "output_type": "execute_result"
    }
   ],
   "source": [
    "df[\"Manufacturer\"].value_counts()  # Frequency count"
   ]
  },
  {
   "cell_type": "code",
   "execution_count": 13,
   "id": "67fdbb3b",
   "metadata": {},
   "outputs": [
    {
     "data": {
      "text/plain": [
       "<Axes: xlabel='Manufacturer'>"
      ]
     },
     "execution_count": 13,
     "metadata": {},
     "output_type": "execute_result"
    },
    {
     "data": {
      "image/png": "[encoded data removed]",
      "text/plain": [
       "<Figure size 640x480 with 1 Axes>"
      ]
     },
     "metadata": {},
     "output_type": "display_data"
    }
   ],
   "source": [
    "df[\"Manufacturer\"].value_counts().plot(kind=\"bar\")"
   ]
  },
  {
   "cell_type": "code",
   "execution_count": 14,
   "id": "cb85f63e",
   "metadata": {},
   "outputs": [
    {
     "data": {
      "text/plain": [
       "0"
      ]
     },
     "execution_count": 14,
     "metadata": {},
     "output_type": "execute_result"
    }
   ],
   "source": [
    "df[\"Model\"].isnull().sum()"
   ]
  },
  {
   "cell_type": "code",
   "execution_count": 15,
   "id": "938c9121",
   "metadata": {},
   "outputs": [
    {
     "data": {
      "text/plain": [
       "0    Neon\n",
       "Name: Model, dtype: object"
      ]
     },
     "execution_count": 15,
     "metadata": {},
     "output_type": "execute_result"
    }
   ],
   "source": [
    "df[\"Model\"].mode()"
   ]
  },
  {
   "cell_type": "code",
   "execution_count": 16,
   "id": "fe2d8ee4",
   "metadata": {},
   "outputs": [
    {
     "data": {
      "text/html": [
       "<div>\n",
       "<style scoped>\n",
       "    .dataframe tbody tr th:only-of-type {\n",
       "        vertical-align: middle;\n",
       "    }\n",
       "\n",
       "    .dataframe tbody tr th {\n",
       "        vertical-align: top;\n",
       "    }\n",
       "\n",
       "    .dataframe thead th {\n",
       "        text-align: right;\n",
       "    }\n",
       "</style>\n",
       "<table border=\"1\" class=\"dataframe\">\n",
       "  <thead>\n",
       "    <tr style=\"text-align: right;\">\n",
       "      <th></th>\n",
       "      <th>Manufacturer</th>\n",
       "      <th>Model</th>\n",
       "      <th>Sales_in_thousands</th>\n",
       "      <th>four_year_resale_value</th>\n",
       "      <th>Vehicle_type</th>\n",
       "      <th>Price_in_thousands</th>\n",
       "      <th>Engine_size</th>\n",
       "      <th>Horsepower</th>\n",
       "      <th>Wheelbase</th>\n",
       "      <th>Width</th>\n",
       "      <th>Length</th>\n",
       "      <th>Curb_weight</th>\n",
       "      <th>Fuel_capacity</th>\n",
       "      <th>Fuel_efficiency</th>\n",
       "      <th>Latest_Launch</th>\n",
       "      <th>Power_perf_factor</th>\n",
       "    </tr>\n",
       "  </thead>\n",
       "  <tbody>\n",
       "    <tr>\n",
       "      <th>35</th>\n",
       "      <td>Dodge</td>\n",
       "      <td>Neon</td>\n",
       "      <td>76.034</td>\n",
       "      <td>7.75</td>\n",
       "      <td>Passenger</td>\n",
       "      <td>12.64</td>\n",
       "      <td>2.0</td>\n",
       "      <td>132.0</td>\n",
       "      <td>105.0</td>\n",
       "      <td>74.4</td>\n",
       "      <td>174.4</td>\n",
       "      <td>2.567</td>\n",
       "      <td>12.5</td>\n",
       "      <td>29.0</td>\n",
       "      <td>12/12/2011</td>\n",
       "      <td>52.084899</td>\n",
       "    </tr>\n",
       "    <tr>\n",
       "      <th>114</th>\n",
       "      <td>Plymouth</td>\n",
       "      <td>Neon</td>\n",
       "      <td>32.734</td>\n",
       "      <td>7.75</td>\n",
       "      <td>Passenger</td>\n",
       "      <td>12.64</td>\n",
       "      <td>2.0</td>\n",
       "      <td>132.0</td>\n",
       "      <td>105.0</td>\n",
       "      <td>74.4</td>\n",
       "      <td>174.4</td>\n",
       "      <td>2.559</td>\n",
       "      <td>12.5</td>\n",
       "      <td>29.0</td>\n",
       "      <td>4/26/2011</td>\n",
       "      <td>52.084899</td>\n",
       "    </tr>\n",
       "  </tbody>\n",
       "</table>\n",
       "</div>"
      ],
      "text/plain": [
       "    Manufacturer Model  Sales_in_thousands  four_year_resale_value  \\\n",
       "35         Dodge  Neon              76.034                    7.75   \n",
       "114     Plymouth  Neon              32.734                    7.75   \n",
       "\n",
       "    Vehicle_type  Price_in_thousands  Engine_size  Horsepower  Wheelbase  \\\n",
       "35     Passenger               12.64          2.0       132.0      105.0   \n",
       "114    Passenger               12.64          2.0       132.0      105.0   \n",
       "\n",
       "     Width  Length  Curb_weight  Fuel_capacity  Fuel_efficiency Latest_Launch  \\\n",
       "35    74.4   174.4        2.567           12.5             29.0    12/12/2011   \n",
       "114   74.4   174.4        2.559           12.5             29.0     4/26/2011   \n",
       "\n",
       "     Power_perf_factor  \n",
       "35           52.084899  \n",
       "114          52.084899  "
      ]
     },
     "execution_count": 16,
     "metadata": {},
     "output_type": "execute_result"
    }
   ],
   "source": [
    "df[df[\"Model\"]==\"Neon\"]"
   ]
  },
  {
   "cell_type": "code",
   "execution_count": 17,
   "id": "374f578c",
   "metadata": {},
   "outputs": [
    {
     "data": {
      "text/plain": [
       "Model\n",
       "Neon          2\n",
       "Integra       1\n",
       "Cutlass       1\n",
       "Sentra        1\n",
       "Altima        1\n",
       "             ..\n",
       "Windstar      1\n",
       "Expedition    1\n",
       "Ranger        1\n",
       "F-Series      1\n",
       "S80           1\n",
       "Name: count, Length: 156, dtype: int64"
      ]
     },
     "execution_count": 17,
     "metadata": {},
     "output_type": "execute_result"
    }
   ],
   "source": [
    "df[\"Model\"].value_counts()"
   ]
  },
  {
   "cell_type": "code",
   "execution_count": 18,
   "id": "186df6f1",
   "metadata": {},
   "outputs": [
    {
     "data": {
      "text/plain": [
       "0"
      ]
     },
     "execution_count": 18,
     "metadata": {},
     "output_type": "execute_result"
    }
   ],
   "source": [
    "df[\"Vehicle_type\"].isnull().sum()"
   ]
  },
  {
   "cell_type": "code",
   "execution_count": 19,
   "id": "5e9ef916",
   "metadata": {},
   "outputs": [
    {
     "data": {
      "text/plain": [
       "0    Passenger\n",
       "Name: Vehicle_type, dtype: object"
      ]
     },
     "execution_count": 19,
     "metadata": {},
     "output_type": "execute_result"
    }
   ],
   "source": [
    "df[\"Vehicle_type\"].mode()"
   ]
  },
  {
   "cell_type": "code",
   "execution_count": 20,
   "id": "36df0b78",
   "metadata": {},
   "outputs": [
    {
     "data": {
      "text/plain": [
       "Vehicle_type\n",
       "Passenger    116\n",
       "Car           41\n",
       "Name: count, dtype: int64"
      ]
     },
     "execution_count": 20,
     "metadata": {},
     "output_type": "execute_result"
    }
   ],
   "source": [
    "df[\"Vehicle_type\"].value_counts()"
   ]
  },
  {
   "cell_type": "code",
   "execution_count": 21,
   "id": "aac1615e",
   "metadata": {},
   "outputs": [
    {
     "data": {
      "text/plain": [
       "0        2/2/2012\n",
       "1        6/3/2011\n",
       "2        1/4/2012\n",
       "3       3/10/2011\n",
       "4       10/8/2011\n",
       "          ...    \n",
       "152     9/21/2011\n",
       "153    11/24/2012\n",
       "154     6/25/2011\n",
       "155     4/26/2011\n",
       "156    11/14/2011\n",
       "Name: Latest_Launch, Length: 157, dtype: object"
      ]
     },
     "execution_count": 21,
     "metadata": {},
     "output_type": "execute_result"
    }
   ],
   "source": [
    "df[\"Latest_Launch\"] # type casting - changing data type "
   ]
  },
  {
   "cell_type": "code",
   "execution_count": 22,
   "id": "7a83b640",
   "metadata": {},
   "outputs": [],
   "source": [
    "df[\"Latest_Launch\"]=pd.to_datetime(df[\"Latest_Launch\"])"
   ]
  },
  {
   "cell_type": "code",
   "execution_count": 23,
   "id": "7220e0a1",
   "metadata": {},
   "outputs": [
    {
     "data": {
      "text/plain": [
       "Index(['Sales_in_thousands', 'four_year_resale_value', 'Price_in_thousands',\n",
       "       'Engine_size', 'Horsepower', 'Wheelbase', 'Width', 'Length',\n",
       "       'Curb_weight', 'Fuel_capacity', 'Fuel_efficiency', 'Latest_Launch',\n",
       "       'Power_perf_factor'],\n",
       "      dtype='object')"
      ]
     },
     "execution_count": 23,
     "metadata": {},
     "output_type": "execute_result"
    }
   ],
   "source": [
    "df.dtypes[df.dtypes!=\"object\"].index "
   ]
  },
  {
   "cell_type": "code",
   "execution_count": 24,
   "id": "15f568ed",
   "metadata": {},
   "outputs": [
    {
     "data": {
      "text/plain": [
       "0"
      ]
     },
     "execution_count": 24,
     "metadata": {},
     "output_type": "execute_result"
    }
   ],
   "source": [
    "df[\"Sales_in_thousands\"].isnull().sum()"
   ]
  },
  {
   "cell_type": "code",
   "execution_count": 25,
   "id": "76f26b09",
   "metadata": {},
   "outputs": [
    {
     "data": {
      "text/plain": [
       "110.0"
      ]
     },
     "execution_count": 25,
     "metadata": {},
     "output_type": "execute_result"
    }
   ],
   "source": [
    "df[\"Sales_in_thousands\"].min()*1000"
   ]
  },
  {
   "cell_type": "code",
   "execution_count": 26,
   "id": "b366127c",
   "metadata": {},
   "outputs": [
    {
     "data": {
      "text/html": [
       "<div>\n",
       "<style scoped>\n",
       "    .dataframe tbody tr th:only-of-type {\n",
       "        vertical-align: middle;\n",
       "    }\n",
       "\n",
       "    .dataframe tbody tr th {\n",
       "        vertical-align: top;\n",
       "    }\n",
       "\n",
       "    .dataframe thead th {\n",
       "        text-align: right;\n",
       "    }\n",
       "</style>\n",
       "<table border=\"1\" class=\"dataframe\">\n",
       "  <thead>\n",
       "    <tr style=\"text-align: right;\">\n",
       "      <th></th>\n",
       "      <th>Manufacturer</th>\n",
       "      <th>Model</th>\n",
       "      <th>Sales_in_thousands</th>\n",
       "      <th>four_year_resale_value</th>\n",
       "      <th>Vehicle_type</th>\n",
       "      <th>Price_in_thousands</th>\n",
       "      <th>Engine_size</th>\n",
       "      <th>Horsepower</th>\n",
       "      <th>Wheelbase</th>\n",
       "      <th>Width</th>\n",
       "      <th>Length</th>\n",
       "      <th>Curb_weight</th>\n",
       "      <th>Fuel_capacity</th>\n",
       "      <th>Fuel_efficiency</th>\n",
       "      <th>Latest_Launch</th>\n",
       "      <th>Power_perf_factor</th>\n",
       "    </tr>\n",
       "  </thead>\n",
       "  <tbody>\n",
       "    <tr>\n",
       "      <th>83</th>\n",
       "      <td>Mitsubishi</td>\n",
       "      <td>3000GT</td>\n",
       "      <td>0.11</td>\n",
       "      <td>20.94</td>\n",
       "      <td>Passenger</td>\n",
       "      <td>25.45</td>\n",
       "      <td>3.0</td>\n",
       "      <td>161.0</td>\n",
       "      <td>97.2</td>\n",
       "      <td>72.4</td>\n",
       "      <td>180.3</td>\n",
       "      <td>3.131</td>\n",
       "      <td>19.8</td>\n",
       "      <td>21.0</td>\n",
       "      <td>2012-06-29</td>\n",
       "      <td>67.544155</td>\n",
       "    </tr>\n",
       "  </tbody>\n",
       "</table>\n",
       "</div>"
      ],
      "text/plain": [
       "   Manufacturer   Model  Sales_in_thousands  four_year_resale_value  \\\n",
       "83   Mitsubishi  3000GT                0.11                   20.94   \n",
       "\n",
       "   Vehicle_type  Price_in_thousands  Engine_size  Horsepower  Wheelbase  \\\n",
       "83    Passenger               25.45          3.0       161.0       97.2   \n",
       "\n",
       "    Width  Length  Curb_weight  Fuel_capacity  Fuel_efficiency Latest_Launch  \\\n",
       "83   72.4   180.3        3.131           19.8             21.0    2012-06-29   \n",
       "\n",
       "    Power_perf_factor  \n",
       "83          67.544155  "
      ]
     },
     "execution_count": 26,
     "metadata": {},
     "output_type": "execute_result"
    }
   ],
   "source": [
    "df[df[\"Sales_in_thousands\"]==.11]"
   ]
  },
  {
   "cell_type": "code",
   "execution_count": 27,
   "id": "01370fe0",
   "metadata": {},
   "outputs": [
    {
     "data": {
      "text/plain": [
       "540.561"
      ]
     },
     "execution_count": 27,
     "metadata": {},
     "output_type": "execute_result"
    }
   ],
   "source": [
    "df[\"Sales_in_thousands\"].max()"
   ]
  },
  {
   "cell_type": "code",
   "execution_count": 28,
   "id": "5c5f38f2",
   "metadata": {},
   "outputs": [
    {
     "data": {
      "text/html": [
       "<div>\n",
       "<style scoped>\n",
       "    .dataframe tbody tr th:only-of-type {\n",
       "        vertical-align: middle;\n",
       "    }\n",
       "\n",
       "    .dataframe tbody tr th {\n",
       "        vertical-align: top;\n",
       "    }\n",
       "\n",
       "    .dataframe thead th {\n",
       "        text-align: right;\n",
       "    }\n",
       "</style>\n",
       "<table border=\"1\" class=\"dataframe\">\n",
       "  <thead>\n",
       "    <tr style=\"text-align: right;\">\n",
       "      <th></th>\n",
       "      <th>Manufacturer</th>\n",
       "      <th>Model</th>\n",
       "      <th>Sales_in_thousands</th>\n",
       "      <th>four_year_resale_value</th>\n",
       "      <th>Vehicle_type</th>\n",
       "      <th>Price_in_thousands</th>\n",
       "      <th>Engine_size</th>\n",
       "      <th>Horsepower</th>\n",
       "      <th>Wheelbase</th>\n",
       "      <th>Width</th>\n",
       "      <th>Length</th>\n",
       "      <th>Curb_weight</th>\n",
       "      <th>Fuel_capacity</th>\n",
       "      <th>Fuel_efficiency</th>\n",
       "      <th>Latest_Launch</th>\n",
       "      <th>Power_perf_factor</th>\n",
       "    </tr>\n",
       "  </thead>\n",
       "  <tbody>\n",
       "    <tr>\n",
       "      <th>56</th>\n",
       "      <td>Ford</td>\n",
       "      <td>F-Series</td>\n",
       "      <td>540.561</td>\n",
       "      <td>15.075</td>\n",
       "      <td>Car</td>\n",
       "      <td>26.935</td>\n",
       "      <td>4.6</td>\n",
       "      <td>220.0</td>\n",
       "      <td>138.5</td>\n",
       "      <td>79.1</td>\n",
       "      <td>224.5</td>\n",
       "      <td>4.241</td>\n",
       "      <td>25.1</td>\n",
       "      <td>18.0</td>\n",
       "      <td>2012-08-16</td>\n",
       "      <td>89.401935</td>\n",
       "    </tr>\n",
       "  </tbody>\n",
       "</table>\n",
       "</div>"
      ],
      "text/plain": [
       "   Manufacturer     Model  Sales_in_thousands  four_year_resale_value  \\\n",
       "56         Ford  F-Series             540.561                  15.075   \n",
       "\n",
       "   Vehicle_type  Price_in_thousands  Engine_size  Horsepower  Wheelbase  \\\n",
       "56          Car              26.935          4.6       220.0      138.5   \n",
       "\n",
       "    Width  Length  Curb_weight  Fuel_capacity  Fuel_efficiency Latest_Launch  \\\n",
       "56   79.1   224.5        4.241           25.1             18.0    2012-08-16   \n",
       "\n",
       "    Power_perf_factor  \n",
       "56          89.401935  "
      ]
     },
     "execution_count": 28,
     "metadata": {},
     "output_type": "execute_result"
    }
   ],
   "source": [
    "df[df[\"Sales_in_thousands\"]==540.561]"
   ]
  },
  {
   "cell_type": "code",
   "execution_count": 29,
   "id": "bdc9dad5",
   "metadata": {},
   "outputs": [
    {
     "data": {
      "text/plain": [
       "52.99807643312102"
      ]
     },
     "execution_count": 29,
     "metadata": {},
     "output_type": "execute_result"
    }
   ],
   "source": [
    "df[\"Sales_in_thousands\"].mean()"
   ]
  },
  {
   "cell_type": "code",
   "execution_count": 30,
   "id": "bc246ba3",
   "metadata": {},
   "outputs": [
    {
     "data": {
      "text/plain": [
       "3.408518366470572"
      ]
     },
     "execution_count": 30,
     "metadata": {},
     "output_type": "execute_result"
    }
   ],
   "source": [
    "df[\"Sales_in_thousands\"].skew()  # skewness - is data positive or negative skewed or it is normal distributed \n",
    "# if value > 0 - positive skewed (right skewed)\n",
    "# if value <0 - negative skewed ( left skewed)\n",
    "# if value =0 - data normal "
   ]
  },
  {
   "cell_type": "code",
   "execution_count": 31,
   "id": "1e660ebb",
   "metadata": {},
   "outputs": [
    {
     "data": {
      "image/png": "[encoded data removed]",
      "text/plain": [
       "<Figure size 640x480 with 1 Axes>"
      ]
     },
     "metadata": {},
     "output_type": "display_data"
    }
   ],
   "source": [
    "plt.hist(df[\"Sales_in_thousands\"])\n",
    "plt.show()"
   ]
  },
  {
   "cell_type": "code",
   "execution_count": 32,
   "id": "e892d2d6",
   "metadata": {},
   "outputs": [
    {
     "data": {
      "text/plain": [
       "0.25     14.1140\n",
       "0.50     29.4500\n",
       "0.75     67.9560\n",
       "0.80     80.1746\n",
       "0.90    127.6416\n",
       "Name: Sales_in_thousands, dtype: float64"
      ]
     },
     "execution_count": 32,
     "metadata": {},
     "output_type": "execute_result"
    }
   ],
   "source": [
    "df[\"Sales_in_thousands\"].quantile([.25,.5,.75,.8,.9])"
   ]
  },
  {
   "cell_type": "code",
   "execution_count": 33,
   "id": "d56c8a23",
   "metadata": {},
   "outputs": [
    {
     "data": {
      "text/plain": [
       "count    157.000000\n",
       "mean      52.998076\n",
       "std       68.029422\n",
       "min        0.110000\n",
       "1%         0.937280\n",
       "2%         1.132160\n",
       "3%         1.348000\n",
       "4%         1.607600\n",
       "5%         1.870800\n",
       "10%        5.453600\n",
       "20%       11.215400\n",
       "25%       14.114000\n",
       "50%       29.450000\n",
       "75%       67.956000\n",
       "90%      127.641600\n",
       "95%      185.336200\n",
       "max      540.561000\n",
       "Name: Sales_in_thousands, dtype: float64"
      ]
     },
     "execution_count": 33,
     "metadata": {},
     "output_type": "execute_result"
    }
   ],
   "source": [
    "df[\"Sales_in_thousands\"].describe(percentiles=[0.01,.02,.03,.04,.05,.1,.2,.25,.5,.75,.9,.95])"
   ]
  },
  {
   "cell_type": "code",
   "execution_count": 34,
   "id": "a713a229",
   "metadata": {},
   "outputs": [
    {
     "data": {
      "image/png": "[encoded data removed]",
      "text/plain": [
       "<Figure size 640x480 with 1 Axes>"
      ]
     },
     "metadata": {},
     "output_type": "display_data"
    }
   ],
   "source": [
    "plt.boxplot(df[\"Sales_in_thousands\"])\n",
    "plt.show()"
   ]
  },
  {
   "cell_type": "code",
   "execution_count": 35,
   "id": "cba8807c",
   "metadata": {},
   "outputs": [
    {
     "data": {
      "text/plain": [
       "2"
      ]
     },
     "execution_count": 35,
     "metadata": {},
     "output_type": "execute_result"
    }
   ],
   "source": [
    "df[\"Price_in_thousands\"].isnull().sum()  # missing value"
   ]
  },
  {
   "cell_type": "code",
   "execution_count": 36,
   "id": "24c08dbd",
   "metadata": {},
   "outputs": [
    {
     "data": {
      "text/html": [
       "<div>\n",
       "<style scoped>\n",
       "    .dataframe tbody tr th:only-of-type {\n",
       "        vertical-align: middle;\n",
       "    }\n",
       "\n",
       "    .dataframe tbody tr th {\n",
       "        vertical-align: top;\n",
       "    }\n",
       "\n",
       "    .dataframe thead th {\n",
       "        text-align: right;\n",
       "    }\n",
       "</style>\n",
       "<table border=\"1\" class=\"dataframe\">\n",
       "  <thead>\n",
       "    <tr style=\"text-align: right;\">\n",
       "      <th></th>\n",
       "      <th>Manufacturer</th>\n",
       "      <th>Model</th>\n",
       "      <th>Sales_in_thousands</th>\n",
       "      <th>four_year_resale_value</th>\n",
       "      <th>Vehicle_type</th>\n",
       "      <th>Price_in_thousands</th>\n",
       "      <th>Engine_size</th>\n",
       "      <th>Horsepower</th>\n",
       "      <th>Wheelbase</th>\n",
       "      <th>Width</th>\n",
       "      <th>Length</th>\n",
       "      <th>Curb_weight</th>\n",
       "      <th>Fuel_capacity</th>\n",
       "      <th>Fuel_efficiency</th>\n",
       "      <th>Latest_Launch</th>\n",
       "      <th>Power_perf_factor</th>\n",
       "    </tr>\n",
       "  </thead>\n",
       "  <tbody>\n",
       "    <tr>\n",
       "      <th>2</th>\n",
       "      <td>Acura</td>\n",
       "      <td>CL</td>\n",
       "      <td>14.114</td>\n",
       "      <td>18.225</td>\n",
       "      <td>Passenger</td>\n",
       "      <td>NaN</td>\n",
       "      <td>3.2</td>\n",
       "      <td>225.0</td>\n",
       "      <td>106.9</td>\n",
       "      <td>70.6</td>\n",
       "      <td>192.0</td>\n",
       "      <td>3.47</td>\n",
       "      <td>17.2</td>\n",
       "      <td>26.0</td>\n",
       "      <td>2012-01-04</td>\n",
       "      <td>NaN</td>\n",
       "    </tr>\n",
       "    <tr>\n",
       "      <th>33</th>\n",
       "      <td>Chrysler</td>\n",
       "      <td>Town &amp; Country</td>\n",
       "      <td>53.480</td>\n",
       "      <td>19.540</td>\n",
       "      <td>Car</td>\n",
       "      <td>NaN</td>\n",
       "      <td>NaN</td>\n",
       "      <td>NaN</td>\n",
       "      <td>NaN</td>\n",
       "      <td>NaN</td>\n",
       "      <td>NaN</td>\n",
       "      <td>NaN</td>\n",
       "      <td>NaN</td>\n",
       "      <td>NaN</td>\n",
       "      <td>2011-07-13</td>\n",
       "      <td>NaN</td>\n",
       "    </tr>\n",
       "  </tbody>\n",
       "</table>\n",
       "</div>"
      ],
      "text/plain": [
       "   Manufacturer           Model  Sales_in_thousands  four_year_resale_value  \\\n",
       "2         Acura              CL              14.114                  18.225   \n",
       "33     Chrysler  Town & Country              53.480                  19.540   \n",
       "\n",
       "   Vehicle_type  Price_in_thousands  Engine_size  Horsepower  Wheelbase  \\\n",
       "2     Passenger                 NaN          3.2       225.0      106.9   \n",
       "33          Car                 NaN          NaN         NaN        NaN   \n",
       "\n",
       "    Width  Length  Curb_weight  Fuel_capacity  Fuel_efficiency Latest_Launch  \\\n",
       "2    70.6   192.0         3.47           17.2             26.0    2012-01-04   \n",
       "33    NaN     NaN          NaN            NaN              NaN    2011-07-13   \n",
       "\n",
       "    Power_perf_factor  \n",
       "2                 NaN  \n",
       "33                NaN  "
      ]
     },
     "execution_count": 36,
     "metadata": {},
     "output_type": "execute_result"
    }
   ],
   "source": [
    "df[df[\"Price_in_thousands\"].isnull()] # data for missing value "
   ]
  },
  {
   "cell_type": "code",
   "execution_count": 37,
   "id": "99095824",
   "metadata": {},
   "outputs": [
    {
     "data": {
      "text/plain": [
       "9.235"
      ]
     },
     "execution_count": 37,
     "metadata": {},
     "output_type": "execute_result"
    }
   ],
   "source": [
    "df[\"Price_in_thousands\"].min()"
   ]
  },
  {
   "cell_type": "code",
   "execution_count": 38,
   "id": "3dce4ed7",
   "metadata": {},
   "outputs": [
    {
     "data": {
      "text/plain": [
       "85.5"
      ]
     },
     "execution_count": 38,
     "metadata": {},
     "output_type": "execute_result"
    }
   ],
   "source": [
    "df[\"Price_in_thousands\"].max()"
   ]
  },
  {
   "cell_type": "code",
   "execution_count": 39,
   "id": "920d014e",
   "metadata": {},
   "outputs": [
    {
     "data": {
      "text/html": [
       "<div>\n",
       "<style scoped>\n",
       "    .dataframe tbody tr th:only-of-type {\n",
       "        vertical-align: middle;\n",
       "    }\n",
       "\n",
       "    .dataframe tbody tr th {\n",
       "        vertical-align: top;\n",
       "    }\n",
       "\n",
       "    .dataframe thead th {\n",
       "        text-align: right;\n",
       "    }\n",
       "</style>\n",
       "<table border=\"1\" class=\"dataframe\">\n",
       "  <thead>\n",
       "    <tr style=\"text-align: right;\">\n",
       "      <th></th>\n",
       "      <th>Manufacturer</th>\n",
       "      <th>Model</th>\n",
       "      <th>Sales_in_thousands</th>\n",
       "      <th>four_year_resale_value</th>\n",
       "      <th>Vehicle_type</th>\n",
       "      <th>Price_in_thousands</th>\n",
       "      <th>Engine_size</th>\n",
       "      <th>Horsepower</th>\n",
       "      <th>Wheelbase</th>\n",
       "      <th>Width</th>\n",
       "      <th>Length</th>\n",
       "      <th>Curb_weight</th>\n",
       "      <th>Fuel_capacity</th>\n",
       "      <th>Fuel_efficiency</th>\n",
       "      <th>Latest_Launch</th>\n",
       "      <th>Power_perf_factor</th>\n",
       "    </tr>\n",
       "  </thead>\n",
       "  <tbody>\n",
       "    <tr>\n",
       "      <th>99</th>\n",
       "      <td>Mercedes-B</td>\n",
       "      <td>CL500</td>\n",
       "      <td>0.954</td>\n",
       "      <td>NaN</td>\n",
       "      <td>Passenger</td>\n",
       "      <td>85.5</td>\n",
       "      <td>5.0</td>\n",
       "      <td>302.0</td>\n",
       "      <td>113.6</td>\n",
       "      <td>73.1</td>\n",
       "      <td>196.6</td>\n",
       "      <td>4.115</td>\n",
       "      <td>23.2</td>\n",
       "      <td>20.0</td>\n",
       "      <td>2011-04-11</td>\n",
       "      <td>141.100985</td>\n",
       "    </tr>\n",
       "  </tbody>\n",
       "</table>\n",
       "</div>"
      ],
      "text/plain": [
       "   Manufacturer  Model  Sales_in_thousands  four_year_resale_value  \\\n",
       "99   Mercedes-B  CL500               0.954                     NaN   \n",
       "\n",
       "   Vehicle_type  Price_in_thousands  Engine_size  Horsepower  Wheelbase  \\\n",
       "99    Passenger                85.5          5.0       302.0      113.6   \n",
       "\n",
       "    Width  Length  Curb_weight  Fuel_capacity  Fuel_efficiency Latest_Launch  \\\n",
       "99   73.1   196.6        4.115           23.2             20.0    2011-04-11   \n",
       "\n",
       "    Power_perf_factor  \n",
       "99         141.100985  "
      ]
     },
     "execution_count": 39,
     "metadata": {},
     "output_type": "execute_result"
    }
   ],
   "source": [
    "df[df[\"Price_in_thousands\"]==85.5]"
   ]
  },
  {
   "cell_type": "code",
   "execution_count": 40,
   "id": "14aacb16",
   "metadata": {},
   "outputs": [
    {
     "data": {
      "text/plain": [
       "27.390754838709682"
      ]
     },
     "execution_count": 40,
     "metadata": {},
     "output_type": "execute_result"
    }
   ],
   "source": [
    "df[\"Price_in_thousands\"].mean()"
   ]
  },
  {
   "cell_type": "code",
   "execution_count": 41,
   "id": "4c13edf2",
   "metadata": {},
   "outputs": [
    {
     "data": {
      "text/plain": [
       "1.765734331031903"
      ]
     },
     "execution_count": 41,
     "metadata": {},
     "output_type": "execute_result"
    }
   ],
   "source": [
    "df[\"Price_in_thousands\"].skew()"
   ]
  },
  {
   "cell_type": "code",
   "execution_count": 42,
   "id": "e1f7962c",
   "metadata": {},
   "outputs": [
    {
     "name": "stderr",
     "output_type": "stream",
     "text": [
      "/var/folders/57/kxv96qw15fgbnvfp982zqnhm0000gp/T/ipykernel_42761/740792973.py:1: UserWarning: \n",
      "\n",
      "`distplot` is a deprecated function and will be removed in seaborn v0.14.0.\n",
      "\n",
      "Please adapt your code to use either `displot` (a figure-level function with\n",
      "similar flexibility) or `histplot` (an axes-level function for histograms).\n",
      "\n",
      "For a guide to updating your code to use the new functions, please see\n",
      "https://gist.github.com/mwaskom/de44147ed2974457ad6372750bbe5751\n",
      "\n",
      "  sns.distplot(df[\"Price_in_thousands\"])\n"
     ]
    },
    {
     "data": {
      "image/png": "[encoded data removed]",
      "text/plain": [
       "<Figure size 640x480 with 1 Axes>"
      ]
     },
     "metadata": {},
     "output_type": "display_data"
    }
   ],
   "source": [
    "sns.distplot(df[\"Price_in_thousands\"])\n",
    "plt.show()"
   ]
  },
  {
   "cell_type": "code",
   "execution_count": 43,
   "id": "13d1ebf1",
   "metadata": {},
   "outputs": [
    {
     "data": {
      "image/png": "[encoded data removed]",
      "text/plain": [
       "<Figure size 640x480 with 1 Axes>"
      ]
     },
     "metadata": {},
     "output_type": "display_data"
    }
   ],
   "source": [
    "sns.boxplot(data=df, y=df[\"Price_in_thousands\"])\n",
    "plt.show()"
   ]
  },
  {
   "cell_type": "code",
   "execution_count": 44,
   "id": "aecd5042",
   "metadata": {},
   "outputs": [
    {
     "data": {
      "text/html": [
       "<div>\n",
       "<style scoped>\n",
       "    .dataframe tbody tr th:only-of-type {\n",
       "        vertical-align: middle;\n",
       "    }\n",
       "\n",
       "    .dataframe tbody tr th {\n",
       "        vertical-align: top;\n",
       "    }\n",
       "\n",
       "    .dataframe thead th {\n",
       "        text-align: right;\n",
       "    }\n",
       "</style>\n",
       "<table border=\"1\" class=\"dataframe\">\n",
       "  <thead>\n",
       "    <tr style=\"text-align: right;\">\n",
       "      <th></th>\n",
       "      <th>Manufacturer</th>\n",
       "      <th>Model</th>\n",
       "      <th>Sales_in_thousands</th>\n",
       "      <th>four_year_resale_value</th>\n",
       "      <th>Vehicle_type</th>\n",
       "      <th>Price_in_thousands</th>\n",
       "      <th>Engine_size</th>\n",
       "      <th>Horsepower</th>\n",
       "      <th>Wheelbase</th>\n",
       "      <th>Width</th>\n",
       "      <th>Length</th>\n",
       "      <th>Curb_weight</th>\n",
       "      <th>Fuel_capacity</th>\n",
       "      <th>Fuel_efficiency</th>\n",
       "      <th>Latest_Launch</th>\n",
       "      <th>Power_perf_factor</th>\n",
       "    </tr>\n",
       "  </thead>\n",
       "  <tbody>\n",
       "    <tr>\n",
       "      <th>6</th>\n",
       "      <td>Audi</td>\n",
       "      <td>A8</td>\n",
       "      <td>1.380</td>\n",
       "      <td>39.000</td>\n",
       "      <td>Passenger</td>\n",
       "      <td>62.000</td>\n",
       "      <td>4.2</td>\n",
       "      <td>310.0</td>\n",
       "      <td>113.0</td>\n",
       "      <td>74.0</td>\n",
       "      <td>198.2</td>\n",
       "      <td>3.902</td>\n",
       "      <td>23.7</td>\n",
       "      <td>21.0</td>\n",
       "      <td>2012-02-27</td>\n",
       "      <td>134.656858</td>\n",
       "    </tr>\n",
       "    <tr>\n",
       "      <th>39</th>\n",
       "      <td>Dodge</td>\n",
       "      <td>Viper</td>\n",
       "      <td>0.916</td>\n",
       "      <td>58.470</td>\n",
       "      <td>Passenger</td>\n",
       "      <td>69.725</td>\n",
       "      <td>8.0</td>\n",
       "      <td>450.0</td>\n",
       "      <td>96.2</td>\n",
       "      <td>75.7</td>\n",
       "      <td>176.7</td>\n",
       "      <td>3.375</td>\n",
       "      <td>19.0</td>\n",
       "      <td>16.0</td>\n",
       "      <td>2011-08-07</td>\n",
       "      <td>188.144323</td>\n",
       "    </tr>\n",
       "    <tr>\n",
       "      <th>73</th>\n",
       "      <td>Lexus</td>\n",
       "      <td>LS400</td>\n",
       "      <td>6.375</td>\n",
       "      <td>40.375</td>\n",
       "      <td>Passenger</td>\n",
       "      <td>54.005</td>\n",
       "      <td>4.0</td>\n",
       "      <td>290.0</td>\n",
       "      <td>112.2</td>\n",
       "      <td>72.0</td>\n",
       "      <td>196.7</td>\n",
       "      <td>3.890</td>\n",
       "      <td>22.5</td>\n",
       "      <td>22.0</td>\n",
       "      <td>2012-03-29</td>\n",
       "      <td>124.446716</td>\n",
       "    </tr>\n",
       "    <tr>\n",
       "      <th>74</th>\n",
       "      <td>Lexus</td>\n",
       "      <td>LX470</td>\n",
       "      <td>9.126</td>\n",
       "      <td>NaN</td>\n",
       "      <td>Car</td>\n",
       "      <td>60.105</td>\n",
       "      <td>4.7</td>\n",
       "      <td>230.0</td>\n",
       "      <td>112.2</td>\n",
       "      <td>76.4</td>\n",
       "      <td>192.5</td>\n",
       "      <td>5.401</td>\n",
       "      <td>25.4</td>\n",
       "      <td>15.0</td>\n",
       "      <td>2012-10-30</td>\n",
       "      <td>105.760458</td>\n",
       "    </tr>\n",
       "    <tr>\n",
       "      <th>94</th>\n",
       "      <td>Mercedes-B</td>\n",
       "      <td>S-Class</td>\n",
       "      <td>16.774</td>\n",
       "      <td>50.375</td>\n",
       "      <td>Passenger</td>\n",
       "      <td>69.700</td>\n",
       "      <td>4.3</td>\n",
       "      <td>275.0</td>\n",
       "      <td>121.5</td>\n",
       "      <td>73.1</td>\n",
       "      <td>203.1</td>\n",
       "      <td>4.133</td>\n",
       "      <td>23.2</td>\n",
       "      <td>21.0</td>\n",
       "      <td>2011-06-13</td>\n",
       "      <td>125.273876</td>\n",
       "    </tr>\n",
       "    <tr>\n",
       "      <th>95</th>\n",
       "      <td>Mercedes-B</td>\n",
       "      <td>SL-Class</td>\n",
       "      <td>3.311</td>\n",
       "      <td>58.600</td>\n",
       "      <td>Passenger</td>\n",
       "      <td>82.600</td>\n",
       "      <td>5.0</td>\n",
       "      <td>302.0</td>\n",
       "      <td>99.0</td>\n",
       "      <td>71.3</td>\n",
       "      <td>177.1</td>\n",
       "      <td>4.125</td>\n",
       "      <td>21.1</td>\n",
       "      <td>20.0</td>\n",
       "      <td>2011-03-17</td>\n",
       "      <td>139.982294</td>\n",
       "    </tr>\n",
       "    <tr>\n",
       "      <th>99</th>\n",
       "      <td>Mercedes-B</td>\n",
       "      <td>CL500</td>\n",
       "      <td>0.954</td>\n",
       "      <td>NaN</td>\n",
       "      <td>Passenger</td>\n",
       "      <td>85.500</td>\n",
       "      <td>5.0</td>\n",
       "      <td>302.0</td>\n",
       "      <td>113.6</td>\n",
       "      <td>73.1</td>\n",
       "      <td>196.6</td>\n",
       "      <td>4.115</td>\n",
       "      <td>23.2</td>\n",
       "      <td>20.0</td>\n",
       "      <td>2011-04-11</td>\n",
       "      <td>141.100985</td>\n",
       "    </tr>\n",
       "    <tr>\n",
       "      <th>125</th>\n",
       "      <td>Porsche</td>\n",
       "      <td>Carrera Coupe</td>\n",
       "      <td>1.280</td>\n",
       "      <td>60.625</td>\n",
       "      <td>Passenger</td>\n",
       "      <td>71.020</td>\n",
       "      <td>3.4</td>\n",
       "      <td>300.0</td>\n",
       "      <td>92.6</td>\n",
       "      <td>69.5</td>\n",
       "      <td>174.5</td>\n",
       "      <td>3.032</td>\n",
       "      <td>17.0</td>\n",
       "      <td>21.0</td>\n",
       "      <td>2012-12-21</td>\n",
       "      <td>134.390975</td>\n",
       "    </tr>\n",
       "    <tr>\n",
       "      <th>126</th>\n",
       "      <td>Porsche</td>\n",
       "      <td>Carrera Cabrio</td>\n",
       "      <td>1.866</td>\n",
       "      <td>67.550</td>\n",
       "      <td>Passenger</td>\n",
       "      <td>74.970</td>\n",
       "      <td>3.4</td>\n",
       "      <td>300.0</td>\n",
       "      <td>92.6</td>\n",
       "      <td>69.5</td>\n",
       "      <td>174.5</td>\n",
       "      <td>3.075</td>\n",
       "      <td>17.0</td>\n",
       "      <td>23.0</td>\n",
       "      <td>2011-07-11</td>\n",
       "      <td>135.914710</td>\n",
       "    </tr>\n",
       "  </tbody>\n",
       "</table>\n",
       "</div>"
      ],
      "text/plain": [
       "    Manufacturer           Model  Sales_in_thousands  four_year_resale_value  \\\n",
       "6           Audi              A8               1.380                  39.000   \n",
       "39         Dodge           Viper               0.916                  58.470   \n",
       "73         Lexus           LS400               6.375                  40.375   \n",
       "74         Lexus           LX470               9.126                     NaN   \n",
       "94    Mercedes-B         S-Class              16.774                  50.375   \n",
       "95    Mercedes-B        SL-Class               3.311                  58.600   \n",
       "99    Mercedes-B           CL500               0.954                     NaN   \n",
       "125      Porsche   Carrera Coupe               1.280                  60.625   \n",
       "126      Porsche  Carrera Cabrio               1.866                  67.550   \n",
       "\n",
       "    Vehicle_type  Price_in_thousands  Engine_size  Horsepower  Wheelbase  \\\n",
       "6      Passenger              62.000          4.2       310.0      113.0   \n",
       "39     Passenger              69.725          8.0       450.0       96.2   \n",
       "73     Passenger              54.005          4.0       290.0      112.2   \n",
       "74           Car              60.105          4.7       230.0      112.2   \n",
       "94     Passenger              69.700          4.3       275.0      121.5   \n",
       "95     Passenger              82.600          5.0       302.0       99.0   \n",
       "99     Passenger              85.500          5.0       302.0      113.6   \n",
       "125    Passenger              71.020          3.4       300.0       92.6   \n",
       "126    Passenger              74.970          3.4       300.0       92.6   \n",
       "\n",
       "     Width  Length  Curb_weight  Fuel_capacity  Fuel_efficiency Latest_Launch  \\\n",
       "6     74.0   198.2        3.902           23.7             21.0    2012-02-27   \n",
       "39    75.7   176.7        3.375           19.0             16.0    2011-08-07   \n",
       "73    72.0   196.7        3.890           22.5             22.0    2012-03-29   \n",
       "74    76.4   192.5        5.401           25.4             15.0    2012-10-30   \n",
       "94    73.1   203.1        4.133           23.2             21.0    2011-06-13   \n",
       "95    71.3   177.1        4.125           21.1             20.0    2011-03-17   \n",
       "99    73.1   196.6        4.115           23.2             20.0    2011-04-11   \n",
       "125   69.5   174.5        3.032           17.0             21.0    2012-12-21   \n",
       "126   69.5   174.5        3.075           17.0             23.0    2011-07-11   \n",
       "\n",
       "     Power_perf_factor  \n",
       "6           134.656858  \n",
       "39          188.144323  \n",
       "73          124.446716  \n",
       "74          105.760458  \n",
       "94          125.273876  \n",
       "95          139.982294  \n",
       "99          141.100985  \n",
       "125         134.390975  \n",
       "126         135.914710  "
      ]
     },
     "execution_count": 44,
     "metadata": {},
     "output_type": "execute_result"
    }
   ],
   "source": [
    "df[df[\"Price_in_thousands\"]>53]"
   ]
  },
  {
   "cell_type": "code",
   "execution_count": 45,
   "id": "bd0f0c05",
   "metadata": {},
   "outputs": [],
   "source": [
    "# Please do the same univariate analysis on remaining variables "
   ]
  },
  {
   "cell_type": "markdown",
   "id": "570f750d",
   "metadata": {},
   "source": [
    "#### Bivariate Analysis "
   ]
  },
  {
   "cell_type": "code",
   "execution_count": 46,
   "id": "c2a5e244",
   "metadata": {},
   "outputs": [],
   "source": [
    "# 2. Bivariate Analysis - (Study two variable at a time)\n",
    "#     a. Numerical - Numerical (age-income) (relationship - correlation, graphs-scattered)\n",
    "#     b. Numerical - Categorical (Income - gender) (group by summary, relationship - hypothesis test)\n",
    "#     c. categorical to categorical (Gender-education) (crosstab, relationship - chisquare)"
   ]
  },
  {
   "cell_type": "code",
   "execution_count": 47,
   "id": "eca10954",
   "metadata": {},
   "outputs": [
    {
     "data": {
      "text/plain": [
       "Index(['Sales_in_thousands', 'four_year_resale_value', 'Price_in_thousands',\n",
       "       'Engine_size', 'Horsepower', 'Wheelbase', 'Width', 'Length',\n",
       "       'Curb_weight', 'Fuel_capacity', 'Fuel_efficiency', 'Latest_Launch',\n",
       "       'Power_perf_factor'],\n",
       "      dtype='object')"
      ]
     },
     "execution_count": 47,
     "metadata": {},
     "output_type": "execute_result"
    }
   ],
   "source": [
    "df.dtypes[df.dtypes!=\"object\"].index"
   ]
  },
  {
   "cell_type": "code",
   "execution_count": 48,
   "id": "e239d420",
   "metadata": {},
   "outputs": [
    {
     "data": {
      "image/png": "[encoded data removed]",
      "text/plain": [
       "<Figure size 1000x400 with 1 Axes>"
      ]
     },
     "metadata": {},
     "output_type": "display_data"
    }
   ],
   "source": [
    "plt.figure(figsize=(10,4))\n",
    "sns.regplot(data=df, x=df[\"four_year_resale_value\"], y=df[\"Sales_in_thousands\"])\n",
    "plt.show()"
   ]
  },
  {
   "cell_type": "code",
   "execution_count": 49,
   "id": "17e0b4b5",
   "metadata": {},
   "outputs": [
    {
     "data": {
      "text/html": [
       "<div>\n",
       "<style scoped>\n",
       "    .dataframe tbody tr th:only-of-type {\n",
       "        vertical-align: middle;\n",
       "    }\n",
       "\n",
       "    .dataframe tbody tr th {\n",
       "        vertical-align: top;\n",
       "    }\n",
       "\n",
       "    .dataframe thead th {\n",
       "        text-align: right;\n",
       "    }\n",
       "</style>\n",
       "<table border=\"1\" class=\"dataframe\">\n",
       "  <thead>\n",
       "    <tr style=\"text-align: right;\">\n",
       "      <th></th>\n",
       "      <th>Sales_in_thousands</th>\n",
       "      <th>four_year_resale_value</th>\n",
       "    </tr>\n",
       "  </thead>\n",
       "  <tbody>\n",
       "    <tr>\n",
       "      <th>Sales_in_thousands</th>\n",
       "      <td>1.000000</td>\n",
       "      <td>-0.279034</td>\n",
       "    </tr>\n",
       "    <tr>\n",
       "      <th>four_year_resale_value</th>\n",
       "      <td>-0.279034</td>\n",
       "      <td>1.000000</td>\n",
       "    </tr>\n",
       "  </tbody>\n",
       "</table>\n",
       "</div>"
      ],
      "text/plain": [
       "                        Sales_in_thousands  four_year_resale_value\n",
       "Sales_in_thousands                1.000000               -0.279034\n",
       "four_year_resale_value           -0.279034                1.000000"
      ]
     },
     "execution_count": 49,
     "metadata": {},
     "output_type": "execute_result"
    }
   ],
   "source": [
    "df[[\"Sales_in_thousands\", \"four_year_resale_value\"]].corr()"
   ]
  },
  {
   "cell_type": "code",
   "execution_count": 50,
   "id": "6f309041",
   "metadata": {},
   "outputs": [],
   "source": [
    "# as the relation of four_year_resale_value with Sales is very low so we can remove this variable \n",
    "# but we are not removing this to check its effect in machine learning model ( as we are learning)"
   ]
  },
  {
   "cell_type": "code",
   "execution_count": 51,
   "id": "e65dd8dc",
   "metadata": {},
   "outputs": [
    {
     "data": {
      "image/png": "[encoded data removed]",
      "text/plain": [
       "<Figure size 1000x400 with 1 Axes>"
      ]
     },
     "metadata": {},
     "output_type": "display_data"
    }
   ],
   "source": [
    "plt.figure(figsize=(10,4))\n",
    "sns.regplot(data=df, x=df[\"Price_in_thousands\"], y=df[\"Sales_in_thousands\"])\n",
    "plt.show()"
   ]
  },
  {
   "cell_type": "code",
   "execution_count": 52,
   "id": "6971f3f8",
   "metadata": {},
   "outputs": [
    {
     "data": {
      "text/html": [
       "<div>\n",
       "<style scoped>\n",
       "    .dataframe tbody tr th:only-of-type {\n",
       "        vertical-align: middle;\n",
       "    }\n",
       "\n",
       "    .dataframe tbody tr th {\n",
       "        vertical-align: top;\n",
       "    }\n",
       "\n",
       "    .dataframe thead th {\n",
       "        text-align: right;\n",
       "    }\n",
       "</style>\n",
       "<table border=\"1\" class=\"dataframe\">\n",
       "  <thead>\n",
       "    <tr style=\"text-align: right;\">\n",
       "      <th></th>\n",
       "      <th>Sales_in_thousands</th>\n",
       "      <th>Price_in_thousands</th>\n",
       "    </tr>\n",
       "  </thead>\n",
       "  <tbody>\n",
       "    <tr>\n",
       "      <th>Sales_in_thousands</th>\n",
       "      <td>1.000000</td>\n",
       "      <td>-0.304734</td>\n",
       "    </tr>\n",
       "    <tr>\n",
       "      <th>Price_in_thousands</th>\n",
       "      <td>-0.304734</td>\n",
       "      <td>1.000000</td>\n",
       "    </tr>\n",
       "  </tbody>\n",
       "</table>\n",
       "</div>"
      ],
      "text/plain": [
       "                    Sales_in_thousands  Price_in_thousands\n",
       "Sales_in_thousands            1.000000           -0.304734\n",
       "Price_in_thousands           -0.304734            1.000000"
      ]
     },
     "execution_count": 52,
     "metadata": {},
     "output_type": "execute_result"
    }
   ],
   "source": [
    "df[[\"Sales_in_thousands\", \"Price_in_thousands\"]].corr()"
   ]
  },
  {
   "cell_type": "code",
   "execution_count": 53,
   "id": "ed88092b",
   "metadata": {},
   "outputs": [],
   "source": [
    "# the raltion of Price_in_thousands to Sales is just ok , we should not drop this variable as\n",
    "# it also make sense in business term"
   ]
  },
  {
   "cell_type": "code",
   "execution_count": 54,
   "id": "b438fac3",
   "metadata": {},
   "outputs": [
    {
     "data": {
      "image/png": "[encoded data removed]",
      "text/plain": [
       "<Figure size 1000x400 with 1 Axes>"
      ]
     },
     "metadata": {},
     "output_type": "display_data"
    }
   ],
   "source": [
    "plt.figure(figsize=(10,4))\n",
    "sns.regplot(data=df, x=df[\"Engine_size\"], y=df[\"Sales_in_thousands\"])\n",
    "plt.show()"
   ]
  },
  {
   "cell_type": "code",
   "execution_count": 55,
   "id": "37c2ca63",
   "metadata": {},
   "outputs": [
    {
     "data": {
      "text/html": [
       "<div>\n",
       "<style scoped>\n",
       "    .dataframe tbody tr th:only-of-type {\n",
       "        vertical-align: middle;\n",
       "    }\n",
       "\n",
       "    .dataframe tbody tr th {\n",
       "        vertical-align: top;\n",
       "    }\n",
       "\n",
       "    .dataframe thead th {\n",
       "        text-align: right;\n",
       "    }\n",
       "</style>\n",
       "<table border=\"1\" class=\"dataframe\">\n",
       "  <thead>\n",
       "    <tr style=\"text-align: right;\">\n",
       "      <th></th>\n",
       "      <th>Sales_in_thousands</th>\n",
       "      <th>Engine_size</th>\n",
       "    </tr>\n",
       "  </thead>\n",
       "  <tbody>\n",
       "    <tr>\n",
       "      <th>Sales_in_thousands</th>\n",
       "      <td>1.000000</td>\n",
       "      <td>0.019983</td>\n",
       "    </tr>\n",
       "    <tr>\n",
       "      <th>Engine_size</th>\n",
       "      <td>0.019983</td>\n",
       "      <td>1.000000</td>\n",
       "    </tr>\n",
       "  </tbody>\n",
       "</table>\n",
       "</div>"
      ],
      "text/plain": [
       "                    Sales_in_thousands  Engine_size\n",
       "Sales_in_thousands            1.000000     0.019983\n",
       "Engine_size                   0.019983     1.000000"
      ]
     },
     "execution_count": 55,
     "metadata": {},
     "output_type": "execute_result"
    }
   ],
   "source": [
    "df[[\"Sales_in_thousands\", \"Engine_size\"]].corr()"
   ]
  },
  {
   "cell_type": "code",
   "execution_count": 56,
   "id": "963cb002",
   "metadata": {},
   "outputs": [],
   "source": [
    "# Categorical to Numerical ( Manufacturer- Sales)"
   ]
  },
  {
   "cell_type": "code",
   "execution_count": 57,
   "id": "cb1a9c1a",
   "metadata": {},
   "outputs": [
    {
     "data": {
      "text/plain": [
       "30"
      ]
     },
     "execution_count": 57,
     "metadata": {},
     "output_type": "execute_result"
    }
   ],
   "source": [
    "df[\"Manufacturer\"].nunique()  # no of unique values "
   ]
  },
  {
   "cell_type": "code",
   "execution_count": 58,
   "id": "2549cbb2",
   "metadata": {},
   "outputs": [
    {
     "data": {
      "text/plain": [
       "array(['Acura', 'Audi', 'BMW', 'Buick', 'Cadillac', 'Chevrolet',\n",
       "       'Chrysler', 'Dodge', 'Ford', 'Honda', 'Hyundai', 'Infiniti',\n",
       "       'Jaguar', 'Jeep', 'Lexus', 'Lincoln', 'Mitsubishi', 'Mercury',\n",
       "       'Mercedes-B', 'Nissan', 'Oldsmobile', 'Plymouth', 'Pontiac',\n",
       "       'Porsche', 'Saab', 'Saturn', 'Subaru', 'Toyota', 'Volkswagen',\n",
       "       'Volvo'], dtype=object)"
      ]
     },
     "execution_count": 58,
     "metadata": {},
     "output_type": "execute_result"
    }
   ],
   "source": [
    "df[\"Manufacturer\"].unique()"
   ]
  },
  {
   "cell_type": "code",
   "execution_count": 59,
   "id": "1baaeb76",
   "metadata": {},
   "outputs": [
    {
     "data": {
      "text/plain": [
       "Index(['Manufacturer', 'Model', 'Sales_in_thousands', 'four_year_resale_value',\n",
       "       'Vehicle_type', 'Price_in_thousands', 'Engine_size', 'Horsepower',\n",
       "       'Wheelbase', 'Width', 'Length', 'Curb_weight', 'Fuel_capacity',\n",
       "       'Fuel_efficiency', 'Latest_Launch', 'Power_perf_factor'],\n",
       "      dtype='object')"
      ]
     },
     "execution_count": 59,
     "metadata": {},
     "output_type": "execute_result"
    }
   ],
   "source": [
    "df.columns"
   ]
  },
  {
   "cell_type": "code",
   "execution_count": 60,
   "id": "b1ef0590",
   "metadata": {},
   "outputs": [
    {
     "data": {
      "text/html": [
       "<div>\n",
       "<style scoped>\n",
       "    .dataframe tbody tr th:only-of-type {\n",
       "        vertical-align: middle;\n",
       "    }\n",
       "\n",
       "    .dataframe tbody tr th {\n",
       "        vertical-align: top;\n",
       "    }\n",
       "\n",
       "    .dataframe thead tr th {\n",
       "        text-align: left;\n",
       "    }\n",
       "\n",
       "    .dataframe thead tr:last-of-type th {\n",
       "        text-align: right;\n",
       "    }\n",
       "</style>\n",
       "<table border=\"1\" class=\"dataframe\">\n",
       "  <thead>\n",
       "    <tr>\n",
       "      <th></th>\n",
       "      <th colspan=\"3\" halign=\"left\">Sales_in_thousands</th>\n",
       "    </tr>\n",
       "    <tr>\n",
       "      <th></th>\n",
       "      <th>min</th>\n",
       "      <th>max</th>\n",
       "      <th>count</th>\n",
       "    </tr>\n",
       "    <tr>\n",
       "      <th>Vehicle_type</th>\n",
       "      <th></th>\n",
       "      <th></th>\n",
       "      <th></th>\n",
       "    </tr>\n",
       "  </thead>\n",
       "  <tbody>\n",
       "    <tr>\n",
       "      <th>Car</th>\n",
       "      <td>9.126</td>\n",
       "      <td>540.561</td>\n",
       "      <td>41</td>\n",
       "    </tr>\n",
       "    <tr>\n",
       "      <th>Passenger</th>\n",
       "      <td>0.110</td>\n",
       "      <td>247.994</td>\n",
       "      <td>116</td>\n",
       "    </tr>\n",
       "  </tbody>\n",
       "</table>\n",
       "</div>"
      ],
      "text/plain": [
       "             Sales_in_thousands               \n",
       "                            min      max count\n",
       "Vehicle_type                                  \n",
       "Car                       9.126  540.561    41\n",
       "Passenger                 0.110  247.994   116"
      ]
     },
     "execution_count": 60,
     "metadata": {},
     "output_type": "execute_result"
    }
   ],
   "source": [
    "df.groupby([\"Vehicle_type\"]).agg({\"Sales_in_thousands\":[\"min\", \"max\", \"count\"]})"
   ]
  },
  {
   "cell_type": "code",
   "execution_count": 61,
   "id": "696789b3",
   "metadata": {},
   "outputs": [
    {
     "data": {
      "text/html": [
       "<div>\n",
       "<style scoped>\n",
       "    .dataframe tbody tr th:only-of-type {\n",
       "        vertical-align: middle;\n",
       "    }\n",
       "\n",
       "    .dataframe tbody tr th {\n",
       "        vertical-align: top;\n",
       "    }\n",
       "\n",
       "    .dataframe thead th {\n",
       "        text-align: right;\n",
       "    }\n",
       "</style>\n",
       "<table border=\"1\" class=\"dataframe\">\n",
       "  <thead>\n",
       "    <tr style=\"text-align: right;\">\n",
       "      <th></th>\n",
       "      <th>Vehicle_type</th>\n",
       "      <th>Avg_sale</th>\n",
       "    </tr>\n",
       "  </thead>\n",
       "  <tbody>\n",
       "    <tr>\n",
       "      <th>0</th>\n",
       "      <td>Car</td>\n",
       "      <td>80.622293</td>\n",
       "    </tr>\n",
       "    <tr>\n",
       "      <th>1</th>\n",
       "      <td>Passenger</td>\n",
       "      <td>43.234345</td>\n",
       "    </tr>\n",
       "  </tbody>\n",
       "</table>\n",
       "</div>"
      ],
      "text/plain": [
       "  Vehicle_type   Avg_sale\n",
       "0          Car  80.622293\n",
       "1    Passenger  43.234345"
      ]
     },
     "execution_count": 61,
     "metadata": {},
     "output_type": "execute_result"
    }
   ],
   "source": [
    "a=pd.DataFrame(df.groupby([\"Vehicle_type\"]).agg({\"Sales_in_thousands\":[\"mean\"]})).reset_index()\n",
    "a.columns=[\"Vehicle_type\", \"Avg_sale\"]\n",
    "a"
   ]
  },
  {
   "cell_type": "code",
   "execution_count": 62,
   "id": "4527d992",
   "metadata": {},
   "outputs": [
    {
     "data": {
      "image/png": "[encoded data removed]",
      "text/plain": [
       "<Figure size 640x480 with 1 Axes>"
      ]
     },
     "metadata": {},
     "output_type": "display_data"
    }
   ],
   "source": [
    "plt.pie(x=a[\"Avg_sale\"],labels=a[\"Vehicle_type\"], explode=[0,.2], shadow=True)\n",
    "plt.show()"
   ]
  },
  {
   "cell_type": "code",
   "execution_count": 63,
   "id": "ad6e755c",
   "metadata": {},
   "outputs": [],
   "source": [
    "# Null = avg_sale_car=avg_sale_passanger (No relationship between vehicle type to Sale)\n",
    "# alter = avg_sale_car <> avg_sale_passanger (relationship between vehicle type to Sale)\n",
    "# test- two sample t test"
   ]
  },
  {
   "cell_type": "code",
   "execution_count": 64,
   "id": "09f53250",
   "metadata": {},
   "outputs": [],
   "source": [
    "car=df[df[\"Vehicle_type\"]==\"Car\"]\n",
    "passenger=df[df[\"Vehicle_type\"]!=\"Car\"]"
   ]
  },
  {
   "cell_type": "code",
   "execution_count": 65,
   "id": "e7241315",
   "metadata": {},
   "outputs": [
    {
     "data": {
      "text/plain": [
       "TtestResult(statistic=3.1076673920909745, pvalue=0.0022437086557697637, df=155.0)"
      ]
     },
     "execution_count": 65,
     "metadata": {},
     "output_type": "execute_result"
    }
   ],
   "source": [
    "stats.ttest_ind(car[\"Sales_in_thousands\"], passenger[\"Sales_in_thousands\"])"
   ]
  },
  {
   "cell_type": "code",
   "execution_count": null,
   "id": "a51d9303",
   "metadata": {},
   "outputs": [],
   "source": []
  },
  {
   "cell_type": "code",
   "execution_count": 66,
   "id": "5f802e10",
   "metadata": {},
   "outputs": [],
   "source": [
    "# # Feature Engineering :-It is the process of creating new features or trasnforming existing \n",
    "# # features to improve the performance of a machine learning model\n",
    "# 1. Feature creation\n",
    "# 2. Feature transformation \n",
    "#     1. rescaling -> transform each variable into the scale - MinMax Scaler, standardization, normaization\n",
    "#     2. Encoding -> transform categorical variable into numerical variable- dummy creation, One- hot coding, lable encoder etc..\n",
    "#     3. Transformation using maths operations - log, square root \n",
    "# 3. Feature Extraction \n",
    "#     a. Dimension reduction - PCA\n",
    "#     b. Feature combine \n",
    "#     etc...\n",
    "# 4. Missing value treatment \n",
    "# 5. Outlier Treatment \n",
    "# etc....\n"
   ]
  },
  {
   "cell_type": "code",
   "execution_count": 67,
   "id": "53f9d7d9",
   "metadata": {},
   "outputs": [
    {
     "data": {
      "text/html": [
       "<div>\n",
       "<style scoped>\n",
       "    .dataframe tbody tr th:only-of-type {\n",
       "        vertical-align: middle;\n",
       "    }\n",
       "\n",
       "    .dataframe tbody tr th {\n",
       "        vertical-align: top;\n",
       "    }\n",
       "\n",
       "    .dataframe thead th {\n",
       "        text-align: right;\n",
       "    }\n",
       "</style>\n",
       "<table border=\"1\" class=\"dataframe\">\n",
       "  <thead>\n",
       "    <tr style=\"text-align: right;\">\n",
       "      <th></th>\n",
       "      <th>Manufacturer</th>\n",
       "      <th>Model</th>\n",
       "      <th>Sales_in_thousands</th>\n",
       "      <th>four_year_resale_value</th>\n",
       "      <th>Vehicle_type</th>\n",
       "      <th>Price_in_thousands</th>\n",
       "      <th>Engine_size</th>\n",
       "      <th>Horsepower</th>\n",
       "      <th>Wheelbase</th>\n",
       "      <th>Width</th>\n",
       "      <th>Length</th>\n",
       "      <th>Curb_weight</th>\n",
       "      <th>Fuel_capacity</th>\n",
       "      <th>Fuel_efficiency</th>\n",
       "      <th>Latest_Launch</th>\n",
       "      <th>Power_perf_factor</th>\n",
       "    </tr>\n",
       "  </thead>\n",
       "  <tbody>\n",
       "    <tr>\n",
       "      <th>0</th>\n",
       "      <td>Acura</td>\n",
       "      <td>Integra</td>\n",
       "      <td>16.919</td>\n",
       "      <td>16.360</td>\n",
       "      <td>Passenger</td>\n",
       "      <td>21.5</td>\n",
       "      <td>1.8</td>\n",
       "      <td>140.0</td>\n",
       "      <td>101.2</td>\n",
       "      <td>67.3</td>\n",
       "      <td>172.4</td>\n",
       "      <td>2.639</td>\n",
       "      <td>13.2</td>\n",
       "      <td>28.0</td>\n",
       "      <td>2012-02-02</td>\n",
       "      <td>58.280150</td>\n",
       "    </tr>\n",
       "    <tr>\n",
       "      <th>1</th>\n",
       "      <td>Acura</td>\n",
       "      <td>TL</td>\n",
       "      <td>39.384</td>\n",
       "      <td>19.875</td>\n",
       "      <td>Passenger</td>\n",
       "      <td>28.4</td>\n",
       "      <td>3.2</td>\n",
       "      <td>225.0</td>\n",
       "      <td>108.1</td>\n",
       "      <td>70.3</td>\n",
       "      <td>192.9</td>\n",
       "      <td>3.517</td>\n",
       "      <td>17.2</td>\n",
       "      <td>25.0</td>\n",
       "      <td>2011-06-03</td>\n",
       "      <td>91.370778</td>\n",
       "    </tr>\n",
       "  </tbody>\n",
       "</table>\n",
       "</div>"
      ],
      "text/plain": [
       "  Manufacturer    Model  Sales_in_thousands  four_year_resale_value  \\\n",
       "0        Acura  Integra              16.919                  16.360   \n",
       "1        Acura       TL              39.384                  19.875   \n",
       "\n",
       "  Vehicle_type  Price_in_thousands  Engine_size  Horsepower  Wheelbase  Width  \\\n",
       "0    Passenger                21.5          1.8       140.0      101.2   67.3   \n",
       "1    Passenger                28.4          3.2       225.0      108.1   70.3   \n",
       "\n",
       "   Length  Curb_weight  Fuel_capacity  Fuel_efficiency Latest_Launch  \\\n",
       "0   172.4        2.639           13.2             28.0    2012-02-02   \n",
       "1   192.9        3.517           17.2             25.0    2011-06-03   \n",
       "\n",
       "   Power_perf_factor  \n",
       "0          58.280150  \n",
       "1          91.370778  "
      ]
     },
     "execution_count": 67,
     "metadata": {},
     "output_type": "execute_result"
    }
   ],
   "source": [
    "df.head(2)"
   ]
  },
  {
   "cell_type": "code",
   "execution_count": 68,
   "id": "85cc723c",
   "metadata": {},
   "outputs": [],
   "source": [
    "df[\"area\"]=df[\"Width\"]*df[\"Length\"]  # Feature Creations\n",
    "#  Age of car - current_date - latest_launch"
   ]
  },
  {
   "cell_type": "code",
   "execution_count": 69,
   "id": "db5ae288",
   "metadata": {},
   "outputs": [],
   "source": [
    "# import datetime"
   ]
  },
  {
   "cell_type": "code",
   "execution_count": 70,
   "id": "c8986c74",
   "metadata": {},
   "outputs": [],
   "source": [
    "# datetime.date.today()-df[\"Latest_Launch\"]"
   ]
  },
  {
   "cell_type": "markdown",
   "id": "0a141212",
   "metadata": {},
   "source": [
    "### Outlier treatment "
   ]
  },
  {
   "cell_type": "code",
   "execution_count": 71,
   "id": "11594e78",
   "metadata": {},
   "outputs": [
    {
     "data": {
      "text/plain": [
       "Index(['Sales_in_thousands', 'four_year_resale_value', 'Price_in_thousands',\n",
       "       'Engine_size', 'Horsepower', 'Wheelbase', 'Width', 'Length',\n",
       "       'Curb_weight', 'Fuel_capacity', 'Fuel_efficiency', 'Latest_Launch',\n",
       "       'Power_perf_factor', 'area'],\n",
       "      dtype='object')"
      ]
     },
     "execution_count": 71,
     "metadata": {},
     "output_type": "execute_result"
    }
   ],
   "source": [
    "# selecting numerical columns\n",
    "df.dtypes[df.dtypes!=\"object\"].index  "
   ]
  },
  {
   "cell_type": "code",
   "execution_count": 72,
   "id": "2beef04e",
   "metadata": {},
   "outputs": [],
   "source": [
    "#subsetting numerical data\n",
    "num_data=df[['Sales_in_thousands', 'four_year_resale_value', 'Price_in_thousands',\n",
    "       'Engine_size', 'Horsepower', 'Wheelbase', 'Width', 'Length',\n",
    "       'Curb_weight', 'Fuel_capacity', 'Fuel_efficiency', \n",
    "       'Power_perf_factor', 'area']]"
   ]
  },
  {
   "cell_type": "code",
   "execution_count": 73,
   "id": "115e3167",
   "metadata": {},
   "outputs": [],
   "source": [
    "# num_data"
   ]
  },
  {
   "cell_type": "markdown",
   "id": "feb25ced",
   "metadata": {},
   "source": [
    "#### detect outliers"
   ]
  },
  {
   "cell_type": "code",
   "execution_count": 74,
   "id": "b9560062",
   "metadata": {},
   "outputs": [
    {
     "data": {
      "text/html": [
       "<div>\n",
       "<style scoped>\n",
       "    .dataframe tbody tr th:only-of-type {\n",
       "        vertical-align: middle;\n",
       "    }\n",
       "\n",
       "    .dataframe tbody tr th {\n",
       "        vertical-align: top;\n",
       "    }\n",
       "\n",
       "    .dataframe thead th {\n",
       "        text-align: right;\n",
       "    }\n",
       "</style>\n",
       "<table border=\"1\" class=\"dataframe\">\n",
       "  <thead>\n",
       "    <tr style=\"text-align: right;\">\n",
       "      <th></th>\n",
       "      <th>count</th>\n",
       "      <th>mean</th>\n",
       "      <th>std</th>\n",
       "      <th>min</th>\n",
       "      <th>1%</th>\n",
       "      <th>2%</th>\n",
       "      <th>3%</th>\n",
       "      <th>4%</th>\n",
       "      <th>5%</th>\n",
       "      <th>10%</th>\n",
       "      <th>25%</th>\n",
       "      <th>50%</th>\n",
       "      <th>75%</th>\n",
       "      <th>90%</th>\n",
       "      <th>95%</th>\n",
       "      <th>96%</th>\n",
       "      <th>97%</th>\n",
       "      <th>98%</th>\n",
       "      <th>99%</th>\n",
       "      <th>max</th>\n",
       "    </tr>\n",
       "  </thead>\n",
       "  <tbody>\n",
       "    <tr>\n",
       "      <th>Sales_in_thousands</th>\n",
       "      <td>157.0</td>\n",
       "      <td>52.998076</td>\n",
       "      <td>68.029422</td>\n",
       "      <td>0.110000</td>\n",
       "      <td>0.93728</td>\n",
       "      <td>1.132160</td>\n",
       "      <td>1.348000</td>\n",
       "      <td>1.607600</td>\n",
       "      <td>1.870800</td>\n",
       "      <td>5.453600</td>\n",
       "      <td>14.114000</td>\n",
       "      <td>29.450000</td>\n",
       "      <td>67.956000</td>\n",
       "      <td>127.641600</td>\n",
       "      <td>185.336200</td>\n",
       "      <td>215.618400</td>\n",
       "      <td>228.290120</td>\n",
       "      <td>244.025440</td>\n",
       "      <td>260.645320</td>\n",
       "      <td>540.561000</td>\n",
       "    </tr>\n",
       "    <tr>\n",
       "      <th>four_year_resale_value</th>\n",
       "      <td>121.0</td>\n",
       "      <td>18.072975</td>\n",
       "      <td>11.453384</td>\n",
       "      <td>5.160000</td>\n",
       "      <td>6.17300</td>\n",
       "      <td>7.555000</td>\n",
       "      <td>7.750000</td>\n",
       "      <td>7.810000</td>\n",
       "      <td>7.850000</td>\n",
       "      <td>9.125000</td>\n",
       "      <td>11.260000</td>\n",
       "      <td>14.180000</td>\n",
       "      <td>19.875000</td>\n",
       "      <td>32.075000</td>\n",
       "      <td>41.250000</td>\n",
       "      <td>43.235000</td>\n",
       "      <td>53.613000</td>\n",
       "      <td>58.548000</td>\n",
       "      <td>60.220000</td>\n",
       "      <td>67.550000</td>\n",
       "    </tr>\n",
       "    <tr>\n",
       "      <th>Price_in_thousands</th>\n",
       "      <td>155.0</td>\n",
       "      <td>27.390755</td>\n",
       "      <td>14.351653</td>\n",
       "      <td>9.235000</td>\n",
       "      <td>10.23144</td>\n",
       "      <td>11.549680</td>\n",
       "      <td>11.954620</td>\n",
       "      <td>12.109200</td>\n",
       "      <td>12.469000</td>\n",
       "      <td>13.970800</td>\n",
       "      <td>18.017500</td>\n",
       "      <td>22.799000</td>\n",
       "      <td>31.947500</td>\n",
       "      <td>44.017000</td>\n",
       "      <td>55.835000</td>\n",
       "      <td>61.696800</td>\n",
       "      <td>69.709500</td>\n",
       "      <td>70.916400</td>\n",
       "      <td>78.479800</td>\n",
       "      <td>85.500000</td>\n",
       "    </tr>\n",
       "    <tr>\n",
       "      <th>Engine_size</th>\n",
       "      <td>156.0</td>\n",
       "      <td>3.060897</td>\n",
       "      <td>1.044653</td>\n",
       "      <td>1.000000</td>\n",
       "      <td>1.55500</td>\n",
       "      <td>1.800000</td>\n",
       "      <td>1.800000</td>\n",
       "      <td>1.800000</td>\n",
       "      <td>1.800000</td>\n",
       "      <td>1.950000</td>\n",
       "      <td>2.300000</td>\n",
       "      <td>3.000000</td>\n",
       "      <td>3.575000</td>\n",
       "      <td>4.600000</td>\n",
       "      <td>4.775000</td>\n",
       "      <td>5.000000</td>\n",
       "      <td>5.200000</td>\n",
       "      <td>5.380000</td>\n",
       "      <td>5.700000</td>\n",
       "      <td>8.000000</td>\n",
       "    </tr>\n",
       "    <tr>\n",
       "      <th>Horsepower</th>\n",
       "      <td>156.0</td>\n",
       "      <td>185.948718</td>\n",
       "      <td>56.700321</td>\n",
       "      <td>55.000000</td>\n",
       "      <td>96.40000</td>\n",
       "      <td>100.600000</td>\n",
       "      <td>106.650000</td>\n",
       "      <td>110.600000</td>\n",
       "      <td>114.500000</td>\n",
       "      <td>120.000000</td>\n",
       "      <td>149.500000</td>\n",
       "      <td>177.500000</td>\n",
       "      <td>215.000000</td>\n",
       "      <td>254.000000</td>\n",
       "      <td>300.000000</td>\n",
       "      <td>300.000000</td>\n",
       "      <td>300.700000</td>\n",
       "      <td>302.000000</td>\n",
       "      <td>325.750000</td>\n",
       "      <td>450.000000</td>\n",
       "    </tr>\n",
       "    <tr>\n",
       "      <th>Wheelbase</th>\n",
       "      <td>156.0</td>\n",
       "      <td>107.487179</td>\n",
       "      <td>7.641303</td>\n",
       "      <td>92.600000</td>\n",
       "      <td>92.87500</td>\n",
       "      <td>93.510000</td>\n",
       "      <td>94.500000</td>\n",
       "      <td>94.960000</td>\n",
       "      <td>95.875000</td>\n",
       "      <td>98.650000</td>\n",
       "      <td>103.000000</td>\n",
       "      <td>107.000000</td>\n",
       "      <td>112.200000</td>\n",
       "      <td>115.500000</td>\n",
       "      <td>119.250000</td>\n",
       "      <td>120.000000</td>\n",
       "      <td>120.980000</td>\n",
       "      <td>126.630000</td>\n",
       "      <td>134.375000</td>\n",
       "      <td>138.700000</td>\n",
       "    </tr>\n",
       "    <tr>\n",
       "      <th>Width</th>\n",
       "      <td>156.0</td>\n",
       "      <td>71.150000</td>\n",
       "      <td>3.451872</td>\n",
       "      <td>62.600000</td>\n",
       "      <td>66.08500</td>\n",
       "      <td>66.400000</td>\n",
       "      <td>66.465000</td>\n",
       "      <td>66.500000</td>\n",
       "      <td>66.500000</td>\n",
       "      <td>66.900000</td>\n",
       "      <td>68.400000</td>\n",
       "      <td>70.550000</td>\n",
       "      <td>73.425000</td>\n",
       "      <td>76.200000</td>\n",
       "      <td>78.200000</td>\n",
       "      <td>78.200000</td>\n",
       "      <td>78.735000</td>\n",
       "      <td>78.800000</td>\n",
       "      <td>79.190000</td>\n",
       "      <td>79.900000</td>\n",
       "    </tr>\n",
       "    <tr>\n",
       "      <th>Length</th>\n",
       "      <td>156.0</td>\n",
       "      <td>187.343590</td>\n",
       "      <td>13.431754</td>\n",
       "      <td>149.400000</td>\n",
       "      <td>154.91500</td>\n",
       "      <td>158.150000</td>\n",
       "      <td>160.855000</td>\n",
       "      <td>163.300000</td>\n",
       "      <td>163.675000</td>\n",
       "      <td>173.000000</td>\n",
       "      <td>177.575000</td>\n",
       "      <td>187.900000</td>\n",
       "      <td>196.125000</td>\n",
       "      <td>203.400000</td>\n",
       "      <td>208.500000</td>\n",
       "      <td>208.980000</td>\n",
       "      <td>212.000000</td>\n",
       "      <td>214.700000</td>\n",
       "      <td>219.305000</td>\n",
       "      <td>224.500000</td>\n",
       "    </tr>\n",
       "    <tr>\n",
       "      <th>Curb_weight</th>\n",
       "      <td>155.0</td>\n",
       "      <td>3.378026</td>\n",
       "      <td>0.630502</td>\n",
       "      <td>1.895000</td>\n",
       "      <td>2.24540</td>\n",
       "      <td>2.332560</td>\n",
       "      <td>2.356360</td>\n",
       "      <td>2.401520</td>\n",
       "      <td>2.423500</td>\n",
       "      <td>2.606200</td>\n",
       "      <td>2.971000</td>\n",
       "      <td>3.342000</td>\n",
       "      <td>3.799500</td>\n",
       "      <td>4.118600</td>\n",
       "      <td>4.389100</td>\n",
       "      <td>4.457840</td>\n",
       "      <td>4.629440</td>\n",
       "      <td>5.090440</td>\n",
       "      <td>5.396680</td>\n",
       "      <td>5.572000</td>\n",
       "    </tr>\n",
       "    <tr>\n",
       "      <th>Fuel_capacity</th>\n",
       "      <td>156.0</td>\n",
       "      <td>17.951923</td>\n",
       "      <td>3.887921</td>\n",
       "      <td>10.300000</td>\n",
       "      <td>11.90000</td>\n",
       "      <td>12.010000</td>\n",
       "      <td>12.100000</td>\n",
       "      <td>12.180000</td>\n",
       "      <td>12.500000</td>\n",
       "      <td>13.200000</td>\n",
       "      <td>15.800000</td>\n",
       "      <td>17.200000</td>\n",
       "      <td>19.575000</td>\n",
       "      <td>23.200000</td>\n",
       "      <td>25.400000</td>\n",
       "      <td>25.880000</td>\n",
       "      <td>26.000000</td>\n",
       "      <td>29.600000</td>\n",
       "      <td>30.900000</td>\n",
       "      <td>32.000000</td>\n",
       "    </tr>\n",
       "    <tr>\n",
       "      <th>Fuel_efficiency</th>\n",
       "      <td>154.0</td>\n",
       "      <td>23.844156</td>\n",
       "      <td>4.282706</td>\n",
       "      <td>15.000000</td>\n",
       "      <td>15.00000</td>\n",
       "      <td>15.000000</td>\n",
       "      <td>15.590000</td>\n",
       "      <td>16.000000</td>\n",
       "      <td>16.650000</td>\n",
       "      <td>18.300000</td>\n",
       "      <td>21.000000</td>\n",
       "      <td>24.000000</td>\n",
       "      <td>26.000000</td>\n",
       "      <td>28.700000</td>\n",
       "      <td>31.000000</td>\n",
       "      <td>31.000000</td>\n",
       "      <td>32.410000</td>\n",
       "      <td>33.000000</td>\n",
       "      <td>33.000000</td>\n",
       "      <td>45.000000</td>\n",
       "    </tr>\n",
       "    <tr>\n",
       "      <th>Power_perf_factor</th>\n",
       "      <td>155.0</td>\n",
       "      <td>77.043591</td>\n",
       "      <td>25.142664</td>\n",
       "      <td>23.276272</td>\n",
       "      <td>38.46192</td>\n",
       "      <td>40.874394</td>\n",
       "      <td>43.026679</td>\n",
       "      <td>44.363465</td>\n",
       "      <td>46.203997</td>\n",
       "      <td>48.447741</td>\n",
       "      <td>60.407707</td>\n",
       "      <td>72.030917</td>\n",
       "      <td>89.414878</td>\n",
       "      <td>108.499252</td>\n",
       "      <td>125.091513</td>\n",
       "      <td>132.932239</td>\n",
       "      <td>135.134842</td>\n",
       "      <td>139.656887</td>\n",
       "      <td>141.119461</td>\n",
       "      <td>188.144323</td>\n",
       "    </tr>\n",
       "    <tr>\n",
       "      <th>area</th>\n",
       "      <td>156.0</td>\n",
       "      <td>13362.224359</td>\n",
       "      <td>1495.731091</td>\n",
       "      <td>9352.440000</td>\n",
       "      <td>10402.04250</td>\n",
       "      <td>10662.293000</td>\n",
       "      <td>10846.087000</td>\n",
       "      <td>10941.390000</td>\n",
       "      <td>11103.090000</td>\n",
       "      <td>11642.875000</td>\n",
       "      <td>12215.617500</td>\n",
       "      <td>13249.970000</td>\n",
       "      <td>14410.785000</td>\n",
       "      <td>15313.680000</td>\n",
       "      <td>15693.285000</td>\n",
       "      <td>16311.220000</td>\n",
       "      <td>16481.810000</td>\n",
       "      <td>16578.400000</td>\n",
       "      <td>17251.130500</td>\n",
       "      <td>17779.060000</td>\n",
       "    </tr>\n",
       "  </tbody>\n",
       "</table>\n",
       "</div>"
      ],
      "text/plain": [
       "                        count          mean          std          min  \\\n",
       "Sales_in_thousands      157.0     52.998076    68.029422     0.110000   \n",
       "four_year_resale_value  121.0     18.072975    11.453384     5.160000   \n",
       "Price_in_thousands      155.0     27.390755    14.351653     9.235000   \n",
       "Engine_size             156.0      3.060897     1.044653     1.000000   \n",
       "Horsepower              156.0    185.948718    56.700321    55.000000   \n",
       "Wheelbase               156.0    107.487179     7.641303    92.600000   \n",
       "Width                   156.0     71.150000     3.451872    62.600000   \n",
       "Length                  156.0    187.343590    13.431754   149.400000   \n",
       "Curb_weight             155.0      3.378026     0.630502     1.895000   \n",
       "Fuel_capacity           156.0     17.951923     3.887921    10.300000   \n",
       "Fuel_efficiency         154.0     23.844156     4.282706    15.000000   \n",
       "Power_perf_factor       155.0     77.043591    25.142664    23.276272   \n",
       "area                    156.0  13362.224359  1495.731091  9352.440000   \n",
       "\n",
       "                                 1%            2%            3%            4%  \\\n",
       "Sales_in_thousands          0.93728      1.132160      1.348000      1.607600   \n",
       "four_year_resale_value      6.17300      7.555000      7.750000      7.810000   \n",
       "Price_in_thousands         10.23144     11.549680     11.954620     12.109200   \n",
       "Engine_size                 1.55500      1.800000      1.800000      1.800000   \n",
       "Horsepower                 96.40000    100.600000    106.650000    110.600000   \n",
       "Wheelbase                  92.87500     93.510000     94.500000     94.960000   \n",
       "Width                      66.08500     66.400000     66.465000     66.500000   \n",
       "Length                    154.91500    158.150000    160.855000    163.300000   \n",
       "Curb_weight                 2.24540      2.332560      2.356360      2.401520   \n",
       "Fuel_capacity              11.90000     12.010000     12.100000     12.180000   \n",
       "Fuel_efficiency            15.00000     15.000000     15.590000     16.000000   \n",
       "Power_perf_factor          38.46192     40.874394     43.026679     44.363465   \n",
       "area                    10402.04250  10662.293000  10846.087000  10941.390000   \n",
       "\n",
       "                                  5%           10%           25%  \\\n",
       "Sales_in_thousands          1.870800      5.453600     14.114000   \n",
       "four_year_resale_value      7.850000      9.125000     11.260000   \n",
       "Price_in_thousands         12.469000     13.970800     18.017500   \n",
       "Engine_size                 1.800000      1.950000      2.300000   \n",
       "Horsepower                114.500000    120.000000    149.500000   \n",
       "Wheelbase                  95.875000     98.650000    103.000000   \n",
       "Width                      66.500000     66.900000     68.400000   \n",
       "Length                    163.675000    173.000000    177.575000   \n",
       "Curb_weight                 2.423500      2.606200      2.971000   \n",
       "Fuel_capacity              12.500000     13.200000     15.800000   \n",
       "Fuel_efficiency            16.650000     18.300000     21.000000   \n",
       "Power_perf_factor          46.203997     48.447741     60.407707   \n",
       "area                    11103.090000  11642.875000  12215.617500   \n",
       "\n",
       "                                 50%           75%           90%  \\\n",
       "Sales_in_thousands         29.450000     67.956000    127.641600   \n",
       "four_year_resale_value     14.180000     19.875000     32.075000   \n",
       "Price_in_thousands         22.799000     31.947500     44.017000   \n",
       "Engine_size                 3.000000      3.575000      4.600000   \n",
       "Horsepower                177.500000    215.000000    254.000000   \n",
       "Wheelbase                 107.000000    112.200000    115.500000   \n",
       "Width                      70.550000     73.425000     76.200000   \n",
       "Length                    187.900000    196.125000    203.400000   \n",
       "Curb_weight                 3.342000      3.799500      4.118600   \n",
       "Fuel_capacity              17.200000     19.575000     23.200000   \n",
       "Fuel_efficiency            24.000000     26.000000     28.700000   \n",
       "Power_perf_factor          72.030917     89.414878    108.499252   \n",
       "area                    13249.970000  14410.785000  15313.680000   \n",
       "\n",
       "                                 95%           96%           97%  \\\n",
       "Sales_in_thousands        185.336200    215.618400    228.290120   \n",
       "four_year_resale_value     41.250000     43.235000     53.613000   \n",
       "Price_in_thousands         55.835000     61.696800     69.709500   \n",
       "Engine_size                 4.775000      5.000000      5.200000   \n",
       "Horsepower                300.000000    300.000000    300.700000   \n",
       "Wheelbase                 119.250000    120.000000    120.980000   \n",
       "Width                      78.200000     78.200000     78.735000   \n",
       "Length                    208.500000    208.980000    212.000000   \n",
       "Curb_weight                 4.389100      4.457840      4.629440   \n",
       "Fuel_capacity              25.400000     25.880000     26.000000   \n",
       "Fuel_efficiency            31.000000     31.000000     32.410000   \n",
       "Power_perf_factor         125.091513    132.932239    135.134842   \n",
       "area                    15693.285000  16311.220000  16481.810000   \n",
       "\n",
       "                                 98%           99%           max  \n",
       "Sales_in_thousands        244.025440    260.645320    540.561000  \n",
       "four_year_resale_value     58.548000     60.220000     67.550000  \n",
       "Price_in_thousands         70.916400     78.479800     85.500000  \n",
       "Engine_size                 5.380000      5.700000      8.000000  \n",
       "Horsepower                302.000000    325.750000    450.000000  \n",
       "Wheelbase                 126.630000    134.375000    138.700000  \n",
       "Width                      78.800000     79.190000     79.900000  \n",
       "Length                    214.700000    219.305000    224.500000  \n",
       "Curb_weight                 5.090440      5.396680      5.572000  \n",
       "Fuel_capacity              29.600000     30.900000     32.000000  \n",
       "Fuel_efficiency            33.000000     33.000000     45.000000  \n",
       "Power_perf_factor         139.656887    141.119461    188.144323  \n",
       "area                    16578.400000  17251.130500  17779.060000  "
      ]
     },
     "execution_count": 74,
     "metadata": {},
     "output_type": "execute_result"
    }
   ],
   "source": [
    "# Percentile Method \n",
    "num_data.describe(percentiles=[0.01,.02,.03,.04,.05,.1,.25,.5,.75, .9, .95, .96, .97,.98,.99]).T"
   ]
  },
  {
   "cell_type": "code",
   "execution_count": 75,
   "id": "207ca758",
   "metadata": {},
   "outputs": [],
   "source": [
    "def outlier_cap_percentile(x):\n",
    "    x=x.clip(upper=x.quantile(.99))\n",
    "#     x=x.clip(lower=x.quantile(.01))\n",
    "    return x"
   ]
  },
  {
   "cell_type": "code",
   "execution_count": 76,
   "id": "145ad714",
   "metadata": {},
   "outputs": [],
   "source": [
    "num_data1=num_data.apply(outlier_cap_percentile)  # here the function will be used on each variable"
   ]
  },
  {
   "cell_type": "code",
   "execution_count": 77,
   "id": "0f6c80f4",
   "metadata": {},
   "outputs": [
    {
     "data": {
      "text/html": [
       "<div>\n",
       "<style scoped>\n",
       "    .dataframe tbody tr th:only-of-type {\n",
       "        vertical-align: middle;\n",
       "    }\n",
       "\n",
       "    .dataframe tbody tr th {\n",
       "        vertical-align: top;\n",
       "    }\n",
       "\n",
       "    .dataframe thead th {\n",
       "        text-align: right;\n",
       "    }\n",
       "</style>\n",
       "<table border=\"1\" class=\"dataframe\">\n",
       "  <thead>\n",
       "    <tr style=\"text-align: right;\">\n",
       "      <th></th>\n",
       "      <th>count</th>\n",
       "      <th>mean</th>\n",
       "      <th>std</th>\n",
       "      <th>min</th>\n",
       "      <th>1%</th>\n",
       "      <th>2%</th>\n",
       "      <th>3%</th>\n",
       "      <th>4%</th>\n",
       "      <th>5%</th>\n",
       "      <th>10%</th>\n",
       "      <th>25%</th>\n",
       "      <th>50%</th>\n",
       "      <th>75%</th>\n",
       "      <th>90%</th>\n",
       "      <th>95%</th>\n",
       "      <th>96%</th>\n",
       "      <th>97%</th>\n",
       "      <th>98%</th>\n",
       "      <th>99%</th>\n",
       "      <th>max</th>\n",
       "    </tr>\n",
       "  </thead>\n",
       "  <tbody>\n",
       "    <tr>\n",
       "      <th>Sales_in_thousands</th>\n",
       "      <td>157.0</td>\n",
       "      <td>51.112616</td>\n",
       "      <td>57.727465</td>\n",
       "      <td>0.110000</td>\n",
       "      <td>0.93728</td>\n",
       "      <td>1.132160</td>\n",
       "      <td>1.348000</td>\n",
       "      <td>1.607600</td>\n",
       "      <td>1.870800</td>\n",
       "      <td>5.453600</td>\n",
       "      <td>14.114000</td>\n",
       "      <td>29.450000</td>\n",
       "      <td>67.956000</td>\n",
       "      <td>127.641600</td>\n",
       "      <td>185.336200</td>\n",
       "      <td>215.618400</td>\n",
       "      <td>228.290120</td>\n",
       "      <td>244.025440</td>\n",
       "      <td>253.560581</td>\n",
       "      <td>260.645320</td>\n",
       "    </tr>\n",
       "    <tr>\n",
       "      <th>four_year_resale_value</th>\n",
       "      <td>121.0</td>\n",
       "      <td>18.009050</td>\n",
       "      <td>11.193450</td>\n",
       "      <td>5.160000</td>\n",
       "      <td>6.17300</td>\n",
       "      <td>7.555000</td>\n",
       "      <td>7.750000</td>\n",
       "      <td>7.810000</td>\n",
       "      <td>7.850000</td>\n",
       "      <td>9.125000</td>\n",
       "      <td>11.260000</td>\n",
       "      <td>14.180000</td>\n",
       "      <td>19.875000</td>\n",
       "      <td>32.075000</td>\n",
       "      <td>41.250000</td>\n",
       "      <td>43.235000</td>\n",
       "      <td>53.613000</td>\n",
       "      <td>58.548000</td>\n",
       "      <td>59.896000</td>\n",
       "      <td>60.220000</td>\n",
       "    </tr>\n",
       "    <tr>\n",
       "      <th>Price_in_thousands</th>\n",
       "      <td>155.0</td>\n",
       "      <td>27.318881</td>\n",
       "      <td>14.076324</td>\n",
       "      <td>9.235000</td>\n",
       "      <td>10.23144</td>\n",
       "      <td>11.549680</td>\n",
       "      <td>11.954620</td>\n",
       "      <td>12.109200</td>\n",
       "      <td>12.469000</td>\n",
       "      <td>13.970800</td>\n",
       "      <td>18.017500</td>\n",
       "      <td>22.799000</td>\n",
       "      <td>31.947500</td>\n",
       "      <td>44.017000</td>\n",
       "      <td>55.835000</td>\n",
       "      <td>61.696800</td>\n",
       "      <td>69.709500</td>\n",
       "      <td>70.916400</td>\n",
       "      <td>76.584508</td>\n",
       "      <td>78.479800</td>\n",
       "    </tr>\n",
       "    <tr>\n",
       "      <th>Engine_size</th>\n",
       "      <td>156.0</td>\n",
       "      <td>3.046154</td>\n",
       "      <td>0.989257</td>\n",
       "      <td>1.000000</td>\n",
       "      <td>1.55500</td>\n",
       "      <td>1.800000</td>\n",
       "      <td>1.800000</td>\n",
       "      <td>1.800000</td>\n",
       "      <td>1.800000</td>\n",
       "      <td>1.950000</td>\n",
       "      <td>2.300000</td>\n",
       "      <td>3.000000</td>\n",
       "      <td>3.575000</td>\n",
       "      <td>4.600000</td>\n",
       "      <td>4.775000</td>\n",
       "      <td>5.000000</td>\n",
       "      <td>5.200000</td>\n",
       "      <td>5.380000</td>\n",
       "      <td>5.700000</td>\n",
       "      <td>5.700000</td>\n",
       "    </tr>\n",
       "    <tr>\n",
       "      <th>Horsepower</th>\n",
       "      <td>156.0</td>\n",
       "      <td>185.028846</td>\n",
       "      <td>53.415595</td>\n",
       "      <td>55.000000</td>\n",
       "      <td>96.40000</td>\n",
       "      <td>100.600000</td>\n",
       "      <td>106.650000</td>\n",
       "      <td>110.600000</td>\n",
       "      <td>114.500000</td>\n",
       "      <td>120.000000</td>\n",
       "      <td>149.500000</td>\n",
       "      <td>177.500000</td>\n",
       "      <td>215.000000</td>\n",
       "      <td>254.000000</td>\n",
       "      <td>300.000000</td>\n",
       "      <td>300.000000</td>\n",
       "      <td>300.700000</td>\n",
       "      <td>302.000000</td>\n",
       "      <td>317.087500</td>\n",
       "      <td>325.750000</td>\n",
       "    </tr>\n",
       "    <tr>\n",
       "      <th>Wheelbase</th>\n",
       "      <td>156.0</td>\n",
       "      <td>107.433013</td>\n",
       "      <td>7.431316</td>\n",
       "      <td>92.600000</td>\n",
       "      <td>92.87500</td>\n",
       "      <td>93.510000</td>\n",
       "      <td>94.500000</td>\n",
       "      <td>94.960000</td>\n",
       "      <td>95.875000</td>\n",
       "      <td>98.650000</td>\n",
       "      <td>103.000000</td>\n",
       "      <td>107.000000</td>\n",
       "      <td>112.200000</td>\n",
       "      <td>115.500000</td>\n",
       "      <td>119.250000</td>\n",
       "      <td>120.000000</td>\n",
       "      <td>120.980000</td>\n",
       "      <td>126.630000</td>\n",
       "      <td>132.518750</td>\n",
       "      <td>134.375000</td>\n",
       "    </tr>\n",
       "    <tr>\n",
       "      <th>Width</th>\n",
       "      <td>156.0</td>\n",
       "      <td>71.144744</td>\n",
       "      <td>3.439040</td>\n",
       "      <td>62.600000</td>\n",
       "      <td>66.08500</td>\n",
       "      <td>66.400000</td>\n",
       "      <td>66.465000</td>\n",
       "      <td>66.500000</td>\n",
       "      <td>66.500000</td>\n",
       "      <td>66.900000</td>\n",
       "      <td>68.400000</td>\n",
       "      <td>70.550000</td>\n",
       "      <td>73.425000</td>\n",
       "      <td>76.200000</td>\n",
       "      <td>78.200000</td>\n",
       "      <td>78.200000</td>\n",
       "      <td>78.735000</td>\n",
       "      <td>78.800000</td>\n",
       "      <td>79.140500</td>\n",
       "      <td>79.190000</td>\n",
       "    </tr>\n",
       "    <tr>\n",
       "      <th>Length</th>\n",
       "      <td>156.0</td>\n",
       "      <td>187.278910</td>\n",
       "      <td>13.263406</td>\n",
       "      <td>149.400000</td>\n",
       "      <td>154.91500</td>\n",
       "      <td>158.150000</td>\n",
       "      <td>160.855000</td>\n",
       "      <td>163.300000</td>\n",
       "      <td>163.675000</td>\n",
       "      <td>173.000000</td>\n",
       "      <td>177.575000</td>\n",
       "      <td>187.900000</td>\n",
       "      <td>196.125000</td>\n",
       "      <td>203.400000</td>\n",
       "      <td>208.500000</td>\n",
       "      <td>208.980000</td>\n",
       "      <td>212.000000</td>\n",
       "      <td>214.700000</td>\n",
       "      <td>217.102250</td>\n",
       "      <td>219.305000</td>\n",
       "    </tr>\n",
       "    <tr>\n",
       "      <th>Curb_weight</th>\n",
       "      <td>155.0</td>\n",
       "      <td>3.376867</td>\n",
       "      <td>0.626595</td>\n",
       "      <td>1.895000</td>\n",
       "      <td>2.24540</td>\n",
       "      <td>2.332560</td>\n",
       "      <td>2.356360</td>\n",
       "      <td>2.401520</td>\n",
       "      <td>2.423500</td>\n",
       "      <td>2.606200</td>\n",
       "      <td>2.971000</td>\n",
       "      <td>3.342000</td>\n",
       "      <td>3.799500</td>\n",
       "      <td>4.118600</td>\n",
       "      <td>4.389100</td>\n",
       "      <td>4.457840</td>\n",
       "      <td>4.629440</td>\n",
       "      <td>5.090440</td>\n",
       "      <td>5.394693</td>\n",
       "      <td>5.396680</td>\n",
       "    </tr>\n",
       "    <tr>\n",
       "      <th>Fuel_capacity</th>\n",
       "      <td>156.0</td>\n",
       "      <td>17.937821</td>\n",
       "      <td>3.838302</td>\n",
       "      <td>10.300000</td>\n",
       "      <td>11.90000</td>\n",
       "      <td>12.010000</td>\n",
       "      <td>12.100000</td>\n",
       "      <td>12.180000</td>\n",
       "      <td>12.500000</td>\n",
       "      <td>13.200000</td>\n",
       "      <td>15.800000</td>\n",
       "      <td>17.200000</td>\n",
       "      <td>19.575000</td>\n",
       "      <td>23.200000</td>\n",
       "      <td>25.400000</td>\n",
       "      <td>25.880000</td>\n",
       "      <td>26.000000</td>\n",
       "      <td>29.600000</td>\n",
       "      <td>30.405000</td>\n",
       "      <td>30.900000</td>\n",
       "    </tr>\n",
       "    <tr>\n",
       "      <th>Fuel_efficiency</th>\n",
       "      <td>154.0</td>\n",
       "      <td>23.766234</td>\n",
       "      <td>3.994755</td>\n",
       "      <td>15.000000</td>\n",
       "      <td>15.00000</td>\n",
       "      <td>15.000000</td>\n",
       "      <td>15.590000</td>\n",
       "      <td>16.000000</td>\n",
       "      <td>16.650000</td>\n",
       "      <td>18.300000</td>\n",
       "      <td>21.000000</td>\n",
       "      <td>24.000000</td>\n",
       "      <td>26.000000</td>\n",
       "      <td>28.700000</td>\n",
       "      <td>31.000000</td>\n",
       "      <td>31.000000</td>\n",
       "      <td>32.410000</td>\n",
       "      <td>33.000000</td>\n",
       "      <td>33.000000</td>\n",
       "      <td>33.000000</td>\n",
       "    </tr>\n",
       "    <tr>\n",
       "      <th>Power_perf_factor</th>\n",
       "      <td>155.0</td>\n",
       "      <td>76.740065</td>\n",
       "      <td>24.053098</td>\n",
       "      <td>23.276272</td>\n",
       "      <td>38.46192</td>\n",
       "      <td>40.874394</td>\n",
       "      <td>43.026679</td>\n",
       "      <td>44.363465</td>\n",
       "      <td>46.203997</td>\n",
       "      <td>48.447741</td>\n",
       "      <td>60.407707</td>\n",
       "      <td>72.030917</td>\n",
       "      <td>89.414878</td>\n",
       "      <td>108.499252</td>\n",
       "      <td>125.091513</td>\n",
       "      <td>132.932239</td>\n",
       "      <td>135.134842</td>\n",
       "      <td>139.656887</td>\n",
       "      <td>141.109484</td>\n",
       "      <td>141.119461</td>\n",
       "    </tr>\n",
       "    <tr>\n",
       "      <th>area</th>\n",
       "      <td>156.0</td>\n",
       "      <td>13355.591353</td>\n",
       "      <td>1477.087936</td>\n",
       "      <td>9352.440000</td>\n",
       "      <td>10402.04250</td>\n",
       "      <td>10662.293000</td>\n",
       "      <td>10846.087000</td>\n",
       "      <td>10941.390000</td>\n",
       "      <td>11103.090000</td>\n",
       "      <td>11642.875000</td>\n",
       "      <td>12215.617500</td>\n",
       "      <td>13249.970000</td>\n",
       "      <td>14410.785000</td>\n",
       "      <td>15313.680000</td>\n",
       "      <td>15693.285000</td>\n",
       "      <td>16311.220000</td>\n",
       "      <td>16481.810000</td>\n",
       "      <td>16578.400000</td>\n",
       "      <td>17023.061725</td>\n",
       "      <td>17251.130500</td>\n",
       "    </tr>\n",
       "  </tbody>\n",
       "</table>\n",
       "</div>"
      ],
      "text/plain": [
       "                        count          mean          std          min  \\\n",
       "Sales_in_thousands      157.0     51.112616    57.727465     0.110000   \n",
       "four_year_resale_value  121.0     18.009050    11.193450     5.160000   \n",
       "Price_in_thousands      155.0     27.318881    14.076324     9.235000   \n",
       "Engine_size             156.0      3.046154     0.989257     1.000000   \n",
       "Horsepower              156.0    185.028846    53.415595    55.000000   \n",
       "Wheelbase               156.0    107.433013     7.431316    92.600000   \n",
       "Width                   156.0     71.144744     3.439040    62.600000   \n",
       "Length                  156.0    187.278910    13.263406   149.400000   \n",
       "Curb_weight             155.0      3.376867     0.626595     1.895000   \n",
       "Fuel_capacity           156.0     17.937821     3.838302    10.300000   \n",
       "Fuel_efficiency         154.0     23.766234     3.994755    15.000000   \n",
       "Power_perf_factor       155.0     76.740065    24.053098    23.276272   \n",
       "area                    156.0  13355.591353  1477.087936  9352.440000   \n",
       "\n",
       "                                 1%            2%            3%            4%  \\\n",
       "Sales_in_thousands          0.93728      1.132160      1.348000      1.607600   \n",
       "four_year_resale_value      6.17300      7.555000      7.750000      7.810000   \n",
       "Price_in_thousands         10.23144     11.549680     11.954620     12.109200   \n",
       "Engine_size                 1.55500      1.800000      1.800000      1.800000   \n",
       "Horsepower                 96.40000    100.600000    106.650000    110.600000   \n",
       "Wheelbase                  92.87500     93.510000     94.500000     94.960000   \n",
       "Width                      66.08500     66.400000     66.465000     66.500000   \n",
       "Length                    154.91500    158.150000    160.855000    163.300000   \n",
       "Curb_weight                 2.24540      2.332560      2.356360      2.401520   \n",
       "Fuel_capacity              11.90000     12.010000     12.100000     12.180000   \n",
       "Fuel_efficiency            15.00000     15.000000     15.590000     16.000000   \n",
       "Power_perf_factor          38.46192     40.874394     43.026679     44.363465   \n",
       "area                    10402.04250  10662.293000  10846.087000  10941.390000   \n",
       "\n",
       "                                  5%           10%           25%  \\\n",
       "Sales_in_thousands          1.870800      5.453600     14.114000   \n",
       "four_year_resale_value      7.850000      9.125000     11.260000   \n",
       "Price_in_thousands         12.469000     13.970800     18.017500   \n",
       "Engine_size                 1.800000      1.950000      2.300000   \n",
       "Horsepower                114.500000    120.000000    149.500000   \n",
       "Wheelbase                  95.875000     98.650000    103.000000   \n",
       "Width                      66.500000     66.900000     68.400000   \n",
       "Length                    163.675000    173.000000    177.575000   \n",
       "Curb_weight                 2.423500      2.606200      2.971000   \n",
       "Fuel_capacity              12.500000     13.200000     15.800000   \n",
       "Fuel_efficiency            16.650000     18.300000     21.000000   \n",
       "Power_perf_factor          46.203997     48.447741     60.407707   \n",
       "area                    11103.090000  11642.875000  12215.617500   \n",
       "\n",
       "                                 50%           75%           90%  \\\n",
       "Sales_in_thousands         29.450000     67.956000    127.641600   \n",
       "four_year_resale_value     14.180000     19.875000     32.075000   \n",
       "Price_in_thousands         22.799000     31.947500     44.017000   \n",
       "Engine_size                 3.000000      3.575000      4.600000   \n",
       "Horsepower                177.500000    215.000000    254.000000   \n",
       "Wheelbase                 107.000000    112.200000    115.500000   \n",
       "Width                      70.550000     73.425000     76.200000   \n",
       "Length                    187.900000    196.125000    203.400000   \n",
       "Curb_weight                 3.342000      3.799500      4.118600   \n",
       "Fuel_capacity              17.200000     19.575000     23.200000   \n",
       "Fuel_efficiency            24.000000     26.000000     28.700000   \n",
       "Power_perf_factor          72.030917     89.414878    108.499252   \n",
       "area                    13249.970000  14410.785000  15313.680000   \n",
       "\n",
       "                                 95%           96%           97%  \\\n",
       "Sales_in_thousands        185.336200    215.618400    228.290120   \n",
       "four_year_resale_value     41.250000     43.235000     53.613000   \n",
       "Price_in_thousands         55.835000     61.696800     69.709500   \n",
       "Engine_size                 4.775000      5.000000      5.200000   \n",
       "Horsepower                300.000000    300.000000    300.700000   \n",
       "Wheelbase                 119.250000    120.000000    120.980000   \n",
       "Width                      78.200000     78.200000     78.735000   \n",
       "Length                    208.500000    208.980000    212.000000   \n",
       "Curb_weight                 4.389100      4.457840      4.629440   \n",
       "Fuel_capacity              25.400000     25.880000     26.000000   \n",
       "Fuel_efficiency            31.000000     31.000000     32.410000   \n",
       "Power_perf_factor         125.091513    132.932239    135.134842   \n",
       "area                    15693.285000  16311.220000  16481.810000   \n",
       "\n",
       "                                 98%           99%           max  \n",
       "Sales_in_thousands        244.025440    253.560581    260.645320  \n",
       "four_year_resale_value     58.548000     59.896000     60.220000  \n",
       "Price_in_thousands         70.916400     76.584508     78.479800  \n",
       "Engine_size                 5.380000      5.700000      5.700000  \n",
       "Horsepower                302.000000    317.087500    325.750000  \n",
       "Wheelbase                 126.630000    132.518750    134.375000  \n",
       "Width                      78.800000     79.140500     79.190000  \n",
       "Length                    214.700000    217.102250    219.305000  \n",
       "Curb_weight                 5.090440      5.394693      5.396680  \n",
       "Fuel_capacity              29.600000     30.405000     30.900000  \n",
       "Fuel_efficiency            33.000000     33.000000     33.000000  \n",
       "Power_perf_factor         139.656887    141.109484    141.119461  \n",
       "area                    16578.400000  17023.061725  17251.130500  "
      ]
     },
     "execution_count": 77,
     "metadata": {},
     "output_type": "execute_result"
    }
   ],
   "source": [
    "# Percentile Method \n",
    "num_data1.describe(percentiles=[0.01,.02,.03,.04,.05,.1,.25,.5,.75, .9, .95, .96, .97,.98,.99]).T"
   ]
  },
  {
   "cell_type": "markdown",
   "id": "3deccd52",
   "metadata": {},
   "source": [
    "### missing value treatment on numerical data"
   ]
  },
  {
   "cell_type": "code",
   "execution_count": 78,
   "id": "13d743c1",
   "metadata": {},
   "outputs": [
    {
     "data": {
      "text/plain": [
       "Sales_in_thousands         0\n",
       "four_year_resale_value    36\n",
       "Price_in_thousands         2\n",
       "Engine_size                1\n",
       "Horsepower                 1\n",
       "Wheelbase                  1\n",
       "Width                      1\n",
       "Length                     1\n",
       "Curb_weight                2\n",
       "Fuel_capacity              1\n",
       "Fuel_efficiency            3\n",
       "Power_perf_factor          2\n",
       "area                       1\n",
       "dtype: int64"
      ]
     },
     "execution_count": 78,
     "metadata": {},
     "output_type": "execute_result"
    }
   ],
   "source": [
    "# Detection of missing value\n",
    "num_data1.isnull().sum()  "
   ]
  },
  {
   "cell_type": "code",
   "execution_count": 79,
   "id": "c9ced039",
   "metadata": {},
   "outputs": [],
   "source": [
    "# missing value treatment\n",
    "a=num_data1.dropna() # delete"
   ]
  },
  {
   "cell_type": "code",
   "execution_count": 80,
   "id": "42490de5",
   "metadata": {},
   "outputs": [
    {
     "data": {
      "text/plain": [
       "(117, 13)"
      ]
     },
     "execution_count": 80,
     "metadata": {},
     "output_type": "execute_result"
    }
   ],
   "source": [
    "a.shape"
   ]
  },
  {
   "cell_type": "code",
   "execution_count": 81,
   "id": "cf30aad2",
   "metadata": {},
   "outputs": [
    {
     "data": {
      "text/plain": [
       "(157, 13)"
      ]
     },
     "execution_count": 81,
     "metadata": {},
     "output_type": "execute_result"
    }
   ],
   "source": [
    "num_data1.shape"
   ]
  },
  {
   "cell_type": "code",
   "execution_count": 82,
   "id": "c957ed2c",
   "metadata": {},
   "outputs": [
    {
     "data": {
      "text/plain": [
       "40"
      ]
     },
     "execution_count": 82,
     "metadata": {},
     "output_type": "execute_result"
    }
   ],
   "source": [
    "157-117"
   ]
  },
  {
   "cell_type": "code",
   "execution_count": 83,
   "id": "2937643a",
   "metadata": {},
   "outputs": [
    {
     "data": {
      "text/plain": [
       "0.25477707006369427"
      ]
     },
     "execution_count": 83,
     "metadata": {},
     "output_type": "execute_result"
    }
   ],
   "source": [
    "40/157"
   ]
  },
  {
   "cell_type": "code",
   "execution_count": 84,
   "id": "08333d36",
   "metadata": {},
   "outputs": [
    {
     "data": {
      "text/html": [
       "<div>\n",
       "<style scoped>\n",
       "    .dataframe tbody tr th:only-of-type {\n",
       "        vertical-align: middle;\n",
       "    }\n",
       "\n",
       "    .dataframe tbody tr th {\n",
       "        vertical-align: top;\n",
       "    }\n",
       "\n",
       "    .dataframe thead th {\n",
       "        text-align: right;\n",
       "    }\n",
       "</style>\n",
       "<table border=\"1\" class=\"dataframe\">\n",
       "  <thead>\n",
       "    <tr style=\"text-align: right;\">\n",
       "      <th></th>\n",
       "      <th>Sales_in_thousands</th>\n",
       "      <th>four_year_resale_value</th>\n",
       "      <th>Price_in_thousands</th>\n",
       "      <th>Engine_size</th>\n",
       "      <th>Horsepower</th>\n",
       "      <th>Wheelbase</th>\n",
       "      <th>Width</th>\n",
       "      <th>Length</th>\n",
       "      <th>Curb_weight</th>\n",
       "      <th>Fuel_capacity</th>\n",
       "      <th>Fuel_efficiency</th>\n",
       "      <th>Power_perf_factor</th>\n",
       "      <th>area</th>\n",
       "    </tr>\n",
       "  </thead>\n",
       "  <tbody>\n",
       "    <tr>\n",
       "      <th>0</th>\n",
       "      <td>16.919</td>\n",
       "      <td>16.360</td>\n",
       "      <td>21.50</td>\n",
       "      <td>1.8</td>\n",
       "      <td>140.0</td>\n",
       "      <td>101.2</td>\n",
       "      <td>67.3</td>\n",
       "      <td>172.4</td>\n",
       "      <td>2.639</td>\n",
       "      <td>13.2</td>\n",
       "      <td>28.0</td>\n",
       "      <td>58.280150</td>\n",
       "      <td>11602.52</td>\n",
       "    </tr>\n",
       "    <tr>\n",
       "      <th>1</th>\n",
       "      <td>39.384</td>\n",
       "      <td>19.875</td>\n",
       "      <td>28.40</td>\n",
       "      <td>3.2</td>\n",
       "      <td>225.0</td>\n",
       "      <td>108.1</td>\n",
       "      <td>70.3</td>\n",
       "      <td>192.9</td>\n",
       "      <td>3.517</td>\n",
       "      <td>17.2</td>\n",
       "      <td>25.0</td>\n",
       "      <td>91.370778</td>\n",
       "      <td>13560.87</td>\n",
       "    </tr>\n",
       "    <tr>\n",
       "      <th>2</th>\n",
       "      <td>14.114</td>\n",
       "      <td>18.225</td>\n",
       "      <td>NaN</td>\n",
       "      <td>3.2</td>\n",
       "      <td>225.0</td>\n",
       "      <td>106.9</td>\n",
       "      <td>70.6</td>\n",
       "      <td>192.0</td>\n",
       "      <td>3.470</td>\n",
       "      <td>17.2</td>\n",
       "      <td>26.0</td>\n",
       "      <td>NaN</td>\n",
       "      <td>13555.20</td>\n",
       "    </tr>\n",
       "    <tr>\n",
       "      <th>3</th>\n",
       "      <td>8.588</td>\n",
       "      <td>29.725</td>\n",
       "      <td>42.00</td>\n",
       "      <td>3.5</td>\n",
       "      <td>210.0</td>\n",
       "      <td>114.6</td>\n",
       "      <td>71.4</td>\n",
       "      <td>196.6</td>\n",
       "      <td>3.850</td>\n",
       "      <td>18.0</td>\n",
       "      <td>22.0</td>\n",
       "      <td>91.389779</td>\n",
       "      <td>14037.24</td>\n",
       "    </tr>\n",
       "    <tr>\n",
       "      <th>4</th>\n",
       "      <td>20.397</td>\n",
       "      <td>22.255</td>\n",
       "      <td>23.99</td>\n",
       "      <td>1.8</td>\n",
       "      <td>150.0</td>\n",
       "      <td>102.6</td>\n",
       "      <td>68.2</td>\n",
       "      <td>178.0</td>\n",
       "      <td>2.998</td>\n",
       "      <td>16.4</td>\n",
       "      <td>27.0</td>\n",
       "      <td>62.777639</td>\n",
       "      <td>12139.60</td>\n",
       "    </tr>\n",
       "    <tr>\n",
       "      <th>...</th>\n",
       "      <td>...</td>\n",
       "      <td>...</td>\n",
       "      <td>...</td>\n",
       "      <td>...</td>\n",
       "      <td>...</td>\n",
       "      <td>...</td>\n",
       "      <td>...</td>\n",
       "      <td>...</td>\n",
       "      <td>...</td>\n",
       "      <td>...</td>\n",
       "      <td>...</td>\n",
       "      <td>...</td>\n",
       "      <td>...</td>\n",
       "    </tr>\n",
       "    <tr>\n",
       "      <th>152</th>\n",
       "      <td>3.545</td>\n",
       "      <td>NaN</td>\n",
       "      <td>24.40</td>\n",
       "      <td>1.9</td>\n",
       "      <td>160.0</td>\n",
       "      <td>100.5</td>\n",
       "      <td>67.6</td>\n",
       "      <td>176.6</td>\n",
       "      <td>3.042</td>\n",
       "      <td>15.8</td>\n",
       "      <td>25.0</td>\n",
       "      <td>66.498812</td>\n",
       "      <td>11938.16</td>\n",
       "    </tr>\n",
       "    <tr>\n",
       "      <th>153</th>\n",
       "      <td>15.245</td>\n",
       "      <td>NaN</td>\n",
       "      <td>27.50</td>\n",
       "      <td>2.4</td>\n",
       "      <td>168.0</td>\n",
       "      <td>104.9</td>\n",
       "      <td>69.3</td>\n",
       "      <td>185.9</td>\n",
       "      <td>3.208</td>\n",
       "      <td>17.9</td>\n",
       "      <td>25.0</td>\n",
       "      <td>70.654495</td>\n",
       "      <td>12882.87</td>\n",
       "    </tr>\n",
       "    <tr>\n",
       "      <th>154</th>\n",
       "      <td>17.531</td>\n",
       "      <td>NaN</td>\n",
       "      <td>28.80</td>\n",
       "      <td>2.4</td>\n",
       "      <td>168.0</td>\n",
       "      <td>104.9</td>\n",
       "      <td>69.3</td>\n",
       "      <td>186.2</td>\n",
       "      <td>3.259</td>\n",
       "      <td>17.9</td>\n",
       "      <td>25.0</td>\n",
       "      <td>71.155978</td>\n",
       "      <td>12903.66</td>\n",
       "    </tr>\n",
       "    <tr>\n",
       "      <th>155</th>\n",
       "      <td>3.493</td>\n",
       "      <td>NaN</td>\n",
       "      <td>45.50</td>\n",
       "      <td>2.3</td>\n",
       "      <td>236.0</td>\n",
       "      <td>104.9</td>\n",
       "      <td>71.5</td>\n",
       "      <td>185.7</td>\n",
       "      <td>3.601</td>\n",
       "      <td>18.5</td>\n",
       "      <td>23.0</td>\n",
       "      <td>101.623357</td>\n",
       "      <td>13277.55</td>\n",
       "    </tr>\n",
       "    <tr>\n",
       "      <th>156</th>\n",
       "      <td>18.969</td>\n",
       "      <td>NaN</td>\n",
       "      <td>36.00</td>\n",
       "      <td>2.9</td>\n",
       "      <td>201.0</td>\n",
       "      <td>109.9</td>\n",
       "      <td>72.1</td>\n",
       "      <td>189.8</td>\n",
       "      <td>3.600</td>\n",
       "      <td>21.1</td>\n",
       "      <td>24.0</td>\n",
       "      <td>85.735655</td>\n",
       "      <td>13684.58</td>\n",
       "    </tr>\n",
       "  </tbody>\n",
       "</table>\n",
       "<p>157 rows × 13 columns</p>\n",
       "</div>"
      ],
      "text/plain": [
       "     Sales_in_thousands  four_year_resale_value  Price_in_thousands  \\\n",
       "0                16.919                  16.360               21.50   \n",
       "1                39.384                  19.875               28.40   \n",
       "2                14.114                  18.225                 NaN   \n",
       "3                 8.588                  29.725               42.00   \n",
       "4                20.397                  22.255               23.99   \n",
       "..                  ...                     ...                 ...   \n",
       "152               3.545                     NaN               24.40   \n",
       "153              15.245                     NaN               27.50   \n",
       "154              17.531                     NaN               28.80   \n",
       "155               3.493                     NaN               45.50   \n",
       "156              18.969                     NaN               36.00   \n",
       "\n",
       "     Engine_size  Horsepower  Wheelbase  Width  Length  Curb_weight  \\\n",
       "0            1.8       140.0      101.2   67.3   172.4        2.639   \n",
       "1            3.2       225.0      108.1   70.3   192.9        3.517   \n",
       "2            3.2       225.0      106.9   70.6   192.0        3.470   \n",
       "3            3.5       210.0      114.6   71.4   196.6        3.850   \n",
       "4            1.8       150.0      102.6   68.2   178.0        2.998   \n",
       "..           ...         ...        ...    ...     ...          ...   \n",
       "152          1.9       160.0      100.5   67.6   176.6        3.042   \n",
       "153          2.4       168.0      104.9   69.3   185.9        3.208   \n",
       "154          2.4       168.0      104.9   69.3   186.2        3.259   \n",
       "155          2.3       236.0      104.9   71.5   185.7        3.601   \n",
       "156          2.9       201.0      109.9   72.1   189.8        3.600   \n",
       "\n",
       "     Fuel_capacity  Fuel_efficiency  Power_perf_factor      area  \n",
       "0             13.2             28.0          58.280150  11602.52  \n",
       "1             17.2             25.0          91.370778  13560.87  \n",
       "2             17.2             26.0                NaN  13555.20  \n",
       "3             18.0             22.0          91.389779  14037.24  \n",
       "4             16.4             27.0          62.777639  12139.60  \n",
       "..             ...              ...                ...       ...  \n",
       "152           15.8             25.0          66.498812  11938.16  \n",
       "153           17.9             25.0          70.654495  12882.87  \n",
       "154           17.9             25.0          71.155978  12903.66  \n",
       "155           18.5             23.0         101.623357  13277.55  \n",
       "156           21.1             24.0          85.735655  13684.58  \n",
       "\n",
       "[157 rows x 13 columns]"
      ]
     },
     "execution_count": 84,
     "metadata": {},
     "output_type": "execute_result"
    }
   ],
   "source": [
    "num_data1"
   ]
  },
  {
   "cell_type": "code",
   "execution_count": 85,
   "id": "ec612aa4",
   "metadata": {},
   "outputs": [],
   "source": [
    "# # missing value treatment - imputation\n",
    "# num_data1.fillna(num_data1.mean()) # fill mean of each column to respective missing value of the columns\n",
    "# num_data1.fillna(num_data1.median())# fill median of each column to respective missing value of the columns\n",
    "# num_data1.fillna(method=\"ffill\")\n",
    "# num_data1.fillna(method=\"bfill\")\n",
    "# num_data1.fillna(value=0)"
   ]
  },
  {
   "cell_type": "code",
   "execution_count": 86,
   "id": "5bd29aef",
   "metadata": {},
   "outputs": [],
   "source": [
    "num_data2=num_data1.fillna(num_data1.mean()) # filling missing value with mean "
   ]
  },
  {
   "cell_type": "markdown",
   "id": "a854ea6c",
   "metadata": {},
   "source": [
    "#### combine numerical and categorical data"
   ]
  },
  {
   "cell_type": "code",
   "execution_count": 87,
   "id": "31978e62",
   "metadata": {},
   "outputs": [
    {
     "data": {
      "text/plain": [
       "Index(['Manufacturer', 'Model', 'Vehicle_type'], dtype='object')"
      ]
     },
     "execution_count": 87,
     "metadata": {},
     "output_type": "execute_result"
    }
   ],
   "source": [
    "df.dtypes[df.dtypes==\"object\"].index"
   ]
  },
  {
   "cell_type": "code",
   "execution_count": 88,
   "id": "8911617e",
   "metadata": {},
   "outputs": [],
   "source": [
    "cat_data=df[['Manufacturer', 'Model', 'Vehicle_type']]"
   ]
  },
  {
   "cell_type": "code",
   "execution_count": 89,
   "id": "5eb5e1a9",
   "metadata": {},
   "outputs": [
    {
     "data": {
      "text/plain": [
       "(157, 16)"
      ]
     },
     "execution_count": 89,
     "metadata": {},
     "output_type": "execute_result"
    }
   ],
   "source": [
    "new_df=pd.concat([cat_data, num_data2], axis=1)\n",
    "new_df.shape"
   ]
  },
  {
   "cell_type": "code",
   "execution_count": 90,
   "id": "b9561d27",
   "metadata": {},
   "outputs": [
    {
     "data": {
      "text/plain": [
       "30"
      ]
     },
     "execution_count": 90,
     "metadata": {},
     "output_type": "execute_result"
    }
   ],
   "source": [
    "new_df[\"Manufacturer\"].nunique()"
   ]
  },
  {
   "cell_type": "code",
   "execution_count": 91,
   "id": "06e0a244",
   "metadata": {},
   "outputs": [],
   "source": [
    "new_df.drop(columns=[\"Manufacturer\", \"Model\"], inplace=True)"
   ]
  },
  {
   "cell_type": "markdown",
   "id": "68a7e37d",
   "metadata": {},
   "source": [
    "### creating dummies"
   ]
  },
  {
   "cell_type": "code",
   "execution_count": 92,
   "id": "ec73a990",
   "metadata": {},
   "outputs": [
    {
     "data": {
      "text/html": [
       "<div>\n",
       "<style scoped>\n",
       "    .dataframe tbody tr th:only-of-type {\n",
       "        vertical-align: middle;\n",
       "    }\n",
       "\n",
       "    .dataframe tbody tr th {\n",
       "        vertical-align: top;\n",
       "    }\n",
       "\n",
       "    .dataframe thead th {\n",
       "        text-align: right;\n",
       "    }\n",
       "</style>\n",
       "<table border=\"1\" class=\"dataframe\">\n",
       "  <thead>\n",
       "    <tr style=\"text-align: right;\">\n",
       "      <th></th>\n",
       "      <th>Sales_in_thousands</th>\n",
       "      <th>four_year_resale_value</th>\n",
       "      <th>Price_in_thousands</th>\n",
       "      <th>Engine_size</th>\n",
       "      <th>Horsepower</th>\n",
       "      <th>Wheelbase</th>\n",
       "      <th>Width</th>\n",
       "      <th>Length</th>\n",
       "      <th>Curb_weight</th>\n",
       "      <th>Fuel_capacity</th>\n",
       "      <th>Fuel_efficiency</th>\n",
       "      <th>Power_perf_factor</th>\n",
       "      <th>area</th>\n",
       "      <th>Vehicle_type_Passenger</th>\n",
       "    </tr>\n",
       "  </thead>\n",
       "  <tbody>\n",
       "    <tr>\n",
       "      <th>0</th>\n",
       "      <td>16.919</td>\n",
       "      <td>16.36000</td>\n",
       "      <td>21.500000</td>\n",
       "      <td>1.8</td>\n",
       "      <td>140.0</td>\n",
       "      <td>101.2</td>\n",
       "      <td>67.3</td>\n",
       "      <td>172.4</td>\n",
       "      <td>2.639</td>\n",
       "      <td>13.2</td>\n",
       "      <td>28.0</td>\n",
       "      <td>58.280150</td>\n",
       "      <td>11602.52</td>\n",
       "      <td>1</td>\n",
       "    </tr>\n",
       "    <tr>\n",
       "      <th>1</th>\n",
       "      <td>39.384</td>\n",
       "      <td>19.87500</td>\n",
       "      <td>28.400000</td>\n",
       "      <td>3.2</td>\n",
       "      <td>225.0</td>\n",
       "      <td>108.1</td>\n",
       "      <td>70.3</td>\n",
       "      <td>192.9</td>\n",
       "      <td>3.517</td>\n",
       "      <td>17.2</td>\n",
       "      <td>25.0</td>\n",
       "      <td>91.370778</td>\n",
       "      <td>13560.87</td>\n",
       "      <td>1</td>\n",
       "    </tr>\n",
       "    <tr>\n",
       "      <th>2</th>\n",
       "      <td>14.114</td>\n",
       "      <td>18.22500</td>\n",
       "      <td>27.318881</td>\n",
       "      <td>3.2</td>\n",
       "      <td>225.0</td>\n",
       "      <td>106.9</td>\n",
       "      <td>70.6</td>\n",
       "      <td>192.0</td>\n",
       "      <td>3.470</td>\n",
       "      <td>17.2</td>\n",
       "      <td>26.0</td>\n",
       "      <td>76.740065</td>\n",
       "      <td>13555.20</td>\n",
       "      <td>1</td>\n",
       "    </tr>\n",
       "    <tr>\n",
       "      <th>3</th>\n",
       "      <td>8.588</td>\n",
       "      <td>29.72500</td>\n",
       "      <td>42.000000</td>\n",
       "      <td>3.5</td>\n",
       "      <td>210.0</td>\n",
       "      <td>114.6</td>\n",
       "      <td>71.4</td>\n",
       "      <td>196.6</td>\n",
       "      <td>3.850</td>\n",
       "      <td>18.0</td>\n",
       "      <td>22.0</td>\n",
       "      <td>91.389779</td>\n",
       "      <td>14037.24</td>\n",
       "      <td>1</td>\n",
       "    </tr>\n",
       "    <tr>\n",
       "      <th>4</th>\n",
       "      <td>20.397</td>\n",
       "      <td>22.25500</td>\n",
       "      <td>23.990000</td>\n",
       "      <td>1.8</td>\n",
       "      <td>150.0</td>\n",
       "      <td>102.6</td>\n",
       "      <td>68.2</td>\n",
       "      <td>178.0</td>\n",
       "      <td>2.998</td>\n",
       "      <td>16.4</td>\n",
       "      <td>27.0</td>\n",
       "      <td>62.777639</td>\n",
       "      <td>12139.60</td>\n",
       "      <td>1</td>\n",
       "    </tr>\n",
       "    <tr>\n",
       "      <th>...</th>\n",
       "      <td>...</td>\n",
       "      <td>...</td>\n",
       "      <td>...</td>\n",
       "      <td>...</td>\n",
       "      <td>...</td>\n",
       "      <td>...</td>\n",
       "      <td>...</td>\n",
       "      <td>...</td>\n",
       "      <td>...</td>\n",
       "      <td>...</td>\n",
       "      <td>...</td>\n",
       "      <td>...</td>\n",
       "      <td>...</td>\n",
       "      <td>...</td>\n",
       "    </tr>\n",
       "    <tr>\n",
       "      <th>152</th>\n",
       "      <td>3.545</td>\n",
       "      <td>18.00905</td>\n",
       "      <td>24.400000</td>\n",
       "      <td>1.9</td>\n",
       "      <td>160.0</td>\n",
       "      <td>100.5</td>\n",
       "      <td>67.6</td>\n",
       "      <td>176.6</td>\n",
       "      <td>3.042</td>\n",
       "      <td>15.8</td>\n",
       "      <td>25.0</td>\n",
       "      <td>66.498812</td>\n",
       "      <td>11938.16</td>\n",
       "      <td>1</td>\n",
       "    </tr>\n",
       "    <tr>\n",
       "      <th>153</th>\n",
       "      <td>15.245</td>\n",
       "      <td>18.00905</td>\n",
       "      <td>27.500000</td>\n",
       "      <td>2.4</td>\n",
       "      <td>168.0</td>\n",
       "      <td>104.9</td>\n",
       "      <td>69.3</td>\n",
       "      <td>185.9</td>\n",
       "      <td>3.208</td>\n",
       "      <td>17.9</td>\n",
       "      <td>25.0</td>\n",
       "      <td>70.654495</td>\n",
       "      <td>12882.87</td>\n",
       "      <td>1</td>\n",
       "    </tr>\n",
       "    <tr>\n",
       "      <th>154</th>\n",
       "      <td>17.531</td>\n",
       "      <td>18.00905</td>\n",
       "      <td>28.800000</td>\n",
       "      <td>2.4</td>\n",
       "      <td>168.0</td>\n",
       "      <td>104.9</td>\n",
       "      <td>69.3</td>\n",
       "      <td>186.2</td>\n",
       "      <td>3.259</td>\n",
       "      <td>17.9</td>\n",
       "      <td>25.0</td>\n",
       "      <td>71.155978</td>\n",
       "      <td>12903.66</td>\n",
       "      <td>1</td>\n",
       "    </tr>\n",
       "    <tr>\n",
       "      <th>155</th>\n",
       "      <td>3.493</td>\n",
       "      <td>18.00905</td>\n",
       "      <td>45.500000</td>\n",
       "      <td>2.3</td>\n",
       "      <td>236.0</td>\n",
       "      <td>104.9</td>\n",
       "      <td>71.5</td>\n",
       "      <td>185.7</td>\n",
       "      <td>3.601</td>\n",
       "      <td>18.5</td>\n",
       "      <td>23.0</td>\n",
       "      <td>101.623357</td>\n",
       "      <td>13277.55</td>\n",
       "      <td>1</td>\n",
       "    </tr>\n",
       "    <tr>\n",
       "      <th>156</th>\n",
       "      <td>18.969</td>\n",
       "      <td>18.00905</td>\n",
       "      <td>36.000000</td>\n",
       "      <td>2.9</td>\n",
       "      <td>201.0</td>\n",
       "      <td>109.9</td>\n",
       "      <td>72.1</td>\n",
       "      <td>189.8</td>\n",
       "      <td>3.600</td>\n",
       "      <td>21.1</td>\n",
       "      <td>24.0</td>\n",
       "      <td>85.735655</td>\n",
       "      <td>13684.58</td>\n",
       "      <td>1</td>\n",
       "    </tr>\n",
       "  </tbody>\n",
       "</table>\n",
       "<p>157 rows × 14 columns</p>\n",
       "</div>"
      ],
      "text/plain": [
       "     Sales_in_thousands  four_year_resale_value  Price_in_thousands  \\\n",
       "0                16.919                16.36000           21.500000   \n",
       "1                39.384                19.87500           28.400000   \n",
       "2                14.114                18.22500           27.318881   \n",
       "3                 8.588                29.72500           42.000000   \n",
       "4                20.397                22.25500           23.990000   \n",
       "..                  ...                     ...                 ...   \n",
       "152               3.545                18.00905           24.400000   \n",
       "153              15.245                18.00905           27.500000   \n",
       "154              17.531                18.00905           28.800000   \n",
       "155               3.493                18.00905           45.500000   \n",
       "156              18.969                18.00905           36.000000   \n",
       "\n",
       "     Engine_size  Horsepower  Wheelbase  Width  Length  Curb_weight  \\\n",
       "0            1.8       140.0      101.2   67.3   172.4        2.639   \n",
       "1            3.2       225.0      108.1   70.3   192.9        3.517   \n",
       "2            3.2       225.0      106.9   70.6   192.0        3.470   \n",
       "3            3.5       210.0      114.6   71.4   196.6        3.850   \n",
       "4            1.8       150.0      102.6   68.2   178.0        2.998   \n",
       "..           ...         ...        ...    ...     ...          ...   \n",
       "152          1.9       160.0      100.5   67.6   176.6        3.042   \n",
       "153          2.4       168.0      104.9   69.3   185.9        3.208   \n",
       "154          2.4       168.0      104.9   69.3   186.2        3.259   \n",
       "155          2.3       236.0      104.9   71.5   185.7        3.601   \n",
       "156          2.9       201.0      109.9   72.1   189.8        3.600   \n",
       "\n",
       "     Fuel_capacity  Fuel_efficiency  Power_perf_factor      area  \\\n",
       "0             13.2             28.0          58.280150  11602.52   \n",
       "1             17.2             25.0          91.370778  13560.87   \n",
       "2             17.2             26.0          76.740065  13555.20   \n",
       "3             18.0             22.0          91.389779  14037.24   \n",
       "4             16.4             27.0          62.777639  12139.60   \n",
       "..             ...              ...                ...       ...   \n",
       "152           15.8             25.0          66.498812  11938.16   \n",
       "153           17.9             25.0          70.654495  12882.87   \n",
       "154           17.9             25.0          71.155978  12903.66   \n",
       "155           18.5             23.0         101.623357  13277.55   \n",
       "156           21.1             24.0          85.735655  13684.58   \n",
       "\n",
       "     Vehicle_type_Passenger  \n",
       "0                         1  \n",
       "1                         1  \n",
       "2                         1  \n",
       "3                         1  \n",
       "4                         1  \n",
       "..                      ...  \n",
       "152                       1  \n",
       "153                       1  \n",
       "154                       1  \n",
       "155                       1  \n",
       "156                       1  \n",
       "\n",
       "[157 rows x 14 columns]"
      ]
     },
     "execution_count": 92,
     "metadata": {},
     "output_type": "execute_result"
    }
   ],
   "source": [
    "new_df_dummy=pd.get_dummies(data=new_df, columns=[\"Vehicle_type\"], drop_first=True, dtype=\"int\")\n",
    "new_df_dummy"
   ]
  },
  {
   "cell_type": "code",
   "execution_count": 93,
   "id": "c7e5006f",
   "metadata": {},
   "outputs": [
    {
     "data": {
      "text/plain": [
       "Sales_in_thousands        0\n",
       "four_year_resale_value    0\n",
       "Price_in_thousands        0\n",
       "Engine_size               0\n",
       "Horsepower                0\n",
       "Wheelbase                 0\n",
       "Width                     0\n",
       "Length                    0\n",
       "Curb_weight               0\n",
       "Fuel_capacity             0\n",
       "Fuel_efficiency           0\n",
       "Power_perf_factor         0\n",
       "area                      0\n",
       "Vehicle_type_Passenger    0\n",
       "dtype: int64"
      ]
     },
     "execution_count": 93,
     "metadata": {},
     "output_type": "execute_result"
    }
   ],
   "source": [
    "new_df_dummy.isnull().sum()"
   ]
  },
  {
   "cell_type": "markdown",
   "id": "ad5cb476",
   "metadata": {},
   "source": [
    "### Checking assumptions of linear regression"
   ]
  },
  {
   "cell_type": "code",
   "execution_count": 94,
   "id": "ffe1c3f1",
   "metadata": {},
   "outputs": [
    {
     "data": {
      "text/plain": [
       "0      16.919\n",
       "1      39.384\n",
       "2      14.114\n",
       "3       8.588\n",
       "4      20.397\n",
       "        ...  \n",
       "152     3.545\n",
       "153    15.245\n",
       "154    17.531\n",
       "155     3.493\n",
       "156    18.969\n",
       "Name: Sales_in_thousands, Length: 157, dtype: float64"
      ]
     },
     "execution_count": 94,
     "metadata": {},
     "output_type": "execute_result"
    }
   ],
   "source": [
    "new_df_dummy[\"Sales_in_thousands\"] # y is continuous"
   ]
  },
  {
   "cell_type": "code",
   "execution_count": 95,
   "id": "4ff959dc",
   "metadata": {},
   "outputs": [
    {
     "data": {
      "image/png": "[encoded data removed]",
      "text/plain": [
       "<Figure size 640x480 with 1 Axes>"
      ]
     },
     "metadata": {},
     "output_type": "display_data"
    }
   ],
   "source": [
    "# y should be normally distributed \n",
    "plt.hist(new_df_dummy[\"Sales_in_thousands\"])\n",
    "plt.show()"
   ]
  },
  {
   "cell_type": "code",
   "execution_count": 96,
   "id": "614c754f",
   "metadata": {},
   "outputs": [],
   "source": [
    "from scipy import stats"
   ]
  },
  {
   "cell_type": "code",
   "execution_count": 97,
   "id": "265bf826",
   "metadata": {},
   "outputs": [],
   "source": [
    "# stats.shapiro  # When rows are less than 5000 \n",
    "# stats.jarque_bera # when rows are more than or equal to 5000\n",
    "# Null : data is  normal\n",
    "# Alternative : data is not  normal"
   ]
  },
  {
   "cell_type": "code",
   "execution_count": 98,
   "id": "ae6b6714",
   "metadata": {},
   "outputs": [
    {
     "data": {
      "text/plain": [
       "ShapiroResult(statistic=0.7552341117128591, pvalue=6.811491171418018e-15)"
      ]
     },
     "execution_count": 98,
     "metadata": {},
     "output_type": "execute_result"
    }
   ],
   "source": [
    "stats.shapiro(new_df_dummy[\"Sales_in_thousands\"])"
   ]
  },
  {
   "cell_type": "code",
   "execution_count": 99,
   "id": "e1f8d2ca",
   "metadata": {},
   "outputs": [
    {
     "name": "stdout",
     "output_type": "stream",
     "text": [
      "ShapiroResult(statistic=0.9831062855545168, pvalue=0.05210771586500871)\n"
     ]
    },
    {
     "data": {
      "image/png": "[encoded data removed]",
      "text/plain": [
       "<Figure size 640x480 with 1 Axes>"
      ]
     },
     "metadata": {},
     "output_type": "display_data"
    }
   ],
   "source": [
    "new_df_dummy[\"transformed_sale\"]=np.log1p(new_df_dummy[\"Sales_in_thousands\"])\n",
    "print(stats.shapiro(new_df_dummy[\"transformed_sale\"]))\n",
    "plt.hist(new_df_dummy[\"transformed_sale\"])\n",
    "plt.show()"
   ]
  },
  {
   "cell_type": "code",
   "execution_count": 100,
   "id": "d322b75b",
   "metadata": {},
   "outputs": [
    {
     "data": {
      "image/png": "[encoded data removed]",
      "text/plain": [
       "<Figure size 1000x800 with 2 Axes>"
      ]
     },
     "metadata": {},
     "output_type": "display_data"
    }
   ],
   "source": [
    "# Multicollinearity \n",
    "plt.figure(figsize=(10,8))\n",
    "cr=new_df_dummy.corr()\n",
    "cr=cr[abs(cr)>.6]\n",
    "sns.heatmap(cr, annot=True, cmap=\"coolwarm\")\n",
    "plt.show()"
   ]
  },
  {
   "cell_type": "code",
   "execution_count": 101,
   "id": "2e3d1635",
   "metadata": {},
   "outputs": [],
   "source": [
    "import statsmodels # linear regression\n",
    "# import sklearn  # linear Regression "
   ]
  },
  {
   "cell_type": "code",
   "execution_count": 102,
   "id": "fd5d7066",
   "metadata": {},
   "outputs": [
    {
     "data": {
      "text/plain": [
       "Index(['Sales_in_thousands', 'four_year_resale_value', 'Price_in_thousands',\n",
       "       'Engine_size', 'Horsepower', 'Wheelbase', 'Width', 'Length',\n",
       "       'Curb_weight', 'Fuel_capacity', 'Fuel_efficiency', 'Power_perf_factor',\n",
       "       'area', 'Vehicle_type_Passenger', 'transformed_sale'],\n",
       "      dtype='object')"
      ]
     },
     "execution_count": 102,
     "metadata": {},
     "output_type": "execute_result"
    }
   ],
   "source": [
    "new_df_dummy.columns"
   ]
  },
  {
   "cell_type": "code",
   "execution_count": 103,
   "id": "bea24c72",
   "metadata": {},
   "outputs": [],
   "source": [
    "y=new_df_dummy[\"transformed_sale\"]\n",
    "x=new_df_dummy[['Price_in_thousands',\n",
    "       'Engine_size', 'Wheelbase',\n",
    "        'Fuel_efficiency', 'Vehicle_type_Passenger']]"
   ]
  },
  {
   "cell_type": "code",
   "execution_count": 104,
   "id": "a5cc8db7",
   "metadata": {},
   "outputs": [
    {
     "name": "stdout",
     "output_type": "stream",
     "text": [
      "                            OLS Regression Results                            \n",
      "==============================================================================\n",
      "Dep. Variable:       transformed_sale   R-squared:                       0.493\n",
      "Model:                            OLS   Adj. R-squared:                  0.476\n",
      "Method:                 Least Squares   F-statistic:                     29.33\n",
      "Date:                Fri, 20 Sep 2024   Prob (F-statistic):           9.97e-21\n",
      "Time:                        20:55:34   Log-Likelihood:                -192.37\n",
      "No. Observations:                 157   AIC:                             396.7\n",
      "Df Residuals:                     151   BIC:                             415.1\n",
      "Df Model:                           5                                         \n",
      "Covariance Type:            nonrobust                                         \n",
      "==========================================================================================\n",
      "                             coef    std err          t      P>|t|      [0.025      0.975]\n",
      "------------------------------------------------------------------------------------------\n",
      "const                     -2.6963      1.618     -1.667      0.098      -5.893       0.500\n",
      "Price_in_thousands        -0.0498      0.007     -7.108      0.000      -0.064      -0.036\n",
      "Engine_size                0.4114      0.127      3.245      0.001       0.161       0.662\n",
      "Wheelbase                  0.0379      0.012      3.291      0.001       0.015       0.061\n",
      "Fuel_efficiency            0.1122      0.035      3.167      0.002       0.042       0.182\n",
      "Vehicle_type_Passenger    -0.7533      0.224     -3.362      0.001      -1.196      -0.311\n",
      "==============================================================================\n",
      "Omnibus:                        8.570   Durbin-Watson:                   1.421\n",
      "Prob(Omnibus):                  0.014   Jarque-Bera (JB):                8.985\n",
      "Skew:                          -0.448   Prob(JB):                       0.0112\n",
      "Kurtosis:                       3.756   Cond. No.                     2.75e+03\n",
      "==============================================================================\n",
      "\n",
      "Notes:\n",
      "[1] Standard Errors assume that the covariance matrix of the errors is correctly specified.\n",
      "[2] The condition number is large, 2.75e+03. This might indicate that there are\n",
      "strong multicollinearity or other numerical problems.\n"
     ]
    }
   ],
   "source": [
    "import statsmodels.api as sm\n",
    "\n",
    "x_train=sm.add_constant(x)\n",
    "model=sm.OLS(y, x_train)  # linear Regression - OLS ordinary least square method \n",
    "results=model.fit()  # training the model\n",
    "print(results.summary())"
   ]
  },
  {
   "cell_type": "code",
   "execution_count": 105,
   "id": "a628e8c8",
   "metadata": {},
   "outputs": [],
   "source": [
    "# x"
   ]
  },
  {
   "cell_type": "code",
   "execution_count": 106,
   "id": "9eec45f5",
   "metadata": {},
   "outputs": [],
   "source": [
    "# x_train"
   ]
  },
  {
   "cell_type": "code",
   "execution_count": 107,
   "id": "dea2dfca",
   "metadata": {},
   "outputs": [],
   "source": [
    "# x_train.columns"
   ]
  },
  {
   "cell_type": "code",
   "execution_count": 108,
   "id": "e68ead05",
   "metadata": {},
   "outputs": [],
   "source": [
    "test_data=pd.DataFrame({\"const\":[1],\n",
    "                       \"Price_in_thousands\":[36],\n",
    "                       \"Engine_size\":[1.8],\n",
    "                       \"Wheelbase\":[120],\n",
    "                       \"Fuel_efficiency\":[23],\n",
    "                       \"Vehicle_type_Passenger\":[0]})"
   ]
  },
  {
   "cell_type": "code",
   "execution_count": 109,
   "id": "c95108d1",
   "metadata": {},
   "outputs": [
    {
     "data": {
      "text/plain": [
       "0    28.439471\n",
       "dtype: float64"
      ]
     },
     "execution_count": 109,
     "metadata": {},
     "output_type": "execute_result"
    }
   ],
   "source": [
    "sale=np.expm1(results.predict(test_data)) \n",
    "sale"
   ]
  }
 ],
 "metadata": {
  "kernelspec": {
   "display_name": "Python 3 (ipykernel)",
   "language": "python",
   "name": "python3"
  },
  "language_info": {
   "codemirror_mode": {
    "name": "ipython",
    "version": 3
   },
   "file_extension": ".py",
   "mimetype": "text/x-python",
   "name": "python",
   "nbconvert_exporter": "python",
   "pygments_lexer": "ipython3",
   "version": "3.11.4"
  }
 },
 "nbformat": 4,
 "nbformat_minor": 5
}
