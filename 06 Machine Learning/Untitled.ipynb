{
 "cells": [
  {
   "cell_type": "markdown",
   "id": "7a0e0ac5-8d16-464f-8345-e5d3c5a9c642",
   "metadata": {},
   "source": [
    "# Regression"
   ]
  },
  {
   "cell_type": "markdown",
   "id": "eadc614c-97d9-478c-8ccd-0da324eca52a",
   "metadata": {},
   "source": [
    "Assumptions: \n",
    "1. Y must be continuous.\n",
    "2. Y should be normaly distributed.\n",
    "3. Y should have linear relationship with variables.\n",
    "4. **There should be no MULTICOLINEARITY.**\n",
    "5. There should be no auto-colinearity.\n",
    "6. No Heteroskedasticity."
   ]
  },
  {
   "cell_type": "markdown",
   "id": "4c803f24-61e7-4a38-8494-39281b1dd99b",
   "metadata": {},
   "source": []
  },
  {
   "cell_type": "code",
   "execution_count": null,
   "id": "e196caf8-53df-4be9-85cf-304fac2edb9f",
   "metadata": {},
   "outputs": [],
   "source": []
  }
 ],
 "metadata": {
  "kernelspec": {
   "display_name": "Python 3 (ipykernel)",
   "language": "python",
   "name": "python3"
  },
  "language_info": {
   "codemirror_mode": {
    "name": "ipython",
    "version": 3
   },
   "file_extension": ".py",
   "mimetype": "text/x-python",
   "name": "python",
   "nbconvert_exporter": "python",
   "pygments_lexer": "ipython3",
   "version": "3.11.4"
  }
 },
 "nbformat": 4,
 "nbformat_minor": 5
}
