{
 "cells": [
  {
   "cell_type": "markdown",
   "id": "95d73160-cd14-49c1-96df-24491179fd21",
   "metadata": {},
   "source": [
    "# Machine Learning"
   ]
  },
  {
   "cell_type": "markdown",
   "id": "f0164e2f-de0b-4f72-ba1e-74e658ceb9c0",
   "metadata": {},
   "source": [
    "It is a subfield of AI which involve in development and study of statistical algorithms that can learn from data and generalized to unseen data without explicit instructions/programs.\n",
    "\n",
    "Types of Learning\n",
    "1. Supervised\n",
    "2. Unsupervised\n",
    "3. Semi-supervised\n",
    "4. Reinforced"
   ]
  },
  {
   "cell_type": "markdown",
   "id": "cbc7f27b-c85c-46f5-ba5a-c98a3d7292ae",
   "metadata": {},
   "source": [
    "#### Supervised Learning: \n",
    "1. Regression\n",
    "2. Classification\n",
    "\n",
    "#### Unsupervised Learning:\n",
    "1. Clustering\n",
    "2. Feature Reduction\n",
    "3. MBA (Market Basket Analysis)"
   ]
  },
  {
   "cell_type": "markdown",
   "id": "fdb51eee-033a-4ec3-9825-f4327b7d134f",
   "metadata": {},
   "source": [
    "#### Semisupervised: (Supervised+Unsupervised)"
   ]
  },
  {
   "cell_type": "markdown",
   "id": "5713505f-b049-4396-ba0a-614efc68119a",
   "metadata": {},
   "source": [
    "#### Reinforced Learning : Reward, Penalty, Policy"
   ]
  },
  {
   "cell_type": "code",
   "execution_count": null,
   "id": "52f0636b-8ea6-4a8a-a3cd-8b1f8806100f",
   "metadata": {},
   "outputs": [],
   "source": []
  }
 ],
 "metadata": {
  "kernelspec": {
   "display_name": "Python 3 (ipykernel)",
   "language": "python",
   "name": "python3"
  },
  "language_info": {
   "codemirror_mode": {
    "name": "ipython",
    "version": 3
   },
   "file_extension": ".py",
   "mimetype": "text/x-python",
   "name": "python",
   "nbconvert_exporter": "python",
   "pygments_lexer": "ipython3",
   "version": "3.11.4"
  }
 },
 "nbformat": 4,
 "nbformat_minor": 5
}
