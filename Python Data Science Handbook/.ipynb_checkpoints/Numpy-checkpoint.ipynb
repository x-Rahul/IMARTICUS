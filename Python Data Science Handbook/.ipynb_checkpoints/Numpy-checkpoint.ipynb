{
 "cells": [
  {
   "cell_type": "code",
   "execution_count": 1,
   "id": "22bf3a98-f7a9-4952-bef9-9b1f259e91d2",
   "metadata": {},
   "outputs": [],
   "source": [
    "import numpy as np"
   ]
  },
  {
   "cell_type": "markdown",
   "id": "b4de04f2-1ad4-4190-b21a-a3f93885515b",
   "metadata": {},
   "source": [
    "# Craeting Array"
   ]
  },
  {
   "cell_type": "code",
   "execution_count": 2,
   "id": "c6b37a1f-6546-43d1-b6a2-a8525ccd5d7f",
   "metadata": {},
   "outputs": [
    {
     "data": {
      "text/plain": [
       "array('1, 4, 2, 5, 3', dtype='<U13')"
      ]
     },
     "execution_count": 2,
     "metadata": {},
     "output_type": "execute_result"
    }
   ],
   "source": [
    "# Integer Array\n",
    "np.array('1, 4, 2, 5, 3')"
   ]
  },
  {
   "cell_type": "code",
   "execution_count": 6,
   "id": "cdf2faea-c129-402b-9e55-8507020aa34f",
   "metadata": {},
   "outputs": [
    {
     "data": {
      "text/plain": [
       "array([1., 2., 3.])"
      ]
     },
     "execution_count": 6,
     "metadata": {},
     "output_type": "execute_result"
    }
   ],
   "source": [
    "np.array([1.0, 2, 3]) # upcast int to float"
   ]
  },
  {
   "cell_type": "code",
   "execution_count": 10,
   "id": "756de98b-b59d-4815-99e9-fb1f22b5ee0a",
   "metadata": {},
   "outputs": [
    {
     "data": {
      "text/plain": [
       "array([0, 0, 0, 0, 0, 0, 0, 0, 0, 0])"
      ]
     },
     "execution_count": 10,
     "metadata": {},
     "output_type": "execute_result"
    }
   ],
   "source": [
    "# Creating  a length-10 integer array filled with zeroes\n",
    "np.zeros(10, dtype = int) # default dtype float"
   ]
  },
  {
   "cell_type": "code",
   "execution_count": 13,
   "id": "c86f3063-3163-4285-a11d-fbfb53b64f11",
   "metadata": {},
   "outputs": [
    {
     "data": {
      "text/plain": [
       "array([[1., 1., 1., 1., 1.],\n",
       "       [1., 1., 1., 1., 1.],\n",
       "       [1., 1., 1., 1., 1.]])"
      ]
     },
     "execution_count": 13,
     "metadata": {},
     "output_type": "execute_result"
    }
   ],
   "source": [
    "# Create a 3x5 floating-point array filled with 1\n",
    "np.ones((3,5))"
   ]
  },
  {
   "cell_type": "code",
   "execution_count": 14,
   "id": "6216c278-afcf-49b9-b372-f9b19f4ae1fd",
   "metadata": {},
   "outputs": [
    {
     "data": {
      "text/plain": [
       "array([[3.14, 3.14, 3.14, 3.14, 3.14],\n",
       "       [3.14, 3.14, 3.14, 3.14, 3.14],\n",
       "       [3.14, 3.14, 3.14, 3.14, 3.14]])"
      ]
     },
     "execution_count": 14,
     "metadata": {},
     "output_type": "execute_result"
    }
   ],
   "source": [
    "# Create a 3x5 array filled with 3.14\n",
    "np.full((3,5),  3.14)"
   ]
  },
  {
   "cell_type": "code",
   "execution_count": 16,
   "id": "267ab50a-8faf-411d-ba24-c41dc13966be",
   "metadata": {},
   "outputs": [
    {
     "data": {
      "text/plain": [
       "array([ 0,  2,  4,  6,  8, 10, 12, 14, 16, 18])"
      ]
     },
     "execution_count": 16,
     "metadata": {},
     "output_type": "execute_result"
    }
   ],
   "source": [
    "# Crate an array filled with a linear sequence, step by 2\n",
    "np.arange(0, 20, 2)"
   ]
  },
  {
   "cell_type": "code",
   "execution_count": 17,
   "id": "4f468ca5-ca4b-4af5-84c0-6f66232f1775",
   "metadata": {},
   "outputs": [
    {
     "data": {
      "text/plain": [
       "array([0.  , 0.25, 0.5 , 0.75, 1.  ])"
      ]
     },
     "execution_count": 17,
     "metadata": {},
     "output_type": "execute_result"
    }
   ],
   "source": [
    "# Create an array of 5 values evenly spaced between 0 and 1\n",
    "np.linspace(0, 1, 5)"
   ]
  },
  {
   "cell_type": "code",
   "execution_count": 18,
   "id": "9a2c02e1-e197-4d89-97b7-26994440574c",
   "metadata": {},
   "outputs": [
    {
     "data": {
      "text/plain": [
       "array([0.183481  , 0.74147333, 0.86947541, 0.40447974, 0.96560898])"
      ]
     },
     "execution_count": 18,
     "metadata": {},
     "output_type": "execute_result"
    }
   ],
   "source": [
    "# array of 5 values between 0 and 1\n",
    "np.random.random(5)"
   ]
  },
  {
   "cell_type": "code",
   "execution_count": 19,
   "id": "b59518a1-3447-41f9-b127-0defc3e532f2",
   "metadata": {},
   "outputs": [
    {
     "data": {
      "text/plain": [
       "array([[0.05895648, 0.94123929, 0.16473627],\n",
       "       [0.43512464, 0.47795144, 0.8900611 ],\n",
       "       [0.53362789, 0.5909394 , 0.78439467]])"
      ]
     },
     "execution_count": 19,
     "metadata": {},
     "output_type": "execute_result"
    }
   ],
   "source": [
    "# 3x3 array of uniformly distributed, random values between 0 and 1\n",
    "np.random.random((3,3))"
   ]
  },
  {
   "cell_type": "code",
   "execution_count": 28,
   "id": "097331e7-e797-4b81-8351-b7b0e2a4cc87",
   "metadata": {},
   "outputs": [
    {
     "data": {
      "text/plain": [
       "array([[7, 9, 7],\n",
       "       [0, 2, 8],\n",
       "       [2, 8, 7]])"
      ]
     },
     "execution_count": 28,
     "metadata": {},
     "output_type": "execute_result"
    }
   ],
   "source": [
    "# Create a 3x3 array of random integers in the interval [0, 10)\n",
    "np.random.randint(0, 10, (3,3))"
   ]
  },
  {
   "cell_type": "code",
   "execution_count": 29,
   "id": "4401382d-eaf4-4fcc-8e63-94709c826325",
   "metadata": {},
   "outputs": [
    {
     "data": {
      "text/plain": [
       "array([[1., 0., 0.],\n",
       "       [0., 1., 0.],\n",
       "       [0., 0., 1.]])"
      ]
     },
     "execution_count": 29,
     "metadata": {},
     "output_type": "execute_result"
    }
   ],
   "source": [
    "# Identity Matrix\n",
    "np.eye(3)"
   ]
  },
  {
   "cell_type": "code",
   "execution_count": 37,
   "id": "e58f2be2-46c3-472a-a974-a8572a40d7be",
   "metadata": {},
   "outputs": [
    {
     "data": {
      "text/plain": [
       "array([1., 1., 1.])"
      ]
     },
     "execution_count": 37,
     "metadata": {},
     "output_type": "execute_result"
    }
   ],
   "source": [
    "# Uninitialized array\n",
    "np.empty(3)"
   ]
  },
  {
   "cell_type": "code",
   "execution_count": 38,
   "id": "203ac1a9-4870-4b02-baad-0d90262e38cf",
   "metadata": {},
   "outputs": [
    {
     "data": {
      "text/plain": [
       "array([[-0.4920379 , -2.12290459, -0.0808861 ],\n",
       "       [ 2.79256536, -0.2241214 , -0.50496519],\n",
       "       [ 0.62699374, -0.39830469, -0.71281888]])"
      ]
     },
     "execution_count": 38,
     "metadata": {},
     "output_type": "execute_result"
    }
   ],
   "source": [
    "# Create a 3x3 array of normaly distributed random values, with mean 0 and std. deviation 1\n",
    "np.random.normal(0, 1, (3,3))"
   ]
  },
  {
   "cell_type": "markdown",
   "id": "2d27a5e6-f619-46bd-a49d-45f82487a034",
   "metadata": {},
   "source": [
    "# Array Attributes"
   ]
  },
  {
   "cell_type": "code",
   "execution_count": 58,
   "id": "7f7887bc-ccb4-4a41-b1f5-7fe3ea3cf66f",
   "metadata": {},
   "outputs": [],
   "source": [
    "np.random.seed(0)\n",
    "x1 = np.random.randint(10, size=6)\n",
    "x2 = np.random.randint(10, size=(3,4))\n",
    "x3 = np.random.randint(10, size=(3,4,5))"
   ]
  },
  {
   "cell_type": "code",
   "execution_count": 62,
   "id": "f4135c7f-e998-410b-8aa3-c2fdc36968d7",
   "metadata": {},
   "outputs": [
    {
     "name": "stdout",
     "output_type": "stream",
     "text": [
      "x3 ndim: 3\n",
      "x3 shape: (3, 4, 5)\n",
      "x3 size: 60\n",
      "x3 dtype: int64\n"
     ]
    }
   ],
   "source": [
    "print(f\"x3 ndim: {x3.ndim}\")\n",
    "print(f\"x3 shape: {x3.shape}\")\n",
    "print(f\"x3 size: {x3.size}\")\n",
    "print(f\"x3 dtype: {x3.dtype}\")"
   ]
  },
  {
   "cell_type": "markdown",
   "id": "edd0bc4b-1da9-4118-a42f-36da26e98e8b",
   "metadata": {},
   "source": [
    "# Array Indexing"
   ]
  },
  {
   "cell_type": "code",
   "execution_count": 63,
   "id": "d4756da0-8053-4648-ab3d-5cfdc49a8afa",
   "metadata": {},
   "outputs": [
    {
     "data": {
      "text/plain": [
       "array([5, 0, 3, 3, 7, 9])"
      ]
     },
     "execution_count": 63,
     "metadata": {},
     "output_type": "execute_result"
    }
   ],
   "source": [
    "x1"
   ]
  },
  {
   "cell_type": "code",
   "execution_count": 64,
   "id": "9e751c54-3099-4bac-9638-de99318c34b9",
   "metadata": {},
   "outputs": [
    {
     "name": "stdout",
     "output_type": "stream",
     "text": [
      "3 9\n"
     ]
    }
   ],
   "source": [
    "print(x1[2], x1[-1])"
   ]
  },
  {
   "cell_type": "code",
   "execution_count": 65,
   "id": "75fdaa2b-324b-4ae1-8ef4-fb0cc6eff96b",
   "metadata": {},
   "outputs": [
    {
     "data": {
      "text/plain": [
       "array([[3, 5, 2, 4],\n",
       "       [7, 6, 8, 8],\n",
       "       [1, 6, 7, 7]])"
      ]
     },
     "execution_count": 65,
     "metadata": {},
     "output_type": "execute_result"
    }
   ],
   "source": [
    "x2"
   ]
  },
  {
   "cell_type": "code",
   "execution_count": 69,
   "id": "95544fcc-5d1d-429a-a0ad-3fb3567202d5",
   "metadata": {},
   "outputs": [
    {
     "data": {
      "text/plain": [
       "(4, 8)"
      ]
     },
     "execution_count": 69,
     "metadata": {},
     "output_type": "execute_result"
    }
   ],
   "source": [
    "x2[0,-1], x2[1,3]"
   ]
  },
  {
   "cell_type": "code",
   "execution_count": 73,
   "id": "72d275da-bb9d-40cb-bbd6-61ca523c97da",
   "metadata": {},
   "outputs": [
    {
     "data": {
      "text/plain": [
       "array([[3, 5, 2, 4],\n",
       "       [7, 3, 8, 8],\n",
       "       [1, 6, 7, 7]])"
      ]
     },
     "execution_count": 73,
     "metadata": {},
     "output_type": "execute_result"
    }
   ],
   "source": [
    "x2[1,1] = 3.13 # this will be trucated\n",
    "x2"
   ]
  },
  {
   "cell_type": "markdown",
   "id": "3b4f592d-03be-4721-be34-d467d2e2bf25",
   "metadata": {},
   "source": [
    "# Array Slicing"
   ]
  },
  {
   "cell_type": "markdown",
   "id": "68d429c2-fd52-4b00-a325-145a5f749d12",
   "metadata": {},
   "source": [
    "## 1D Array"
   ]
  },
  {
   "cell_type": "code",
   "execution_count": 74,
   "id": "6914c639-fc9b-4095-8488-001159d3042b",
   "metadata": {},
   "outputs": [
    {
     "data": {
      "text/plain": [
       "array([5, 0, 3, 3, 7, 9])"
      ]
     },
     "execution_count": 74,
     "metadata": {},
     "output_type": "execute_result"
    }
   ],
   "source": [
    "x1"
   ]
  },
  {
   "cell_type": "code",
   "execution_count": 75,
   "id": "c4973ef7-1e32-465e-93c3-efe2ff68186f",
   "metadata": {},
   "outputs": [
    {
     "data": {
      "text/plain": [
       "array([5, 0, 3, 3])"
      ]
     },
     "execution_count": 75,
     "metadata": {},
     "output_type": "execute_result"
    }
   ],
   "source": [
    "x1[:4] # first four elements"
   ]
  },
  {
   "cell_type": "code",
   "execution_count": 76,
   "id": "542b8e16-9db5-4cfb-8f6d-140dc88461e2",
   "metadata": {},
   "outputs": [
    {
     "data": {
      "text/plain": [
       "array([7, 9])"
      ]
     },
     "execution_count": 76,
     "metadata": {},
     "output_type": "execute_result"
    }
   ],
   "source": [
    "x1[4:] # elements afer index 4"
   ]
  },
  {
   "cell_type": "code",
   "execution_count": 77,
   "id": "8e3d4e00-b5f8-4b49-aa84-2728936af284",
   "metadata": {},
   "outputs": [
    {
     "data": {
      "text/plain": [
       "array([0, 3, 3])"
      ]
     },
     "execution_count": 77,
     "metadata": {},
     "output_type": "execute_result"
    }
   ],
   "source": [
    "x1[1:4] # middle subarray "
   ]
  },
  {
   "cell_type": "code",
   "execution_count": 79,
   "id": "5f3308c6-239e-46f1-b620-5297fe6da550",
   "metadata": {},
   "outputs": [
    {
     "data": {
      "text/plain": [
       "array([5, 3, 7])"
      ]
     },
     "execution_count": 79,
     "metadata": {},
     "output_type": "execute_result"
    }
   ],
   "source": [
    "x1[::2] # every other element"
   ]
  },
  {
   "cell_type": "code",
   "execution_count": 80,
   "id": "69cbd91a-e8fc-461f-b528-bdb6e13ea6cc",
   "metadata": {},
   "outputs": [
    {
     "data": {
      "text/plain": [
       "array([0, 3, 9])"
      ]
     },
     "execution_count": 80,
     "metadata": {},
     "output_type": "execute_result"
    }
   ],
   "source": [
    "x1[1::2] # every other element starting at index 1"
   ]
  },
  {
   "cell_type": "code",
   "execution_count": 82,
   "id": "bd87d81b-d6fa-4107-a8b4-3bb4bcd71168",
   "metadata": {},
   "outputs": [
    {
     "data": {
      "text/plain": [
       "array([9, 7, 3, 3, 0, 5])"
      ]
     },
     "execution_count": 82,
     "metadata": {},
     "output_type": "execute_result"
    }
   ],
   "source": [
    "x1[::-1] # reversed"
   ]
  },
  {
   "cell_type": "code",
   "execution_count": 90,
   "id": "f0b65790-d9e5-489a-b670-01dc9f61ba9d",
   "metadata": {},
   "outputs": [
    {
     "data": {
      "text/plain": [
       "array([3, 5])"
      ]
     },
     "execution_count": 90,
     "metadata": {},
     "output_type": "execute_result"
    }
   ],
   "source": [
    "x1[2::-2]"
   ]
  },
  {
   "cell_type": "markdown",
   "id": "a7b5c4d0-d7b0-4bd0-94bc-841230d6228e",
   "metadata": {},
   "source": [
    "## Multidimentional Arrya"
   ]
  },
  {
   "cell_type": "code",
   "execution_count": 91,
   "id": "c65fcee8-72ca-48d8-8a56-109ba5f93342",
   "metadata": {},
   "outputs": [
    {
     "data": {
      "text/plain": [
       "array([[3, 5, 2, 4],\n",
       "       [7, 3, 8, 8],\n",
       "       [1, 6, 7, 7]])"
      ]
     },
     "execution_count": 91,
     "metadata": {},
     "output_type": "execute_result"
    }
   ],
   "source": [
    "x2"
   ]
  },
  {
   "cell_type": "code",
   "execution_count": 92,
   "id": "0881f8ea-5c4a-49ca-9616-09dd6eaaf13e",
   "metadata": {},
   "outputs": [
    {
     "data": {
      "text/plain": [
       "array([[3, 5, 2],\n",
       "       [7, 3, 8]])"
      ]
     },
     "execution_count": 92,
     "metadata": {},
     "output_type": "execute_result"
    }
   ],
   "source": [
    "x2[:2, :3] # x2[row, column]"
   ]
  },
  {
   "cell_type": "code",
   "execution_count": 93,
   "id": "79eebe24-20fe-492d-9e26-042f5f9629a1",
   "metadata": {},
   "outputs": [
    {
     "data": {
      "text/plain": [
       "array([[3, 2],\n",
       "       [7, 8],\n",
       "       [1, 7]])"
      ]
     },
     "execution_count": 93,
     "metadata": {},
     "output_type": "execute_result"
    }
   ],
   "source": [
    "x2[:3, ::2] # row = 0,1,2 & column = 0,2"
   ]
  },
  {
   "cell_type": "code",
   "execution_count": 94,
   "id": "2b2190ab-0a43-4f9a-ae53-8647745d758d",
   "metadata": {},
   "outputs": [
    {
     "data": {
      "text/plain": [
       "array([[7, 7, 6, 1],\n",
       "       [8, 8, 3, 7],\n",
       "       [4, 2, 5, 3]])"
      ]
     },
     "execution_count": 94,
     "metadata": {},
     "output_type": "execute_result"
    }
   ],
   "source": [
    "x2[::-1, ::-1]"
   ]
  },
  {
   "cell_type": "markdown",
   "id": "4d2bb16c-2739-4028-9f93-9978974477e5",
   "metadata": {},
   "source": [
    "# Subarrays sd no-copy views\n",
    "Array slices return `views` rather than `copies` of the array data. In *Lists*, slices will be `copies`. "
   ]
  },
  {
   "cell_type": "code",
   "execution_count": 95,
   "id": "a5e75177-8043-4fb1-b5e9-85181887bf9d",
   "metadata": {},
   "outputs": [
    {
     "data": {
      "text/plain": [
       "array([[3, 5, 2, 4],\n",
       "       [7, 3, 8, 8],\n",
       "       [1, 6, 7, 7]])"
      ]
     },
     "execution_count": 95,
     "metadata": {},
     "output_type": "execute_result"
    }
   ],
   "source": [
    "x2"
   ]
  },
  {
   "cell_type": "code",
   "execution_count": 97,
   "id": "a4496025-c709-4341-9f22-ff9c4bd8dd66",
   "metadata": {},
   "outputs": [
    {
     "data": {
      "text/plain": [
       "array([[3, 2],\n",
       "       [7, 8]])"
      ]
     },
     "execution_count": 97,
     "metadata": {},
     "output_type": "execute_result"
    }
   ],
   "source": [
    "x2_sub = x2[:2, ::2]\n",
    "x2_sub"
   ]
  },
  {
   "cell_type": "code",
   "execution_count": 99,
   "id": "eed96b9e-6f4d-435a-ab0e-4aaf202c22c4",
   "metadata": {},
   "outputs": [
    {
     "data": {
      "text/plain": [
       "array([[9, 2],\n",
       "       [7, 8]])"
      ]
     },
     "execution_count": 99,
     "metadata": {},
     "output_type": "execute_result"
    }
   ],
   "source": [
    "x2_sub[0,0] = 9 # Modification to s2_sub array\n",
    "x2_sub"
   ]
  },
  {
   "cell_type": "code",
   "execution_count": 100,
   "id": "9996c69d-7192-4f63-abb2-f9e083f89874",
   "metadata": {},
   "outputs": [
    {
     "data": {
      "text/plain": [
       "array([[9, 5, 2, 4],\n",
       "       [7, 3, 8, 8],\n",
       "       [1, 6, 7, 7]])"
      ]
     },
     "execution_count": 100,
     "metadata": {},
     "output_type": "execute_result"
    }
   ],
   "source": [
    "x2 # original array also modified"
   ]
  },
  {
   "cell_type": "markdown",
   "id": "7a7e4473-e890-45a8-a95e-1dd41cdca81a",
   "metadata": {},
   "source": [
    "## Creating copies of arrays"
   ]
  },
  {
   "cell_type": "code",
   "execution_count": 102,
   "id": "b6413316-c452-4cfb-9f9a-0eaee757a47b",
   "metadata": {},
   "outputs": [
    {
     "data": {
      "text/plain": [
       "array([[9, 5, 2, 4],\n",
       "       [7, 3, 8, 8],\n",
       "       [1, 6, 7, 7]])"
      ]
     },
     "execution_count": 102,
     "metadata": {},
     "output_type": "execute_result"
    }
   ],
   "source": [
    "x2"
   ]
  },
  {
   "cell_type": "code",
   "execution_count": 105,
   "id": "e8eb6da4-d1e9-441e-8171-43916899e0d0",
   "metadata": {},
   "outputs": [
    {
     "data": {
      "text/plain": [
       "array([[9, 2],\n",
       "       [7, 8]])"
      ]
     },
     "execution_count": 105,
     "metadata": {},
     "output_type": "execute_result"
    }
   ],
   "source": [
    "x2_sub_copy = x2[:2, ::2].copy()\n",
    "x2_sub_copy"
   ]
  },
  {
   "cell_type": "code",
   "execution_count": 104,
   "id": "a83c51d7-0653-4073-8d6b-f97a698ba26c",
   "metadata": {},
   "outputs": [
    {
     "data": {
      "text/plain": [
       "array([[4, 2],\n",
       "       [7, 8]])"
      ]
     },
     "execution_count": 104,
     "metadata": {},
     "output_type": "execute_result"
    }
   ],
   "source": [
    "x2_sub_copy[0,0] = 4 # modification to subarray\n",
    "x2_sub_copy"
   ]
  },
  {
   "cell_type": "code",
   "execution_count": 106,
   "id": "0a6e387f-61e9-4181-af5b-0a655df72a17",
   "metadata": {},
   "outputs": [
    {
     "data": {
      "text/plain": [
       "array([[9, 5, 2, 4],\n",
       "       [7, 3, 8, 8],\n",
       "       [1, 6, 7, 7]])"
      ]
     },
     "execution_count": 106,
     "metadata": {},
     "output_type": "execute_result"
    }
   ],
   "source": [
    "x2 # Original array remains"
   ]
  },
  {
   "cell_type": "markdown",
   "id": "b024f1b8-67ad-4504-b496-4906d179b5a6",
   "metadata": {},
   "source": [
    "# Reshaping Array"
   ]
  },
  {
   "cell_type": "code",
   "execution_count": 110,
   "id": "720f92cb-b246-461f-b527-b986aaa9149d",
   "metadata": {},
   "outputs": [
    {
     "data": {
      "text/plain": [
       "array([1, 2, 3, 4, 5, 6, 7, 8, 9])"
      ]
     },
     "execution_count": 110,
     "metadata": {},
     "output_type": "execute_result"
    }
   ],
   "source": [
    "grid = np.arange(1, 10)\n",
    "grid"
   ]
  },
  {
   "cell_type": "code",
   "execution_count": 111,
   "id": "081f7c92-16b6-466a-a685-569e252860e9",
   "metadata": {},
   "outputs": [
    {
     "data": {
      "text/plain": [
       "array([[1, 2, 3],\n",
       "       [4, 5, 6],\n",
       "       [7, 8, 9]])"
      ]
     },
     "execution_count": 111,
     "metadata": {},
     "output_type": "execute_result"
    }
   ],
   "source": [
    "grid.reshape((3,3))"
   ]
  },
  {
   "cell_type": "code",
   "execution_count": 121,
   "id": "9ee4ee34-ae9b-43dc-9780-ed60c599b36b",
   "metadata": {},
   "outputs": [
    {
     "data": {
      "text/plain": [
       "array([1, 2, 3])"
      ]
     },
     "execution_count": 121,
     "metadata": {},
     "output_type": "execute_result"
    }
   ],
   "source": [
    "x = np.array([1, 2, 3])\n",
    "x"
   ]
  },
  {
   "cell_type": "code",
   "execution_count": 122,
   "id": "b0ba6ac3-758a-41d7-93f4-bc125f2be268",
   "metadata": {},
   "outputs": [
    {
     "data": {
      "text/plain": [
       "array([[1, 2, 3]])"
      ]
     },
     "execution_count": 122,
     "metadata": {},
     "output_type": "execute_result"
    }
   ],
   "source": [
    "x.reshape(1,3) # row vector via reshape"
   ]
  },
  {
   "cell_type": "code",
   "execution_count": 123,
   "id": "4f55b604-3b05-49b2-9b9c-a315f6ba2ef1",
   "metadata": {},
   "outputs": [
    {
     "data": {
      "text/plain": [
       "array([[1],\n",
       "       [2],\n",
       "       [3]])"
      ]
     },
     "execution_count": 123,
     "metadata": {},
     "output_type": "execute_result"
    }
   ],
   "source": [
    "x.reshape(3,1) # column vector via reshape"
   ]
  },
  {
   "cell_type": "code",
   "execution_count": 124,
   "id": "545ddd95-4d5f-43a4-8b2b-5b1ff9b3d22c",
   "metadata": {},
   "outputs": [
    {
     "data": {
      "text/plain": [
       "array([[1, 2, 3]])"
      ]
     },
     "execution_count": 124,
     "metadata": {},
     "output_type": "execute_result"
    }
   ],
   "source": [
    "x[np.newaxis, :] # row vector via newaxis"
   ]
  },
  {
   "cell_type": "code",
   "execution_count": 125,
   "id": "22158486-3991-4dba-b23e-bb66f1db9d8f",
   "metadata": {},
   "outputs": [
    {
     "data": {
      "text/plain": [
       "array([[1],\n",
       "       [2],\n",
       "       [3]])"
      ]
     },
     "execution_count": 125,
     "metadata": {},
     "output_type": "execute_result"
    }
   ],
   "source": [
    "x[:, np.newaxis] # column vector via newaxis"
   ]
  },
  {
   "cell_type": "markdown",
   "id": "fdf2202a-5f47-43c9-b37c-87b7f2980c87",
   "metadata": {},
   "source": [
    "# Array Concatenation & Splitting"
   ]
  },
  {
   "cell_type": "markdown",
   "id": "e818bcf8-4527-4c40-8b0a-fee7e2628f03",
   "metadata": {},
   "source": [
    "## Concatenation of arrays"
   ]
  },
  {
   "cell_type": "code",
   "execution_count": 134,
   "id": "6d811b15-e259-4369-877b-0cd9309631e8",
   "metadata": {},
   "outputs": [],
   "source": [
    "x = np.array([1, 2, 3, 4])\n",
    "y = np.array([4, 3, 2, 1])"
   ]
  },
  {
   "cell_type": "code",
   "execution_count": 135,
   "id": "d1f308fb-c3bc-4a24-ae17-4fb0e7b585b9",
   "metadata": {},
   "outputs": [
    {
     "data": {
      "text/plain": [
       "array([1, 2, 3, 4, 4, 3, 2, 1])"
      ]
     },
     "execution_count": 135,
     "metadata": {},
     "output_type": "execute_result"
    }
   ],
   "source": [
    "np.concatenate([x,y])"
   ]
  },
  {
   "cell_type": "code",
   "execution_count": 136,
   "id": "af9bc86a-67d4-484a-bced-ada7fb1083ad",
   "metadata": {},
   "outputs": [
    {
     "data": {
      "text/plain": [
       "array([[9, 5, 2, 4],\n",
       "       [7, 3, 8, 8],\n",
       "       [1, 6, 7, 7]])"
      ]
     },
     "execution_count": 136,
     "metadata": {},
     "output_type": "execute_result"
    }
   ],
   "source": [
    "x2"
   ]
  },
  {
   "cell_type": "code",
   "execution_count": 137,
   "id": "bea9753c-5cc2-4b54-81c0-8bbe99a72b4e",
   "metadata": {},
   "outputs": [
    {
     "data": {
      "text/plain": [
       "array([[9, 5, 2, 4],\n",
       "       [7, 3, 8, 8],\n",
       "       [1, 6, 7, 7],\n",
       "       [9, 5, 2, 4],\n",
       "       [7, 3, 8, 8],\n",
       "       [1, 6, 7, 7]])"
      ]
     },
     "execution_count": 137,
     "metadata": {},
     "output_type": "execute_result"
    }
   ],
   "source": [
    "np.concatenate([x2, x2]) # Concatenate along first axis"
   ]
  },
  {
   "cell_type": "code",
   "execution_count": 138,
   "id": "b2ead9f3-4647-4e39-92a5-0a61c39e7c0e",
   "metadata": {},
   "outputs": [
    {
     "data": {
      "text/plain": [
       "array([[9, 5, 2, 4, 9, 5, 2, 4],\n",
       "       [7, 3, 8, 8, 7, 3, 8, 8],\n",
       "       [1, 6, 7, 7, 1, 6, 7, 7]])"
      ]
     },
     "execution_count": 138,
     "metadata": {},
     "output_type": "execute_result"
    }
   ],
   "source": [
    "np.concatenate([x2, x2], axis = 1) # Comcatenate along second axis (0 indexed)"
   ]
  },
  {
   "cell_type": "markdown",
   "id": "f8f87f9d-979b-478f-bf18-9bfb02307235",
   "metadata": {},
   "source": [
    "### Vertical stack and Horizontal stack"
   ]
  },
  {
   "cell_type": "code",
   "execution_count": 143,
   "id": "81e1e578-85a8-4aeb-a1f2-1f1eec217adb",
   "metadata": {},
   "outputs": [
    {
     "data": {
      "text/plain": [
       "(array([1, 2, 3, 4]),\n",
       " array([[9, 5, 2, 4],\n",
       "        [7, 3, 8, 8],\n",
       "        [1, 6, 7, 7]]))"
      ]
     },
     "execution_count": 143,
     "metadata": {},
     "output_type": "execute_result"
    }
   ],
   "source": [
    "x, x2"
   ]
  },
  {
   "cell_type": "code",
   "execution_count": 145,
   "id": "461e9582-7280-4543-92dd-dd5b71c10dec",
   "metadata": {},
   "outputs": [
    {
     "data": {
      "text/plain": [
       "array([[1, 2, 3, 4],\n",
       "       [9, 5, 2, 4],\n",
       "       [7, 3, 8, 8],\n",
       "       [1, 6, 7, 7]])"
      ]
     },
     "execution_count": 145,
     "metadata": {},
     "output_type": "execute_result"
    }
   ],
   "source": [
    "np.vstack([x, x2]) # Vertical stack"
   ]
  },
  {
   "cell_type": "code",
   "execution_count": 149,
   "id": "6ac5ad0a-9456-4363-81af-d8100e557150",
   "metadata": {},
   "outputs": [
    {
     "data": {
      "text/plain": [
       "array([[1],\n",
       "       [2],\n",
       "       [3]])"
      ]
     },
     "execution_count": 149,
     "metadata": {},
     "output_type": "execute_result"
    }
   ],
   "source": [
    "y = np.array([[1],[2], [3]])\n",
    "y"
   ]
  },
  {
   "cell_type": "code",
   "execution_count": 150,
   "id": "34242baf-31a0-42bc-bdcb-1925f65bdc5c",
   "metadata": {},
   "outputs": [
    {
     "data": {
      "text/plain": [
       "array([[9, 5, 2, 4, 1],\n",
       "       [7, 3, 8, 8, 2],\n",
       "       [1, 6, 7, 7, 3]])"
      ]
     },
     "execution_count": 150,
     "metadata": {},
     "output_type": "execute_result"
    }
   ],
   "source": [
    "np.hstack([x2, y]) # horizontal stack"
   ]
  },
  {
   "cell_type": "markdown",
   "id": "9560c8f1-09ca-459c-a196-12be920a64e2",
   "metadata": {},
   "source": [
    "## Splitting of arrays"
   ]
  },
  {
   "cell_type": "code",
   "execution_count": null,
   "id": "8a681fa8-f924-4de6-9ba9-bfe77f975c31",
   "metadata": {},
   "outputs": [],
   "source": []
  }
 ],
 "metadata": {
  "kernelspec": {
   "display_name": "Python 3 (ipykernel)",
   "language": "python",
   "name": "python3"
  },
  "language_info": {
   "codemirror_mode": {
    "name": "ipython",
    "version": 3
   },
   "file_extension": ".py",
   "mimetype": "text/x-python",
   "name": "python",
   "nbconvert_exporter": "python",
   "pygments_lexer": "ipython3",
   "version": "3.11.4"
  }
 },
 "nbformat": 4,
 "nbformat_minor": 5
}
