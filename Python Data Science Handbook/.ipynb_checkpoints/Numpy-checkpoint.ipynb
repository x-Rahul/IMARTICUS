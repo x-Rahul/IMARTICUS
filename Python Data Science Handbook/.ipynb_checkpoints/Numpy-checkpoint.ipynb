{
 "cells": [
  {
   "cell_type": "code",
   "execution_count": 1,
   "id": "22bf3a98-f7a9-4952-bef9-9b1f259e91d2",
   "metadata": {},
   "outputs": [],
   "source": [
    "import numpy as np"
   ]
  },
  {
   "cell_type": "markdown",
   "id": "b4de04f2-1ad4-4190-b21a-a3f93885515b",
   "metadata": {
    "jp-MarkdownHeadingCollapsed": true
   },
   "source": [
    "# Craeting Array"
   ]
  },
  {
   "cell_type": "code",
   "execution_count": 2,
   "id": "c6b37a1f-6546-43d1-b6a2-a8525ccd5d7f",
   "metadata": {},
   "outputs": [
    {
     "data": {
      "text/plain": [
       "array('1, 4, 2, 5, 3', dtype='<U13')"
      ]
     },
     "execution_count": 2,
     "metadata": {},
     "output_type": "execute_result"
    }
   ],
   "source": [
    "# Integer Array\n",
    "np.array('1, 4, 2, 5, 3')"
   ]
  },
  {
   "cell_type": "code",
   "execution_count": 3,
   "id": "cdf2faea-c129-402b-9e55-8507020aa34f",
   "metadata": {},
   "outputs": [
    {
     "data": {
      "text/plain": [
       "array([1., 2., 3.])"
      ]
     },
     "execution_count": 3,
     "metadata": {},
     "output_type": "execute_result"
    }
   ],
   "source": [
    "np.array([1.0, 2, 3]) # upcast int to float"
   ]
  },
  {
   "cell_type": "code",
   "execution_count": 4,
   "id": "756de98b-b59d-4815-99e9-fb1f22b5ee0a",
   "metadata": {},
   "outputs": [
    {
     "data": {
      "text/plain": [
       "array([0, 0, 0, 0, 0, 0, 0, 0, 0, 0])"
      ]
     },
     "execution_count": 4,
     "metadata": {},
     "output_type": "execute_result"
    }
   ],
   "source": [
    "# Creating  a length-10 integer array filled with zeroes\n",
    "np.zeros(10, dtype = int) # default dtype float"
   ]
  },
  {
   "cell_type": "code",
   "execution_count": 5,
   "id": "c86f3063-3163-4285-a11d-fbfb53b64f11",
   "metadata": {},
   "outputs": [
    {
     "data": {
      "text/plain": [
       "array([[1., 1., 1., 1., 1.],\n",
       "       [1., 1., 1., 1., 1.],\n",
       "       [1., 1., 1., 1., 1.]])"
      ]
     },
     "execution_count": 5,
     "metadata": {},
     "output_type": "execute_result"
    }
   ],
   "source": [
    "# Create a 3x5 floating-point array filled with 1\n",
    "np.ones((3,5))"
   ]
  },
  {
   "cell_type": "code",
   "execution_count": 6,
   "id": "6216c278-afcf-49b9-b372-f9b19f4ae1fd",
   "metadata": {},
   "outputs": [
    {
     "data": {
      "text/plain": [
       "array([[3.14, 3.14, 3.14, 3.14, 3.14],\n",
       "       [3.14, 3.14, 3.14, 3.14, 3.14],\n",
       "       [3.14, 3.14, 3.14, 3.14, 3.14]])"
      ]
     },
     "execution_count": 6,
     "metadata": {},
     "output_type": "execute_result"
    }
   ],
   "source": [
    "# Create a 3x5 array filled with 3.14\n",
    "np.full((3,5),  3.14)"
   ]
  },
  {
   "cell_type": "code",
   "execution_count": 7,
   "id": "267ab50a-8faf-411d-ba24-c41dc13966be",
   "metadata": {},
   "outputs": [
    {
     "data": {
      "text/plain": [
       "array([ 0,  2,  4,  6,  8, 10, 12, 14, 16, 18])"
      ]
     },
     "execution_count": 7,
     "metadata": {},
     "output_type": "execute_result"
    }
   ],
   "source": [
    "# Crate an array filled with a linear sequence, step by 2\n",
    "np.arange(0, 20, 2)"
   ]
  },
  {
   "cell_type": "code",
   "execution_count": 8,
   "id": "4f468ca5-ca4b-4af5-84c0-6f66232f1775",
   "metadata": {},
   "outputs": [
    {
     "data": {
      "text/plain": [
       "array([0.  , 0.25, 0.5 , 0.75, 1.  ])"
      ]
     },
     "execution_count": 8,
     "metadata": {},
     "output_type": "execute_result"
    }
   ],
   "source": [
    "# Create an array of 5 values evenly spaced between 0 and 1\n",
    "np.linspace(0, 1, 5)"
   ]
  },
  {
   "cell_type": "code",
   "execution_count": 9,
   "id": "9a2c02e1-e197-4d89-97b7-26994440574c",
   "metadata": {},
   "outputs": [
    {
     "data": {
      "text/plain": [
       "array([0.79553256, 0.9483935 , 0.26016307, 0.62354875, 0.17770429])"
      ]
     },
     "execution_count": 9,
     "metadata": {},
     "output_type": "execute_result"
    }
   ],
   "source": [
    "# array of 5 values between 0 and 1\n",
    "np.random.random(5)"
   ]
  },
  {
   "cell_type": "code",
   "execution_count": 10,
   "id": "b59518a1-3447-41f9-b127-0defc3e532f2",
   "metadata": {},
   "outputs": [
    {
     "data": {
      "text/plain": [
       "array([[0.0207847 , 0.79187544, 0.86619556],\n",
       "       [0.9758944 , 0.81224378, 0.80125929],\n",
       "       [0.69777154, 0.16875949, 0.93721603]])"
      ]
     },
     "execution_count": 10,
     "metadata": {},
     "output_type": "execute_result"
    }
   ],
   "source": [
    "# 3x3 array of uniformly distributed, random values between 0 and 1\n",
    "np.random.random((3,3))"
   ]
  },
  {
   "cell_type": "code",
   "execution_count": 11,
   "id": "097331e7-e797-4b81-8351-b7b0e2a4cc87",
   "metadata": {},
   "outputs": [
    {
     "data": {
      "text/plain": [
       "array([[9, 2, 3],\n",
       "       [4, 5, 7],\n",
       "       [6, 2, 4]])"
      ]
     },
     "execution_count": 11,
     "metadata": {},
     "output_type": "execute_result"
    }
   ],
   "source": [
    "# Create a 3x3 array of random integers in the interval [0, 10)\n",
    "np.random.randint(0, 10, (3,3))"
   ]
  },
  {
   "cell_type": "code",
   "execution_count": 12,
   "id": "4401382d-eaf4-4fcc-8e63-94709c826325",
   "metadata": {},
   "outputs": [
    {
     "data": {
      "text/plain": [
       "array([[1., 0., 0.],\n",
       "       [0., 1., 0.],\n",
       "       [0., 0., 1.]])"
      ]
     },
     "execution_count": 12,
     "metadata": {},
     "output_type": "execute_result"
    }
   ],
   "source": [
    "# Identity Matrix\n",
    "np.eye(3)"
   ]
  },
  {
   "cell_type": "code",
   "execution_count": 13,
   "id": "e58f2be2-46c3-472a-a974-a8572a40d7be",
   "metadata": {},
   "outputs": [
    {
     "data": {
      "text/plain": [
       "array([1., 1., 1.])"
      ]
     },
     "execution_count": 13,
     "metadata": {},
     "output_type": "execute_result"
    }
   ],
   "source": [
    "# Uninitialized array\n",
    "np.empty(3)"
   ]
  },
  {
   "cell_type": "code",
   "execution_count": 14,
   "id": "203ac1a9-4870-4b02-baad-0d90262e38cf",
   "metadata": {},
   "outputs": [
    {
     "data": {
      "text/plain": [
       "array([[-1.55765053,  1.03208056,  0.13140451],\n",
       "       [ 3.1419432 , -1.75726723, -0.25888939],\n",
       "       [-0.4263613 ,  2.37781645, -0.49210255]])"
      ]
     },
     "execution_count": 14,
     "metadata": {},
     "output_type": "execute_result"
    }
   ],
   "source": [
    "# Create a 3x3 array of normaly distributed random values, with mean 0 and std. deviation 1\n",
    "np.random.normal(0, 1, (3,3))"
   ]
  },
  {
   "cell_type": "markdown",
   "id": "2d27a5e6-f619-46bd-a49d-45f82487a034",
   "metadata": {
    "jp-MarkdownHeadingCollapsed": true
   },
   "source": [
    "# Array Attributes"
   ]
  },
  {
   "cell_type": "code",
   "execution_count": 15,
   "id": "7f7887bc-ccb4-4a41-b1f5-7fe3ea3cf66f",
   "metadata": {},
   "outputs": [],
   "source": [
    "np.random.seed(0)\n",
    "x1 = np.random.randint(10, size=6)\n",
    "x2 = np.random.randint(10, size=(3,4))\n",
    "x3 = np.random.randint(10, size=(3,4,5))"
   ]
  },
  {
   "cell_type": "code",
   "execution_count": 16,
   "id": "f4135c7f-e998-410b-8aa3-c2fdc36968d7",
   "metadata": {},
   "outputs": [
    {
     "name": "stdout",
     "output_type": "stream",
     "text": [
      "x3 ndim: 3\n",
      "x3 shape: (3, 4, 5)\n",
      "x3 size: 60\n",
      "x3 dtype: int64\n"
     ]
    }
   ],
   "source": [
    "print(f\"x3 ndim: {x3.ndim}\")\n",
    "print(f\"x3 shape: {x3.shape}\")\n",
    "print(f\"x3 size: {x3.size}\")\n",
    "print(f\"x3 dtype: {x3.dtype}\")"
   ]
  },
  {
   "cell_type": "markdown",
   "id": "edd0bc4b-1da9-4118-a42f-36da26e98e8b",
   "metadata": {
    "jp-MarkdownHeadingCollapsed": true
   },
   "source": [
    "# Array Indexing"
   ]
  },
  {
   "cell_type": "code",
   "execution_count": 17,
   "id": "d4756da0-8053-4648-ab3d-5cfdc49a8afa",
   "metadata": {},
   "outputs": [
    {
     "data": {
      "text/plain": [
       "array([5, 0, 3, 3, 7, 9])"
      ]
     },
     "execution_count": 17,
     "metadata": {},
     "output_type": "execute_result"
    }
   ],
   "source": [
    "x1"
   ]
  },
  {
   "cell_type": "code",
   "execution_count": 18,
   "id": "9e751c54-3099-4bac-9638-de99318c34b9",
   "metadata": {},
   "outputs": [
    {
     "name": "stdout",
     "output_type": "stream",
     "text": [
      "3 9\n"
     ]
    }
   ],
   "source": [
    "print(x1[2], x1[-1])"
   ]
  },
  {
   "cell_type": "code",
   "execution_count": 19,
   "id": "75fdaa2b-324b-4ae1-8ef4-fb0cc6eff96b",
   "metadata": {},
   "outputs": [
    {
     "data": {
      "text/plain": [
       "array([[3, 5, 2, 4],\n",
       "       [7, 6, 8, 8],\n",
       "       [1, 6, 7, 7]])"
      ]
     },
     "execution_count": 19,
     "metadata": {},
     "output_type": "execute_result"
    }
   ],
   "source": [
    "x2"
   ]
  },
  {
   "cell_type": "code",
   "execution_count": 20,
   "id": "95544fcc-5d1d-429a-a0ad-3fb3567202d5",
   "metadata": {},
   "outputs": [
    {
     "data": {
      "text/plain": [
       "(4, 8)"
      ]
     },
     "execution_count": 20,
     "metadata": {},
     "output_type": "execute_result"
    }
   ],
   "source": [
    "x2[0,-1], x2[1,3]"
   ]
  },
  {
   "cell_type": "code",
   "execution_count": 21,
   "id": "72d275da-bb9d-40cb-bbd6-61ca523c97da",
   "metadata": {},
   "outputs": [
    {
     "data": {
      "text/plain": [
       "array([[3, 5, 2, 4],\n",
       "       [7, 3, 8, 8],\n",
       "       [1, 6, 7, 7]])"
      ]
     },
     "execution_count": 21,
     "metadata": {},
     "output_type": "execute_result"
    }
   ],
   "source": [
    "x2[1,1] = 3.13 # this will be trucated\n",
    "x2"
   ]
  },
  {
   "cell_type": "markdown",
   "id": "3b4f592d-03be-4721-be34-d467d2e2bf25",
   "metadata": {
    "jp-MarkdownHeadingCollapsed": true
   },
   "source": [
    "# Array Slicing"
   ]
  },
  {
   "cell_type": "markdown",
   "id": "68d429c2-fd52-4b00-a325-145a5f749d12",
   "metadata": {},
   "source": [
    "## 1D Array"
   ]
  },
  {
   "cell_type": "code",
   "execution_count": 22,
   "id": "6914c639-fc9b-4095-8488-001159d3042b",
   "metadata": {},
   "outputs": [
    {
     "data": {
      "text/plain": [
       "array([5, 0, 3, 3, 7, 9])"
      ]
     },
     "execution_count": 22,
     "metadata": {},
     "output_type": "execute_result"
    }
   ],
   "source": [
    "x1"
   ]
  },
  {
   "cell_type": "code",
   "execution_count": 23,
   "id": "c4973ef7-1e32-465e-93c3-efe2ff68186f",
   "metadata": {},
   "outputs": [
    {
     "data": {
      "text/plain": [
       "array([5, 0, 3, 3])"
      ]
     },
     "execution_count": 23,
     "metadata": {},
     "output_type": "execute_result"
    }
   ],
   "source": [
    "x1[:4] # first four elements"
   ]
  },
  {
   "cell_type": "code",
   "execution_count": 24,
   "id": "542b8e16-9db5-4cfb-8f6d-140dc88461e2",
   "metadata": {},
   "outputs": [
    {
     "data": {
      "text/plain": [
       "array([7, 9])"
      ]
     },
     "execution_count": 24,
     "metadata": {},
     "output_type": "execute_result"
    }
   ],
   "source": [
    "x1[4:] # elements afer index 4"
   ]
  },
  {
   "cell_type": "code",
   "execution_count": 25,
   "id": "8e3d4e00-b5f8-4b49-aa84-2728936af284",
   "metadata": {},
   "outputs": [
    {
     "data": {
      "text/plain": [
       "array([0, 3, 3])"
      ]
     },
     "execution_count": 25,
     "metadata": {},
     "output_type": "execute_result"
    }
   ],
   "source": [
    "x1[1:4] # middle subarray "
   ]
  },
  {
   "cell_type": "code",
   "execution_count": 26,
   "id": "5f3308c6-239e-46f1-b620-5297fe6da550",
   "metadata": {},
   "outputs": [
    {
     "data": {
      "text/plain": [
       "array([5, 3, 7])"
      ]
     },
     "execution_count": 26,
     "metadata": {},
     "output_type": "execute_result"
    }
   ],
   "source": [
    "x1[::2] # every other element"
   ]
  },
  {
   "cell_type": "code",
   "execution_count": 27,
   "id": "69cbd91a-e8fc-461f-b528-bdb6e13ea6cc",
   "metadata": {},
   "outputs": [
    {
     "data": {
      "text/plain": [
       "array([0, 3, 9])"
      ]
     },
     "execution_count": 27,
     "metadata": {},
     "output_type": "execute_result"
    }
   ],
   "source": [
    "x1[1::2] # every other element starting at index 1"
   ]
  },
  {
   "cell_type": "code",
   "execution_count": 28,
   "id": "bd87d81b-d6fa-4107-a8b4-3bb4bcd71168",
   "metadata": {},
   "outputs": [
    {
     "data": {
      "text/plain": [
       "array([9, 7, 3, 3, 0, 5])"
      ]
     },
     "execution_count": 28,
     "metadata": {},
     "output_type": "execute_result"
    }
   ],
   "source": [
    "x1[::-1] # reversed"
   ]
  },
  {
   "cell_type": "code",
   "execution_count": 29,
   "id": "f0b65790-d9e5-489a-b670-01dc9f61ba9d",
   "metadata": {},
   "outputs": [
    {
     "data": {
      "text/plain": [
       "array([3, 5])"
      ]
     },
     "execution_count": 29,
     "metadata": {},
     "output_type": "execute_result"
    }
   ],
   "source": [
    "x1[2::-2]"
   ]
  },
  {
   "cell_type": "markdown",
   "id": "a7b5c4d0-d7b0-4bd0-94bc-841230d6228e",
   "metadata": {},
   "source": [
    "## Multidimentional Arrya"
   ]
  },
  {
   "cell_type": "code",
   "execution_count": 30,
   "id": "c65fcee8-72ca-48d8-8a56-109ba5f93342",
   "metadata": {},
   "outputs": [
    {
     "data": {
      "text/plain": [
       "array([[3, 5, 2, 4],\n",
       "       [7, 3, 8, 8],\n",
       "       [1, 6, 7, 7]])"
      ]
     },
     "execution_count": 30,
     "metadata": {},
     "output_type": "execute_result"
    }
   ],
   "source": [
    "x2"
   ]
  },
  {
   "cell_type": "code",
   "execution_count": 31,
   "id": "0881f8ea-5c4a-49ca-9616-09dd6eaaf13e",
   "metadata": {},
   "outputs": [
    {
     "data": {
      "text/plain": [
       "array([[3, 5, 2],\n",
       "       [7, 3, 8]])"
      ]
     },
     "execution_count": 31,
     "metadata": {},
     "output_type": "execute_result"
    }
   ],
   "source": [
    "x2[:2, :3] # x2[row, column]"
   ]
  },
  {
   "cell_type": "code",
   "execution_count": 32,
   "id": "79eebe24-20fe-492d-9e26-042f5f9629a1",
   "metadata": {},
   "outputs": [
    {
     "data": {
      "text/plain": [
       "array([[3, 2],\n",
       "       [7, 8],\n",
       "       [1, 7]])"
      ]
     },
     "execution_count": 32,
     "metadata": {},
     "output_type": "execute_result"
    }
   ],
   "source": [
    "x2[:3, ::2] # row = 0,1,2 & column = 0,2"
   ]
  },
  {
   "cell_type": "code",
   "execution_count": 33,
   "id": "2b2190ab-0a43-4f9a-ae53-8647745d758d",
   "metadata": {},
   "outputs": [
    {
     "data": {
      "text/plain": [
       "array([[7, 7, 6, 1],\n",
       "       [8, 8, 3, 7],\n",
       "       [4, 2, 5, 3]])"
      ]
     },
     "execution_count": 33,
     "metadata": {},
     "output_type": "execute_result"
    }
   ],
   "source": [
    "x2[::-1, ::-1]"
   ]
  },
  {
   "cell_type": "markdown",
   "id": "4d2bb16c-2739-4028-9f93-9978974477e5",
   "metadata": {
    "jp-MarkdownHeadingCollapsed": true
   },
   "source": [
    "# Subarrays sd no-copy views\n",
    "Array slices return `views` rather than `copies` of the array data. In *Lists*, slices will be `copies`. "
   ]
  },
  {
   "cell_type": "code",
   "execution_count": 34,
   "id": "a5e75177-8043-4fb1-b5e9-85181887bf9d",
   "metadata": {},
   "outputs": [
    {
     "data": {
      "text/plain": [
       "array([[3, 5, 2, 4],\n",
       "       [7, 3, 8, 8],\n",
       "       [1, 6, 7, 7]])"
      ]
     },
     "execution_count": 34,
     "metadata": {},
     "output_type": "execute_result"
    }
   ],
   "source": [
    "x2"
   ]
  },
  {
   "cell_type": "code",
   "execution_count": 35,
   "id": "a4496025-c709-4341-9f22-ff9c4bd8dd66",
   "metadata": {},
   "outputs": [
    {
     "data": {
      "text/plain": [
       "array([[3, 2],\n",
       "       [7, 8]])"
      ]
     },
     "execution_count": 35,
     "metadata": {},
     "output_type": "execute_result"
    }
   ],
   "source": [
    "x2_sub = x2[:2, ::2]\n",
    "x2_sub"
   ]
  },
  {
   "cell_type": "code",
   "execution_count": 36,
   "id": "eed96b9e-6f4d-435a-ab0e-4aaf202c22c4",
   "metadata": {},
   "outputs": [
    {
     "data": {
      "text/plain": [
       "array([[9, 2],\n",
       "       [7, 8]])"
      ]
     },
     "execution_count": 36,
     "metadata": {},
     "output_type": "execute_result"
    }
   ],
   "source": [
    "x2_sub[0,0] = 9 # Modification to s2_sub array\n",
    "x2_sub"
   ]
  },
  {
   "cell_type": "code",
   "execution_count": 37,
   "id": "9996c69d-7192-4f63-abb2-f9e083f89874",
   "metadata": {},
   "outputs": [
    {
     "data": {
      "text/plain": [
       "array([[9, 5, 2, 4],\n",
       "       [7, 3, 8, 8],\n",
       "       [1, 6, 7, 7]])"
      ]
     },
     "execution_count": 37,
     "metadata": {},
     "output_type": "execute_result"
    }
   ],
   "source": [
    "x2 # original array also modified"
   ]
  },
  {
   "cell_type": "markdown",
   "id": "7a7e4473-e890-45a8-a95e-1dd41cdca81a",
   "metadata": {},
   "source": [
    "## Creating copies of arrays"
   ]
  },
  {
   "cell_type": "code",
   "execution_count": 38,
   "id": "b6413316-c452-4cfb-9f9a-0eaee757a47b",
   "metadata": {},
   "outputs": [
    {
     "data": {
      "text/plain": [
       "array([[9, 5, 2, 4],\n",
       "       [7, 3, 8, 8],\n",
       "       [1, 6, 7, 7]])"
      ]
     },
     "execution_count": 38,
     "metadata": {},
     "output_type": "execute_result"
    }
   ],
   "source": [
    "x2"
   ]
  },
  {
   "cell_type": "code",
   "execution_count": 39,
   "id": "e8eb6da4-d1e9-441e-8171-43916899e0d0",
   "metadata": {},
   "outputs": [
    {
     "data": {
      "text/plain": [
       "array([[9, 2],\n",
       "       [7, 8]])"
      ]
     },
     "execution_count": 39,
     "metadata": {},
     "output_type": "execute_result"
    }
   ],
   "source": [
    "x2_sub_copy = x2[:2, ::2].copy()\n",
    "x2_sub_copy"
   ]
  },
  {
   "cell_type": "code",
   "execution_count": 40,
   "id": "a83c51d7-0653-4073-8d6b-f97a698ba26c",
   "metadata": {},
   "outputs": [
    {
     "data": {
      "text/plain": [
       "array([[4, 2],\n",
       "       [7, 8]])"
      ]
     },
     "execution_count": 40,
     "metadata": {},
     "output_type": "execute_result"
    }
   ],
   "source": [
    "x2_sub_copy[0,0] = 4 # modification to subarray\n",
    "x2_sub_copy"
   ]
  },
  {
   "cell_type": "code",
   "execution_count": 41,
   "id": "0a6e387f-61e9-4181-af5b-0a655df72a17",
   "metadata": {},
   "outputs": [
    {
     "data": {
      "text/plain": [
       "array([[9, 5, 2, 4],\n",
       "       [7, 3, 8, 8],\n",
       "       [1, 6, 7, 7]])"
      ]
     },
     "execution_count": 41,
     "metadata": {},
     "output_type": "execute_result"
    }
   ],
   "source": [
    "x2 # Original array remains"
   ]
  },
  {
   "cell_type": "markdown",
   "id": "b024f1b8-67ad-4504-b496-4906d179b5a6",
   "metadata": {
    "jp-MarkdownHeadingCollapsed": true
   },
   "source": [
    "# Reshaping Array"
   ]
  },
  {
   "cell_type": "code",
   "execution_count": 42,
   "id": "720f92cb-b246-461f-b527-b986aaa9149d",
   "metadata": {},
   "outputs": [
    {
     "data": {
      "text/plain": [
       "array([1, 2, 3, 4, 5, 6, 7, 8, 9])"
      ]
     },
     "execution_count": 42,
     "metadata": {},
     "output_type": "execute_result"
    }
   ],
   "source": [
    "grid = np.arange(1, 10)\n",
    "grid"
   ]
  },
  {
   "cell_type": "code",
   "execution_count": 43,
   "id": "081f7c92-16b6-466a-a685-569e252860e9",
   "metadata": {},
   "outputs": [
    {
     "data": {
      "text/plain": [
       "array([[1, 2, 3],\n",
       "       [4, 5, 6],\n",
       "       [7, 8, 9]])"
      ]
     },
     "execution_count": 43,
     "metadata": {},
     "output_type": "execute_result"
    }
   ],
   "source": [
    "grid.reshape((3,3))"
   ]
  },
  {
   "cell_type": "code",
   "execution_count": 44,
   "id": "9ee4ee34-ae9b-43dc-9780-ed60c599b36b",
   "metadata": {},
   "outputs": [
    {
     "data": {
      "text/plain": [
       "array([1, 2, 3])"
      ]
     },
     "execution_count": 44,
     "metadata": {},
     "output_type": "execute_result"
    }
   ],
   "source": [
    "x = np.array([1, 2, 3])\n",
    "x"
   ]
  },
  {
   "cell_type": "code",
   "execution_count": 45,
   "id": "b0ba6ac3-758a-41d7-93f4-bc125f2be268",
   "metadata": {},
   "outputs": [
    {
     "data": {
      "text/plain": [
       "array([[1, 2, 3]])"
      ]
     },
     "execution_count": 45,
     "metadata": {},
     "output_type": "execute_result"
    }
   ],
   "source": [
    "x.reshape(1,3) # row vector via reshape"
   ]
  },
  {
   "cell_type": "code",
   "execution_count": 46,
   "id": "4f55b604-3b05-49b2-9b9c-a315f6ba2ef1",
   "metadata": {},
   "outputs": [
    {
     "data": {
      "text/plain": [
       "array([[1],\n",
       "       [2],\n",
       "       [3]])"
      ]
     },
     "execution_count": 46,
     "metadata": {},
     "output_type": "execute_result"
    }
   ],
   "source": [
    "x.reshape(3,1) # column vector via reshape"
   ]
  },
  {
   "cell_type": "code",
   "execution_count": 47,
   "id": "545ddd95-4d5f-43a4-8b2b-5b1ff9b3d22c",
   "metadata": {},
   "outputs": [
    {
     "data": {
      "text/plain": [
       "array([[1, 2, 3]])"
      ]
     },
     "execution_count": 47,
     "metadata": {},
     "output_type": "execute_result"
    }
   ],
   "source": [
    "x[np.newaxis, :] # row vector via newaxis"
   ]
  },
  {
   "cell_type": "code",
   "execution_count": 48,
   "id": "22158486-3991-4dba-b23e-bb66f1db9d8f",
   "metadata": {},
   "outputs": [
    {
     "data": {
      "text/plain": [
       "array([[1],\n",
       "       [2],\n",
       "       [3]])"
      ]
     },
     "execution_count": 48,
     "metadata": {},
     "output_type": "execute_result"
    }
   ],
   "source": [
    "x[:, np.newaxis] # column vector via newaxis"
   ]
  },
  {
   "cell_type": "markdown",
   "id": "fdf2202a-5f47-43c9-b37c-87b7f2980c87",
   "metadata": {
    "jp-MarkdownHeadingCollapsed": true
   },
   "source": [
    "# Array Concatenation & Splitting"
   ]
  },
  {
   "cell_type": "markdown",
   "id": "e818bcf8-4527-4c40-8b0a-fee7e2628f03",
   "metadata": {
    "jp-MarkdownHeadingCollapsed": true
   },
   "source": [
    "## Concatenation of arrays"
   ]
  },
  {
   "cell_type": "code",
   "execution_count": 49,
   "id": "6d811b15-e259-4369-877b-0cd9309631e8",
   "metadata": {},
   "outputs": [],
   "source": [
    "x = np.array([1, 2, 3, 4])\n",
    "y = np.array([4, 3, 2, 1])"
   ]
  },
  {
   "cell_type": "code",
   "execution_count": 50,
   "id": "d1f308fb-c3bc-4a24-ae17-4fb0e7b585b9",
   "metadata": {},
   "outputs": [
    {
     "data": {
      "text/plain": [
       "array([1, 2, 3, 4, 4, 3, 2, 1])"
      ]
     },
     "execution_count": 50,
     "metadata": {},
     "output_type": "execute_result"
    }
   ],
   "source": [
    "np.concatenate([x,y])"
   ]
  },
  {
   "cell_type": "code",
   "execution_count": 51,
   "id": "af9bc86a-67d4-484a-bced-ada7fb1083ad",
   "metadata": {},
   "outputs": [
    {
     "data": {
      "text/plain": [
       "array([[9, 5, 2, 4],\n",
       "       [7, 3, 8, 8],\n",
       "       [1, 6, 7, 7]])"
      ]
     },
     "execution_count": 51,
     "metadata": {},
     "output_type": "execute_result"
    }
   ],
   "source": [
    "x2"
   ]
  },
  {
   "cell_type": "code",
   "execution_count": 52,
   "id": "bea9753c-5cc2-4b54-81c0-8bbe99a72b4e",
   "metadata": {},
   "outputs": [
    {
     "data": {
      "text/plain": [
       "array([[9, 5, 2, 4],\n",
       "       [7, 3, 8, 8],\n",
       "       [1, 6, 7, 7],\n",
       "       [9, 5, 2, 4],\n",
       "       [7, 3, 8, 8],\n",
       "       [1, 6, 7, 7]])"
      ]
     },
     "execution_count": 52,
     "metadata": {},
     "output_type": "execute_result"
    }
   ],
   "source": [
    "np.concatenate([x2, x2]) # Concatenate along first axis"
   ]
  },
  {
   "cell_type": "code",
   "execution_count": 53,
   "id": "b2ead9f3-4647-4e39-92a5-0a61c39e7c0e",
   "metadata": {},
   "outputs": [
    {
     "data": {
      "text/plain": [
       "array([[9, 5, 2, 4, 9, 5, 2, 4],\n",
       "       [7, 3, 8, 8, 7, 3, 8, 8],\n",
       "       [1, 6, 7, 7, 1, 6, 7, 7]])"
      ]
     },
     "execution_count": 53,
     "metadata": {},
     "output_type": "execute_result"
    }
   ],
   "source": [
    "np.concatenate([x2, x2], axis = 1) # Comcatenate along second axis (0 indexed)"
   ]
  },
  {
   "cell_type": "markdown",
   "id": "f8f87f9d-979b-478f-bf18-9bfb02307235",
   "metadata": {},
   "source": [
    "### Vertical stack and Horizontal stack"
   ]
  },
  {
   "cell_type": "code",
   "execution_count": 54,
   "id": "81e1e578-85a8-4aeb-a1f2-1f1eec217adb",
   "metadata": {},
   "outputs": [
    {
     "data": {
      "text/plain": [
       "(array([1, 2, 3, 4]),\n",
       " array([[9, 5, 2, 4],\n",
       "        [7, 3, 8, 8],\n",
       "        [1, 6, 7, 7]]))"
      ]
     },
     "execution_count": 54,
     "metadata": {},
     "output_type": "execute_result"
    }
   ],
   "source": [
    "x, x2"
   ]
  },
  {
   "cell_type": "code",
   "execution_count": 55,
   "id": "461e9582-7280-4543-92dd-dd5b71c10dec",
   "metadata": {},
   "outputs": [
    {
     "data": {
      "text/plain": [
       "array([[1, 2, 3, 4],\n",
       "       [9, 5, 2, 4],\n",
       "       [7, 3, 8, 8],\n",
       "       [1, 6, 7, 7]])"
      ]
     },
     "execution_count": 55,
     "metadata": {},
     "output_type": "execute_result"
    }
   ],
   "source": [
    "np.vstack([x, x2]) # Vertical stack"
   ]
  },
  {
   "cell_type": "code",
   "execution_count": 56,
   "id": "6ac5ad0a-9456-4363-81af-d8100e557150",
   "metadata": {},
   "outputs": [
    {
     "data": {
      "text/plain": [
       "array([[1],\n",
       "       [2],\n",
       "       [3]])"
      ]
     },
     "execution_count": 56,
     "metadata": {},
     "output_type": "execute_result"
    }
   ],
   "source": [
    "y = np.array([[1],[2], [3]])\n",
    "y"
   ]
  },
  {
   "cell_type": "code",
   "execution_count": 57,
   "id": "34242baf-31a0-42bc-bdcb-1925f65bdc5c",
   "metadata": {},
   "outputs": [
    {
     "data": {
      "text/plain": [
       "array([[9, 5, 2, 4, 1],\n",
       "       [7, 3, 8, 8, 2],\n",
       "       [1, 6, 7, 7, 3]])"
      ]
     },
     "execution_count": 57,
     "metadata": {},
     "output_type": "execute_result"
    }
   ],
   "source": [
    "np.hstack([x2, y]) # horizontal stack"
   ]
  },
  {
   "cell_type": "markdown",
   "id": "9560c8f1-09ca-459c-a196-12be920a64e2",
   "metadata": {
    "jp-MarkdownHeadingCollapsed": true
   },
   "source": [
    "## Splitting of arrays"
   ]
  },
  {
   "cell_type": "code",
   "execution_count": 58,
   "id": "567640a3-bfaa-435d-bc42-948e73cbdc6e",
   "metadata": {},
   "outputs": [],
   "source": [
    "x = [1,2,3,99,99,3,2,1]"
   ]
  },
  {
   "cell_type": "code",
   "execution_count": 59,
   "id": "ca826a26-4828-4ce0-9c50-54ea812d8b9c",
   "metadata": {},
   "outputs": [],
   "source": [
    "x1, x2, x3 = np.split(x, [3, 5])"
   ]
  },
  {
   "cell_type": "code",
   "execution_count": 60,
   "id": "6bdd4f5d-581c-40f7-92b8-cbc574d936d2",
   "metadata": {},
   "outputs": [
    {
     "name": "stdout",
     "output_type": "stream",
     "text": [
      "[1 2 3] [99 99] [3 2 1]\n"
     ]
    }
   ],
   "source": [
    "print(x1,x2,x3)"
   ]
  },
  {
   "cell_type": "code",
   "execution_count": 61,
   "id": "dc79fdbc-2cce-427d-b52e-22531d950618",
   "metadata": {},
   "outputs": [
    {
     "data": {
      "text/plain": [
       "array([[ 0,  1,  2,  3],\n",
       "       [ 4,  5,  6,  7],\n",
       "       [ 8,  9, 10, 11],\n",
       "       [12, 13, 14, 15]])"
      ]
     },
     "execution_count": 61,
     "metadata": {},
     "output_type": "execute_result"
    }
   ],
   "source": [
    "grid = np.arange(16).reshape((4,4))\n",
    "grid"
   ]
  },
  {
   "cell_type": "code",
   "execution_count": 62,
   "id": "8716718e-419b-4847-8716-a7f346997f86",
   "metadata": {},
   "outputs": [],
   "source": [
    "upper, lower = np.vsplit(grid, [2])"
   ]
  },
  {
   "cell_type": "code",
   "execution_count": 63,
   "id": "8e75b712-09a1-4239-bcea-74187f7352f6",
   "metadata": {},
   "outputs": [
    {
     "name": "stdout",
     "output_type": "stream",
     "text": [
      "[[0 1 2 3]\n",
      " [4 5 6 7]]\n"
     ]
    }
   ],
   "source": [
    "print(upper)"
   ]
  },
  {
   "cell_type": "code",
   "execution_count": 64,
   "id": "5c3b732b-a88a-469d-863c-b2dd6462723c",
   "metadata": {},
   "outputs": [
    {
     "name": "stdout",
     "output_type": "stream",
     "text": [
      "[[ 8  9 10 11]\n",
      " [12 13 14 15]]\n"
     ]
    }
   ],
   "source": [
    "print(lower)"
   ]
  },
  {
   "cell_type": "code",
   "execution_count": 65,
   "id": "727b8644-712a-42a9-bd69-0ba230fb8dc3",
   "metadata": {},
   "outputs": [],
   "source": [
    "left, right = np.hsplit(grid, [2])"
   ]
  },
  {
   "cell_type": "code",
   "execution_count": 66,
   "id": "fa3f7650-8121-4576-8ace-936c9a2bcbbc",
   "metadata": {},
   "outputs": [
    {
     "name": "stdout",
     "output_type": "stream",
     "text": [
      "[[ 0  1]\n",
      " [ 4  5]\n",
      " [ 8  9]\n",
      " [12 13]]\n"
     ]
    }
   ],
   "source": [
    "print(left)"
   ]
  },
  {
   "cell_type": "code",
   "execution_count": 67,
   "id": "798f994a-26d1-49b0-b98a-858a709055ba",
   "metadata": {},
   "outputs": [
    {
     "name": "stdout",
     "output_type": "stream",
     "text": [
      "[[ 2  3]\n",
      " [ 6  7]\n",
      " [10 11]\n",
      " [14 15]]\n"
     ]
    }
   ],
   "source": [
    "print(right)"
   ]
  },
  {
   "cell_type": "markdown",
   "id": "f0b4c7c0-e153-449a-9fa3-587e2d747da7",
   "metadata": {},
   "source": [
    "# Numpy's UFuncs"
   ]
  },
  {
   "cell_type": "markdown",
   "id": "4027a610-6787-48ed-9b7b-38414b2c90ca",
   "metadata": {
    "jp-MarkdownHeadingCollapsed": true
   },
   "source": [
    "## Arithmatic Operation"
   ]
  },
  {
   "cell_type": "code",
   "execution_count": 88,
   "id": "1b799b3f-b709-4a39-abcf-0d59a5c6768e",
   "metadata": {},
   "outputs": [
    {
     "data": {
      "text/plain": [
       "array([0, 1, 2, 3, 4])"
      ]
     },
     "execution_count": 88,
     "metadata": {},
     "output_type": "execute_result"
    }
   ],
   "source": [
    "x = np.arange(5)\n",
    "x"
   ]
  },
  {
   "cell_type": "code",
   "execution_count": 89,
   "id": "4a9b565a-aab7-4d98-b967-86709edb8f35",
   "metadata": {},
   "outputs": [
    {
     "data": {
      "text/plain": [
       "array([-3.        , -0.33333333, -0.33333333, -3.        , -8.33333333])"
      ]
     },
     "execution_count": 89,
     "metadata": {},
     "output_type": "execute_result"
    }
   ],
   "source": [
    "-((x*2 + 1 -4)**2)/3"
   ]
  },
  {
   "cell_type": "code",
   "execution_count": 90,
   "id": "96b681fe-1aee-46d7-800f-ebe692c7e37c",
   "metadata": {},
   "outputs": [
    {
     "name": "stdout",
     "output_type": "stream",
     "text": [
      "[2 3 4 5 6] [-1  0  1  2  3] [0 2 4 6 8] [0.  0.5 1.  1.5 2. ] [0 0 1 1 2] [ 0  1  4  9 16] [0 1 0 1 0]\n"
     ]
    }
   ],
   "source": [
    "print(\n",
    "    np.add(x, 2),\n",
    "    np.subtract(x, 1),\n",
    "    np.multiply(x, 2),\n",
    "    np.divide(x, 2),\n",
    "    np.floor_divide(x, 2),\n",
    "    np.power(x, 2),\n",
    "    np.mod(x, 2)\n",
    ")"
   ]
  },
  {
   "cell_type": "markdown",
   "id": "119a2d30-01f0-485a-bcaa-40d06040ee38",
   "metadata": {
    "jp-MarkdownHeadingCollapsed": true
   },
   "source": [
    "## Absolute Value"
   ]
  },
  {
   "cell_type": "code",
   "execution_count": 92,
   "id": "ed193fb3-179f-4f62-8ff8-908ec07e317a",
   "metadata": {},
   "outputs": [
    {
     "data": {
      "text/plain": [
       "array([ 1, -1,  2, -5])"
      ]
     },
     "execution_count": 92,
     "metadata": {},
     "output_type": "execute_result"
    }
   ],
   "source": [
    "x = np.array([1,-1,2,-5])\n",
    "x"
   ]
  },
  {
   "cell_type": "code",
   "execution_count": 93,
   "id": "05d37cdf-e0a5-43c4-bf7b-ea8e2e848ab9",
   "metadata": {},
   "outputs": [
    {
     "data": {
      "text/plain": [
       "array([1, 1, 2, 5])"
      ]
     },
     "execution_count": 93,
     "metadata": {},
     "output_type": "execute_result"
    }
   ],
   "source": [
    "abs(x)"
   ]
  },
  {
   "cell_type": "code",
   "execution_count": 94,
   "id": "bd5b973f-058d-401c-9adf-7bcf26274f8b",
   "metadata": {},
   "outputs": [
    {
     "data": {
      "text/plain": [
       "array([1, 1, 2, 5])"
      ]
     },
     "execution_count": 94,
     "metadata": {},
     "output_type": "execute_result"
    }
   ],
   "source": [
    "np.absolute(x)"
   ]
  },
  {
   "cell_type": "code",
   "execution_count": 95,
   "id": "33f3a304-364f-482d-8465-141565bc9981",
   "metadata": {},
   "outputs": [
    {
     "data": {
      "text/plain": [
       "array([1, 1, 2, 5])"
      ]
     },
     "execution_count": 95,
     "metadata": {},
     "output_type": "execute_result"
    }
   ],
   "source": [
    "np.abs(x) # abs is alias for absolute"
   ]
  },
  {
   "cell_type": "code",
   "execution_count": 96,
   "id": "43561a57-48f3-42e9-ba7a-88c455801cde",
   "metadata": {},
   "outputs": [
    {
     "data": {
      "text/plain": [
       "array([5., 5., 2., 1.])"
      ]
     },
     "execution_count": 96,
     "metadata": {},
     "output_type": "execute_result"
    }
   ],
   "source": [
    "# It can also handle complex data\n",
    "x = np.array([3-4j, 4-3j, 2+0j, 0+1j])\n",
    "np.abs(x)"
   ]
  },
  {
   "cell_type": "markdown",
   "id": "f1ea9709-9f92-464b-97fa-b8bdedd28de7",
   "metadata": {
    "jp-MarkdownHeadingCollapsed": true
   },
   "source": [
    "## Trignometric Function"
   ]
  },
  {
   "cell_type": "code",
   "execution_count": 97,
   "id": "5a5cf450-a402-4612-8715-ab4cf242e71c",
   "metadata": {},
   "outputs": [
    {
     "data": {
      "text/plain": [
       "array([0.        , 1.57079633, 3.14159265])"
      ]
     },
     "execution_count": 97,
     "metadata": {},
     "output_type": "execute_result"
    }
   ],
   "source": [
    "theta = np.linspace(0, np.pi, 3)\n",
    "theta"
   ]
  },
  {
   "cell_type": "code",
   "execution_count": 100,
   "id": "1156d3d4-715b-48ec-b5b0-a662bf2cdb00",
   "metadata": {},
   "outputs": [
    {
     "name": "stdout",
     "output_type": "stream",
     "text": [
      "sin(theta): [0.0000000e+00 1.0000000e+00 1.2246468e-16]\n",
      "cos(theta): [ 1.000000e+00  6.123234e-17 -1.000000e+00]\n",
      "tan(theta): [ 0.00000000e+00  1.63312394e+16 -1.22464680e-16]\n"
     ]
    }
   ],
   "source": [
    "# input: radians\n",
    "print(f\"sin(theta): {np.sin(theta)}\")\n",
    "print(f\"cos(theta): {np.cos(theta)}\")\n",
    "print(f\"tan(theta): {np.tan(theta)}\")"
   ]
  },
  {
   "cell_type": "markdown",
   "id": "14979049-4961-493d-9031-0f9e35528c44",
   "metadata": {},
   "source": [
    "### Inverse Trignometric functions"
   ]
  },
  {
   "cell_type": "code",
   "execution_count": 105,
   "id": "1aac6433-022d-4ee4-902e-b0415bc049e7",
   "metadata": {},
   "outputs": [
    {
     "data": {
      "text/plain": [
       "[-1, 0, 1]"
      ]
     },
     "execution_count": 105,
     "metadata": {},
     "output_type": "execute_result"
    }
   ],
   "source": [
    "x = [-1, 0, 1]\n",
    "x"
   ]
  },
  {
   "cell_type": "code",
   "execution_count": 111,
   "id": "28e6543e-3761-4eb8-8120-5a8ebe3947c0",
   "metadata": {},
   "outputs": [
    {
     "name": "stdout",
     "output_type": "stream",
     "text": [
      "arcsin(theta): [-1.57079633  0.          1.57079633]\n",
      "arccos(theta): [3.14159265 1.57079633 0.        ]\n",
      "arctan(theta): [-0.78539816  0.          0.78539816]\n"
     ]
    }
   ],
   "source": [
    "print(f\"arcsin(theta): {np.arcsin(x)}\")\n",
    "print(f\"arccos(theta): {np.arccos(x)}\")\n",
    "print(f\"arctan(theta): {np.arctan(x)}\")"
   ]
  },
  {
   "cell_type": "markdown",
   "id": "f7b72493-b779-493d-94f9-718788cf9102",
   "metadata": {},
   "source": [
    "## Exponents and logrithms"
   ]
  },
  {
   "cell_type": "code",
   "execution_count": 113,
   "id": "941f7fc9-3854-4780-9d9b-157f84520868",
   "metadata": {},
   "outputs": [
    {
     "data": {
      "text/plain": [
       "[1, 2, 3]"
      ]
     },
     "execution_count": 113,
     "metadata": {},
     "output_type": "execute_result"
    }
   ],
   "source": [
    "x = [1,2,3]\n",
    "x"
   ]
  },
  {
   "cell_type": "code",
   "execution_count": 117,
   "id": "a34c1d66-cd8c-4ce0-aa6b-b5c340d823df",
   "metadata": {},
   "outputs": [
    {
     "name": "stdout",
     "output_type": "stream",
     "text": [
      "e^x: [ 2.71828183  7.3890561  20.08553692]\n",
      "2^x: [2. 4. 8.]\n",
      "3^x: [ 3  9 27]\n"
     ]
    }
   ],
   "source": [
    "print(f\"e^x: {np.exp(x)}\")\n",
    "print(f\"2^x: {np.exp2(x)}\")\n",
    "print(f\"3^x: {np.power(3, x)}\")"
   ]
  },
  {
   "cell_type": "code",
   "execution_count": 118,
   "id": "ee921d5d-05ba-4130-a4dc-7ee22335102b",
   "metadata": {},
   "outputs": [
    {
     "name": "stdout",
     "output_type": "stream",
     "text": [
      "ln(x): [0.         0.69314718 1.09861229]\n",
      "log2(x): [0.        1.        1.5849625]\n",
      "log10(x): [0.         0.30103    0.47712125]\n"
     ]
    }
   ],
   "source": [
    "print(f\"ln(x): {np.log(x)}\")\n",
    "print(f\"log2(x): {np.log2(x)}\")\n",
    "print(f\"log10(x): {np.log10(x)}\")"
   ]
  },
  {
   "cell_type": "code",
   "execution_count": 122,
   "id": "a4d06936-1075-40b2-b6c4-eb15ff3d2d2f",
   "metadata": {},
   "outputs": [
    {
     "name": "stdout",
     "output_type": "stream",
     "text": [
      "e^x -1: [ 1.71828183  6.3890561  19.08553692]\n",
      "log(x+1): [0.69314718 1.09861229 1.38629436]\n"
     ]
    }
   ],
   "source": [
    "# special\n",
    "print(f\"e^x -1: {np.expm1(x)}\")\n",
    "print(f\"log(x+1): {np.log1p(x)}\")"
   ]
  },
  {
   "cell_type": "markdown",
   "id": "7f33e921-f466-4bdf-b490-eb55ed6034ff",
   "metadata": {},
   "source": [
    "## Specialized UFuncs"
   ]
  },
  {
   "cell_type": "code",
   "execution_count": 128,
   "id": "ed2dc711-a942-47a5-babe-7ff30521f968",
   "metadata": {},
   "outputs": [],
   "source": [
    "from scipy import special"
   ]
  },
  {
   "cell_type": "markdown",
   "id": "0a59e3b5-7495-4bf5-a13c-43eeb51ab861",
   "metadata": {},
   "source": [
    "### Gamma Function\n",
    "The Gamma function is defined as:\n",
    "\n",
    "\\[ \\Gamma(x) = \\int_0^\\infty t^{x-1} e^{-t} \\, dt \\]\n",
    "\n",
    "### Log-Gamma Function\n",
    "The logarithm of the Gamma function, often called the log-Gamma function, is:\n",
    "\n",
    "\\[ \\ln(\\Gamma(x)) \\]\n",
    "\n",
    "### Beta Function\n",
    "The Beta function is defined as:\n",
    "\n",
    "\\[ \\mathrm{B}(x, y) = \\int_0^1 t^{x-1} (1-t)^{y-1} \\, dt \\]\n",
    "\n",
    "Alternatively, it can be expressed in terms of the Gamma function:\n",
    "\n",
    "\\[ \\mathrm{B}(x, y) = \\frac{\\Gamma(x) \\Gamma(y)}{\\Gamma(x + y)} \\]"
   ]
  },
  {
   "cell_type": "code",
   "execution_count": 131,
   "id": "eecfb9ce-7ffd-4c32-8729-0fd99fa34051",
   "metadata": {},
   "outputs": [
    {
     "data": {
      "text/plain": [
       "[1, 5, 10]"
      ]
     },
     "execution_count": 131,
     "metadata": {},
     "output_type": "execute_result"
    }
   ],
   "source": [
    "x = [1, 5, 10]\n",
    "x"
   ]
  },
  {
   "cell_type": "code",
   "execution_count": 136,
   "id": "05e40c82-1037-4554-8fbc-a5471d95cd92",
   "metadata": {},
   "outputs": [
    {
     "name": "stdout",
     "output_type": "stream",
     "text": [
      "Γ(x): [1.0000e+00 2.4000e+01 3.6288e+05]\n",
      "ln(Γ(x)): [ 0.          3.17805383 12.80182748]\n",
      "B(x,y): [0.5        0.03333333 0.00909091]\n"
     ]
    }
   ],
   "source": [
    "print(f\"Γ(x): {special.gamma(x)}\")\n",
    "print(f\"ln(Γ(x)): {special.gammaln(x)}\") #\n",
    "print(f\"B(x,y): {special.beta(x, 2)}\")"
   ]
  },
  {
   "cell_type": "code",
   "execution_count": null,
   "id": "9b67924b-a8bc-424d-9d24-437343fe244a",
   "metadata": {},
   "outputs": [],
   "source": []
  }
 ],
 "metadata": {
  "kernelspec": {
   "display_name": "Python 3 (ipykernel)",
   "language": "python",
   "name": "python3"
  },
  "language_info": {
   "codemirror_mode": {
    "name": "ipython",
    "version": 3
   },
   "file_extension": ".py",
   "mimetype": "text/x-python",
   "name": "python",
   "nbconvert_exporter": "python",
   "pygments_lexer": "ipython3",
   "version": "3.11.4"
  }
 },
 "nbformat": 4,
 "nbformat_minor": 5
}
