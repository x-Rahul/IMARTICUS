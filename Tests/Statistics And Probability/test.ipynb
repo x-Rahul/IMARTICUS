{
 "cells": [
  {
   "cell_type": "markdown",
   "metadata": {},
   "source": []
  },
  {
   "cell_type": "markdown",
   "metadata": {},
   "source": [
    "1. From the pack of 52 cards, three cards are drawn randomly\n",
    "without replacement then what is the probability that one\n",
    "card is a diamond, one card is a heart and one is spade?"
   ]
  },
  {
   "cell_type": "code",
   "execution_count": 2,
   "metadata": {},
   "outputs": [
    {
     "name": "stdout",
     "output_type": "stream",
     "text": [
      "Probability: 0.0994\n"
     ]
    }
   ],
   "source": [
    "from math import factorial\n",
    "\n",
    "def nCk(n, k):\n",
    "    return factorial(n) // (factorial(k) * factorial(n - k))\n",
    "\n",
    "total = nCk(52, 3)\n",
    "\n",
    "diamond = nCk(13, 1)\n",
    "heart = nCk(13, 1)\n",
    "spade = nCk(13, 1)\n",
    "favorable = diamond * heart * spade\n",
    "\n",
    "\n",
    "probability = favorable / total\n",
    "print(f\"Probability: {probability:.4f}\")"
   ]
  },
  {
   "cell_type": "markdown",
   "metadata": {},
   "source": [
    "2. The information gained by a survey done by a production\n",
    "company: 42 % of the respondents said that they like action\n",
    "movies, 54 % like comedy movies, 36 % like drama movies,\n",
    "and 12 % like horror movies. If a person is selected at\n",
    "random, find the probability that his or her,\n",
    "\n",
    "a. Favorite movie type is either action or drama.\n",
    "\n",
    "b. Favorite movie type is either comedy or horror."
   ]
  },
  {
   "cell_type": "code",
   "execution_count": 3,
   "metadata": {},
   "outputs": [
    {
     "name": "stdout",
     "output_type": "stream",
     "text": [
      "Probability of either action or drama: 0.78\n",
      "Probability of either comedy or horror: 0.66\n"
     ]
    }
   ],
   "source": [
    "p_action = 0.42\n",
    "p_comedy = 0.54\n",
    "p_drama = 0.36\n",
    "p_horror = 0.12\n",
    "\n",
    "p_action_or_drama = p_action + p_drama\n",
    "print(f\"Probability of either action or drama: {p_action_or_drama}\")\n",
    "\n",
    "p_comedy_or_horror = p_comedy + p_horror\n",
    "print(f\"Probability of either comedy or horror: {p_comedy_or_horror}\")"
   ]
  },
  {
   "cell_type": "markdown",
   "metadata": {},
   "source": [
    "3. A bag A contains 3 red and 5 black balls and bag B contains 4\n",
    "white and 7 black balls. A bag is selected randomly and a ball\n",
    "is drawn from it. A drawn ball is observed to be black. Find\n",
    "the probability that bag ‘B ’ was selected."
   ]
  },
  {
   "cell_type": "code",
   "execution_count": 4,
   "metadata": {},
   "outputs": [
    {
     "name": "stdout",
     "output_type": "stream",
     "text": [
      "Probability that bag B was selected: 0.5045045045045046\n"
     ]
    }
   ],
   "source": [
    "p_bag_A = 0.5\n",
    "p_bag_B = 0.5\n",
    "p_black_given_A = 5 / (3 + 5)\n",
    "p_black_given_B = 7 / (4 + 7)\n",
    "\n",
    "# Bayes' theorem\n",
    "p_black = (p_bag_A * p_black_given_A) + (p_bag_B * p_black_given_B)\n",
    "p_B_given_black = (p_bag_B * p_black_given_B) / p_black\n",
    "\n",
    "print(f\"Probability that bag B was selected: {p_B_given_black}\")\n"
   ]
  },
  {
   "cell_type": "markdown",
   "metadata": {},
   "source": [
    "4. A MNC company receives 450 applications from applicants\n",
    "in one hour. Find the probability of:\n",
    "\n",
    "a. Receiving 10 applications in 1 minute.\n",
    "b. Receiving at least 17 applications in 2 minutes."
   ]
  },
  {
   "cell_type": "code",
   "execution_count": 5,
   "metadata": {},
   "outputs": [
    {
     "name": "stdout",
     "output_type": "stream",
     "text": [
      "Probability of receiving exactly 10 applications in 1 minute: 0.08583037040867353\n",
      "Probability of receiving at least 17 applications in 2 minutes: 0.3358767993934554\n"
     ]
    }
   ],
   "source": [
    "import math\n",
    "\n",
    "lambda_per_minute = 450 / 60\n",
    "\n",
    "def poisson_pmf(k, lambda_):\n",
    "    return (math.exp(-lambda_) * (lambda_**k)) / math.factorial(k)\n",
    "\n",
    "def poisson_cdf(k, lambda_):\n",
    "    probability = 0\n",
    "    for i in range(k + 1):\n",
    "        probability += poisson_pmf(i, lambda_)\n",
    "    return probability\n",
    "\n",
    "# a. Probability of receiving exactly 10 applications in 1 minute\n",
    "prob_10_apps = poisson_pmf(10, lambda_per_minute)\n",
    "print(f\"Probability of receiving exactly 10 applications in 1 minute: {prob_10_apps}\")\n",
    "\n",
    "# b. Probability of receiving at least 17 applications in 2 minutes\n",
    "lambda_per_2_minutes = lambda_per_minute * 2\n",
    "prob_up_to_16_apps = poisson_cdf(16, lambda_per_2_minutes)\n",
    "prob_at_least_17_apps = 1 - prob_up_to_16_apps\n",
    "print(f\"Probability of receiving at least 17 applications in 2 minutes: {prob_at_least_17_apps}\")\n"
   ]
  },
  {
   "cell_type": "markdown",
   "metadata": {},
   "source": [
    "5. The government of state union has declared a free medical\n",
    "insurance for below poverty line population by using\n",
    "following assumptions:\n",
    "\n",
    "a. In every year, there can be at most one patient who\n",
    "needs medical insurance in a family.\n",
    "\n",
    "b. In every year, the probability of a medical emergency is\n",
    "0.05.\n",
    "\n",
    "c. The number of patients in every year is independent.\n",
    "\n",
    "Using the assumptions, calculate the probability that there\n",
    "are fewer than 3 patients in a 10 years period in one family."
   ]
  },
  {
   "cell_type": "code",
   "execution_count": 6,
   "metadata": {},
   "outputs": [
    {
     "name": "stdout",
     "output_type": "stream",
     "text": [
      "The probability that there are fewer than 3 patients in a 10-year period is approximately: 0.9856123220330293\n"
     ]
    }
   ],
   "source": [
    "import math\n",
    "\n",
    "def poisson_pmf(k, lambda_):\n",
    "    return (math.exp(-lambda_) * (lambda_**k)) / math.factorial(k)\n",
    "\n",
    "def poisson_cdf(k, lambda_):\n",
    "    probability = 0\n",
    "    for i in range(k + 1):\n",
    "        probability += poisson_pmf(i, lambda_)\n",
    "    return probability\n",
    "\n",
    "lambda_param = 0.5 \n",
    "\n",
    "prob_less_than_3 = poisson_cdf(2, lambda_param)\n",
    "\n",
    "# Print the result\n",
    "print(f\"The probability that there are fewer than 3 patients in a 10-year period is approximately: {prob_less_than_3}\")\n"
   ]
  },
  {
   "cell_type": "markdown",
   "metadata": {},
   "source": [
    "6. Suppose prices of new flats in Manchester are normally\n",
    "distributed with an average of $350870 and a standard\n",
    "deviation of $12405. Find the 75th percentile of prices\n",
    "among new homes in Manchester."
   ]
  },
  {
   "cell_type": "code",
   "execution_count": 7,
   "metadata": {},
   "outputs": [
    {
     "name": "stdout",
     "output_type": "stream",
     "text": [
      "The 75th percentile is approximately: 359230.97\n"
     ]
    }
   ],
   "source": [
    "import math\n",
    "\n",
    "mean_price = 350870\n",
    "std_dev_price = 12405\n",
    "z_score_75 = 0.674\n",
    "\n",
    "# Calculate the 75th percentile\n",
    "percentile_75 = mean_price + z_score_75 * std_dev_price\n",
    "print(f\"The 75th percentile is approximately: {percentile_75}\")\n"
   ]
  },
  {
   "cell_type": "markdown",
   "metadata": {},
   "source": [
    "7. The Department of Transportation of California claims that\n",
    "the average number of road accidents that are occurred in\n",
    "two cities - Union City and Mountain View - during the span\n",
    "of the last 12 months. Assuming that population variances\n",
    "are equal.\n",
    "\n",
    "Compute the value of F-statistic by using the relation F = t2"
   ]
  },
  {
   "cell_type": "code",
   "execution_count": 8,
   "metadata": {},
   "outputs": [
    {
     "data": {
      "text/plain": [
       "0.3008877431761472"
      ]
     },
     "execution_count": 8,
     "metadata": {},
     "output_type": "execute_result"
    }
   ],
   "source": [
    "import numpy as np\n",
    "\n",
    "union_city = np.array([44, 21, 36, 34, 77, 32, 29, 39, 92, 67, 45, 37])\n",
    "mountain_view = np.array([47, 81, 41, 79, 38, 20, 33, 83, 41, 40, 69, 36])\n",
    "\n",
    "mean_union = np.mean(union_city)\n",
    "mean_mountain = np.mean(mountain_view)\n",
    "\n",
    "std_union = np.std(union_city)\n",
    "std_mountain = np.std(mountain_view)\n",
    "\n",
    "n_union = len(union_city)\n",
    "n_mountain = len(mountain_view)\n",
    "\n",
    "t_statistic = (mean_union - mean_mountain) / np.sqrt((std_union**2 / n_union) + (std_mountain**2 / n_mountain))\n",
    "\n",
    "f_statistic = t_statistic**2\n",
    "\n",
    "f_statistic"
   ]
  },
  {
   "cell_type": "markdown",
   "metadata": {},
   "source": [
    "9. The number of pizzas sold per day by a food zone \"Pazzi per\n",
    "Pizza\" follows a poisson distribution at a rate of 76 pizzas\n",
    "per day. What is the probability that the number of pizza\n",
    "sales exceeds 80 in a day? Write Python code to calculate the\n",
    "probability."
   ]
  },
  {
   "cell_type": "code",
   "execution_count": 9,
   "metadata": {},
   "outputs": [
    {
     "name": "stdout",
     "output_type": "stream",
     "text": [
      "The probability that more than 80 pizzas are sold in a day is: 0.29799533504770914\n"
     ]
    }
   ],
   "source": [
    "import math\n",
    "rate = 76\n",
    "\n",
    "def poisson_probability(k, rate):\n",
    "    numerator = (rate ** k) * math.exp(-rate)\n",
    "    denominator = math.factorial(k)\n",
    "    return numerator / denominator\n",
    "\n",
    "\n",
    "cumulative_probability = 0\n",
    "for k in range(81): \n",
    "    cumulative_probability += poisson_probability(k, rate)\n",
    "\n",
    "probability_more_than_80 = 1 - cumulative_probability\n",
    "\n",
    "print(f\"The probability that more than 80 pizzas are sold in a day is: {probability_more_than_80}\")"
   ]
  },
  {
   "cell_type": "markdown",
   "metadata": {},
   "source": [
    "10. In the population, the mean weight is 82. A team of\n",
    "dietitians wants to test a new protein supplier to see if it has\n",
    "either a positive or negative effect on diet, or no effect at all.\n",
    "A sample of 25 participants who have taken the protein\n",
    "supplier has a mean of 95 with standard deviation is 20. Did\n",
    "the protein supplier affect diet? Where alpha is 0.05."
   ]
  },
  {
   "cell_type": "code",
   "execution_count": 10,
   "metadata": {},
   "outputs": [
    {
     "name": "stdout",
     "output_type": "stream",
     "text": [
      "T-statistic: 3.2500\n",
      "Critical value: 2.0639\n",
      "Reject the null hypothesis: The protein supplier affects diet.\n"
     ]
    }
   ],
   "source": [
    "from scipy import stats\n",
    "\n",
    "sample_mean = 95\n",
    "sample_std_dev = 20\n",
    "sample_size = 25\n",
    "population_mean = 82\n",
    "alpha = 0.05\n",
    "\n",
    "t_statistic = (sample_mean - population_mean) / (sample_std_dev / (sample_size ** 0.5))\n",
    "\n",
    "# Calculate the critical t-value for a two-tailed test\n",
    "critical_value = stats.t.ppf(1 - alpha / 2, df=sample_size - 1)\n",
    "\n",
    "print(f\"T-statistic: {t_statistic:.4f}\")\n",
    "print(f\"Critical value: {critical_value:.4f}\")\n",
    "if abs(t_statistic) > critical_value:\n",
    "    print(\"Reject the null hypothesis: The protein supplier affects diet.\")\n",
    "else:\n",
    "    print(\"Fail to reject the null hypothesis: No significant effect of the protein supplier on diet.\")\n"
   ]
  },
  {
   "cell_type": "markdown",
   "metadata": {},
   "source": [
    "11. The number of customers that arrive on different days\n",
    "in a week at the Hotel Taj is given below:\n",
    "Test the claim that the different days of the week have the\n",
    "same frequency of customers. Use the significance level as\n",
    "0.1."
   ]
  },
  {
   "cell_type": "code",
   "execution_count": 11,
   "metadata": {},
   "outputs": [
    {
     "name": "stdout",
     "output_type": "stream",
     "text": [
      "Chi-square Statistic: 395.08569405099144\n",
      "P-value: 3.183619156501148e-82\n",
      "Reject the null hypothesis: The number of customers differs across the days.\n"
     ]
    }
   ],
   "source": [
    "import scipy.stats as stats\n",
    "import numpy as np\n",
    "\n",
    "observed = np.array([1419, 1320, 1526, 1289, 1620, 2067, 2055])\n",
    "\n",
    "total_customers = 11296\n",
    "expected = np.full(7, total_customers / 7)\n",
    "\n",
    "chi_square_stat, p_value = stats.chisquare(observed, expected)\n",
    "\n",
    "alpha = 0.1\n",
    "print(f\"Chi-square Statistic: {chi_square_stat}\")\n",
    "print(f\"P-value: {p_value}\")\n",
    "\n",
    "if p_value < alpha:\n",
    "    print(\"Reject the null hypothesis: The number of customers differs across the days.\")\n",
    "else:\n",
    "    print(\"Fail to reject the null hypothesis: The number of customers is uniformly distributed across the days.\")\n"
   ]
  },
  {
   "cell_type": "code",
   "execution_count": null,
   "metadata": {},
   "outputs": [],
   "source": []
  },
  {
   "cell_type": "code",
   "execution_count": null,
   "metadata": {},
   "outputs": [],
   "source": []
  },
  {
   "cell_type": "code",
   "execution_count": null,
   "metadata": {},
   "outputs": [],
   "source": []
  }
 ],
 "metadata": {
  "kernelspec": {
   "display_name": "Python 3",
   "language": "python",
   "name": "python3"
  },
  "language_info": {
   "codemirror_mode": {
    "name": "ipython",
    "version": 3
   },
   "file_extension": ".py",
   "mimetype": "text/x-python",
   "name": "python",
   "nbconvert_exporter": "python",
   "pygments_lexer": "ipython3",
   "version": "3.11.4"
  }
 },
 "nbformat": 4,
 "nbformat_minor": 2
}
