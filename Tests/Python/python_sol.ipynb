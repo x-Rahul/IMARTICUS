{
 "cells": [
  {
   "cell_type": "markdown",
   "metadata": {},
   "source": [
    "1. Given below are a list of positive and negative words. Also, a list of comments is provided. Segregate the comments based on positive and negative sentiments.\n",
    "\n",
    "   ```python\n",
    "   positive = ['good', 'awesome', 'best', 'nice']\n",
    "   negative = ['worst', 'awful']\n",
    "   comments = [\n",
    "       'He is a good boy', \n",
    "       'Food is the worst here', \n",
    "       'He is an awesome player', \n",
    "       'She is the best', \n",
    "       'This pizza tastes awful', \n",
    "       'These burgers are really nice'\n",
    "   ]\n"
   ]
  },
  {
   "cell_type": "code",
   "execution_count": 2,
   "metadata": {},
   "outputs": [
    {
     "name": "stdout",
     "output_type": "stream",
     "text": [
      "Positive Comments: ['He is a good boy', 'He is an awesome player', 'She is the best', 'These burger are really nice']\n",
      "Negative Comments: ['Food is the worst here', 'This pizza tastes awful']\n"
     ]
    }
   ],
   "source": [
    "positive = ['good','awesome', 'best', 'nice'] \n",
    "negative = ['worst','awful'] \n",
    "comments = ['He is a good boy', \n",
    "'Food is the worst here', \n",
    "'He is an awesome player', \n",
    "'She is the best', \n",
    "'This pizza tastes awful', \n",
    "'These burger are really nice']\n",
    "\n",
    "pos_comments = []\n",
    "neg_comments = []\n",
    "\n",
    "for cmt in comments:\n",
    "    if any(word in cmt for word in positive): \n",
    "        pos_comments.append(cmt)\n",
    "    if any(word in cmt for word in negative): \n",
    "        neg_comments.append(cmt)\n",
    "\n",
    "print(f\"Positive Comments: {pos_comments}\")\n",
    "print(f\"Negative Comments: {neg_comments}\")"
   ]
  },
  {
   "cell_type": "markdown",
   "metadata": {},
   "source": [
    "2. Create a dictionary containing three lambda functions: square, cube, and square root.\n",
    "   \n",
    "   E.g. \n",
    "   ```python\n",
    "   dict = {\n",
    "       'Square': function for squaring, \n",
    "       'Cube': function for cubing, \n",
    "       'Squareroot': function for square root\n",
    "   }\n",
    "   ```\n",
    "   Pass the values (input from the user) to the functions in the dictionary respectively. Then add the outputs of each function and print it.\n"
   ]
  },
  {
   "cell_type": "code",
   "execution_count": 2,
   "metadata": {},
   "outputs": [
    {
     "name": "stdout",
     "output_type": "stream",
     "text": [
      "152.2360679774998\n"
     ]
    }
   ],
   "source": [
    "d = {\n",
    "       'Square': lambda x: x**2, \n",
    "       'Cube': lambda x: x**3, \n",
    "       'Squareroot': lambda x: x**(1/2)\n",
    "   }\n",
    "\n",
    "user_ip = int(input())\n",
    "output = d['Square'](user_ip) + d['Cube'](user_ip) + d['Squareroot'](user_ip)\n",
    "\n",
    "print(output)"
   ]
  },
  {
   "cell_type": "markdown",
   "metadata": {},
   "source": [
    "Find the fruits that are sour in taste from the tuple given below.\n",
    "\n",
    "```python\n",
    "fruits = (('Lemon', 'sour'), \n",
    "          ('DragonFruit', 'Sweet'), \n",
    "          ('Grapes', 'soUr'), \n",
    "          ('Kiwi', 'Sour'), \n",
    "          ('Apples', 'sweet'), \n",
    "          ('Orange', 'sour'), \n",
    "          ('Blueberries', 'sweet'), \n",
    "          ('Limes', 'Sour'))\n",
    "```\n",
    "Output: `Sour Fruits: ['Lemon', 'Grapes', 'Kiwi', 'Orange', 'Limes']`"
   ]
  },
  {
   "cell_type": "code",
   "execution_count": 3,
   "metadata": {},
   "outputs": [
    {
     "name": "stdout",
     "output_type": "stream",
     "text": [
      "Sour Fruits: ['Lemon', 'Grapes', 'Kiwi', 'Orange', 'Limes']\n"
     ]
    }
   ],
   "source": [
    "fruits = (('Lemon', 'sour'), \n",
    "          ('DragonFruit', 'Sweet'), \n",
    "          ('Grapes', 'soUr'), \n",
    "          ('Kiwi', 'Sour'), \n",
    "          ('Apples', 'sweet'), \n",
    "          ('Orange', 'sour'), \n",
    "          ('Blueberries', 'sweet'), \n",
    "          ('Limes', 'Sour'))\n",
    "\n",
    "sour_fruits = []\n",
    "for fruit, taste in fruits:\n",
    "    if taste.lower()== 'sour': sour_fruits.append(fruit)\n",
    "\n",
    "print(f\"Sour Fruits: {sour_fruits}\")"
   ]
  },
  {
   "cell_type": "markdown",
   "metadata": {},
   "source": [
    "4. A list of words is given. Find the words from the list that have their second character in uppercase.\n",
    "\n",
    "```python\n",
    "ls = ['hello', 'Dear', 'hOw', 'ARe', 'You']\n",
    "```\n",
    "Output: `['hOw', 'ARe']`"
   ]
  },
  {
   "cell_type": "code",
   "execution_count": 4,
   "metadata": {},
   "outputs": [
    {
     "name": "stdout",
     "output_type": "stream",
     "text": [
      "['hOw', 'ARe']\n"
     ]
    }
   ],
   "source": [
    "ls = ['hello', 'Dear', 'hOw', 'ARe', 'You']\n",
    "\n",
    "output = [word for word in ls if (word[1]>'A' and word[1]< 'Z')]\n",
    "print(output)"
   ]
  },
  {
   "cell_type": "markdown",
   "metadata": {},
   "source": [
    "5. A dictionary of names and their weights on Earth is given. Find how much they will weigh on the moon. (Use `map` and `lambda` functions)\n",
    "\n",
    "Formula: `wMoon = (wEarth * GMoon) / GEarth`\n",
    "\n",
    "```python\n",
    "# Weight of people in kg\n",
    "WeightOnEarth = {'John': 45, 'Shelly': 65, 'Marry': 35}\n",
    "\n",
    "# Gravitational force on the Moon: 1.622 m/s²\n",
    "GMoon = 1.622\n",
    "\n",
    "# Gravitational force on the Earth: 9.81 m/s²\n",
    "GEarth = 9.81\n",
    "```\n",
    "Output: `Weight on Moon: {'John': 7.44, 'Shelly': 10.75, 'Marry': 5.79}`"
   ]
  },
  {
   "cell_type": "code",
   "execution_count": 9,
   "metadata": {},
   "outputs": [
    {
     "data": {
      "text/plain": [
       "{'John': 7.44, 'Shelly': 10.75, 'Marry': 5.79}"
      ]
     },
     "execution_count": 9,
     "metadata": {},
     "output_type": "execute_result"
    }
   ],
   "source": [
    "WeightOnEarth = {'John': 45, 'Shelly': 65, 'Marry': 35}\n",
    "GMoon = 1.622\n",
    "GEarth = 9.81\n",
    "\n",
    "dict(map(lambda pair: (pair[0], round(pair[1] * GMoon/GEarth, 2)), WeightOnEarth.items()))"
   ]
  },
  {
   "cell_type": "markdown",
   "metadata": {},
   "source": [
    "6. Write a program to fetch the words from the given list which have their first character in uppercase.\n",
    "\n",
    "```python\n",
    "namesList = ['santa Maria', 'Hello World', 'Merry christmas', 'tHank You']\n",
    "```\n",
    "Output: `['Maria', 'Hello', 'World', 'Merry', 'You']`\n"
   ]
  },
  {
   "cell_type": "code",
   "execution_count": 11,
   "metadata": {},
   "outputs": [
    {
     "name": "stdout",
     "output_type": "stream",
     "text": [
      "['Maria', 'Hello', 'World', 'Merry', 'You']\n"
     ]
    }
   ],
   "source": [
    "namesList = ['santa Maria', 'Hello World', 'Merry christmas', 'tHank You']\n",
    "\n",
    "output = []\n",
    "for st in namesList:\n",
    "    for word in st.split():\n",
    "        if word[0] > 'A' and word[0]<'Z':\n",
    "            output.append(word)\n",
    "print(output)"
   ]
  },
  {
   "cell_type": "markdown",
   "metadata": {},
   "source": [
    "7. A list containing multiple lists is given. Convert each inner list into sets and find the intersection of all the sets. Use the `reduce` function.\n",
    "\n",
    "```python\n",
    "from functools import reduce\n",
    "\n",
    "given_sets = [[1, 2, 3, 4, 8], [2, 3, 8, 5, 6], [8, 4, 5, 3, 7], [6, 9, 8, 3], [9, 12, 3, 7, 6, 8, 4, 6, 21, 1, 6]]\n",
    "```\n",
    "Output: `{8, 3}`\n"
   ]
  },
  {
   "cell_type": "code",
   "execution_count": 14,
   "metadata": {},
   "outputs": [
    {
     "name": "stdout",
     "output_type": "stream",
     "text": [
      "{8, 3}\n"
     ]
    }
   ],
   "source": [
    "from functools import reduce\n",
    "\n",
    "given_sets = [[1, 2, 3, 4, 8], [2, 3, 8, 5, 6], [8, 4, 5, 3, 7], [6, 9, 8, 3], [9, 12, 3, 7, 6, 8, 4, 6, 21, 1, 6]]\n",
    "\n",
    "print(set(reduce(lambda x, y: set(x) & set(y), given_sets)))"
   ]
  },
  {
   "cell_type": "markdown",
   "metadata": {},
   "source": [
    "8.  Find the cumulative average of the list [9,8,7,6,5] using `accumulate()` \n",
    "and `lambda` function. \n",
    "\n",
    "Input list: [9, 5, 7, 8, 5]"
   ]
  },
  {
   "cell_type": "code",
   "execution_count": 31,
   "metadata": {},
   "outputs": [
    {
     "name": "stdout",
     "output_type": "stream",
     "text": [
      "[9.0, 7.0, 7.0, 7.25, 6.8]\n"
     ]
    }
   ],
   "source": [
    "from itertools import accumulate\n",
    "\n",
    "ls = [9, 5, 7, 8, 5]\n",
    "\n",
    "cumm_sum = list(accumulate(ls))\n",
    "\n",
    "cumm_avg = list(map(lambda i: cumm_sum[i] / (i + 1), range(len(cumm_sum))))\n",
    "print(cumm_avg)\n"
   ]
  },
  {
   "cell_type": "markdown",
   "metadata": {},
   "source": [
    "9. A list of words is given. Convert the words into uppercase. Use `lambda` and `map` functions.\n",
    "\n",
    "```python\n",
    "lsbool = ['True', 'FALse', 'tRUe', 'tRue', 'False', 'faLse']\n",
    "```\n",
    "Output: `['TRUE', 'FALSE', 'TRUE', 'TRUE', 'FALSE', 'FALSE']`\n"
   ]
  },
  {
   "cell_type": "code",
   "execution_count": 32,
   "metadata": {},
   "outputs": [
    {
     "data": {
      "text/plain": [
       "['TRUE', 'FALSE', 'TRUE', 'TRUE', 'FALSE', 'FALSE']"
      ]
     },
     "execution_count": 32,
     "metadata": {},
     "output_type": "execute_result"
    }
   ],
   "source": [
    "lsbool = ['True', 'FALse', 'tRUe', 'tRue', 'False', 'faLse']\n",
    "\n",
    "list(map(lambda x: x.upper(), lsbool))"
   ]
  },
  {
   "cell_type": "markdown",
   "metadata": {},
   "source": [
    "10. A list of dates (dd-mm-yyyy) in the form of strings is given below. Create a new list that stores the years, i.e., the 'yyyy' part from the dates in the given list.\n",
    "\n",
    "```python\n",
    "datesList = ['17-12-1997', '22-04-2011', '01-05-1993', '19-06-2020']\n",
    "```\n",
    "Output: `['1997', '2011', '1993', '2020']`\n"
   ]
  },
  {
   "cell_type": "code",
   "execution_count": 34,
   "metadata": {},
   "outputs": [
    {
     "data": {
      "text/plain": [
       "['1997', '2011', '1993', '2020']"
      ]
     },
     "execution_count": 34,
     "metadata": {},
     "output_type": "execute_result"
    }
   ],
   "source": [
    "datesList = ['17-12-1997', '22-04-2011', '01-05-1993', '19-06-2020']\n",
    "\n",
    "[year[-4:] for year in datesList]"
   ]
  },
  {
   "cell_type": "code",
   "execution_count": null,
   "metadata": {},
   "outputs": [],
   "source": []
  }
 ],
 "metadata": {
  "kernelspec": {
   "display_name": "Python 3",
   "language": "python",
   "name": "python3"
  },
  "language_info": {
   "codemirror_mode": {
    "name": "ipython",
    "version": 3
   },
   "file_extension": ".py",
   "mimetype": "text/x-python",
   "name": "python",
   "nbconvert_exporter": "python",
   "pygments_lexer": "ipython3",
   "version": "3.12.3"
  }
 },
 "nbformat": 4,
 "nbformat_minor": 2
}
