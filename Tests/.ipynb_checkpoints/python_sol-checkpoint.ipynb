{
 "cells": [
  {
   "cell_type": "markdown",
   "metadata": {},
   "source": [
    "# Test: Python\n",
    "#### Name: Rahul Kumar Meena\n",
    "#### Batch: PGPMLAI-del-44\n",
    "#### Date: 31/Aug/2024"
   ]
  },
  {
   "cell_type": "markdown",
   "metadata": {},
   "source": [
    "Q1. Given below are a list of positive and negative words. Also, a list of comments is provided. Segregate the comments based on positive and negative sentiments.\n",
    "\n",
    "\n",
    "   positive = ['good', 'awesome', 'best', 'nice']\n",
    "\n",
    "   negative = ['worst', 'awful']\n",
    "   \n",
    "   comments = [\n",
    "       'He is a good boy', \n",
    "       'Food is the worst here', \n",
    "       'He is an awesome player', \n",
    "       'She is the best', \n",
    "       'This pizza tastes awful', \n",
    "       'These burgers are really nice'\n",
    "   ]\n"
   ]
  },
  {
   "cell_type": "code",
   "execution_count": 1,
   "metadata": {},
   "outputs": [
    {
     "name": "stdout",
     "output_type": "stream",
     "text": [
      "Positive Comments: ['He is a good boy', 'He is an awesome player', 'She is the best', 'These burger are really nice']\n",
      "Negative Comments: ['Food is the worst here', 'This pizza tastes awful']\n"
     ]
    }
   ],
   "source": [
    "positive = ['good','awesome', 'best', 'nice'] \n",
    "negative = ['worst','awful'] \n",
    "comments = ['He is a good boy', \n",
    "'Food is the worst here', \n",
    "'He is an awesome player', \n",
    "'She is the best', \n",
    "'This pizza tastes awful', \n",
    "'These burger are really nice']\n",
    "#--\n",
    "filter_positive = []\n",
    "filter_negative = []\n",
    "\n",
    "for c in comments:\n",
    "    if any(w in c for w in positive): filter_positive.append(c)\n",
    "    if any(w in c for w in negative): filter_negative.append(c)\n",
    "\n",
    "print(f\"Positive Comments: {filter_positive}\")\n",
    "print(f\"Negative Comments: {filter_negative}\")"
   ]
  },
  {
   "cell_type": "markdown",
   "metadata": {},
   "source": [
    "Q2. Create a dictionary containing three lambda functions: square, cube, and square root.\n",
    "   \n",
    "   dict = {\n",
    "       'Square': function for squaring, \n",
    "       'Cube': function for cubing, \n",
    "       'Squareroot': function for square root\n",
    "   }\n",
    "   \n",
    "   Pass the values (input from the user) to the functions in the dictionary respectively. Then add the outputs of each function and print it.\n"
   ]
  },
  {
   "cell_type": "code",
   "execution_count": 11,
   "metadata": {},
   "outputs": [
    {
     "name": "stdout",
     "output_type": "stream",
     "text": [
      "1103.1622776601685\n"
     ]
    }
   ],
   "source": [
    "import math\n",
    "dict_fxn = {\n",
    "       'Square': lambda x: x**2, \n",
    "       'Cube': lambda x: x**3, \n",
    "       'Squareroot': lambda x: math.sqrt(x)\n",
    "   }\n",
    "\n",
    "inp = int(input())\n",
    "ans = dict_fxn['Square'](inp) + dict_fxn['Cube'](inp) + dict_fxn['Squareroot'](inp)\n",
    "\n",
    "print(ans)"
   ]
  },
  {
   "cell_type": "markdown",
   "metadata": {},
   "source": [
    "Q3. Find the fruits that are sour in taste from the tuple given below.\n",
    "\n",
    "fruits = (('Lemon', 'sour'), \n",
    "          ('DragonFruit', 'Sweet'), \n",
    "          ('Grapes', 'soUr'), \n",
    "          ('Kiwi', 'Sour'), \n",
    "          ('Apples', 'sweet'), \n",
    "          ('Orange', 'sour'), \n",
    "          ('Blueberries', 'sweet'), \n",
    "          ('Limes', 'Sour'))\n",
    "\n",
    "Output: Sour Fruits: ['Lemon', 'Grapes', 'Kiwi', 'Orange', 'Limes']"
   ]
  },
  {
   "cell_type": "code",
   "execution_count": 4,
   "metadata": {},
   "outputs": [
    {
     "name": "stdout",
     "output_type": "stream",
     "text": [
      "Sour Fruits: ['Lemon', 'Grapes', 'Kiwi', 'Orange', 'Limes']\n"
     ]
    }
   ],
   "source": [
    "fruits = (('Lemon', 'sour'), \n",
    "          ('DragonFruit', 'Sweet'), \n",
    "          ('Grapes', 'soUr'), \n",
    "          ('Kiwi', 'Sour'), \n",
    "          ('Apples', 'sweet'), \n",
    "          ('Orange', 'sour'), \n",
    "          ('Blueberries', 'sweet'), \n",
    "          ('Limes', 'Sour'))\n",
    "\n",
    "sf = []\n",
    "for f, t in fruits:\n",
    "    if t.lower()== 'sour': \n",
    "        sf.append(f)\n",
    "\n",
    "print(f\"Sour Fruits: {sf}\")"
   ]
  },
  {
   "cell_type": "markdown",
   "metadata": {},
   "source": [
    "Q4. A list of words is given. Find the words from the list that have their second character in uppercase.\n",
    "\n",
    "ls = ['hello', 'Dear', 'hOw', 'ARe', 'You']\n",
    "Output: ['hOw', 'ARe']"
   ]
  },
  {
   "cell_type": "code",
   "execution_count": 4,
   "metadata": {},
   "outputs": [
    {
     "name": "stdout",
     "output_type": "stream",
     "text": [
      "['hOw', 'ARe']\n"
     ]
    }
   ],
   "source": [
    "ls = ['hello', 'Dear', 'hOw', 'ARe', 'You']\n",
    "\n",
    "ans = [w for w in ls if (w[1]>'A' and w[1]< 'Z')]\n",
    "print(ans)"
   ]
  },
  {
   "cell_type": "markdown",
   "metadata": {},
   "source": [
    "Q5. A dictionary of names and their weights on Earth is given. Find how much they will weigh on the moon. (Use `map` and `lambda` functions)\n",
    "\n",
    "Formula: wMoon = (wEarth * GMoon) / GEarth\n",
    "\n",
    "WeightOnEarth = {'John': 45, 'Shelly': 65, 'Marry': 35}\n",
    "\n",
    "GMoon = 1.622\n",
    "\n",
    "GEarth = 9.81\n",
    "\n",
    "Output: Weight on Moon: {'John': 7.44, 'Shelly': 10.75, 'Marry': 5.79}"
   ]
  },
  {
   "cell_type": "code",
   "execution_count": 6,
   "metadata": {},
   "outputs": [
    {
     "name": "stdout",
     "output_type": "stream",
     "text": [
      "{'John': 7.44, 'Shelly': 10.75, 'Marry': 5.79}\n"
     ]
    }
   ],
   "source": [
    "WeightOnEarth = {'John': 45, 'Shelly': 65, 'Marry': 35}\n",
    "GMoon, GEarth = 1.622, 9.81\n",
    "\n",
    "ans = dict(map(lambda pair: (pair[0], round(pair[1] * GMoon/GEarth, 2)), WeightOnEarth.items()))\n",
    "print(ans)"
   ]
  },
  {
   "cell_type": "markdown",
   "metadata": {},
   "source": [
    "Q6. Write a program to fetch the words from the given list which have their first character in uppercase.\n",
    "\n",
    "namesList = ['santa Maria', 'Hello World', 'Merry christmas', 'tHank You']\n",
    "\n",
    "Output: ['Maria', 'Hello', 'World', 'Merry', 'You']\n"
   ]
  },
  {
   "cell_type": "code",
   "execution_count": 13,
   "metadata": {},
   "outputs": [
    {
     "name": "stdout",
     "output_type": "stream",
     "text": [
      "['Maria', 'Hello', 'World', 'Merry', 'You']\n"
     ]
    }
   ],
   "source": [
    "namesList = ['santa Maria', 'Hello World', 'Merry christmas', 'tHank You']\n",
    "\n",
    "ans = []\n",
    "for st in namesList:\n",
    "    for word in st.split():\n",
    "        if word[0].upper() == word[0]:\n",
    "            ans.append(word)\n",
    "\n",
    "print(ans)"
   ]
  },
  {
   "cell_type": "markdown",
   "metadata": {},
   "source": [
    "Q7. A list containing multiple lists is given. Convert each inner list into sets and find the intersection of all the sets. Use the `reduce` function.\n",
    "\n",
    "given_sets = [[1, 2, 3, 4, 8], [2, 3, 8, 5, 6], [8, 4, 5, 3, 7], [6, 9, 8, 3], [9, 12, 3, 7, 6, 8, 4, 6, 21, 1, 6]]\n",
    "Output: {8, 3}\n"
   ]
  },
  {
   "cell_type": "code",
   "execution_count": 14,
   "metadata": {},
   "outputs": [
    {
     "name": "stdout",
     "output_type": "stream",
     "text": [
      "{8, 3}\n"
     ]
    }
   ],
   "source": [
    "from functools import reduce\n",
    "\n",
    "given_sets = [[1, 2, 3, 4, 8], [2, 3, 8, 5, 6], [8, 4, 5, 3, 7], [6, 9, 8, 3], [9, 12, 3, 7, 6, 8, 4, 6, 21, 1, 6]]\n",
    "\n",
    "print(set(reduce(lambda x, y: set(x) & set(y), given_sets)))"
   ]
  },
  {
   "cell_type": "markdown",
   "metadata": {},
   "source": [
    "Q8.  Find the cumulative average of the list [9,8,7,6,5] using accumulate()\n",
    "and lambda function. \n",
    "\n",
    "Input list: [9, 5, 7, 8, 5]"
   ]
  },
  {
   "cell_type": "code",
   "execution_count": 15,
   "metadata": {},
   "outputs": [
    {
     "name": "stdout",
     "output_type": "stream",
     "text": [
      "[9.0, 7.0, 7.0, 7.25, 6.8]\n"
     ]
    }
   ],
   "source": [
    "from itertools import accumulate\n",
    "\n",
    "ls = [9, 5, 7, 8, 5]\n",
    "\n",
    "cumm_sum = list(accumulate(ls))\n",
    "\n",
    "cumm_avg = list(map(lambda i: cumm_sum[i] / (i + 1), range(len(cumm_sum))))\n",
    "print(cumm_avg)\n"
   ]
  },
  {
   "cell_type": "markdown",
   "metadata": {},
   "source": [
    "Q9. A list of words is given. Convert the words into uppercase. Use lambda and map functions.\n",
    "\n",
    "lsbool = ['True', 'FALse', 'tRUe', 'tRue', 'False', 'faLse']\n",
    "\n",
    "Output: ['TRUE', 'FALSE', 'TRUE', 'TRUE', 'FALSE', 'FALSE']\n"
   ]
  },
  {
   "cell_type": "code",
   "execution_count": 16,
   "metadata": {},
   "outputs": [
    {
     "data": {
      "text/plain": [
       "['TRUE', 'FALSE', 'TRUE', 'TRUE', 'FALSE', 'FALSE']"
      ]
     },
     "execution_count": 16,
     "metadata": {},
     "output_type": "execute_result"
    }
   ],
   "source": [
    "lsbool = ['True', 'FALse', 'tRUe', 'tRue', 'False', 'faLse']\n",
    "\n",
    "list(map(lambda x: x.upper(), lsbool))"
   ]
  },
  {
   "cell_type": "markdown",
   "metadata": {},
   "source": [
    "Q10. A list of dates (dd-mm-yyyy) in the form of strings is given below. Create a new list that stores the years, i.e., the 'yyyy' part from the dates in the given list.\n",
    "\n",
    "\n",
    "datesList = ['17-12-1997', '22-04-2011', '01-05-1993', '19-06-2020']\n",
    "\n",
    "Output: ['1997', '2011', '1993', '2020']\n"
   ]
  },
  {
   "cell_type": "code",
   "execution_count": 17,
   "metadata": {},
   "outputs": [
    {
     "data": {
      "text/plain": [
       "['1997', '2011', '1993', '2020']"
      ]
     },
     "execution_count": 17,
     "metadata": {},
     "output_type": "execute_result"
    }
   ],
   "source": [
    "datesList = ['17-12-1997', '22-04-2011', '01-05-1993', '19-06-2020']\n",
    "\n",
    "[year[-4:] for year in datesList]"
   ]
  },
  {
   "cell_type": "code",
   "execution_count": null,
   "metadata": {},
   "outputs": [],
   "source": []
  }
 ],
 "metadata": {
  "kernelspec": {
   "display_name": "Python 3 (ipykernel)",
   "language": "python",
   "name": "python3"
  },
  "language_info": {
   "codemirror_mode": {
    "name": "ipython",
    "version": 3
   },
   "file_extension": ".py",
   "mimetype": "text/x-python",
   "name": "python",
   "nbconvert_exporter": "python",
   "pygments_lexer": "ipython3",
   "version": "3.11.4"
  }
 },
 "nbformat": 4,
 "nbformat_minor": 4
}
