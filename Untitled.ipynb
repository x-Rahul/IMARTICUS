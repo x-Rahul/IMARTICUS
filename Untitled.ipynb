{
 "cells": [
  {
   "cell_type": "code",
   "execution_count": 1,
   "id": "83847d1a-7713-4ff2-a9d9-690bdf85c51f",
   "metadata": {},
   "outputs": [],
   "source": [
    "import array as arr"
   ]
  },
  {
   "cell_type": "code",
   "execution_count": 2,
   "id": "2551160b-91c9-4ece-b606-17a781084287",
   "metadata": {},
   "outputs": [
    {
     "ename": "TypeError",
     "evalue": "array() argument 1 must be a unicode character, not list",
     "output_type": "error",
     "traceback": [
      "\u001b[0;31m---------------------------------------------------------------------------\u001b[0m",
      "\u001b[0;31mTypeError\u001b[0m                                 Traceback (most recent call last)",
      "Cell \u001b[0;32mIn[2], line 1\u001b[0m\n\u001b[0;32m----> 1\u001b[0m \u001b[43marr\u001b[49m\u001b[38;5;241;43m.\u001b[39;49m\u001b[43marray\u001b[49m\u001b[43m(\u001b[49m\u001b[43m[\u001b[49m\u001b[38;5;241;43m1\u001b[39;49m\u001b[43m,\u001b[49m\u001b[38;5;241;43m2\u001b[39;49m\u001b[43m,\u001b[49m\u001b[38;5;241;43m4\u001b[39;49m\u001b[43m,\u001b[49m\u001b[38;5;241;43m5\u001b[39;49m\u001b[43m,\u001b[49m\u001b[38;5;241;43m6\u001b[39;49m\u001b[43m]\u001b[49m\u001b[43m)\u001b[49m\n",
      "\u001b[0;31mTypeError\u001b[0m: array() argument 1 must be a unicode character, not list"
     ]
    }
   ],
   "source": [
    "arr.array([1,2,4,5,6])"
   ]
  },
  {
   "cell_type": "code",
   "execution_count": 3,
   "id": "dc551ad1-a9a0-4183-9e16-955dd4a23fd1",
   "metadata": {},
   "outputs": [],
   "source": [
    "\n",
    "my_array = arr.array('i', [1, 2, 3])"
   ]
  },
  {
   "cell_type": "code",
   "execution_count": 4,
   "id": "5a4f51a8-7000-4461-8bcb-6956d90f1b4c",
   "metadata": {},
   "outputs": [
    {
     "data": {
      "text/plain": [
       "array('i', [1, 2, 3])"
      ]
     },
     "execution_count": 4,
     "metadata": {},
     "output_type": "execute_result"
    }
   ],
   "source": [
    "my_array"
   ]
  },
  {
   "cell_type": "code",
   "execution_count": 7,
   "id": "ecf618f1-2b77-4d71-b06f-f488fd4b97bf",
   "metadata": {},
   "outputs": [],
   "source": [
    "a = 1"
   ]
  },
  {
   "cell_type": "code",
   "execution_count": 11,
   "id": "6104c4af-9174-4de2-b6e4-a59ce829c224",
   "metadata": {},
   "outputs": [
    {
     "data": {
      "text/plain": [
       "4323992768"
      ]
     },
     "execution_count": 11,
     "metadata": {},
     "output_type": "execute_result"
    }
   ],
   "source": [
    "for i in range(10):\n",
    "    "
   ]
  },
  {
   "cell_type": "code",
   "execution_count": null,
   "id": "80a51874-3680-4e9d-b413-1e77ea46fd33",
   "metadata": {},
   "outputs": [],
   "source": [
    "for(i=1; i<n;i++){\n",
    "    st:: iterdsf\n",
    "}"
   ]
  },
  {
   "cell_type": "markdown",
   "id": "a81fa232-0bbc-4bda-8914-de5197f77ee7",
   "metadata": {},
   "source": [
    "Given an integer, perform the following conditional actions:\n",
    "\n",
    "your programme will ask an integer then do the following.\n",
    "\n",
    "* If  is odd, print Weird\n",
    "* If  is even and in the inclusive range of 2 to 5 , print Not Weird\n",
    "* If  is even and in the inclusive range of 6  to 20 , print Weird\n",
    "* If  is even and greater than 20 , print Not Weird"
   ]
  },
  {
   "cell_type": "code",
   "execution_count": 27,
   "id": "48a93781-c093-4059-8a2b-e7dabab1cace",
   "metadata": {},
   "outputs": [
    {
     "name": "stdin",
     "output_type": "stream",
     "text": [
      "Enter a integer 22\n"
     ]
    },
    {
     "name": "stdout",
     "output_type": "stream",
     "text": [
      "Not Weird\n"
     ]
    }
   ],
   "source": [
    "ip = int(input(\"Enter a integer\"))\n",
    "\n",
    "if ip%2==0:\n",
    "    if ip>20: print(\"Not Weird\")\n",
    "    elif ip>=6: print(\"Weird\")\n",
    "    elif ip>=2: print(\"Not Weird\")\n",
    "else: print(\"Weird\")"
   ]
  },
  {
   "cell_type": "code",
   "execution_count": null,
   "id": "ccadacd8-30e5-4957-9c8f-bd9ce6e249e0",
   "metadata": {},
   "outputs": [],
   "source": []
  }
 ],
 "metadata": {
  "kernelspec": {
   "display_name": "Python 3 (ipykernel)",
   "language": "python",
   "name": "python3"
  },
  "language_info": {
   "codemirror_mode": {
    "name": "ipython",
    "version": 3
   },
   "file_extension": ".py",
   "mimetype": "text/x-python",
   "name": "python",
   "nbconvert_exporter": "python",
   "pygments_lexer": "ipython3",
   "version": "3.11.4"
  }
 },
 "nbformat": 4,
 "nbformat_minor": 5
}
