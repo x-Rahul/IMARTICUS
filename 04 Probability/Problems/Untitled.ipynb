{
 "cells": [
  {
   "cell_type": "code",
   "execution_count": 9,
   "id": "a0b77b3a-5c68-4710-a5d3-b5f23c4296e7",
   "metadata": {},
   "outputs": [],
   "source": [
    "import numpy as np\n",
    "import seaborn as sns\n",
    "import random"
   ]
  },
  {
   "cell_type": "code",
   "execution_count": 14,
   "id": "361bd73a-2910-486e-bf94-d145c75186aa",
   "metadata": {},
   "outputs": [],
   "source": [
    "d = []\n",
    "for i in range(10000):\n",
    "    d.append(random.normalvariate())"
   ]
  },
  {
   "cell_type": "code",
   "execution_count": 16,
   "id": "9a689492-155b-47af-8725-7101839c87ab",
   "metadata": {
    "scrolled": true
   },
   "outputs": [
    {
     "name": "stderr",
     "output_type": "stream",
     "text": [
      "/Library/Frameworks/Python.framework/Versions/3.11/lib/python3.11/site-packages/seaborn/axisgrid.py:118: UserWarning: The figure layout has changed to tight\n",
      "  self._figure.tight_layout(*args, **kwargs)\n"
     ]
    },
    {
     "data": {
      "text/plain": [
       "<seaborn.axisgrid.FacetGrid at 0x15f5ea090>"
      ]
     },
     "execution_count": 16,
     "metadata": {},
     "output_type": "execute_result"
    },
    {
     "data": {
      "image/png": "[encoded data removed]",
      "text/plain": [
       "<Figure size 500x500 with 1 Axes>"
      ]
     },
     "metadata": {},
     "output_type": "display_data"
    }
   ],
   "source": [
    "sns.displot(d)"
   ]
  },
  {
   "cell_type": "code",
   "execution_count": 25,
   "id": "c0076530-14ca-4ef2-9d2e-b869d9989e23",
   "metadata": {},
   "outputs": [],
   "source": [
    "mean = 266\n",
    "std  = 16"
   ]
  },
  {
   "cell_type": "code",
   "execution_count": 31,
   "id": "25fcf1b3-da91-4c16-82f6-ba20192ae273",
   "metadata": {},
   "outputs": [
    {
     "data": {
      "text/plain": [
       "-1.625"
      ]
     },
     "execution_count": 31,
     "metadata": {},
     "output_type": "execute_result"
    }
   ],
   "source": [
    "x  = 240\n",
    "(x-mean)/std"
   ]
  },
  {
   "cell_type": "code",
   "execution_count": 33,
   "id": "f0ed6cd3-6292-41b9-a03a-8634642be103",
   "metadata": {},
   "outputs": [
    {
     "data": {
      "text/plain": [
       "0.525"
      ]
     },
     "execution_count": 33,
     "metadata": {},
     "output_type": "execute_result"
    }
   ],
   "source": [
    "1-.475"
   ]
  },
  {
   "cell_type": "code",
   "execution_count": 32,
   "id": "9498dd4c-5ccc-4fff-a479-c28cb48a5f40",
   "metadata": {},
   "outputs": [
    {
     "data": {
      "text/plain": [
       "0.25"
      ]
     },
     "execution_count": 32,
     "metadata": {},
     "output_type": "execute_result"
    }
   ],
   "source": [
    "x = 270\n",
    "(x-mean)/std"
   ]
  },
  {
   "cell_type": "code",
   "execution_count": 34,
   "id": "f898a109-a4cd-45c7-ad8c-8a4ed6891cec",
   "metadata": {},
   "outputs": [
    {
     "data": {
      "text/plain": [
       "12.369999999999997"
      ]
     },
     "execution_count": 34,
     "metadata": {},
     "output_type": "execute_result"
    }
   ],
   "source": []
  },
  {
   "cell_type": "code",
   "execution_count": 35,
   "id": "79134c3f-5156-4c69-9179-0f177301bc58",
   "metadata": {},
   "outputs": [],
   "source": [
    "mean = 527\n",
    "std  = 112\n"
   ]
  },
  {
   "cell_type": "code",
   "execution_count": 41,
   "id": "3cde3e54-da05-45ac-8be1-94a7b96813d3",
   "metadata": {},
   "outputs": [
    {
     "data": {
      "text/plain": [
       "714.04"
      ]
     },
     "execution_count": 41,
     "metadata": {},
     "output_type": "execute_result"
    }
   ],
   "source": [
    "112*(1.67) + 527"
   ]
  },
  {
   "cell_type": "code",
   "execution_count": 43,
   "id": "efa8e587-6fd3-47bc-8822-5f870c414e4d",
   "metadata": {},
   "outputs": [
    {
     "data": {
      "text/plain": [
       "257.68"
      ]
     },
     "execution_count": 43,
     "metadata": {},
     "output_type": "execute_result"
    }
   ],
   "source": [
    "16*(-.52)+266"
   ]
  },
  {
   "cell_type": "code",
   "execution_count": 44,
   "id": "ebedcfeb-3483-4133-9870-67227ff982dc",
   "metadata": {},
   "outputs": [
    {
     "data": {
      "text/plain": [
       "1.7999999999999998"
      ]
     },
     "execution_count": 44,
     "metadata": {},
     "output_type": "execute_result"
    }
   ],
   "source": [
    "\n"
   ]
  }
 ],
 "metadata": {
  "kernelspec": {
   "display_name": "Python 3 (ipykernel)",
   "language": "python",
   "name": "python3"
  },
  "language_info": {
   "codemirror_mode": {
    "name": "ipython",
    "version": 3
   },
   "file_extension": ".py",
   "mimetype": "text/x-python",
   "name": "python",
   "nbconvert_exporter": "python",
   "pygments_lexer": "ipython3",
   "version": "3.11.4"
  }
 },
 "nbformat": 4,
 "nbformat_minor": 5
}
