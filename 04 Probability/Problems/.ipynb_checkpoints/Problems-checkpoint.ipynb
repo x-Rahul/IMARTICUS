{
 "cells": [
  {
   "cell_type": "markdown",
   "id": "915b0b51-c18b-4265-8cd3-aaa3d74e074b",
   "metadata": {},
   "source": [
    "1. We have a bag with 9 red marbles, 2 blue marbles, and 3 green marbles in it. what is the probability of selecting a non-blue marble from the bag"
   ]
  },
  {
   "cell_type": "code",
   "execution_count": 18,
   "id": "67b9b9af-4a9a-43a6-ac87-0b72bbb047bf",
   "metadata": {},
   "outputs": [
    {
     "name": "stdout",
     "output_type": "stream",
     "text": [
      "P(X = Non Blue Marble): 0.8571428571428571\n"
     ]
    }
   ],
   "source": [
    "marble = {\n",
    "    'red': 9,\n",
    "    'blue': 2,\n",
    "    'green': 3\n",
    "}\n",
    "f = marble['red'] + marble['green']\n",
    "T = sum(marble.values())\n",
    "\n",
    "P = f/T\n",
    "print(f\"P(X = Non Blue Marble): {P}\")"
   ]
  },
  {
   "cell_type": "markdown",
   "id": "59e2f7d6-de13-421f-aa9e-1432cf3ea615",
   "metadata": {},
   "source": [
    "2. If a number is randomly chosen from the following list, what is the probability that the number is multiple of 5?</br>\n",
    "[32,49, 55, 30, 56, 28, 50, 40, 40, 45, 3, 25]"
   ]
  },
  {
   "cell_type": "code",
   "execution_count": 24,
   "id": "f9dbeaf2-9c10-4848-83d5-b405a3c50097",
   "metadata": {},
   "outputs": [
    {
     "name": "stdout",
     "output_type": "stream",
     "text": [
      "P(X = Divisible by 5): 0.5833333333333334\n"
     ]
    }
   ],
   "source": [
    "nums = [32,49, 55, 30, 56, 28, 50, 40, 40, 45, 3, 25]\n",
    "T = len(nums)\n",
    "# fav = [i for i in nums if i%5==0]\n",
    "list(filter(lambda i:i%5==0, nums))\n",
    "f = len(fav)\n",
    "\n",
    "P = f/T\n",
    "print(f\"P(X = Divisible by 5): {P}\")"
   ]
  },
  {
   "cell_type": "markdown",
   "id": "7bdfb3d6-a133-4218-a919-8c4525c7fe48",
   "metadata": {
    "scrolled": true
   },
   "source": [
    "3. The circumference of a circle is 36$\\pi$. Contained in that circle is a smaller circle with area 16$\\pi$. A point is selected at random from inside the larger circle. what is the probability that the point also lies in the smaller circle."
   ]
  },
  {
   "cell_type": "code",
   "execution_count": 33,
   "id": "e87ad276-7310-4521-b20e-99d60da9cf73",
   "metadata": {},
   "outputs": [
    {
     "name": "stdout",
     "output_type": "stream",
     "text": [
      "P(X): 0.04938271604938272\n"
     ]
    }
   ],
   "source": [
    "# Here favourable outcome is the area of smaller circle and Total outcome is area of bigger circle.\n",
    "import math\n",
    "Circum = 36* math.pi\n",
    "R = Circum/(2*math.pi)\n",
    "A = math.pi * R**2\n",
    "\n",
    "T = A\n",
    "f = 16*math.pi\n",
    "P = f/T\n",
    "print(f\"P(X): {P}\")"
   ]
  },
  {
   "cell_type": "markdown",
   "id": "5a997fef-7290-4bc7-a02d-8135d594c3c5",
   "metadata": {},
   "source": [
    "4. You have 8 coins in a bag. 3 of them are unfair in that they have 60% chance if comming up heads when flipped (the rest are fair coins). you randomly choose one coin from the bag and flip it two times. What is the percent probability of getting 2 heads."
   ]
  },
  {
   "cell_type": "code",
   "execution_count": 36,
   "id": "73081fa5-4b18-4371-98ca-19934ed27407",
   "metadata": {},
   "outputs": [
    {
     "name": "stdout",
     "output_type": "stream",
     "text": [
      "0.29125\n"
     ]
    }
   ],
   "source": [
    "# If fair coin choosen\n",
    "p_fair_coin = 5/8\n",
    "p_hh_fair = 0.5*0.5\n",
    "p1 = p_fair_coin*p_hh_fair\n",
    "\n",
    "# If unfair coin choosen\n",
    "p_unfair_coin = 3/8\n",
    "p_hh_unfair = 0.6*0.6\n",
    "p2 = p_unfair_coin*p_hh_unfair\n",
    "\n",
    "p_required = p1+p2\n",
    "print(p_required)"
   ]
  },
  {
   "cell_type": "markdown",
   "id": "b70d6f7e-439c-40cb-b5c1-767305cdefab",
   "metadata": {},
   "source": [
    "1. 10 ping pong ball are numbered from 1-10 placed in a bag. one bag is removed from the bag. find the expected value and variance.Find the probability that the number on the drawn ping pong ball is between 7 and 10"
   ]
  },
  {
   "cell_type": "code",
   "execution_count": 4,
   "id": "35abe05a-9d03-4553-acb1-b2386e2943bb",
   "metadata": {},
   "outputs": [],
   "source": [
    "import numpy as np"
   ]
  },
  {
   "cell_type": "markdown",
   "id": "c317b77b-7fd3-42b0-8032-19371950bf9c",
   "metadata": {},
   "source": [
    "1. A 6 sided die is rolled 10 times. Using binomial distribution find the following.\n",
    "    1. Probability of getting 4 three times\n",
    "    2. prob of getting a 4 atleast 3 times"
   ]
  },
  {
   "cell_type": "code",
   "execution_count": 19,
   "id": "c48ca02f-4c41-4332-a955-fbe07e9a3517",
   "metadata": {},
   "outputs": [],
   "source": [
    "import math\n",
    "def Binomial_pmf(n, r, p, mean = True, var=True):\n",
    "    q = 1-p\n",
    "    Prob = math.comb(n, r)*(p**r) * q**(n-r)\n",
    "    Ex = n*p\n",
    "    varr = p*q\n",
    "    if mean: print(f\"Mean: {Ex}\")\n",
    "    if var: print(f\"Variance: {varr}\")\n",
    "    return Prob"
   ]
  },
  {
   "cell_type": "code",
   "execution_count": 21,
   "id": "178d3f59-cbc2-47a9-aa5a-126c1f34efd9",
   "metadata": {},
   "outputs": [
    {
     "name": "stdout",
     "output_type": "stream",
     "text": [
      "Mean: 1.6666666666666665\n",
      "Variance: 0.1388888888888889\n"
     ]
    },
    {
     "data": {
      "text/plain": [
       "0.15504535957425192"
      ]
     },
     "execution_count": 21,
     "metadata": {},
     "output_type": "execute_result"
    }
   ],
   "source": [
    "# part 1\n",
    "n = 10\n",
    "r = 3\n",
    "p = 1/6\n",
    "Binomial_pmf(n, r, p)"
   ]
  },
  {
   "cell_type": "code",
   "execution_count": 30,
   "id": "83e40100-4c83-44a8-bb5a-5a0f1d6b9476",
   "metadata": {},
   "outputs": [
    {
     "data": {
      "text/plain": [
       "0.22477320212874055"
      ]
     },
     "execution_count": 30,
     "metadata": {},
     "output_type": "execute_result"
    }
   ],
   "source": [
    "# part 2\n",
    "sm = 0\n",
    "for i in range(3, 11):\n",
    "    sm += Binomial_pmf(n = 10, r = i, p=1/6, mean=False, var=False)\n",
    "sm"
   ]
  },
  {
   "cell_type": "markdown",
   "id": "7fc93943-5a7a-4df9-8606-c4a29a121bd5",
   "metadata": {},
   "source": [
    "A factory that produces light bulb. Determine that 1 out of 10 light bulb are defective if 4 light bulb are selected at random, What is the probaility that \n",
    "1. no bulb is defective\n",
    "2. atleast 3 bulbs are defective\n",
    "3. atleast 3 bulb are non-defective"
   ]
  },
  {
   "cell_type": "code",
   "execution_count": 34,
   "id": "4ad3c4c4-bff0-4c39-a623-47f5d8479960",
   "metadata": {},
   "outputs": [
    {
     "name": "stdout",
     "output_type": "stream",
     "text": [
      "Mean: 0.4\n",
      "Variance: 0.09000000000000001\n"
     ]
    },
    {
     "data": {
      "text/plain": [
       "0.6561"
      ]
     },
     "execution_count": 34,
     "metadata": {},
     "output_type": "execute_result"
    }
   ],
   "source": [
    "Binomial_pmf(n=4, r=0, p=0.1)"
   ]
  },
  {
   "cell_type": "code",
   "execution_count": 39,
   "id": "a1c7d9bc-436b-4e5a-92a0-0c1ffe261ec0",
   "metadata": {},
   "outputs": [
    {
     "data": {
      "text/plain": [
       "0.0037000000000000006"
      ]
     },
     "execution_count": 39,
     "metadata": {},
     "output_type": "execute_result"
    }
   ],
   "source": [
    "# part 2\n",
    "sm = 0\n",
    "for i in range(3, 5):\n",
    "    sm += Binomial_pmf(n = 4, r = i, p=0.1, mean=False, var=False)\n",
    "sm"
   ]
  },
  {
   "cell_type": "markdown",
   "id": "bcad4c85-a5a3-4eea-9508-3a79412ce408",
   "metadata": {},
   "source": [
    "A manufacturer produces light bulbs that are packed into boxes of 100. If qualility control studies indicate tha 0.5% of the light bulbs produces are defective. What is the probability of the following\n",
    "1. No Defective\n",
    "2. Two or more Defective\n"
   ]
  },
  {
   "cell_type": "code",
   "execution_count": 50,
   "id": "be98e2a4-cb26-41c1-b6b5-d2d4495972bf",
   "metadata": {},
   "outputs": [
    {
     "data": {
      "text/plain": [
       "0.6065306597126334"
      ]
     },
     "execution_count": 50,
     "metadata": {},
     "output_type": "execute_result"
    }
   ],
   "source": [
    "x = 0\n",
    "lam = 0.5\n",
    "\n",
    "e = 2.71828\n",
    "P_x = math.exp(-lam)*math.pow(lam, x)/math.factorial(x)\n",
    "P_x"
   ]
  },
  {
   "cell_type": "code",
   "execution_count": 51,
   "id": "457380d8-10a5-45b2-b1a0-e24191165774",
   "metadata": {},
   "outputs": [
    {
     "data": {
      "text/plain": [
       "0.09020401043104989"
      ]
     },
     "execution_count": 51,
     "metadata": {},
     "output_type": "execute_result"
    }
   ],
   "source": [
    "lam = 0.5\n",
    "sm=0\n",
    "for i in range(2, 101):\n",
    "    sm+= math.exp(-lam)*math.pow(lam, i)/math.factorial(i)\n",
    "sm"
   ]
  },
  {
   "cell_type": "markdown",
   "id": "daadb84d-ee8e-4106-ae12-f1c8ef9f62b5",
   "metadata": {},
   "source": [
    "Suppose it has been observed that, on everage 180 cars pass a specified point on a particular road in the morning rush hour. Due to impeding roadworks it is estimated that congestion will occur to city center if more than 5 cars pass tthe point in minutes. what is the prob of congestion."
   ]
  },
  {
   "cell_type": "code",
   "execution_count": 56,
   "id": "2e60cc59-ea9b-45ab-bc07-3df1bcbcce2e",
   "metadata": {},
   "outputs": [
    {
     "data": {
      "text/plain": [
       "0.08391794203130343"
      ]
     },
     "execution_count": 56,
     "metadata": {},
     "output_type": "execute_result"
    }
   ],
   "source": [
    "lam = 180/60\n",
    "# P(>5) -> congestion\n",
    "# p(congestion) = 1-P(x<=5)\n",
    "\n",
    "sm = 0\n",
    "for i in range(6):\n",
    "    sm+= math.exp(-lam)*math.pow(lam, i)/math.factorial(i)\n",
    "1-sm"
   ]
  },
  {
   "cell_type": "markdown",
   "id": "95ff7064-50ba-4ae0-b5bd-2be4cb329661",
   "metadata": {},
   "source": [
    "The mean number of bacteria per ml of liquid is known to be 6. Find the prob that in 1 ml of liquid, ther will be,\n",
    "1. 0\n",
    "2. 1\n",
    "3. 2\n",
    "4. 3\n",
    "5. more than 6"
   ]
  },
  {
   "cell_type": "code",
   "execution_count": 57,
   "id": "d3561310-0547-4230-a4a7-7df98581bf8c",
   "metadata": {},
   "outputs": [
    {
     "data": {
      "text/plain": [
       "0.0024787521766663585"
      ]
     },
     "execution_count": 57,
     "metadata": {},
     "output_type": "execute_result"
    }
   ],
   "source": [
    "x = 0\n",
    "lam = 6\n",
    "\n",
    "P_x = math.exp(-lam)*math.pow(lam, x)/math.factorial(x)\n",
    "P_x"
   ]
  },
  {
   "cell_type": "code",
   "execution_count": 58,
   "id": "ee171cfb-616f-45b4-9821-d1ae01670fcd",
   "metadata": {},
   "outputs": [
    {
     "data": {
      "text/plain": [
       "0.014872513059998151"
      ]
     },
     "execution_count": 58,
     "metadata": {},
     "output_type": "execute_result"
    }
   ],
   "source": [
    "x = 1\n",
    "lam = 6\n",
    "\n",
    "P_x = math.exp(-lam)*math.pow(lam, x)/math.factorial(x)\n",
    "P_x"
   ]
  },
  {
   "cell_type": "code",
   "execution_count": 59,
   "id": "a38279c5-94df-4943-9220-f26eb9a96400",
   "metadata": {},
   "outputs": [
    {
     "data": {
      "text/plain": [
       "0.044617539179994455"
      ]
     },
     "execution_count": 59,
     "metadata": {},
     "output_type": "execute_result"
    }
   ],
   "source": [
    "x = 2\n",
    "lam = 6\n",
    "\n",
    "P_x = math.exp(-lam)*math.pow(lam, x)/math.factorial(x)\n",
    "P_x"
   ]
  },
  {
   "cell_type": "code",
   "execution_count": 60,
   "id": "d2a61296-96af-4ee7-8f8c-6a16638d8d9f",
   "metadata": {},
   "outputs": [
    {
     "data": {
      "text/plain": [
       "0.08923507835998891"
      ]
     },
     "execution_count": 60,
     "metadata": {},
     "output_type": "execute_result"
    }
   ],
   "source": [
    "x = 3\n",
    "lam = 6\n",
    "\n",
    "P_x = math.exp(-lam)*math.pow(lam, x)/math.factorial(x)\n",
    "P_x"
   ]
  },
  {
   "cell_type": "code",
   "execution_count": 62,
   "id": "55b48c37-aaec-4c45-a93f-a859eaf6c237",
   "metadata": {},
   "outputs": [
    {
     "data": {
      "text/plain": [
       "0.3936972175874087"
      ]
     },
     "execution_count": 62,
     "metadata": {},
     "output_type": "execute_result"
    }
   ],
   "source": [
    "sm = 0\n",
    "lam = 6\n",
    "for i in range(7):\n",
    "    sm+= math.exp(-lam)*math.pow(lam, i)/math.factorial(i)\n",
    "\n",
    "1-sm"
   ]
  },
  {
   "cell_type": "markdown",
   "id": "0e586a71-50ba-4f20-818b-3fccd24fa8a6",
   "metadata": {},
   "source": [
    "It takes a shuttle 20 mins to travel from stop A to stop B. The shuttle between A and B continuously throughout the day. what is the probability that a person at stop A will wait more than 8 mins for shuttle to arrive?"
   ]
  },
  {
   "cell_type": "code",
   "execution_count": 64,
   "id": "cb186645-3109-4674-baea-3997f2a6a7cb",
   "metadata": {},
   "outputs": [
    {
     "data": {
      "text/plain": [
       "0.0625"
      ]
     },
     "execution_count": 64,
     "metadata": {},
     "output_type": "execute_result"
    }
   ],
   "source": [
    "t = 20\n",
    "# P(>8 mins)\n",
    "\n",
    "1/16"
   ]
  },
  {
   "cell_type": "markdown",
   "id": "fd2ad438-9ff8-4685-85c3-15fe5b4b371b",
   "metadata": {},
   "source": [
    "An electric car's battery allows for random driving range uniformly distributed between 150 to 250 miles on a full charge.\n",
    "What is the probability that the car can drive less than 200 miles on full charge ?"
   ]
  },
  {
   "cell_type": "code",
   "execution_count": null,
   "id": "df2d3cd5-f90d-4e57-a172-f56665352d23",
   "metadata": {},
   "outputs": [],
   "source": []
  }
 ],
 "metadata": {
  "kernelspec": {
   "display_name": "Python 3 (ipykernel)",
   "language": "python",
   "name": "python3"
  },
  "language_info": {
   "codemirror_mode": {
    "name": "ipython",
    "version": 3
   },
   "file_extension": ".py",
   "mimetype": "text/x-python",
   "name": "python",
   "nbconvert_exporter": "python",
   "pygments_lexer": "ipython3",
   "version": "3.11.4"
  }
 },
 "nbformat": 4,
 "nbformat_minor": 5
}
