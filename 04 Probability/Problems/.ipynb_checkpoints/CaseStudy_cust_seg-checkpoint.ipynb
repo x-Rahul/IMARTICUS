{
 "cells": [
  {
   "cell_type": "markdown",
   "id": "0263f066-5849-441b-8601-c88d60b83a43",
   "metadata": {},
   "source": [
    "# Hypothesis Case Study "
   ]
  },
  {
   "cell_type": "markdown",
   "id": "49d2a9ff-3ec1-4d8e-a4b1-6d4543a43924",
   "metadata": {},
   "source": [
    "Description about data: The data set (cust_seg) is information of 200\n",
    "customers who were part of the last campaign conducted by one of the major\n",
    "Bank-credit card division. The CMO would like to test below hypothesis based\n",
    "on the data.\n",
    "1. Card usage has been improved significantly from last year usage which is 50. (Hint:\n",
    "Comparing card usage of post campaign of 1 month with last year hypothesized value 50)\n",
    "2. The last campaign was successful in terms usage of credit card. (Hint: Comparing means\n",
    "for card usage of pre & post usage of campaign)\n",
    "3. Is there any difference between males & females in terms of credit card usage? (Hint:\n",
    "Comparing means of card usage for males & females)\n",
    "4. Is there any difference between segments of customers in terms of credit card usage?\n",
    "(Hint: Comparing means of card usage of different segment customers)\n",
    "5. Is there any relation between region & Segment? (Hint: Finding the relationship\n",
    "between categorical variables region and Segment)\n",
    "6. Is the relationship between card usage in the latest month and pre usage of campaign?"
   ]
  },
  {
   "cell_type": "code",
   "execution_count": 1,
   "id": "af9ee5f0-20de-45e4-81d4-c7dfe822d436",
   "metadata": {},
   "outputs": [],
   "source": [
    "import pandas as pd"
   ]
  },
  {
   "cell_type": "code",
   "execution_count": 2,
   "id": "45f32637-3b6d-4a46-8a19-a15f5defa638",
   "metadata": {},
   "outputs": [],
   "source": [
    "df = pd.read_csv(\"/Users/rahulmeena/Imarticus/GitHub/IMARTICUS/Datasets/class_exercise/cust_seg.csv\")"
   ]
  },
  {
   "cell_type": "code",
   "execution_count": 3,
   "id": "b4c88e75-da35-4a5d-9e56-4082db4718b0",
   "metadata": {},
   "outputs": [
    {
     "data": {
      "text/html": [
       "<div>\n",
       "<style scoped>\n",
       "    .dataframe tbody tr th:only-of-type {\n",
       "        vertical-align: middle;\n",
       "    }\n",
       "\n",
       "    .dataframe tbody tr th {\n",
       "        vertical-align: top;\n",
       "    }\n",
       "\n",
       "    .dataframe thead th {\n",
       "        text-align: right;\n",
       "    }\n",
       "</style>\n",
       "<table border=\"1\" class=\"dataframe\">\n",
       "  <thead>\n",
       "    <tr style=\"text-align: right;\">\n",
       "      <th></th>\n",
       "      <th>custid</th>\n",
       "      <th>sex</th>\n",
       "      <th>AqChannel</th>\n",
       "      <th>region</th>\n",
       "      <th>Marital_status</th>\n",
       "      <th>segment</th>\n",
       "      <th>pre_usage</th>\n",
       "      <th>Post_usage_1month</th>\n",
       "      <th>Latest_mon_usage</th>\n",
       "      <th>post_usage_2ndmonth</th>\n",
       "    </tr>\n",
       "  </thead>\n",
       "  <tbody>\n",
       "    <tr>\n",
       "      <th>0</th>\n",
       "      <td>70</td>\n",
       "      <td>0</td>\n",
       "      <td>4</td>\n",
       "      <td>1</td>\n",
       "      <td>1</td>\n",
       "      <td>1</td>\n",
       "      <td>57</td>\n",
       "      <td>52</td>\n",
       "      <td>49.2</td>\n",
       "      <td>57.2</td>\n",
       "    </tr>\n",
       "    <tr>\n",
       "      <th>1</th>\n",
       "      <td>121</td>\n",
       "      <td>1</td>\n",
       "      <td>4</td>\n",
       "      <td>2</td>\n",
       "      <td>1</td>\n",
       "      <td>3</td>\n",
       "      <td>68</td>\n",
       "      <td>59</td>\n",
       "      <td>63.6</td>\n",
       "      <td>64.9</td>\n",
       "    </tr>\n",
       "    <tr>\n",
       "      <th>2</th>\n",
       "      <td>86</td>\n",
       "      <td>0</td>\n",
       "      <td>4</td>\n",
       "      <td>3</td>\n",
       "      <td>1</td>\n",
       "      <td>1</td>\n",
       "      <td>44</td>\n",
       "      <td>33</td>\n",
       "      <td>64.8</td>\n",
       "      <td>36.3</td>\n",
       "    </tr>\n",
       "    <tr>\n",
       "      <th>3</th>\n",
       "      <td>141</td>\n",
       "      <td>0</td>\n",
       "      <td>4</td>\n",
       "      <td>3</td>\n",
       "      <td>1</td>\n",
       "      <td>3</td>\n",
       "      <td>63</td>\n",
       "      <td>44</td>\n",
       "      <td>56.4</td>\n",
       "      <td>48.4</td>\n",
       "    </tr>\n",
       "    <tr>\n",
       "      <th>4</th>\n",
       "      <td>172</td>\n",
       "      <td>0</td>\n",
       "      <td>4</td>\n",
       "      <td>2</td>\n",
       "      <td>1</td>\n",
       "      <td>2</td>\n",
       "      <td>47</td>\n",
       "      <td>52</td>\n",
       "      <td>68.4</td>\n",
       "      <td>57.2</td>\n",
       "    </tr>\n",
       "  </tbody>\n",
       "</table>\n",
       "</div>"
      ],
      "text/plain": [
       "   custid  sex  AqChannel  region  Marital_status  segment  pre_usage  \\\n",
       "0      70    0          4       1               1        1         57   \n",
       "1     121    1          4       2               1        3         68   \n",
       "2      86    0          4       3               1        1         44   \n",
       "3     141    0          4       3               1        3         63   \n",
       "4     172    0          4       2               1        2         47   \n",
       "\n",
       "   Post_usage_1month  Latest_mon_usage  post_usage_2ndmonth  \n",
       "0                 52              49.2                 57.2  \n",
       "1                 59              63.6                 64.9  \n",
       "2                 33              64.8                 36.3  \n",
       "3                 44              56.4                 48.4  \n",
       "4                 52              68.4                 57.2  "
      ]
     },
     "execution_count": 3,
     "metadata": {},
     "output_type": "execute_result"
    }
   ],
   "source": [
    "df.head()"
   ]
  },
  {
   "cell_type": "code",
   "execution_count": 4,
   "id": "2dcde8d1-1bed-40c6-af0c-e95350ec6924",
   "metadata": {},
   "outputs": [],
   "source": [
    "from scipy import stats"
   ]
  },
  {
   "cell_type": "markdown",
   "id": "f0c7428e-0113-4fa1-8af3-f33a28a39632",
   "metadata": {},
   "source": [
    "## **Q1** Card usage has been improved significantly from last year usage which is 50. "
   ]
  },
  {
   "cell_type": "code",
   "execution_count": 5,
   "id": "65626e64-aa0e-4d25-83a9-ec689ee955d3",
   "metadata": {},
   "outputs": [
    {
     "data": {
      "text/plain": [
       "TtestResult(statistic=3.075895518975875, pvalue=0.0011969244515674076, df=199)"
      ]
     },
     "execution_count": 5,
     "metadata": {},
     "output_type": "execute_result"
    }
   ],
   "source": [
    "stats.ttest_1samp(a=df[\"pre_usage\"], popmean=50, alternative=\"greater\")"
   ]
  },
  {
   "cell_type": "markdown",
   "id": "d4a456b4-7667-411f-916b-e7ea6a0f2c57",
   "metadata": {},
   "source": [
    "**As p-value is less than α value which means there are not enough statistical evidence in support of null, so we fail to accept null hyposthesis. So we accept alternative i.e. sample mean is greater than 50. Hence this year average spending has increased significantly.**"
   ]
  },
  {
   "cell_type": "markdown",
   "id": "df2dffe9-348f-4653-9d1b-10641b0d973e",
   "metadata": {},
   "source": [
    "## **Q2** The last campaign was successful in terms usage of credit card. "
   ]
  },
  {
   "cell_type": "markdown",
   "id": "c53a54f0-4e4c-4e61-acd7-c23f5eb105ed",
   "metadata": {},
   "source": [
    "Null Hypothesis: Avg. spending before compaign = avg. spending after compaign </br>\n",
    "Alter Hypothesis: Avg. spending before compaign < avg. spending after compaign\n",
    "\n",
    "Confidence Intervel (CI): 99% => α = 0.01 (1%)\n",
    "\n",
    "Data collection\n",
    "\n",
    "Test: paired sapmple t-test\n",
    "\n",
    "Decision Rule: Decision Rule: if p value is greater or equal to alpha then we except NULL HYPOTHESIS else ALTER HYPOTHESIS."
   ]
  },
  {
   "cell_type": "code",
   "execution_count": 8,
   "id": "3a389dd6-c562-4b6d-bd60-9d61926f5005",
   "metadata": {},
   "outputs": [
    {
     "data": {
      "text/plain": [
       "TtestResult(statistic=-17.431588891905882, pvalue=3.1680448538120343e-42, df=199)"
      ]
     },
     "execution_count": 8,
     "metadata": {},
     "output_type": "execute_result"
    }
   ],
   "source": [
    "stats.ttest_rel(a=df[\"pre_usage\"], b=df[\"Latest_mon_usage\"], alternative=\"less\")"
   ]
  },
  {
   "cell_type": "markdown",
   "id": "1807f1a1-acb7-41b3-a9ab-b2d63fd8fe92",
   "metadata": {},
   "source": [
    "**As p-value is less than α value which means there are not enough statistical evidence in support of null, so we fail to accept null hyposthesis. So we accept alternative i.e. average spending before compaign is less than average spending after compaign, means campaign is successfull.**"
   ]
  },
  {
   "cell_type": "markdown",
   "id": "24f17a10-7a18-4abd-b31b-778424680d31",
   "metadata": {},
   "source": [
    "## **Q3** Is there any difference between males & females in terms of credit card usage? (Hint: Comparing means of card usage for males & females)"
   ]
  },
  {
   "cell_type": "markdown",
   "id": "7f175edc-7193-46ab-8f93-db0988be8c82",
   "metadata": {},
   "source": [
    "Null Hypothesis: Avg. spending of male = avg. spending of female </br>\n",
    "Alter Hypothesis: Avg. spending of male <> avg. spending of female\n",
    "\n",
    "Confidence Intervel (CI): 95% => α = 0.05 (5%)\n",
    "\n",
    "Data collection\n",
    "\n",
    "Test: Independent Sample t-test / two sample t-test\n",
    "\n",
    "Decision Rule: Decision Rule: if p value is greater or equal to alpha then we except NULL HYPOTHESIS else ALTER HYPOTHESIS."
   ]
  },
  {
   "cell_type": "code",
   "execution_count": 9,
   "id": "dac1fb98-f97c-4738-9b99-748b1a2c90a5",
   "metadata": {},
   "outputs": [],
   "source": [
    "male_data = df[df[\"sex\"]==1]\n",
    "female_data = df[df[\"sex\"]==0]"
   ]
  },
  {
   "cell_type": "code",
   "execution_count": 10,
   "id": "dc762802-610c-4a4f-b5fa-889af7426059",
   "metadata": {},
   "outputs": [
    {
     "data": {
      "text/plain": [
       "TtestResult(statistic=-0.7480109580953392, pvalue=0.4553410655360075, df=198.0)"
      ]
     },
     "execution_count": 10,
     "metadata": {},
     "output_type": "execute_result"
    }
   ],
   "source": [
    "stats.ttest_ind(a=male_data['pre_usage'], b=female_data['pre_usage'], alternative='two-sided')"
   ]
  },
  {
   "cell_type": "code",
   "execution_count": 11,
   "id": "99d08c02-fae9-40a9-be67-f13d3b586b4d",
   "metadata": {},
   "outputs": [
    {
     "data": {
      "text/plain": [
       "TtestResult(statistic=3.7340738531536797, pvalue=0.0002462546120354932, df=198.0)"
      ]
     },
     "execution_count": 11,
     "metadata": {},
     "output_type": "execute_result"
    }
   ],
   "source": [
    "stats.ttest_ind(a=male_data['Post_usage_1month'], b=female_data['Post_usage_1month'], alternative='two-sided')"
   ]
  },
  {
   "cell_type": "code",
   "execution_count": 12,
   "id": "8dfbe7fc-f28a-434a-8687-9832a7187ef0",
   "metadata": {},
   "outputs": [
    {
     "data": {
      "text/plain": [
       "TtestResult(statistic=3.7340738531536926, pvalue=0.00024625461203548154, df=198.0)"
      ]
     },
     "execution_count": 12,
     "metadata": {},
     "output_type": "execute_result"
    }
   ],
   "source": [
    "stats.ttest_ind(a=male_data['post_usage_2ndmonth'], b=female_data['post_usage_2ndmonth'], alternative='two-sided')"
   ]
  },
  {
   "cell_type": "code",
   "execution_count": 13,
   "id": "824fc397-17a3-413c-a0f5-14cabdccbd1a",
   "metadata": {},
   "outputs": [
    {
     "data": {
      "text/plain": [
       "TtestResult(statistic=-0.4129986492968787, pvalue=0.680054497423219, df=198.0)"
      ]
     },
     "execution_count": 13,
     "metadata": {},
     "output_type": "execute_result"
    }
   ],
   "source": [
    "stats.ttest_ind(a=male_data['Latest_mon_usage'], b=female_data['Latest_mon_usage'], alternative='two-sided')"
   ]
  },
  {
   "cell_type": "markdown",
   "id": "65c5ae09-2413-4959-870f-a65a861e9beb",
   "metadata": {},
   "source": [
    "**As p-value is less than α value on expenditure of males and females pre-compaign and after 2 months post compaign. For current month p-value is greater than α value.**"
   ]
  },
  {
   "cell_type": "markdown",
   "id": "3f509b42-b3fa-4e02-8c6a-bb5a53e77aa7",
   "metadata": {},
   "source": [
    "## **Q4** Is there any difference between segments of customers in terms of credit card usage?"
   ]
  },
  {
   "cell_type": "markdown",
   "id": "8eba7672-3519-41a3-ac6a-e39153b4fa06",
   "metadata": {
    "collapsed": true,
    "jupyter": {
     "outputs_hidden": true
    }
   },
   "source": [
    "Null Hypothesis: Avg. spend of seg. 1 = 2 = 3\n",
    "\n",
    "Alter Hypothesis: Atleast one segment has different mean spend\n",
    "\n",
    "Confidence Intervel (CI): 95% => α = 0.05 (5%)\n",
    "\n",
    "Data collection\n",
    "\n",
    "Test: ANOVA\n",
    "\n",
    "Decision Rule: Decision Rule: if p value is greater or equal to alpha then we except NULL HYPOTHESIS else ALTER HYPOTHESIS."
   ]
  },
  {
   "cell_type": "code",
   "execution_count": null,
   "id": "5a6cbb07-cb4f-4ccc-a831-279cb69d6ca5",
   "metadata": {},
   "outputs": [],
   "source": []
  },
  {
   "cell_type": "code",
   "execution_count": 18,
   "id": "3583f0b8-b822-4857-98ca-ec00d37ad699",
   "metadata": {},
   "outputs": [
    {
     "data": {
      "text/plain": [
       "segment\n",
       "2    105\n",
       "3     50\n",
       "1     45\n",
       "Name: count, dtype: int64"
      ]
     },
     "execution_count": 18,
     "metadata": {},
     "output_type": "execute_result"
    }
   ],
   "source": [
    "df[\"segment\"].value_counts()"
   ]
  },
  {
   "cell_type": "code",
   "execution_count": 16,
   "id": "8d6a087c-8070-4bc8-9604-22bc2d5de5db",
   "metadata": {},
   "outputs": [],
   "source": [
    "# 1 - Classic - (1L - 2L)\n",
    "# 2 - Preferred - (2L - 5L)\n",
    "# 3 - Imperia - (5L - above)"
   ]
  },
  {
   "cell_type": "code",
   "execution_count": null,
   "id": "c2e5e38d-dfaf-4ce3-8fdc-065a54634e65",
   "metadata": {},
   "outputs": [],
   "source": []
  },
  {
   "cell_type": "code",
   "execution_count": null,
   "id": "2c8f92e0-da99-4f14-a72e-233af6efb763",
   "metadata": {},
   "outputs": [],
   "source": [
    "stats.f_oneway()"
   ]
  },
  {
   "cell_type": "markdown",
   "id": "a09daf91-5535-46fd-a68a-0f9ea50722f8",
   "metadata": {},
   "source": [
    "## **Q5** Is there any relation between region & Segment? "
   ]
  },
  {
   "cell_type": "markdown",
   "id": "333c0b21-4e0d-48ab-8615-aacdb977f07c",
   "metadata": {},
   "source": [
    "Null Hypothesis: No relation\n",
    "\n",
    "Alter Hypothesis: There is relation\n",
    "\n",
    "Confidence Intervel (CI): 95% => α = 0.05 (5%)\n",
    "\n",
    "Data collection\n",
    "\n",
    "Test: Chi\n",
    "\n",
    "Decision Rule: Decision Rule: if p value is greater or equal to alpha then we except NULL HYPOTHESIS else ALTER HYPOTHESIS."
   ]
  },
  {
   "cell_type": "code",
   "execution_count": 19,
   "id": "b85c9620-51aa-4836-b59c-790af7c7a752",
   "metadata": {},
   "outputs": [
    {
     "data": {
      "text/html": [
       "<div>\n",
       "<style scoped>\n",
       "    .dataframe tbody tr th:only-of-type {\n",
       "        vertical-align: middle;\n",
       "    }\n",
       "\n",
       "    .dataframe tbody tr th {\n",
       "        vertical-align: top;\n",
       "    }\n",
       "\n",
       "    .dataframe thead th {\n",
       "        text-align: right;\n",
       "    }\n",
       "</style>\n",
       "<table border=\"1\" class=\"dataframe\">\n",
       "  <thead>\n",
       "    <tr style=\"text-align: right;\">\n",
       "      <th>segment</th>\n",
       "      <th>1</th>\n",
       "      <th>2</th>\n",
       "      <th>3</th>\n",
       "    </tr>\n",
       "    <tr>\n",
       "      <th>region</th>\n",
       "      <th></th>\n",
       "      <th></th>\n",
       "      <th></th>\n",
       "    </tr>\n",
       "  </thead>\n",
       "  <tbody>\n",
       "    <tr>\n",
       "      <th>1</th>\n",
       "      <td>16</td>\n",
       "      <td>19</td>\n",
       "      <td>12</td>\n",
       "    </tr>\n",
       "    <tr>\n",
       "      <th>2</th>\n",
       "      <td>20</td>\n",
       "      <td>44</td>\n",
       "      <td>31</td>\n",
       "    </tr>\n",
       "    <tr>\n",
       "      <th>3</th>\n",
       "      <td>9</td>\n",
       "      <td>42</td>\n",
       "      <td>7</td>\n",
       "    </tr>\n",
       "  </tbody>\n",
       "</table>\n",
       "</div>"
      ],
      "text/plain": [
       "segment   1   2   3\n",
       "region             \n",
       "1        16  19  12\n",
       "2        20  44  31\n",
       "3         9  42   7"
      ]
     },
     "execution_count": 19,
     "metadata": {},
     "output_type": "execute_result"
    }
   ],
   "source": [
    "ob = pd.crosstab(df[\"region\"], df[\"segment\"])\n",
    "ob"
   ]
  },
  {
   "cell_type": "code",
   "execution_count": 20,
   "id": "ff8a25b5-fc4e-45f6-9bca-e402f5864320",
   "metadata": {},
   "outputs": [
    {
     "data": {
      "text/plain": [
       "Chi2ContingencyResult(statistic=16.604441649489342, pvalue=0.0023066300908054713, dof=4, expected_freq=array([[10.575, 24.675, 11.75 ],\n",
       "       [21.375, 49.875, 23.75 ],\n",
       "       [13.05 , 30.45 , 14.5  ]]))"
      ]
     },
     "execution_count": 20,
     "metadata": {},
     "output_type": "execute_result"
    }
   ],
   "source": [
    "stats.chi2_contingency(ob)"
   ]
  },
  {
   "cell_type": "markdown",
   "id": "0bc342aa-9eea-44c2-850d-8bc2de1d329b",
   "metadata": {},
   "source": [
    "## **Q6** Is the relationship between card usage in the latest month and pre usage of campaign?"
   ]
  },
  {
   "cell_type": "markdown",
   "id": "9009a75b-1e30-4254-85b7-c457edbc5870",
   "metadata": {},
   "source": [
    "Null Hypothesis: No relation\n",
    "\n",
    "Alter Hypothesis: There is relation\n",
    "\n",
    "Confidence Intervel (CI): 95% => α = 0.05 (5%)\n",
    "\n",
    "Data collection\n",
    "\n",
    "Test: co-relation\n",
    "\n",
    "Decision Rule: Decision Rule: if p value is greater or equal to alpha then we except NULL HYPOTHESIS else ALTER HYPOTHESIS."
   ]
  },
  {
   "cell_type": "code",
   "execution_count": 22,
   "id": "e6536080-d99b-4aec-b6f2-b6a50ba00664",
   "metadata": {},
   "outputs": [
    {
     "name": "stderr",
     "output_type": "stream",
     "text": [
      "/var/folders/57/kxv96qw15fgbnvfp982zqnhm0000gp/T/ipykernel_57984/151300180.py:2: DeprecationWarning: Please import `pearsonr` from the `scipy.stats` namespace; the `scipy.stats.stats` namespace is deprecated and will be removed in SciPy 2.0.0.\n",
      "  stats.stats.pearsonr(df[\"pre_usage\"], df[\"Latest_mon_usage\"])\n"
     ]
    },
    {
     "data": {
      "text/plain": [
       "PearsonRResult(statistic=0.6622801251558603, pvalue=1.2767419295068642e-26)"
      ]
     },
     "execution_count": 22,
     "metadata": {},
     "output_type": "execute_result"
    }
   ],
   "source": [
    "## corelation test\n",
    "stats.stats.pearsonr(df[\"pre_usage\"], df[\"Latest_mon_usage\"])"
   ]
  },
  {
   "cell_type": "code",
   "execution_count": 23,
   "id": "f862d300-2184-4b19-b429-8f973251cef0",
   "metadata": {},
   "outputs": [
    {
     "data": {
      "text/html": [
       "<div>\n",
       "<style scoped>\n",
       "    .dataframe tbody tr th:only-of-type {\n",
       "        vertical-align: middle;\n",
       "    }\n",
       "\n",
       "    .dataframe tbody tr th {\n",
       "        vertical-align: top;\n",
       "    }\n",
       "\n",
       "    .dataframe thead th {\n",
       "        text-align: right;\n",
       "    }\n",
       "</style>\n",
       "<table border=\"1\" class=\"dataframe\">\n",
       "  <thead>\n",
       "    <tr style=\"text-align: right;\">\n",
       "      <th></th>\n",
       "      <th>pre_usage</th>\n",
       "      <th>Latest_mon_usage</th>\n",
       "    </tr>\n",
       "  </thead>\n",
       "  <tbody>\n",
       "    <tr>\n",
       "      <th>pre_usage</th>\n",
       "      <td>1.00000</td>\n",
       "      <td>0.66228</td>\n",
       "    </tr>\n",
       "    <tr>\n",
       "      <th>Latest_mon_usage</th>\n",
       "      <td>0.66228</td>\n",
       "      <td>1.00000</td>\n",
       "    </tr>\n",
       "  </tbody>\n",
       "</table>\n",
       "</div>"
      ],
      "text/plain": [
       "                  pre_usage  Latest_mon_usage\n",
       "pre_usage           1.00000           0.66228\n",
       "Latest_mon_usage    0.66228           1.00000"
      ]
     },
     "execution_count": 23,
     "metadata": {},
     "output_type": "execute_result"
    }
   ],
   "source": [
    "df[[\"pre_usage\", \"Latest_mon_usage\"]].corr()"
   ]
  },
  {
   "cell_type": "code",
   "execution_count": null,
   "id": "0aeca64a-d920-4481-8c3a-0e0ade4957fa",
   "metadata": {},
   "outputs": [],
   "source": []
  }
 ],
 "metadata": {
  "kernelspec": {
   "display_name": "Python 3 (ipykernel)",
   "language": "python",
   "name": "python3"
  },
  "language_info": {
   "codemirror_mode": {
    "name": "ipython",
    "version": 3
   },
   "file_extension": ".py",
   "mimetype": "text/x-python",
   "name": "python",
   "nbconvert_exporter": "python",
   "pygments_lexer": "ipython3",
   "version": "3.11.4"
  }
 },
 "nbformat": 4,
 "nbformat_minor": 5
}
