{
 "cells": [
  {
   "cell_type": "markdown",
   "id": "d381679d-c062-44be-a40e-9640e2480cfc",
   "metadata": {},
   "source": [
    "# Probability in Mathematics\n",
    "\n",
    "Probability is a measure of the likelihood that an event will occur. It is a branch of mathematics that deals with calculating the chances of a given event's occurrence, which is expressed as a number between 0 and 1. Here are some key concepts:\n",
    "\n",
    "- **Experiment**: An action or process that leads to one or several outcomes. For example, rolling a die.\n",
    "- **Sample Space (S)**: The set of all possible outcomes of an experiment. For a die, this would be {1, 2, 3, 4, 5, 6}.\n",
    "- **Event (E)**: A subset of the sample space. For example, getting an even number when rolling a die (i.e., {2, 4, 6}).\n",
    "\n",
    "The probability of an event $E$ is given by:\n",
    "\n",
    "$$ P(E) = \\frac{\\text{Number of favorable outcomes}}{\\text{Total number of possible outcomes}} $$\n",
    "\n",
    "## Properties of Probability\n",
    "1. **Non-negativity**: $0 \\leq P(E) \\leq 1$ for any event $E$.\n",
    "2. **Normalization**: $P(S) = 1$, where $S$ is the sample space.\n",
    "3. **Additivity**: If $E_1$ and $E_2$ are two mutually exclusive events, then $P(E_1 \\cup E_2) = P(E_1) + P(E_2)$.\n",
    "\n",
    "## Examples\n",
    "1. **Fair Die Roll**: The probability of rolling a 3 on a fair six-sided die is:\n",
    "\n",
    "$$ P(\\text{rolling a 3}) = \\frac{1}{6} $$\n",
    "\n",
    "2. **Coin Toss**: The probability of getting heads in a single toss of a fair coin is:\n",
    "\n",
    "$$ P(\\text{heads}) = \\frac{1}{2} $$"
   ]
  },
  {
   "cell_type": "code",
   "execution_count": null,
   "id": "748bdf0b-b6e8-44eb-bc9e-4e5a644e62a6",
   "metadata": {},
   "outputs": [],
   "source": []
  }
 ],
 "metadata": {
  "kernelspec": {
   "display_name": "Python 3 (ipykernel)",
   "language": "python",
   "name": "python3"
  },
  "language_info": {
   "codemirror_mode": {
    "name": "ipython",
    "version": 3
   },
   "file_extension": ".py",
   "mimetype": "text/x-python",
   "name": "python",
   "nbconvert_exporter": "python",
   "pygments_lexer": "ipython3",
   "version": "3.11.4"
  }
 },
 "nbformat": 4,
 "nbformat_minor": 5
}
