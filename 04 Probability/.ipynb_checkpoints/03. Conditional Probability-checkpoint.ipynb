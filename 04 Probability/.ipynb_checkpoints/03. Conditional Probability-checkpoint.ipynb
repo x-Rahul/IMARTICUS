{
 "cells": [
  {
   "cell_type": "markdown",
   "id": "022c4a87-629d-4b00-837d-c6a6c04d01e0",
   "metadata": {},
   "source": [
    "## Conditional Probability\n",
    "\n",
    "Conditional probability is the probability of an event occurring given that another event has already occurred. If $A$ and $B$ are two events, the conditional probability of $A$ given $B$ is:\n",
    "\n",
    "$$ P(A|B) = \\frac{P(A \\cap B)}{P(B)} $$\n",
    "\n",
    "### Example\n",
    "\n",
    "Suppose we have a standard deck of 52 playing cards. Let event $A$ be drawing a red card, and event $B$ be drawing a heart. We want to find the probability of drawing a red card given that we have drawn a heart.\n",
    "\n",
    "1. The probability of drawing a heart (event $B$) is:\n",
    "\n",
    "$$ P(B) = \\frac{13}{52} = \\frac{1}{4} $$\n",
    "\n",
    "2. The probability of drawing a red card (event $A$) is:\n",
    "\n",
    "$$ P(A) = \\frac{26}{52} = \\frac{1}{2} $$\n",
    "\n",
    "3. The probability of drawing a red card and a heart (both $A$ and $B$ occurring) is the probability of drawing a heart, since all hearts are red:\n",
    "\n",
    "$$ P(A \\cap B) = P(B) = \\frac{13}{52} = \\frac{1}{4} $$\n",
    "\n",
    "4. Using the conditional probability formula:\n",
    "\n",
    "$$ P(A|B) = \\frac{P(A \\cap B)}{P(B)} = \\frac{\\frac{1}{4}}{\\frac{1}{4}} = 1 $$\n",
    "\n",
    "So, the probability of drawing a red card given that we have drawn a heart is 1 (or 100%), because all hearts are red.\n"
   ]
  },
  {
   "cell_type": "code",
   "execution_count": null,
   "id": "1dc183b7-2d5e-4611-9246-91a5fb274634",
   "metadata": {},
   "outputs": [],
   "source": []
  }
 ],
 "metadata": {
  "kernelspec": {
   "display_name": "Python 3 (ipykernel)",
   "language": "python",
   "name": "python3"
  },
  "language_info": {
   "codemirror_mode": {
    "name": "ipython",
    "version": 3
   },
   "file_extension": ".py",
   "mimetype": "text/x-python",
   "name": "python",
   "nbconvert_exporter": "python",
   "pygments_lexer": "ipython3",
   "version": "3.11.4"
  }
 },
 "nbformat": 4,
 "nbformat_minor": 5
}
