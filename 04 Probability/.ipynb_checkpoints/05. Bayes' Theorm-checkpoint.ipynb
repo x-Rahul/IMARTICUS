{
 "cells": [
  {
   "cell_type": "markdown",
   "id": "9c76a91b-c3e7-4f19-86f4-c467f65fa077",
   "metadata": {},
   "source": [
    "## Bayes' Theorem\n",
    "\n",
    "Bayes' theorem relates the conditional and marginal probabilities of random events. It allows us to update the probability of an event based on new evidence. For two events $A$ and $B$, Bayes' theorem is given by:\n",
    "\n",
    "$$ P(A|B) = \\frac{P(B|A) \\cdot P(A)}{P(B)} $$\n",
    "\n",
    "where:\n",
    "- $P(A|B)$ is the probability of event $A$ given that event $B$ has occurred.\n",
    "- $P(B|A)$ is the probability of event $B$ given that event $A$ has occurred.\n",
    "- $P(A)$ is the prior probability of event $A$.\n",
    "- $P(B)$ is the prior probability of event $B$.\n",
    "\n",
    "### Theory\n",
    "\n",
    "Bayes' theorem is based on the concept of conditional probability and is derived from the definition of conditional probability:\n",
    "\n",
    "$$ P(A|B) = \\frac{P(A \\cap B)}{P(B)} $$\n",
    "\n",
    "Rearranging this formula, we get:\n",
    "\n",
    "$$ P(A \\cap B) = P(B|A) \\cdot P(A) $$\n",
    "\n",
    "Substituting into the conditional probability formula gives us Bayes' theorem:\n",
    "\n",
    "$$ P(A|B) = \\frac{P(B|A) \\cdot P(A)}{P(B)} $$\n",
    "\n",
    "This theorem is particularly useful in cases where we want to reverse the conditioning: updating our belief about $A$ based on the occurrence of $B$.\n",
    "\n",
    "### Example\n",
    "\n",
    "Suppose a disease affects 1% of the population, and a test is 99% accurate in detecting it. If a person tests positive, the probability of having the disease is:\n",
    "\n",
    "1. **Prior Probabilities:**\n",
    "   - $P(\\text{Disease}) = 0.01$\n",
    "   - $P(\\text{No Disease}) = 0.99$\n",
    "\n",
    "2. **Conditional Probabilities:**\n",
    "   - $P(\\text{Positive Test | Disease}) = 0.99$\n",
    "   - $P(\\text{Positive Test | No Disease}) = 0.05$\n",
    "\n",
    "3. **Probability of Testing Positive:**\n",
    "\n",
    "   $$ P(\\text{Positive Test}) = P(\\text{Positive Test | Disease}) \\cdot P(\\text{Disease}) + P(\\text{Positive Test | No Disease}) \\cdot P(\\text{No Disease}) $$\n",
    "\n",
    "   $$ P(\\text{Positive Test}) = (0.99 \\cdot 0.01) + (0.05 \\cdot 0.99) = 0.0594 $$\n",
    "\n",
    "4. **Applying Bayes' Theorem:**\n",
    "\n",
    "   $$ P(\\text{Disease | Positive Test}) = \\frac{0.99 \\cdot 0.01}{0.0594} \\approx 0.167 $$\n",
    "\n",
    "Thus, the probability of having the disease given a positive test is approximately 16.7%.\n"
   ]
  },
  {
   "cell_type": "markdown",
   "id": "42bcb405-e81f-418b-be6e-21019fd07671",
   "metadata": {},
   "source": [
    "# Mutually exclusive case"
   ]
  },
  {
   "cell_type": "markdown",
   "id": "8e0116da-eb34-4cab-bd43-24aed854b951",
   "metadata": {},
   "source": [
    "Example Question: In a factory, 20% of the products are made by Machine A, and the remaining 80% are made by Machine B. Machine A has a defect rate of 5%, while Machine B has a defect rate of 10%. Given that a product is defective, what is the probability that it was made by Machine A?"
   ]
  },
  {
   "cell_type": "code",
   "execution_count": 1,
   "id": "ae5f0608-da94-4555-834a-ea740e834c49",
   "metadata": {},
   "outputs": [
    {
     "name": "stdout",
     "output_type": "stream",
     "text": [
      "The posterior probability P(A|B) for mutually exclusive case is: 0.3684\n"
     ]
    }
   ],
   "source": [
    "def total_probability_exclusive(P_B_given_As, P_As):\n",
    "    \"\"\"\n",
    "    Calculate the total probability P(B) using the law of total probability for mutually exclusive events.\n",
    "    \n",
    "    Parameters:\n",
    "    P_B_given_As (list of float): P(B|A_i) - Likelihood of event B given each event A_i\n",
    "    P_As (list of float): P(A_i) - Prior probability of each event A_i\n",
    "    \n",
    "    Returns:\n",
    "    float: P(B) - Total probability of event B\n",
    "    \"\"\"\n",
    "    return sum(P_B_given_A * P_A for P_B_given_A, P_A in zip(P_B_given_As, P_As))\n",
    "\n",
    "def bayes_theorem_exclusive(P_A, P_B_given_A, P_B_given_not_A, P_not_A):\n",
    "    \"\"\"\n",
    "    Calculate the posterior probability using Bayes' theorem for mutually exclusive events.\n",
    "    \n",
    "    Parameters:\n",
    "    P_A (float): P(A) - Prior probability of event A\n",
    "    P_B_given_A (float): P(B|A) - Likelihood of event B given event A\n",
    "    P_B_given_not_A (float): P(B|¬A) - Likelihood of event B given event not A\n",
    "    P_not_A (float): P(¬A) - Prior probability of event not A\n",
    "    \n",
    "    Returns:\n",
    "    float: P(A|B) - Posterior probability of event A given event B\n",
    "    \"\"\"\n",
    "    # Calculate the total probability P(B)\n",
    "    P_B = total_probability_exclusive([P_B_given_A, P_B_given_not_A], [P_A, P_not_A])\n",
    "    \n",
    "    # Apply Bayes' theorem\n",
    "    P_A_given_B = (P_B_given_A * P_A) / P_B\n",
    "    return P_A_given_B\n",
    "\n",
    "# Example values for mutually exclusive case\n",
    "P_A = 0.2  # P(A)\n",
    "P_B_given_A = 0.7  # P(B|A)\n",
    "P_B_given_not_A = 0.3  # P(B|¬A)\n",
    "P_not_A = 1 - P_A  # P(¬A)\n",
    "\n",
    "# Calculate P(A|B) for mutually exclusive case\n",
    "P_A_given_B_exclusive = bayes_theorem_exclusive(P_A, P_B_given_A, P_B_given_not_A, P_not_A)\n",
    "print(f\"The posterior probability P(A|B) for mutually exclusive case is: {P_A_given_B_exclusive:.4f}\")\n"
   ]
  },
  {
   "cell_type": "markdown",
   "id": "aa68fb29-e3ae-4072-adab-6c63bdc12167",
   "metadata": {},
   "source": [
    "# Non Mutually exclussive"
   ]
  },
  {
   "cell_type": "markdown",
   "id": "9d8174e5-bcdf-46b4-8d7a-2b97c524944f",
   "metadata": {},
   "source": [
    "Example Question: In a medical test, 1% of the population has a certain disease. The test has a sensitivity (true positive rate) of 99% and a specificity (true negative rate) of 95%. Given that a person tests positive, what is the probability that they actually have the disease?"
   ]
  },
  {
   "cell_type": "code",
   "execution_count": 3,
   "id": "c717226f-8ca7-4aee-bc99-358c4a07dc9e",
   "metadata": {},
   "outputs": [
    {
     "name": "stdout",
     "output_type": "stream",
     "text": [
      "The posterior probability P(A|B) for non-mutually exclusive case is: 0.3784\n"
     ]
    }
   ],
   "source": [
    "def total_probability_non_exclusive(P_B_given_As, P_As):\n",
    "    \"\"\"\n",
    "    Calculate the total probability P(B) using the law of total probability for non-mutually exclusive events.\n",
    "    \n",
    "    Parameters:\n",
    "    P_B_given_As (list of float): P(B|A_i) - Likelihood of event B given each event A_i\n",
    "    P_As (list of float): P(A_i) - Prior probability of each event A_i\n",
    "    \n",
    "    Returns:\n",
    "    float: P(B) - Total probability of event B\n",
    "    \"\"\"\n",
    "    return sum(P_B_given_A * P_A for P_B_given_A, P_A in zip(P_B_given_As, P_As))\n",
    "\n",
    "def bayes_theorem_non_exclusive(P_A, P_B_given_A, P_B, P_As, P_B_given_As):\n",
    "    \"\"\"\n",
    "    Calculate the posterior probability using Bayes' theorem for non-mutually exclusive events.\n",
    "    \n",
    "    Parameters:\n",
    "    P_A (float): P(A) - Prior probability of event A\n",
    "    P_B_given_A (float): P(B|A) - Likelihood of event B given event A\n",
    "    P_B (float): P(B) - Marginal probability of event B\n",
    "    P_As (list of float): P(A_i) - Prior probability of each event A_i\n",
    "    P_B_given_As (list of float): P(B|A_i) - Likelihood of event B given each event A_i\n",
    "    \n",
    "    Returns:\n",
    "    float: P(A|B) - Posterior probability of event A given event B\n",
    "    \"\"\"\n",
    "    # Calculate the total probability P(B)\n",
    "    P_B = total_probability_non_exclusive(P_B_given_As, P_As)\n",
    "    \n",
    "    # Apply Bayes' theorem\n",
    "    P_A_given_B = (P_B_given_A * P_A) / P_B\n",
    "    return P_A_given_B\n",
    "\n",
    "# Example values for non-mutually exclusive case\n",
    "P_A = 0.2  # P(A)\n",
    "P_B_given_A = 0.7  # P(B|A)\n",
    "P_As = [0.2, 0.5, 0.3]  # P(A1), P(A2), P(A3)\n",
    "P_B_given_As = [0.7, 0.4, 0.1]  # P(B|A1), P(B|A2), P(B|A3)\n",
    "\n",
    "# Calculate P(B)\n",
    "P_B = total_probability_non_exclusive(P_B_given_As, P_As)\n",
    "\n",
    "# Calculate P(A|B) for non-mutually exclusive case\n",
    "P_A_given_B_non_exclusive = bayes_theorem_non_exclusive(P_A, P_B_given_A, P_B, P_As, P_B_given_As)\n",
    "print(f\"The posterior probability P(A|B) for non-mutually exclusive case is: {P_A_given_B_non_exclusive:.4f}\")\n"
   ]
  },
  {
   "cell_type": "code",
   "execution_count": null,
   "id": "335135fb-e101-414c-b4f7-5688c71c17d1",
   "metadata": {},
   "outputs": [],
   "source": []
  }
 ],
 "metadata": {
  "kernelspec": {
   "display_name": "Python 3 (ipykernel)",
   "language": "python",
   "name": "python3"
  },
  "language_info": {
   "codemirror_mode": {
    "name": "ipython",
    "version": 3
   },
   "file_extension": ".py",
   "mimetype": "text/x-python",
   "name": "python",
   "nbconvert_exporter": "python",
   "pygments_lexer": "ipython3",
   "version": "3.11.4"
  }
 },
 "nbformat": 4,
 "nbformat_minor": 5
}
