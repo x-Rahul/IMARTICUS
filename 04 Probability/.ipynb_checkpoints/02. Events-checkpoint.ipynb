{
 "cells": [
  {
   "cell_type": "markdown",
   "id": "48631d02-8bd4-4030-b036-b70ad7be85ac",
   "metadata": {},
   "source": [
    "## Types of Events\n",
    "\n",
    "- **Mutually Exclusive Events**: Two events are mutually exclusive if they cannot happen at the same time. For example, when rolling a die, the events of rolling a 2 and rolling a 4 are mutually exclusive.\n",
    "- **Non-Mutually Exclusive Events**: Two events are non-mutually exclusive if they can happen at the same time. For example, drawing a card from a deck that is both red and a face card.\n",
    "- **Independent Events**: Two events are independent if the occurrence of one does not affect the occurrence of the other. For example, flipping a coin and rolling a die.\n",
    "- **Dependent Events**: Two events are dependent if the occurrence of one affects the occurrence of the other. For example, drawing two cards from a deck without replacement.\n"
   ]
  },
  {
   "cell_type": "markdown",
   "id": "9eb97542-42a4-409b-afb5-f1ad349fabc3",
   "metadata": {
    "jp-MarkdownHeadingCollapsed": true
   },
   "source": [
    "## Addition Rule\n",
    "\n",
    "The addition rule is used to find the probability that either of two events will occur. There are two cases to consider: when events are mutually exclusive and when they are not.\n",
    "\n",
    "### Mutually Exclusive Events\n",
    "\n",
    "If two events, $A$ and $B$, are mutually exclusive, the probability that either event $A$ or event $B$ will occur is:\n",
    "\n",
    "$$ P(A \\cup B) = P(A) + P(B) $$\n",
    "\n",
    "### Non-Mutually Exclusive Events\n",
    "\n",
    "If two events, $A$ and $B$, are not mutually exclusive, the probability that either event $A$ or event $B$ will occur is:\n",
    "\n",
    "$$ P(A \\cup B) = P(A) + P(B) - P(A \\cap B) $$\n",
    "\n",
    "where $P(A \\cap B)$ is the probability that both events $A$ and $B$ occur.\n",
    "\n",
    "### Addition Rule Example\n",
    "\n",
    "Suppose you roll a six-sided die. What is the probability of rolling a 2 or a 4?\n",
    "\n",
    "Since rolling a 2 and rolling a 4 are mutually exclusive events:\n",
    "\n",
    "$$ P(\\text{rolling a 2 or 4}) = P(\\text{rolling a 2}) + P(\\text{rolling a 4}) = \\frac{1}{6} + \\frac{1}{6} = \\frac{2}{6} = \\frac{1}{3} $$"
   ]
  },
  {
   "cell_type": "markdown",
   "id": "6808871d-1605-4c81-b113-741bccbc8da4",
   "metadata": {},
   "source": [
    "## Multiplication Rule\n",
    "\n",
    "The multiplication rule is used to find the probability that two events will both occur. There are two cases to consider: when events are independent and when they are not.\n",
    "\n",
    "### Independent Events\n",
    "\n",
    "If two events, $A$ and $B$, are independent, the probability that both events $A$ and $B$ will occur is:\n",
    "\n",
    "$$ P(A \\cap B) = P(A) \\cdot P(B) $$\n",
    "\n",
    "### Dependent Events\n",
    "\n",
    "If two events, $A$ and $B$, are dependent, the probability that both events $A$ and $B$ will occur is:\n",
    "\n",
    "$$ P(A \\cap B) = P(A) \\cdot P(B|A) $$\n",
    "\n",
    "where $P(B|A)$ is the conditional probability that event $B$ occurs given that event $A$ has occurred.\n",
    "\n",
    "### Multiplication Rule Example\n",
    "\n",
    "Suppose you draw two cards from a standard deck of 52 cards without replacement. What is the probability that both cards are aces?\n",
    "\n",
    "The probability that the first card is an ace is:\n",
    "\n",
    "$$ P(\\text{first card is an ace}) = \\frac{4}{52} = \\frac{1}{13} $$\n",
    "\n",
    "The probability that the second card is an ace given that the first card was an ace is:\n",
    "\n",
    "$$ P(\\text{second card is an ace | first card was an ace}) = \\frac{3}{51} $$\n",
    "\n",
    "Therefore, the probability that both cards are aces is:\n",
    "\n",
    "$$ P(\\text{both cards are aces}) = P(\\text{first card is an ace}) \\cdot P(\\text{second card is an ace | first card was an ace}) = \\frac{1}{13} \\cdot \\frac{3}{51} = \\frac{3}{663} = \\frac{1}{221} $$"
   ]
  },
  {
   "cell_type": "code",
   "execution_count": null,
   "id": "b9ad432e-f9f0-4ac2-9932-2db23a44edbc",
   "metadata": {},
   "outputs": [],
   "source": []
  }
 ],
 "metadata": {
  "kernelspec": {
   "display_name": "Python 3 (ipykernel)",
   "language": "python",
   "name": "python3"
  },
  "language_info": {
   "codemirror_mode": {
    "name": "ipython",
    "version": 3
   },
   "file_extension": ".py",
   "mimetype": "text/x-python",
   "name": "python",
   "nbconvert_exporter": "python",
   "pygments_lexer": "ipython3",
   "version": "3.11.4"
  }
 },
 "nbformat": 4,
 "nbformat_minor": 5
}
