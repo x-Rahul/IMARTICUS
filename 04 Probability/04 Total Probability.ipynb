{
 "cells": [
  {
   "cell_type": "markdown",
   "id": "35e9ac89-d3f5-4ab2-a438-369a1e66ff73",
   "metadata": {},
   "source": [
    "## Total Probability Rule\n",
    "\n",
    "The total probability rule is used to find the probability of an event by considering all possible ways that event can occur, typically using a partition of the sample space. If $B_1, B_2, \\ldots, B_n$ are mutually exclusive and exhaustive events, then for any event $A$:\n",
    "\n",
    "$$ P(A) = P(A \\cap B_1) + P(A \\cap B_2) + \\cdots + P(A \\cap B_n) $$\n",
    "\n",
    "Or equivalently:\n",
    "\n",
    "$$ P(A) = P(B_1)P(A|B_1) + P(B_2)P(A|B_2) + \\cdots + P(B_n)P(A|B_n) $$\n",
    "\n",
    "### Example\n",
    "\n",
    "Suppose there are three boxes:\n",
    "\n",
    "- Box 1 contains 1 black ball and 2 white balls.\n",
    "- Box 2 contains 2 black balls and 1 white ball.\n",
    "- Box 3 contains 3 black balls and 1 white ball.\n",
    "\n",
    "One box is chosen at random, and then a ball is drawn from that box. We want to find the probability of drawing a white ball.\n",
    "\n",
    "Let $B_1$, $B_2$, and $B_3$ be the events of choosing Box 1, Box 2, and Box 3, respectively. Let $A$ be the event of drawing a white ball. We need to calculate $P(A)$.\n",
    "\n",
    "1. The probability of choosing each box is:\n",
    "\n",
    "$$ P(B_1) = P(B_2) = P(B_3) = \\frac{1}{3} $$\n",
    "\n",
    "2. The conditional probabilities of drawing a white ball given each box:\n",
    "\n",
    "$$ P(A|B_1) = \\frac{2}{3}, \\quad P(A|B_2) = \\frac{1}{3}, \\quad P(A|B_3) = \\frac{1}{4} $$\n",
    "\n",
    "3. Using the total probability rule:\n",
    "\n",
    "$$ P(A) = P(B_1)P(A|B_1) + P(B_2)P(A|B_2) + P(B_3)P(A|B_3) $$\n",
    "\n",
    "$$ P(A) = \\frac{1}{3} \\cdot \\frac{2}{3} + \\frac{1}{3} \\cdot \\frac{1}{3} + \\frac{1}{3} \\cdot \\frac{1}{4} $$\n",
    "\n",
    "$$ P(A) = \\frac{2}{9} + \\frac{1}{9} + \\frac{1}{12} $$\n",
    "\n",
    "To combine these fractions, we find a common denominator, which is 36:\n",
    "\n",
    "$$ P(A) = \\frac{8}{36} + \\frac{4}{36} + \\frac{3}{36} $$\n",
    "\n",
    "$$ P(A) = \\frac{15}{36} = \\frac{5}{12} $$\n",
    "\n",
    "So, the probability of drawing a white ball is $\\frac{5}{12}$.\n"
   ]
  },
  {
   "cell_type": "code",
   "execution_count": null,
   "id": "e3acf45e-da34-423b-9ce6-df7b47297d64",
   "metadata": {},
   "outputs": [],
   "source": []
  }
 ],
 "metadata": {
  "kernelspec": {
   "display_name": "Python 3 (ipykernel)",
   "language": "python",
   "name": "python3"
  },
  "language_info": {
   "codemirror_mode": {
    "name": "ipython",
    "version": 3
   },
   "file_extension": ".py",
   "mimetype": "text/x-python",
   "name": "python",
   "nbconvert_exporter": "python",
   "pygments_lexer": "ipython3",
   "version": "3.11.4"
  }
 },
 "nbformat": 4,
 "nbformat_minor": 5
}
