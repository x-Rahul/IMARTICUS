{
 "cells": [
  {
   "cell_type": "markdown",
   "id": "33c7acdb-4948-4dab-a3d8-647921508fba",
   "metadata": {},
   "source": [
    "### Poisson Distribution\n",
    "\n",
    "The Poisson distribution is a probability distribution that describes the number of events occurring in a fixed interval of time or space, given a known average rate of occurrence, and under the assumption that events occur independently of each other.\n",
    "\n",
    "#### Characteristics of the Poisson Distribution\n",
    "\n",
    "1. **Parameter**: The Poisson distribution is characterized by a single parameter $ \\lambda $, representing the average rate of occurrence of the events.\n",
    "   \n",
    "2. **Probability Mass Function (PMF)**: For a random variable $ X $ following a Poisson distribution with parameter $ \\lambda $, the PMF is:\n",
    "   \n",
    "   $$\n",
    "   P(X = k) = \\frac{\\lambda^k e^{-\\lambda}}{k!}, \\quad \\text{for } k = 0, 1, 2, \\ldots\n",
    "   $$\n",
    "   \n",
    "   where $ e $ is the base of the natural logarithm.\n",
    "\n",
    "3. **Mean and Variance**: The mean and variance of a Poisson distributed random variable $ X $ are both $ \\lambda $:\n",
    "   \n",
    "   $$\n",
    "   E(X) = \\lambda, \\quad \\text{Var}(X) = \\lambda\n",
    "   $$\n",
    "\n",
    "#### Applications\n",
    "\n",
    "- **Business**: Quality control, customer service, insurance.\n",
    "- **Science**: Biology, physics, medicine.\n",
    "- **Engineering**: Reliability engineering.\n",
    "\n",
    "#### Example\n",
    "\n",
    "If a machine in a factory produces defects at an average rate of 2 defects per hour, the number of defects $ X $ produced in an hour follows a Poisson distribution with $ \\lambda = 2 $:\n",
    "\n",
    "$$\n",
    "P(X = k) = \\frac{2^k e^{-2}}{k!}, \\quad \\text{for } k = 0, 1, 2, \\ldots\n",
    "$$\n",
    "\n",
    "This distribution allows us to predict the probability of observing a specific number of defects in any given hour.\n"
   ]
  },
  {
   "cell_type": "code",
   "execution_count": null,
   "id": "33656ad5-df17-414a-a1ba-7e049a3d86e3",
   "metadata": {},
   "outputs": [],
   "source": []
  }
 ],
 "metadata": {
  "kernelspec": {
   "display_name": "Python 3 (ipykernel)",
   "language": "python",
   "name": "python3"
  },
  "language_info": {
   "codemirror_mode": {
    "name": "ipython",
    "version": 3
   },
   "file_extension": ".py",
   "mimetype": "text/x-python",
   "name": "python",
   "nbconvert_exporter": "python",
   "pygments_lexer": "ipython3",
   "version": "3.11.4"
  }
 },
 "nbformat": 4,
 "nbformat_minor": 5
}
