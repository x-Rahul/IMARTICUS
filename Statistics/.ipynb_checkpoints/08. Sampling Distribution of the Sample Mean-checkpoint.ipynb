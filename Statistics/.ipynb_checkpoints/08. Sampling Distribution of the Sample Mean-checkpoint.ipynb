{
 "cells": [
  {
   "cell_type": "markdown",
   "id": "2fff02f0-111d-46e6-ac0a-ff2dd3baeb97",
   "metadata": {},
   "source": [
    "### Sampling Distribution of the Sample Mean\n",
    "\n",
    "The sampling distribution of the sample mean is a probability distribution of all possible sample means of a given size from a population. It describes how the sample mean $ \\bar{X} $ varies from sample to sample, allowing statisticians to make inferences about the population mean $ \\mu $.\n",
    "\n",
    "#### Key Properties of the Sampling Distribution of the Sample Mean\n",
    "\n",
    "1. **Mean**:\n",
    "   - The mean of the sampling distribution of the sample mean is equal to the population mean $ \\mu $. This is denoted as $ E(\\bar{X}) = \\mu $.\n",
    "\n",
    "2. **Standard Deviation** (Standard Error):\n",
    "   - The standard deviation of the sampling distribution of the sample mean is called the standard error (SE) and is equal to the population standard deviation $ \\sigma $ divided by the square root of the sample size $ n $:\n",
    "     $$\n",
    "     \\text{SE} = \\frac{\\sigma}{\\sqrt{n}}\n",
    "     $$\n",
    "   - This measures the variability of the sample mean from sample to sample.\n",
    "\n",
    "3. **Shape**:\n",
    "   - According to the Central Limit Theorem, for a sufficiently large sample size (typically $ n \\geq 30 $), the sampling distribution of the sample mean will be approximately normally distributed, regardless of the shape of the population distribution.\n",
    "\n",
    "#### Implications of the Sampling Distribution\n",
    "\n",
    "1. **Inference**:\n",
    "   - The properties of the sampling distribution allow us to make probabilistic statements about where the population mean $ \\mu $ lies based on the sample mean $ \\bar{X} $.\n",
    "\n",
    "2. **Confidence Intervals**:\n",
    "   - Using the standard error, we can construct confidence intervals around the sample mean to estimate the population mean.\n",
    "\n",
    "3. **Hypothesis Testing**:\n",
    "   - The sampling distribution is used to perform hypothesis tests to determine if a sample mean is significantly different from a hypothesized population mean.\n",
    "\n",
    "#### Example\n",
    "\n",
    "Suppose we have a population with a mean $ \\mu = 100 $ and a standard deviation $ \\sigma = 20 $. We take a sample of size $ n = 25 $. The sampling distribution of the sample mean will have:\n",
    "\n",
    "- Mean: $ \\mu = 100 $\n",
    "- Standard Error: $ \\text{SE} = \\frac{20}{\\sqrt{25}} = 4 $\n",
    "\n",
    "If we take multiple samples of size 25, the distribution of the sample means will be approximately normal with mean 100 and standard error 4.\n"
   ]
  },
  {
   "cell_type": "code",
   "execution_count": null,
   "id": "9429fb48-408a-490e-9361-924fcb0deb1a",
   "metadata": {},
   "outputs": [],
   "source": []
  }
 ],
 "metadata": {
  "kernelspec": {
   "display_name": "Python 3 (ipykernel)",
   "language": "python",
   "name": "python3"
  },
  "language_info": {
   "codemirror_mode": {
    "name": "ipython",
    "version": 3
   },
   "file_extension": ".py",
   "mimetype": "text/x-python",
   "name": "python",
   "nbconvert_exporter": "python",
   "pygments_lexer": "ipython3",
   "version": "3.11.4"
  }
 },
 "nbformat": 4,
 "nbformat_minor": 5
}
