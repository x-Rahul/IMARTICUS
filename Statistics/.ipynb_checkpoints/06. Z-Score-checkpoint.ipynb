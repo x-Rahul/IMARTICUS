{
 "cells": [
  {
   "cell_type": "markdown",
   "id": "b889d406-0080-4a47-8f0a-d2dd60f7c664",
   "metadata": {},
   "source": [
    "### Standard Z-Score\n",
    "\n",
    "A standard z-score, or simply z-score, is a statistical measure that describes the position of a raw score in terms of its distance from the mean, expressed in units of standard deviation. It indicates how many standard deviations an element is from the mean of the distribution.\n",
    "\n",
    "#### Characteristics of the Z-Score\n",
    "\n",
    "1. **Formula**:\n",
    "   For a raw score $ X $ from a distribution with mean $ \\mu $ and standard deviation $ \\sigma $, the z-score $ Z $ is calculated as:\n",
    "   $$\n",
    "   Z = \\frac{X - \\mu}{\\sigma}\n",
    "   $$\n",
    "\n",
    "2. **Interpretation**:\n",
    "   - A z-score of 0 indicates the raw score is exactly at the mean.\n",
    "   - A positive z-score indicates the raw score is above the mean.\n",
    "   - A negative z-score indicates the raw score is below the mean.\n",
    "\n",
    "3. **Standard Normal Distribution**:\n",
    "   - When a distribution is standardized to z-scores, it transforms into the standard normal distribution with a mean of 0 and a standard deviation of 1.\n",
    "\n",
    "#### Applications of Z-Scores\n",
    "\n",
    "- **Standardization**: Converting different distributions to a common scale to compare scores.\n",
    "- **Outlier Detection**: Identifying values that are significantly higher or lower than the mean.\n",
    "- **Probability Calculations**: Using z-scores to find probabilities and percentiles in a normal distribution.\n",
    "- **Hypothesis Testing**: Comparing sample statistics to population parameters.\n",
    "\n",
    "#### Example\n",
    "\n",
    "Suppose the scores of a standardized test are normally distributed with a mean of 100 and a standard deviation of 15. To find the z-score for a test score of 130:\n",
    "\n",
    "1. **Calculate the z-score**:\n",
    "   $$\n",
    "   Z = \\frac{X - \\mu}{\\sigma} = \\frac{130 - 100}{15} = \\frac{30}{15} = 2\n",
    "   $$\n",
    "\n",
    "2. **Interpretation**:\n",
    "   - The z-score of 2 means the test score of 130 is 2 standard deviations above the mean.\n"
   ]
  },
  {
   "cell_type": "code",
   "execution_count": null,
   "id": "9346c5cf-78f8-4ddc-8cd5-b452d9f5fda5",
   "metadata": {},
   "outputs": [],
   "source": []
  }
 ],
 "metadata": {
  "kernelspec": {
   "display_name": "Python 3 (ipykernel)",
   "language": "python",
   "name": "python3"
  },
  "language_info": {
   "codemirror_mode": {
    "name": "ipython",
    "version": 3
   },
   "file_extension": ".py",
   "mimetype": "text/x-python",
   "name": "python",
   "nbconvert_exporter": "python",
   "pygments_lexer": "ipython3",
   "version": "3.11.4"
  }
 },
 "nbformat": 4,
 "nbformat_minor": 5
}
