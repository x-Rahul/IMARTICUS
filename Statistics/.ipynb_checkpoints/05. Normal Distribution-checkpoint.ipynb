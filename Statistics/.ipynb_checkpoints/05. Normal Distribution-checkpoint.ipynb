{
 "cells": [
  {
   "cell_type": "markdown",
   "id": "6c0d1cf7-e6e0-4843-8f5b-269fe3e48b0f",
   "metadata": {},
   "source": [
    "### Normal Distribution\n",
    "\n",
    "The Normal distribution, also known as the Gaussian distribution, is a continuous probability distribution that is symmetric around its mean $ \\mu $.\n",
    "\n",
    "#### Characteristics of the Normal Distribution\n",
    "\n",
    "1. **Shape**:\n",
    "   - Symmetric around its mean $ \\mu $.\n",
    "   - Bell-shaped with a single peak.\n",
    "\n",
    "2. **Parameters**:\n",
    "   - $ \\mu $: Mean, determines the center of the distribution.\n",
    "   - $ \\sigma $: Standard deviation, measures the spread.\n",
    "\n",
    "3. **Probability Density Function (PDF)**:\n",
    "   $$\n",
    "   f(x) = \\frac{1}{\\sigma \\sqrt{2\\pi}} \\exp\\left( -\\frac{(x - \\mu)^2}{2\\sigma^2} \\right), \\quad -\\infty < x < \\infty\n",
    "   $$\n",
    "\n",
    "4. **Standard Normal Distribution**:\n",
    "   - $ \\mu = 0 $, $ \\sigma = 1 $.\n",
    "   - PDF:\n",
    "     $$\n",
    "     \\phi(x) = \\frac{1}{\\sqrt{2\\pi}} \\exp\\left( -\\frac{x^2}{2} \\right), \\quad -\\infty < x < \\infty\n",
    "     $$\n",
    "\n",
    "5. **Mean and Variance**:\n",
    "   - Mean $ E(X) = \\mu $.\n",
    "   - Variance $ \\text{Var}(X) = \\sigma^2 $.\n",
    "\n",
    "#### Applications\n",
    "\n",
    "- Natural phenomena, statistical inference, engineering, economics.\n",
    "\n",
    "#### Example\n",
    "\n",
    "Suppose heights of adult males are normally distributed with $ \\mu = 175 $ cm and $ \\sigma = 10 $ cm. To find the probability that a randomly selected male is taller than 185 cm:\n",
    "$$\n",
    "P(X > 185) = 1 - P(X \\leq 185)\n",
    "$$\n",
    "Calculate $ P(X \\leq 185) $ using the Normal distribution's CDF.\n"
   ]
  },
  {
   "cell_type": "code",
   "execution_count": null,
   "id": "8e1b20de-3426-4ab5-b976-c2b1563eb7b9",
   "metadata": {},
   "outputs": [],
   "source": []
  }
 ],
 "metadata": {
  "kernelspec": {
   "display_name": "Python 3 (ipykernel)",
   "language": "python",
   "name": "python3"
  },
  "language_info": {
   "codemirror_mode": {
    "name": "ipython",
    "version": 3
   },
   "file_extension": ".py",
   "mimetype": "text/x-python",
   "name": "python",
   "nbconvert_exporter": "python",
   "pygments_lexer": "ipython3",
   "version": "3.11.4"
  }
 },
 "nbformat": 4,
 "nbformat_minor": 5
}
