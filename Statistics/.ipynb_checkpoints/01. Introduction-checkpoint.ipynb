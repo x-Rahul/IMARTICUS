{
 "cells": [
  {
   "cell_type": "markdown",
   "id": "4ae4a7c4-7522-49b4-886f-926736aa329d",
   "metadata": {},
   "source": [
    "# Statistics"
   ]
  },
  {
   "cell_type": "markdown",
   "id": "71c0fc4b-853b-4e52-bed7-ba81b354d74c",
   "metadata": {},
   "source": [
    "### Descriptive Statistics\n",
    "\n",
    "Descriptive statistics involve methods and techniques used to summarize and describe important features of data. These statistics are used to present and organize data in a meaningful way, providing insights into its characteristics. Common descriptive statistics include measures of central tendency (like mean, median, mode), measures of variability or dispersion (such as variance, standard deviation, range), and graphical representations (like histograms, box plots, and scatter plots). Descriptive statistics are primarily concerned with summarizing data sets, identifying patterns, and highlighting key features without making inferences beyond the data at hand.\n",
    "\n",
    "#### Tools for Descriptive Statistics\n",
    "\n",
    "- **Measures**: Mean, median, mode, range, variance, standard deviation.\n",
    "- **Graphical Tools**: Histograms, bar charts, pie charts, box plots, scatter plots.\n",
    "- **Software**: Excel, SPSS, R, Python (libraries like Pandas, Matplotlib, Seaborn).\n",
    "\n",
    "### Inferential Statistics\n",
    "\n",
    "Inferential statistics involves making inferences or predictions about a population based on a sample of data taken from that population. It uses probability theory to generalize from a sample to a larger population, drawing conclusions and making predictions or hypotheses. Inferential statistics includes techniques like hypothesis testing, confidence intervals, regression analysis, and analysis of variance (ANOVA). These methods help researchers assess relationships between variables, test hypotheses, and make decisions based on the data.\n",
    "\n",
    "#### Tools for Inferential Statistics\n",
    "\n",
    "- **Hypothesis Testing**: Z-test, t-test, chi-square test, ANOVA.\n",
    "- **Estimation**: Confidence intervals, regression analysis.\n",
    "- **Software**: SPSS, R, Python (libraries like Statsmodels, Scipy).\n"
   ]
  },
  {
   "cell_type": "markdown",
   "id": "01a4e4d1-dd13-49b2-b2ae-71d7be01ca47",
   "metadata": {},
   "source": [
    "### Descriptive Statistics"
   ]
  },
  {
   "cell_type": "markdown",
   "id": "6e15eb64-8b7b-4293-93ca-de1218ce2ead",
   "metadata": {},
   "source": [
    "| Concept           | Definition                                            | Population Formula                                    | Sample Formula                                       |\n",
    "|-------------------|--------------------------------------------------------|-------------------------------------------------------|-------------------------------------------------------|\n",
    "| **Mean**          | The arithmetic average of the data points in a dataset. | $$ \\mu = \\frac{1}{N} \\sum_{i=1}^{N} X_i $$             | $$ \\bar{x} = \\frac{1}{n} \\sum_{i=1}^{n} x_i $$        |\n",
    "| **Variance**      | Variance is the average of the squared distances of each data point from the mean. | $$ \\sigma^2 = \\frac{1}{N}\\sum_{i=1}^{N} (X_i - \\mu)^2 $$ | $$ s^2 = \\frac{1}{n-1} \\sum_{i=1}^{n} (x_i - \\bar{x})^2 $$ |\n",
    "| **Standard Deviation** | The square root of the variance, indicating the typical amount of deviation from the mean. | $$ \\sigma = \\sqrt{\\sigma^2} $$                          | $$ s = \\sqrt{s^2} $$                                 |\n"
   ]
  },
  {
   "cell_type": "markdown",
   "id": "db16a265-8541-4ac8-8323-81e47780adf3",
   "metadata": {},
   "source": [
    "### Random Variable: \n",
    "*A random variable is defined as a function that assigns a real number to each outcome of a random experiment.* \n",
    "Random variables are categorized as either `discrete` (with countable outcomes) or `continuous` (with infinite possible outcomes within a range).\n",
    "They are denoted by uppercase letters (X, Y, Z) and are essential for describing and analyzing probabilities, distributions, and statistical measures in various data analysis methods."
   ]
  },
  {
   "cell_type": "markdown",
   "id": "df0a9a74-0966-44cc-8a93-7de4702680fb",
   "metadata": {},
   "source": [
    "### Probability Distribution: \n",
    "A probability distribution is a mathematical function that describes the likelihood of obtaining the possible outcomes of a random variable. It can be characterized by its probability mass function (for discrete random variables) or probability density function (for continuous random variables).\n",
    "\n",
    "\n",
    "| Characteristic                   | Probability Mass Function (PMF)                                      | Probability Density Function (PDF)                                      |\n",
    "|----------------------------------|-----------------------------------------------------------------------|--------------------------------------------------------------------------|\n",
    "| **Definition**                   | Describes the probability of discrete random variable \\( X \\) taking on specific values \\( x \\). | Describes the probability density of continuous random variable \\( X \\).  |\n",
    "| **Applicability**                | Used for discrete random variables.                                    | Used for continuous random variables.                                    |\n",
    "| **Mathematical Representation**  | $$ P(X = x) $$ where \\( x \\) is a specific value of \\( X \\).           | $$ f(x) $$ where \\( x \\) is a continuous variable representing the density. |\n",
    "| **Range of Values**              | Only defined for specific discrete values \\( x \\).                     | Defined for all values within a continuous range.                         |\n",
    "| **Probability Values**           | Can be directly interpreted as probabilities.                          | Represents relative likelihoods; actual probabilities require integration.|\n",
    "| **Summation/Integration**        | Summation over all possible values \\( x \\) equals 1:                   | Integration over the entire range equals 1:                               |\n",
    "|                                  | $$ \\sum_{x} P(X = x) = 1 $$                                            | $$ \\int_{-\\infty}^{\\infty} f(x) \\, dx = 1 $$                              |\n",
    "| **Example Distribution**         | Bernoulli, Binomial, Poisson, etc.                                     | Normal, Exponential, Uniform, etc.                                        |\n"
   ]
  },
  {
   "cell_type": "code",
   "execution_count": null,
   "id": "985027d4-57a2-4b5d-bdcb-053ad4304d95",
   "metadata": {},
   "outputs": [],
   "source": []
  }
 ],
 "metadata": {
  "kernelspec": {
   "display_name": "Python 3 (ipykernel)",
   "language": "python",
   "name": "python3"
  },
  "language_info": {
   "codemirror_mode": {
    "name": "ipython",
    "version": 3
   },
   "file_extension": ".py",
   "mimetype": "text/x-python",
   "name": "python",
   "nbconvert_exporter": "python",
   "pygments_lexer": "ipython3",
   "version": "3.11.4"
  }
 },
 "nbformat": 4,
 "nbformat_minor": 5
}
