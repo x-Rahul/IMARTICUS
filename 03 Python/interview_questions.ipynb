{
 "cells": [
  {
   "cell_type": "markdown",
   "metadata": {},
   "source": [
    "## 1. Basics of Python"
   ]
  },
  {
   "cell_type": "markdown",
   "metadata": {},
   "source": [
    " 1. What is Python? What are the key features of Python?\n",
    "\n",
    " 2. What are Python's built-in data types?\n",
    "\n",
    " 3. How does Python handle memory management?\n",
    "\n",
    " 4. Explain the concept of dynamic typing in Python.\n"
   ]
  },
  {
   "cell_type": "markdown",
   "metadata": {},
   "source": [
    "## 2.  Control Flow"
   ]
  },
  {
   "cell_type": "markdown",
   "metadata": {},
   "source": [
    " 5. What are loops in Python, and how do you use them?\n",
    "\n",
    " 6. What is the difference between break, continue, and pass statements in Python?\n",
    "\n"
   ]
  },
  {
   "cell_type": "markdown",
   "metadata": {},
   "source": [
    "## 3. Strings"
   ]
  },
  {
   "cell_type": "code",
   "execution_count": null,
   "metadata": {
    "vscode": {
     "languageId": "plaintext"
    }
   },
   "outputs": [],
   "source": [
    " 7. What is the difference between is and == in Python?\n",
    "\n",
    " 8. How do you reverse a string in Python?"
   ]
  },
  {
   "cell_type": "markdown",
   "metadata": {
    "vscode": {
     "languageId": "plaintext"
    }
   },
   "source": [
    "## 4. Data Structures"
   ]
  },
  {
   "cell_type": "markdown",
   "metadata": {},
   "source": [
    "1. How can you remove duplicates from a list?\n",
    "2. What are the differences between a list and a tuple?\n",
    "3. What is a set in Python, and how does it work?"
   ]
  },
  {
   "cell_type": "markdown",
   "metadata": {},
   "source": []
  }
 ],
 "metadata": {
  "language_info": {
   "name": "python"
  }
 },
 "nbformat": 4,
 "nbformat_minor": 2
}
