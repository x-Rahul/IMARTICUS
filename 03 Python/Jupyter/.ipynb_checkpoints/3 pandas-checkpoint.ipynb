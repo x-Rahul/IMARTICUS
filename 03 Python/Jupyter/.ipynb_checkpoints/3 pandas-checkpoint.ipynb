{
 "cells": [
  {
   "cell_type": "code",
   "execution_count": 13,
   "id": "094c5ded-25ac-4666-80b1-939a01133116",
   "metadata": {},
   "outputs": [],
   "source": [
    "import pandas as pd\n",
    "import numpy as np"
   ]
  },
  {
   "cell_type": "code",
   "execution_count": 14,
   "id": "ce824250-6698-4e5e-8d47-cbc84a009c3f",
   "metadata": {},
   "outputs": [
    {
     "data": {
      "text/plain": [
       "0    4\n",
       "1    6\n",
       "2    5\n",
       "3    3\n",
       "dtype: int64"
      ]
     },
     "execution_count": 14,
     "metadata": {},
     "output_type": "execute_result"
    }
   ],
   "source": [
    "pd.Series([4,6,5,3])"
   ]
  },
  {
   "cell_type": "code",
   "execution_count": 20,
   "id": "03b60bf0-baf9-4d2f-9201-9eef4b998191",
   "metadata": {},
   "outputs": [
    {
     "data": {
      "text/plain": [
       "0      5\n",
       "2      3\n",
       "4      2\n",
       "6     42\n",
       "8      5\n",
       "10     4\n",
       "dtype: int32"
      ]
     },
     "execution_count": 20,
     "metadata": {},
     "output_type": "execute_result"
    }
   ],
   "source": [
    "pd.Series(np.array([5,3,2,42,5,4]), index=np.arange(0,12,2))"
   ]
  },
  {
   "cell_type": "code",
   "execution_count": 29,
   "id": "7fb185ab-eb70-4862-86f5-417e320dcf05",
   "metadata": {},
   "outputs": [
    {
     "data": {
      "text/plain": [
       "Y    [math, sci]\n",
       "Z          [sci]\n",
       "dtype: object"
      ]
     },
     "execution_count": 29,
     "metadata": {},
     "output_type": "execute_result"
    }
   ],
   "source": [
    "class_dict = {\n",
    "    'X': [\"math\", \"sci\", \"eng\"],\n",
    "    'Y': [\"math\", \"sci\"],\n",
    "    'Z': [\"sci\"]\n",
    "}\n",
    "\n",
    "class_Series = pd.Series(class_dict)\n",
    "class_Series[['Y','Z']]"
   ]
  },
  {
   "cell_type": "code",
   "execution_count": 32,
   "id": "0ff71a91-55ec-44c9-bba0-bda65cd8cb54",
   "metadata": {},
   "outputs": [
    {
     "data": {
      "text/plain": [
       "sophie    55\n",
       "jack      88\n",
       "june      75\n",
       "dtype: int32"
      ]
     },
     "execution_count": 32,
     "metadata": {},
     "output_type": "execute_result"
    }
   ],
   "source": [
    "studentMarks = pd.Series(np.array([55,32,88,45,75]), index=['sophie', 'john', 'jack', 'tim', 'june'])\n",
    "studentMarks[studentMarks>50]"
   ]
  }
 ],
 "metadata": {
  "kernelspec": {
   "display_name": "Python 3 (ipykernel)",
   "language": "python",
   "name": "python3"
  },
  "language_info": {
   "codemirror_mode": {
    "name": "ipython",
    "version": 3
   },
   "file_extension": ".py",
   "mimetype": "text/x-python",
   "name": "python",
   "nbconvert_exporter": "python",
   "pygments_lexer": "ipython3",
   "version": "3.12.3"
  }
 },
 "nbformat": 4,
 "nbformat_minor": 5
}
