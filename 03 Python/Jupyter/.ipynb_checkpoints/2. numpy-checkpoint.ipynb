{
 "cells": [
  {
   "cell_type": "code",
   "execution_count": 8,
   "id": "8e404c20-e9ee-4b51-b47c-662b3836381f",
   "metadata": {},
   "outputs": [],
   "source": [
    "import numpy as np"
   ]
  },
  {
   "cell_type": "code",
   "execution_count": 9,
   "id": "c95054f5-d979-4f11-be98-ffd966bb9a5b",
   "metadata": {},
   "outputs": [],
   "source": [
    "import random"
   ]
  },
  {
   "cell_type": "code",
   "execution_count": 10,
   "id": "868e3fb5-999a-423a-bf4d-60e32ff2827c",
   "metadata": {},
   "outputs": [
    {
     "name": "stdout",
     "output_type": "stream",
     "text": [
      "10.361029079952406\n",
      "14.087098208522091\n",
      "16.226977445727176\n",
      "11.938111401199606\n",
      "16.664538944353428\n",
      "13.90436337558077\n",
      "17.141020290139217\n",
      "12.600921669457676\n",
      "13.990596161517324\n",
      "19.140801123787128\n"
     ]
    }
   ],
   "source": [
    "def rand(n, x, y):\n",
    "    for i in range(n):\n",
    "        print(random.randrange(x, y)+random.random())\n",
    "\n",
    "rand(10, 10, 20)"
   ]
  },
  {
   "cell_type": "code",
   "execution_count": 11,
   "id": "53c232cc-d853-4474-8409-55cc8afdbc46",
   "metadata": {},
   "outputs": [
    {
     "data": {
      "text/plain": [
       "11"
      ]
     },
     "execution_count": 11,
     "metadata": {},
     "output_type": "execute_result"
    }
   ],
   "source": [
    "random.randrange(10, 20)"
   ]
  },
  {
   "cell_type": "code",
   "execution_count": 12,
   "id": "93d20a4b-3de5-4c85-b7ae-368e838a9d16",
   "metadata": {},
   "outputs": [
    {
     "data": {
      "text/plain": [
       "[2, 7, 8, 1, 4]"
      ]
     },
     "execution_count": 12,
     "metadata": {},
     "output_type": "execute_result"
    }
   ],
   "source": [
    "list1 = [1,2,3,4,5,6,7,8,9,10]\n",
    "list2 = [11,12,13]\n",
    "random.choices(list1, k=5)"
   ]
  },
  {
   "cell_type": "code",
   "execution_count": 6,
   "id": "cb894ed5-7be6-445d-a014-c3b849623ed4",
   "metadata": {},
   "outputs": [
    {
     "data": {
      "text/plain": [
       "598"
      ]
     },
     "execution_count": 6,
     "metadata": {},
     "output_type": "execute_result"
    }
   ],
   "source": [
    "len(dir(np))"
   ]
  },
  {
   "cell_type": "code",
   "execution_count": 7,
   "id": "34e90d9e-ccf8-4917-8abf-4a337e07f806",
   "metadata": {},
   "outputs": [
    {
     "data": {
      "text/plain": [
       "array(['hellow', 'me', '20'], dtype='<U21')"
      ]
     },
     "execution_count": 7,
     "metadata": {},
     "output_type": "execute_result"
    }
   ],
   "source": [
    "np.array([\"hellow\", \"me\", 20])"
   ]
  },
  {
   "cell_type": "code",
   "execution_count": 124,
   "id": "f102209c-9c88-4012-aa66-bc10f993f92c",
   "metadata": {},
   "outputs": [],
   "source": [
    "a1 = np.array([1,23,4,6])"
   ]
  },
  {
   "cell_type": "code",
   "execution_count": 127,
   "id": "30b3ab3e-5836-4b85-b7fa-120661c1ef51",
   "metadata": {},
   "outputs": [],
   "source": [
    "age_inc = np.array([[12, 100], [45, 120], [34, 450]])"
   ]
  },
  {
   "cell_type": "code",
   "execution_count": 140,
   "id": "d177f9e6-c774-4ad3-ac1f-26143ca45838",
   "metadata": {},
   "outputs": [
    {
     "data": {
      "text/plain": [
       "array([[ 12, 100],\n",
       "       [ 45, 120],\n",
       "       [ 34, 450]])"
      ]
     },
     "execution_count": 140,
     "metadata": {},
     "output_type": "execute_result"
    }
   ],
   "source": [
    "age_inc"
   ]
  },
  {
   "cell_type": "code",
   "execution_count": 141,
   "id": "9c574144-e287-47ae-8e77-a2847f172bd2",
   "metadata": {},
   "outputs": [
    {
     "data": {
      "text/plain": [
       "array([ 91, 670])"
      ]
     },
     "execution_count": 141,
     "metadata": {},
     "output_type": "execute_result"
    }
   ],
   "source": [
    "age_inc.sum(axis = 0)"
   ]
  },
  {
   "cell_type": "code",
   "execution_count": 143,
   "id": "fdd60330-e57a-4a93-b71e-8708186ef372",
   "metadata": {},
   "outputs": [
    {
     "data": {
      "text/plain": [
       "array([1, 2])"
      ]
     },
     "execution_count": 143,
     "metadata": {},
     "output_type": "execute_result"
    }
   ],
   "source": [
    "age_inc.argmax(axis = 0)"
   ]
  },
  {
   "cell_type": "code",
   "execution_count": 161,
   "id": "39450f3e-7245-4d99-984f-8a35bebf23bc",
   "metadata": {},
   "outputs": [],
   "source": [
    "x  = [[12, 45, 89, 100, 5],\n",
    "     [1, 45, 9, 100, 5],\n",
    "     [12, 4, 9, 10, 5],\n",
    "     [12, 45, 8, 10, 5]]\n",
    "\n",
    "x = np.array(x)"
   ]
  },
  {
   "cell_type": "code",
   "execution_count": 163,
   "id": "092f500b-f384-46ab-8225-d69a6e68537d",
   "metadata": {},
   "outputs": [
    {
     "data": {
      "text/plain": [
       "array([[ 9, 10],\n",
       "       [ 8, 10]])"
      ]
     },
     "execution_count": 163,
     "metadata": {},
     "output_type": "execute_result"
    }
   ],
   "source": [
    "x[2:4, 2:4]"
   ]
  },
  {
   "cell_type": "code",
   "execution_count": null,
   "id": "2cdf4f99-3362-46d6-958d-4d2ceacfcc25",
   "metadata": {},
   "outputs": [],
   "source": []
  }
 ],
 "metadata": {
  "kernelspec": {
   "display_name": "Python 3 (ipykernel)",
   "language": "python",
   "name": "python3"
  },
  "language_info": {
   "codemirror_mode": {
    "name": "ipython",
    "version": 3
   },
   "file_extension": ".py",
   "mimetype": "text/x-python",
   "name": "python",
   "nbconvert_exporter": "python",
   "pygments_lexer": "ipython3",
   "version": "3.11.4"
  }
 },
 "nbformat": 4,
 "nbformat_minor": 5
}
