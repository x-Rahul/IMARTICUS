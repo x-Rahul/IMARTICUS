{
 "cells": [
  {
   "cell_type": "code",
   "execution_count": 1,
   "id": "2eee7b92-6de4-4233-9513-7990c4640121",
   "metadata": {},
   "outputs": [
    {
     "data": {
      "text/plain": [
       "'10'"
      ]
     },
     "execution_count": 1,
     "metadata": {},
     "output_type": "execute_result"
    }
   ],
   "source": [
    "dob = '10-5-2024'\n",
    "\n",
    "dob.split('-')[0]"
   ]
  },
  {
   "cell_type": "code",
   "execution_count": 22,
   "id": "dc838c46-c841-46b2-aae8-663892f3d86e",
   "metadata": {},
   "outputs": [
    {
     "name": "stdout",
     "output_type": "stream",
     "text": [
      "negative\n"
     ]
    }
   ],
   "source": [
    "n = -8\n",
    "if n>100:\n",
    "    if n%2==0:print(\"even\")\n",
    "    else:print(\"odd\")\n",
    "elif n>0:\n",
    "    if n%5==0: print(\"divisible by 5\")\n",
    "    else:print(\"not divisible by 5\")\n",
    "else: print(\"negative\")\n"
   ]
  },
  {
   "cell_type": "code",
   "execution_count": 23,
   "id": "75dbd7c7-b281-4aac-8811-da91ecc1089a",
   "metadata": {},
   "outputs": [
    {
     "name": "stdout",
     "output_type": "stream",
     "text": [
      "12.0\n"
     ]
    }
   ],
   "source": [
    "import math\n",
    "n  = 9\n",
    "\n",
    "if n >100: print(f\"Sq root {math.sqrt(n)}\")\n",
    "elif n<100 and n>0: print(f\"{math.sqrt(n)+n}\")\n",
    "elif n<0: print((abs(n)/20)**3)\n",
    "else: print(\"condtion not satisfied\")\n"
   ]
  },
  {
   "cell_type": "code",
   "execution_count": 24,
   "id": "2590c6fa-4c7a-449c-9ac0-92a6269bf8c4",
   "metadata": {},
   "outputs": [
    {
     "name": "stdout",
     "output_type": "stream",
     "text": [
      "even\n"
     ]
    }
   ],
   "source": [
    "n = 35614\n",
    "x = n%10\n",
    "\n",
    "if x%2 == 0: print(\"even\")\n",
    "else: print(\"odd\")"
   ]
  },
  {
   "cell_type": "code",
   "execution_count": 25,
   "id": "729b672c-1b0d-404f-b497-cfa641884b1e",
   "metadata": {},
   "outputs": [
    {
     "data": {
      "text/plain": [
       "10.0"
      ]
     },
     "execution_count": 25,
     "metadata": {},
     "output_type": "execute_result"
    }
   ],
   "source": [
    "import math\n",
    "math.sqrt(100)"
   ]
  },
  {
   "cell_type": "code",
   "execution_count": 26,
   "id": "49de8f5b-aaed-4c96-ad8e-1fa5922a19f2",
   "metadata": {},
   "outputs": [
    {
     "name": "stdout",
     "output_type": "stream",
     "text": [
      "55\n",
      "55\n"
     ]
    }
   ],
   "source": [
    "# Sum of n natural no.s\n",
    "sum = 0\n",
    "i = 0\n",
    "while (i<11):\n",
    "    sum+=i\n",
    "    i+=1\n",
    "print(sum)\n",
    "sum = 0\n",
    "for i in range(1,11):\n",
    "    sum += i\n",
    "print(sum)"
   ]
  },
  {
   "cell_type": "code",
   "execution_count": 27,
   "id": "b8dc5b17-ca6c-4ddd-90d2-ab80c87942f8",
   "metadata": {},
   "outputs": [
    {
     "name": "stdout",
     "output_type": "stream",
     "text": [
      "k\n",
      "n\n",
      "o\n",
      "w\n",
      "l\n",
      "e\n",
      "d\n",
      "g\n",
      "e\n",
      "h\n",
      "u\n",
      "r\n",
      "t\n"
     ]
    }
   ],
   "source": [
    "word = 'knowledge hurt'\n",
    "for i in word:\n",
    "    if(i == ' '): continue\n",
    "    print(i)"
   ]
  },
  {
   "cell_type": "code",
   "execution_count": 28,
   "id": "a1c9ae08-8aba-4ef1-97ac-3c47c4fc5b71",
   "metadata": {},
   "outputs": [
    {
     "name": "stdout",
     "output_type": "stream",
     "text": [
      "<class 'tuple'>\n"
     ]
    },
    {
     "data": {
      "text/plain": [
       "17"
      ]
     },
     "execution_count": 28,
     "metadata": {},
     "output_type": "execute_result"
    }
   ],
   "source": [
    "def sum(*nums):\n",
    "    print(type(nums))\n",
    "    sum = 0\n",
    "    for i in nums:\n",
    "        sum += i\n",
    "    return sum\n",
    "sum(1,2,3,5,6)"
   ]
  },
  {
   "cell_type": "code",
   "execution_count": 29,
   "id": "e617afda-c791-4665-829a-ea500b7d4ac8",
   "metadata": {},
   "outputs": [
    {
     "name": "stdout",
     "output_type": "stream",
     "text": [
      "name: John\n",
      "age: 30\n",
      "city: New York\n"
     ]
    }
   ],
   "source": [
    "def print_info(**data):\n",
    "    for key, value in data.items():\n",
    "        print(f\"{key}: {value}\")\n",
    "\n",
    "print_info(name=\"John\", age=30, city=\"New York\")"
   ]
  },
  {
   "cell_type": "code",
   "execution_count": 30,
   "id": "625901d4-d20e-4883-bc5a-8f57a66d5c5b",
   "metadata": {},
   "outputs": [
    {
     "name": "stdout",
     "output_type": "stream",
     "text": [
      "8\n",
      "10\n"
     ]
    }
   ],
   "source": [
    "# Lambda function\n",
    "add = lambda x, y: x + y\n",
    "print(add(5, 3))  # Output: 8\n",
    "\n",
    "greater = lambda x, y: x if x>y else y\n",
    "print(greater(5,10))"
   ]
  },
  {
   "cell_type": "code",
   "execution_count": 31,
   "id": "4f5a7486-82a8-47b5-b1cf-0e1ad31ccd58",
   "metadata": {},
   "outputs": [
    {
     "name": "stdout",
     "output_type": "stream",
     "text": [
      "[1, 4, 9, 16, 25, 36, 49, 64, 81, 100]\n"
     ]
    }
   ],
   "source": [
    "numbers = list(range(1, 11))\n",
    "\n",
    "# Using map() with lambda function to square each number\n",
    "squared_numbers = list(map(lambda x: x**2, numbers))\n",
    "\n",
    "# Printing the squared numbers list\n",
    "print(squared_numbers)"
   ]
  },
  {
   "cell_type": "code",
   "execution_count": 32,
   "id": "b5461a57-7882-4b19-b5de-6d479e15375e",
   "metadata": {},
   "outputs": [
    {
     "name": "stdout",
     "output_type": "stream",
     "text": [
      "[1, 4, 9, 16, 25, 36, 49, 64, 81, 100]\n"
     ]
    }
   ],
   "source": [
    "numbers = list(range(1, 11))\n",
    "\n",
    "# Using list comprehension to square each number\n",
    "squared_numbers = [x**2 for x in numbers]\n",
    "\n",
    "print(squared_numbers)"
   ]
  },
  {
   "cell_type": "code",
   "execution_count": 33,
   "id": "38918be5-1644-44d0-af78-dcfbd8e1caf9",
   "metadata": {},
   "outputs": [
    {
     "data": {
      "text/plain": [
       "[2, 4, 6, 8]"
      ]
     },
     "execution_count": 33,
     "metadata": {},
     "output_type": "execute_result"
    }
   ],
   "source": [
    "nums = range(1, 10)\n",
    "list(filter(lambda x:x%2==0, nums))"
   ]
  },
  {
   "cell_type": "code",
   "execution_count": 34,
   "id": "05324a47-1ae8-42fd-aaa1-27f87ecbe1f9",
   "metadata": {},
   "outputs": [
    {
     "data": {
      "text/plain": [
       "[1, 3, 5, 9, 6, [5, 0], 4, 6]"
      ]
     },
     "execution_count": 34,
     "metadata": {},
     "output_type": "execute_result"
    }
   ],
   "source": [
    "listA = [1,3,5,9]\n",
    "listA.append(6)\n",
    "listA.append([5,0])\n",
    "listA.extend([4,6])\n",
    "listA"
   ]
  },
  {
   "cell_type": "code",
   "execution_count": 35,
   "id": "e4966e6d-b33a-41ee-9b99-1d704ce5d093",
   "metadata": {},
   "outputs": [
    {
     "data": {
      "text/plain": [
       "[1, 99, 3, 5, 9, 6, [5, 0], 4, 6]"
      ]
     },
     "execution_count": 35,
     "metadata": {},
     "output_type": "execute_result"
    }
   ],
   "source": [
    "listA.insert(1,99)\n",
    "listA"
   ]
  },
  {
   "cell_type": "code",
   "execution_count": 36,
   "id": "39fe526d-5dea-4ca4-a9c1-f84a74e0be2c",
   "metadata": {},
   "outputs": [
    {
     "data": {
      "text/plain": [
       "[1, 3, 5, 9, 6, [5, 0], 4, 6]"
      ]
     },
     "execution_count": 36,
     "metadata": {},
     "output_type": "execute_result"
    }
   ],
   "source": [
    "listA.pop(1)\n",
    "listA"
   ]
  },
  {
   "cell_type": "code",
   "execution_count": 37,
   "id": "fa2f4976-48e3-45f1-8aad-0eb296e553d5",
   "metadata": {},
   "outputs": [],
   "source": [
    "listA.remove(4)"
   ]
  },
  {
   "cell_type": "code",
   "execution_count": 38,
   "id": "86f1f71e-fcb9-4c55-a9af-d4ee7da3a615",
   "metadata": {},
   "outputs": [
    {
     "data": {
      "text/plain": [
       "[1, 3, 5, 9, 6, [5, 0], 6]"
      ]
     },
     "execution_count": 38,
     "metadata": {},
     "output_type": "execute_result"
    }
   ],
   "source": [
    "listA"
   ]
  },
  {
   "cell_type": "code",
   "execution_count": 39,
   "id": "f9371f1a-9c8c-48d8-8d06-832b90f97d86",
   "metadata": {},
   "outputs": [],
   "source": [
    "l1 = [1,2,3]\n",
    "l2 = l1 # Deep copy\n",
    "l1.append(4)"
   ]
  },
  {
   "cell_type": "code",
   "execution_count": 40,
   "id": "06da33ae-81b5-4e12-823b-f044eadc7fc8",
   "metadata": {},
   "outputs": [
    {
     "data": {
      "text/plain": [
       "[1, 2, 3, 4]"
      ]
     },
     "execution_count": 40,
     "metadata": {},
     "output_type": "execute_result"
    }
   ],
   "source": [
    "l2"
   ]
  },
  {
   "cell_type": "code",
   "execution_count": 41,
   "id": "be3e94f4-751f-4dc1-a1e4-50419c73a52f",
   "metadata": {},
   "outputs": [
    {
     "data": {
      "text/plain": [
       "[1, 2, 3, 4]"
      ]
     },
     "execution_count": 41,
     "metadata": {},
     "output_type": "execute_result"
    }
   ],
   "source": [
    "l2 = l1.copy()\n",
    "l1.append(5)\n",
    "l2"
   ]
  },
  {
   "cell_type": "code",
   "execution_count": 42,
   "id": "e12b728a-8831-4cdd-9b0f-a6db2b3dbeb9",
   "metadata": {},
   "outputs": [],
   "source": [
    "l2.reverse()"
   ]
  },
  {
   "cell_type": "code",
   "execution_count": 43,
   "id": "a7cb2858-e950-49f5-9973-d43fa3ef5295",
   "metadata": {},
   "outputs": [
    {
     "data": {
      "text/plain": [
       "[4, 3, 2, 1]"
      ]
     },
     "execution_count": 43,
     "metadata": {},
     "output_type": "execute_result"
    }
   ],
   "source": [
    "l2"
   ]
  },
  {
   "cell_type": "code",
   "execution_count": 44,
   "id": "ba146708-9582-4816-a7a8-15661ba33b66",
   "metadata": {},
   "outputs": [],
   "source": [
    "l2.sort()"
   ]
  },
  {
   "cell_type": "code",
   "execution_count": 45,
   "id": "09ddee83-498a-4900-99ec-929a42819540",
   "metadata": {},
   "outputs": [
    {
     "data": {
      "text/plain": [
       "7"
      ]
     },
     "execution_count": 45,
     "metadata": {},
     "output_type": "execute_result"
    }
   ],
   "source": [
    "str = \"Hello World!\"\n",
    "str.index('o')\n",
    "str.index('o', 5)"
   ]
  },
  {
   "cell_type": "code",
   "execution_count": 46,
   "id": "8fa2a8a2-7d40-46d4-a000-685aae67ea51",
   "metadata": {},
   "outputs": [
    {
     "data": {
      "text/plain": [
       "'Pytkon'"
      ]
     },
     "execution_count": 46,
     "metadata": {},
     "output_type": "execute_result"
    }
   ],
   "source": [
    "str = \"Python\"\n",
    "\n",
    "str.replace('h', 'k')"
   ]
  },
  {
   "cell_type": "code",
   "execution_count": 47,
   "id": "0afc4164-f468-49e0-93c5-1c1424545257",
   "metadata": {},
   "outputs": [
    {
     "data": {
      "text/plain": [
       "'no'"
      ]
     },
     "execution_count": 47,
     "metadata": {},
     "output_type": "execute_result"
    }
   ],
   "source": [
    "str[5:3:-1]"
   ]
  },
  {
   "cell_type": "code",
   "execution_count": 48,
   "id": "b4edd341-fc84-4fc7-9352-47b8d74cbff1",
   "metadata": {},
   "outputs": [
    {
     "data": {
      "text/plain": [
       "'ho'"
      ]
     },
     "execution_count": 48,
     "metadata": {},
     "output_type": "execute_result"
    }
   ],
   "source": [
    "str[3:5]"
   ]
  },
  {
   "cell_type": "code",
   "execution_count": 49,
   "id": "2433d8b4-c31a-4f21-9133-b728fb04fe66",
   "metadata": {},
   "outputs": [
    {
     "data": {
      "text/plain": [
       "2"
      ]
     },
     "execution_count": 49,
     "metadata": {},
     "output_type": "execute_result"
    }
   ],
   "source": [
    "str.find('th')\n",
    "# str.index('th')"
   ]
  },
  {
   "cell_type": "code",
   "execution_count": 50,
   "id": "dfb36978-96cd-4167-9fa3-2988869969fc",
   "metadata": {},
   "outputs": [
    {
     "data": {
      "text/plain": [
       "'H%e%l%o%o% % % % %g%e%i%h%g% %n%g% % % % %g%e%n%g'"
      ]
     },
     "execution_count": 50,
     "metadata": {},
     "output_type": "execute_result"
    }
   ],
   "source": [
    "s1 = \"Heloo    geihg ng    geng\"\n",
    "s1.split()\n",
    "'%'.join(s1)"
   ]
  },
  {
   "cell_type": "code",
   "execution_count": 51,
   "id": "5174282b-72c7-49fc-bda1-ea22bd2258fb",
   "metadata": {},
   "outputs": [
    {
     "data": {
      "text/plain": [
       "'hellow*workd'"
      ]
     },
     "execution_count": 51,
     "metadata": {},
     "output_type": "execute_result"
    }
   ],
   "source": [
    "a = 'hellow'\n",
    "b = 'workd'\n",
    "\n",
    "'*'.join([a,b])"
   ]
  },
  {
   "cell_type": "code",
   "execution_count": 52,
   "id": "d8291ff5-ff59-4e6f-bcc6-07e4a21e1daf",
   "metadata": {},
   "outputs": [
    {
     "data": {
      "text/plain": [
       "'Hello rahul'"
      ]
     },
     "execution_count": 52,
     "metadata": {},
     "output_type": "execute_result"
    }
   ],
   "source": [
    "a = \"Hello user\"\n",
    "a.replace('user', 'rahul')"
   ]
  },
  {
   "cell_type": "code",
   "execution_count": 53,
   "id": "40dbd99c-e0c5-43c9-931b-ad6eb9f01604",
   "metadata": {},
   "outputs": [
    {
     "name": "stdout",
     "output_type": "stream",
     "text": [
      "100\n",
      "106.0\n",
      "112.36\n",
      "119.1016\n",
      "126.247696\n",
      "133.82255776\n",
      "141.8519112256\n",
      "150.363025899136\n",
      "159.38480745308416\n",
      "168.9478959002692\n",
      "179.08476965428537\n",
      "189.8298558335425\n"
     ]
    },
    {
     "data": {
      "text/plain": [
       "12"
      ]
     },
     "execution_count": 53,
     "metadata": {},
     "output_type": "execute_result"
    }
   ],
   "source": [
    "# In how much years income will be doubled\n",
    "\n",
    "inc = 100\n",
    "mx_inc = 2*inc\n",
    "\n",
    "c = 0\n",
    "while inc<=mx_inc:\n",
    "    print(inc)\n",
    "    inc += inc*0.06\n",
    "    c+=1\n",
    "c"
   ]
  },
  {
   "cell_type": "code",
   "execution_count": 54,
   "id": "f72f709d-3a48-40a0-a98d-80db1cdd9759",
   "metadata": {},
   "outputs": [
    {
     "data": {
      "text/plain": [
       "24"
      ]
     },
     "execution_count": 54,
     "metadata": {},
     "output_type": "execute_result"
    }
   ],
   "source": [
    "# number of alphabets\n",
    "pg = \"Hello Python let's see you @ ccd\"\n",
    "c = 0\n",
    "for i in pg:\n",
    "    if i.isalpha():\n",
    "        c+=1\n",
    "c"
   ]
  },
  {
   "cell_type": "code",
   "execution_count": 55,
   "id": "89a35f8c-ce6a-439a-9f9e-0223bbad3ada",
   "metadata": {},
   "outputs": [
    {
     "data": {
      "text/plain": [
       "'olleH'"
      ]
     },
     "execution_count": 55,
     "metadata": {},
     "output_type": "execute_result"
    }
   ],
   "source": [
    "string = \"Hello\"\n",
    "l = len(string)-1\n",
    "y= \"\"\n",
    "while(l>=0):\n",
    "    y+=string[l]\n",
    "    l-=1\n",
    "y"
   ]
  },
  {
   "cell_type": "code",
   "execution_count": 56,
   "id": "84b17ddb-6f75-4490-98a8-59fda210805c",
   "metadata": {},
   "outputs": [
    {
     "data": {
      "text/plain": [
       "['World', 'Python', 'Hello']"
      ]
     },
     "execution_count": 56,
     "metadata": {},
     "output_type": "execute_result"
    }
   ],
   "source": [
    "listA = [\"Hello\", \"Python\", \"World\"]\n",
    "listB = []\n",
    "l = len(listA)-1\n",
    "\n",
    "while l>=0:\n",
    "    listB.append(listA[l])\n",
    "    l-=1\n",
    "\n",
    "listB"
   ]
  },
  {
   "cell_type": "markdown",
   "id": "81e0573c-9b46-4528-9bf8-54be4b8a7829",
   "metadata": {},
   "source": [
    "### Functions"
   ]
  },
  {
   "cell_type": "code",
   "execution_count": 57,
   "id": "884a5023-96c3-4e6e-94da-9470bacad37e",
   "metadata": {},
   "outputs": [],
   "source": [
    "# Syntax\n",
    "\n",
    "# def function_name():\n",
    "#     \"\"\"docstring\n",
    "#     this function do this or that..\n",
    "#     ..\n",
    "#     ..\n",
    "#     \"\"\"\n",
    "#     actions/print/return"
   ]
  },
  {
   "cell_type": "code",
   "execution_count": 58,
   "id": "f44e3fa4-4b75-41d4-b9a0-4f473e4090bb",
   "metadata": {},
   "outputs": [
    {
     "data": {
      "text/plain": [
       "15"
      ]
     },
     "execution_count": 58,
     "metadata": {},
     "output_type": "execute_result"
    }
   ],
   "source": [
    "def hcf(a,b):\n",
    "    common = []\n",
    "    ans = []\n",
    "    for i in range(1,a):\n",
    "        if a%i==0:\n",
    "            common.append(i)\n",
    "    for j in common:\n",
    "        if b%j==0:\n",
    "            ans.append(j)\n",
    "    return ans[-1]\n",
    "\n",
    "hcf(45, 15)"
   ]
  },
  {
   "cell_type": "code",
   "execution_count": 59,
   "id": "42da89ac-7c96-416d-9059-0aba6ea5acda",
   "metadata": {},
   "outputs": [
    {
     "name": "stdout",
     "output_type": "stream",
     "text": [
      "AGE: 35 tax: 30%\n"
     ]
    }
   ],
   "source": [
    "age = 35\n",
    "inc = 7000000\n",
    "\n",
    "if age<60:\n",
    "    if inc<250000: print(f\"AGE: {age} NIL\")\n",
    "    elif inc<300000: print(f\"AGE: {age} tax:1 5%\")\n",
    "    elif inc<500000: print(f\"AGE: {age} tax: 5%\")\n",
    "    elif inc<1000000: print(f\"AGE: {age} tax: 20%\")\n",
    "    elif inc>1000000: print(f\"AGE: {age} tax: 30%\")\n",
    "elif age<80:\n",
    "    if inc<250000: print(f\"AGE: {age} NIL\")\n",
    "    elif inc<300000: print(f\"AGE: {age} NIL\")\n",
    "    elif inc<500000: print(f\"AGE: {age} tax: 5%\")\n",
    "    elif inc<1000000: print(f\"AGE: {age} tax: 20%\")\n",
    "    elif inc>1000000: print(f\"AGE: {age} tax: 30%\")\n",
    "elif age<100:\n",
    "    if inc<250000: print(f\"AGE: {age} NIL\")\n",
    "    elif inc<300000: print(f\"AGE: {age} NIL\")\n",
    "    elif inc<500000: print(f\"AGE: {age} NIL\")\n",
    "    elif inc<1000000: print(f\"AGE: {age} tax: 20%\")\n",
    "    elif inc>1000000: print(f\"AGE: {age} tax: 30%\")"
   ]
  },
  {
   "cell_type": "code",
   "execution_count": null,
   "id": "4d30f4dd-d917-43e0-a538-04456b4adde0",
   "metadata": {},
   "outputs": [],
   "source": []
  },
  {
   "cell_type": "code",
   "execution_count": null,
   "id": "e678a325-a564-4376-bcf7-6861ccad4a4e",
   "metadata": {},
   "outputs": [],
   "source": []
  }
 ],
 "metadata": {
  "kernelspec": {
   "display_name": "Python 3 (ipykernel)",
   "language": "python",
   "name": "python3"
  },
  "language_info": {
   "codemirror_mode": {
    "name": "ipython",
    "version": 3
   },
   "file_extension": ".py",
   "mimetype": "text/x-python",
   "name": "python",
   "nbconvert_exporter": "python",
   "pygments_lexer": "ipython3",
   "version": "3.11.4"
  }
 },
 "nbformat": 4,
 "nbformat_minor": 5
}
