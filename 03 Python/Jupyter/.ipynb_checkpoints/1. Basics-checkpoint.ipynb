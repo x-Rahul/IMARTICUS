{
 "cells": [
  {
   "cell_type": "code",
   "execution_count": 4,
   "id": "2eee7b92-6de4-4233-9513-7990c4640121",
   "metadata": {},
   "outputs": [
    {
     "data": {
      "text/plain": [
       "'10'"
      ]
     },
     "execution_count": 4,
     "metadata": {},
     "output_type": "execute_result"
    }
   ],
   "source": [
    "dob = '10-5-2024'\n",
    "\n",
    "dob.split('-')[0]"
   ]
  },
  {
   "cell_type": "code",
   "execution_count": 60,
   "id": "42da89ac-7c96-416d-9059-0aba6ea5acda",
   "metadata": {},
   "outputs": [
    {
     "name": "stdout",
     "output_type": "stream",
     "text": [
      "AGE: 35 tax: 30%\n"
     ]
    }
   ],
   "source": [
    "age = 35\n",
    "inc = 7000000\n",
    "\n",
    "if age<60:\n",
    "    if inc<250000: print(f\"AGE: {age} NIL\")\n",
    "    elif inc<300000: print(f\"AGE: {age} tax:1 5%\")\n",
    "    elif inc<500000: print(f\"AGE: {age} tax: 5%\")\n",
    "    elif inc<1000000: print(f\"AGE: {age} tax: 20%\")\n",
    "    elif inc>1000000: print(f\"AGE: {age} tax: 30%\")\n",
    "elif age<80:\n",
    "    if inc<250000: print(f\"AGE: {age} NIL\")\n",
    "    elif inc<300000: print(f\"AGE: {age} NIL\")\n",
    "    elif inc<500000: print(f\"AGE: {age} tax: 5%\")\n",
    "    elif inc<1000000: print(f\"AGE: {age} tax: 20%\")\n",
    "    elif inc>1000000: print(f\"AGE: {age} tax: 30%\")\n",
    "elif age<100:\n",
    "    if inc<250000: print(f\"AGE: {age} NIL\")\n",
    "    elif inc<300000: print(f\"AGE: {age} NIL\")\n",
    "    elif inc<500000: print(f\"AGE: {age} NIL\")\n",
    "    elif inc<1000000: print(f\"AGE: {age} tax: 20%\")\n",
    "    elif inc>1000000: print(f\"AGE: {age} tax: 30%\")"
   ]
  },
  {
   "cell_type": "code",
   "execution_count": 53,
   "id": "75dbd7c7-b281-4aac-8811-da91ecc1089a",
   "metadata": {},
   "outputs": [
    {
     "ename": "SyntaxError",
     "evalue": "invalid syntax (289702625.py, line 9)",
     "output_type": "error",
     "traceback": [
      "\u001b[1;36m  Cell \u001b[1;32mIn[53], line 9\u001b[1;36m\u001b[0m\n\u001b[1;33m    math.\u001b[0m\n\u001b[1;37m         ^\u001b[0m\n\u001b[1;31mSyntaxError\u001b[0m\u001b[1;31m:\u001b[0m invalid syntax\n"
     ]
    }
   ],
   "source": [
    "import math\n",
    "n  = 9\n",
    "\n",
    "if n >100: print(f\"Sq root {math.sqrt(n)}\")\n",
    "elif n<100 and n>0: print(f\"{math.sqrt(n)+n}\")\n",
    "elif n<0: print((abs(n)/20)**3)\n",
    "else: print(\"condtion not satisfied\")\n",
    "\n",
    "math."
   ]
  },
  {
   "cell_type": "code",
   "execution_count": 32,
   "id": "2590c6fa-4c7a-449c-9ac0-92a6269bf8c4",
   "metadata": {},
   "outputs": [
    {
     "name": "stdout",
     "output_type": "stream",
     "text": [
      "even\n"
     ]
    }
   ],
   "source": [
    "n = 35614\n",
    "x = n%10\n",
    "\n",
    "if x%2 == 0: print(\"even\")\n",
    "else: print(\"odd\")"
   ]
  },
  {
   "cell_type": "code",
   "execution_count": 16,
   "id": "729b672c-1b0d-404f-b497-cfa641884b1e",
   "metadata": {},
   "outputs": [
    {
     "data": {
      "text/plain": [
       "10.0"
      ]
     },
     "execution_count": 16,
     "metadata": {},
     "output_type": "execute_result"
    }
   ],
   "source": [
    "import math\n",
    "math.sqrt(100)"
   ]
  },
  {
   "cell_type": "code",
   "execution_count": 12,
   "id": "49de8f5b-aaed-4c96-ad8e-1fa5922a19f2",
   "metadata": {},
   "outputs": [
    {
     "name": "stdout",
     "output_type": "stream",
     "text": [
      "55\n",
      "55\n"
     ]
    }
   ],
   "source": [
    "# Sum of n natural no.s\n",
    "sum = 0\n",
    "i = 0\n",
    "while (i<11):\n",
    "    sum+=i\n",
    "    i+=1\n",
    "print(sum)\n",
    "sum = 0\n",
    "for i in range(1,11):\n",
    "    sum += i\n",
    "print(sum)"
   ]
  },
  {
   "cell_type": "code",
   "execution_count": null,
   "id": "b8dc5b17-ca6c-4ddd-90d2-ab80c87942f8",
   "metadata": {},
   "outputs": [],
   "source": [
    "word = 'knowledge hurt'\n",
    "for i in word:\n",
    "    if(i == ' '): continue\n",
    "    print(i)"
   ]
  },
  {
   "cell_type": "code",
   "execution_count": null,
   "id": "a1c9ae08-8aba-4ef1-97ac-3c47c4fc5b71",
   "metadata": {},
   "outputs": [],
   "source": [
    "def sum(*nums):\n",
    "    print(type(nums))\n",
    "    sum = 0\n",
    "    for i in nums:\n",
    "        sum += i\n",
    "    return sum\n",
    "sum(1,2,3,5,6)"
   ]
  },
  {
   "cell_type": "code",
   "execution_count": null,
   "id": "e617afda-c791-4665-829a-ea500b7d4ac8",
   "metadata": {},
   "outputs": [],
   "source": [
    "def print_info(**data):\n",
    "    for key, value in data.items():\n",
    "        print(f\"{key}: {value}\")\n",
    "\n",
    "print_info(name=\"John\", age=30, city=\"New York\")"
   ]
  },
  {
   "cell_type": "code",
   "execution_count": null,
   "id": "625901d4-d20e-4883-bc5a-8f57a66d5c5b",
   "metadata": {},
   "outputs": [],
   "source": [
    "# Lambda function\n",
    "add = lambda x, y: x + y\n",
    "print(add(5, 3))  # Output: 8\n",
    "\n",
    "greater = lambda x, y: x if x>y else y\n",
    "print(greater(5,10))"
   ]
  },
  {
   "cell_type": "code",
   "execution_count": null,
   "id": "4f5a7486-82a8-47b5-b1cf-0e1ad31ccd58",
   "metadata": {},
   "outputs": [],
   "source": [
    "numbers = list(range(1, 11))\n",
    "\n",
    "# Using map() with lambda function to square each number\n",
    "squared_numbers = list(map(lambda x: x**2, numbers))\n",
    "\n",
    "# Printing the squared numbers list\n",
    "print(squared_numbers)"
   ]
  },
  {
   "cell_type": "code",
   "execution_count": null,
   "id": "b5461a57-7882-4b19-b5de-6d479e15375e",
   "metadata": {},
   "outputs": [],
   "source": [
    "numbers = list(range(1, 11))\n",
    "\n",
    "# Using list comprehension to square each number\n",
    "squared_numbers = [x**2 for x in numbers]\n",
    "\n",
    "print(squared_numbers)"
   ]
  },
  {
   "cell_type": "code",
   "execution_count": 21,
   "id": "38918be5-1644-44d0-af78-dcfbd8e1caf9",
   "metadata": {},
   "outputs": [
    {
     "data": {
      "text/plain": [
       "[2, 4, 6, 8]"
      ]
     },
     "execution_count": 21,
     "metadata": {},
     "output_type": "execute_result"
    }
   ],
   "source": [
    "nums = range(1, 10)\n",
    "list(filter(lambda x:x%2==0, nums))"
   ]
  },
  {
   "cell_type": "code",
   "execution_count": 50,
   "id": "05324a47-1ae8-42fd-aaa1-27f87ecbe1f9",
   "metadata": {},
   "outputs": [
    {
     "data": {
      "text/plain": [
       "[1, 3, 5, 9, 6, [5, 0], 4, 6]"
      ]
     },
     "execution_count": 50,
     "metadata": {},
     "output_type": "execute_result"
    }
   ],
   "source": [
    "listA = [1,3,5,9]\n",
    "listA.append(6)\n",
    "listA.append([5,0])\n",
    "listA.extend([4,6])\n",
    "listA"
   ]
  },
  {
   "cell_type": "code",
   "execution_count": 52,
   "id": "e4966e6d-b33a-41ee-9b99-1d704ce5d093",
   "metadata": {},
   "outputs": [
    {
     "data": {
      "text/plain": [
       "[1, 99, 3, 5, 99, 9, 6, [5, 0], 4, 6]"
      ]
     },
     "execution_count": 52,
     "metadata": {},
     "output_type": "execute_result"
    }
   ],
   "source": [
    "listA.insert(1,99)\n",
    "listA"
   ]
  },
  {
   "cell_type": "code",
   "execution_count": 61,
   "id": "39fe526d-5dea-4ca4-a9c1-f84a74e0be2c",
   "metadata": {},
   "outputs": [
    {
     "data": {
      "text/plain": [
       "[1, [5, 0], 4, 6]"
      ]
     },
     "execution_count": 61,
     "metadata": {},
     "output_type": "execute_result"
    }
   ],
   "source": [
    "listA.pop(1)\n",
    "listA"
   ]
  },
  {
   "cell_type": "code",
   "execution_count": 63,
   "id": "fa2f4976-48e3-45f1-8aad-0eb296e553d5",
   "metadata": {},
   "outputs": [],
   "source": [
    "listA.remove(4)"
   ]
  },
  {
   "cell_type": "code",
   "execution_count": 64,
   "id": "86f1f71e-fcb9-4c55-a9af-d4ee7da3a615",
   "metadata": {},
   "outputs": [
    {
     "data": {
      "text/plain": [
       "[1, [5, 0], 6]"
      ]
     },
     "execution_count": 64,
     "metadata": {},
     "output_type": "execute_result"
    }
   ],
   "source": [
    "listA"
   ]
  },
  {
   "cell_type": "code",
   "execution_count": 68,
   "id": "f9371f1a-9c8c-48d8-8d06-832b90f97d86",
   "metadata": {},
   "outputs": [],
   "source": [
    "l1 = [1,2,3]\n",
    "l2 = l1 # Deep copy\n",
    "l1.append(4)"
   ]
  },
  {
   "cell_type": "code",
   "execution_count": 67,
   "id": "06da33ae-81b5-4e12-823b-f044eadc7fc8",
   "metadata": {},
   "outputs": [
    {
     "data": {
      "text/plain": [
       "[1, 2, 3, 4]"
      ]
     },
     "execution_count": 67,
     "metadata": {},
     "output_type": "execute_result"
    }
   ],
   "source": [
    "l2"
   ]
  },
  {
   "cell_type": "code",
   "execution_count": 73,
   "id": "be3e94f4-751f-4dc1-a1e4-50419c73a52f",
   "metadata": {},
   "outputs": [
    {
     "data": {
      "text/plain": [
       "[1, 2, 3, 4, 5, 5]"
      ]
     },
     "execution_count": 73,
     "metadata": {},
     "output_type": "execute_result"
    }
   ],
   "source": [
    "l2 = l1.copy()\n",
    "l1.append(5)\n",
    "l2"
   ]
  },
  {
   "cell_type": "code",
   "execution_count": 75,
   "id": "e12b728a-8831-4cdd-9b0f-a6db2b3dbeb9",
   "metadata": {},
   "outputs": [],
   "source": [
    "l2.reverse()"
   ]
  },
  {
   "cell_type": "code",
   "execution_count": 76,
   "id": "a7cb2858-e950-49f5-9973-d43fa3ef5295",
   "metadata": {},
   "outputs": [
    {
     "data": {
      "text/plain": [
       "[5, 5, 4, 3, 2, 1]"
      ]
     },
     "execution_count": 76,
     "metadata": {},
     "output_type": "execute_result"
    }
   ],
   "source": [
    "l2"
   ]
  },
  {
   "cell_type": "code",
   "execution_count": null,
   "id": "ba146708-9582-4816-a7a8-15661ba33b66",
   "metadata": {},
   "outputs": [],
   "source": [
    "l2.sort()"
   ]
  },
  {
   "cell_type": "code",
   "execution_count": 60,
   "id": "09ddee83-498a-4900-99ec-929a42819540",
   "metadata": {},
   "outputs": [
    {
     "data": {
      "text/plain": [
       "7"
      ]
     },
     "execution_count": 60,
     "metadata": {},
     "output_type": "execute_result"
    }
   ],
   "source": [
    "str = \"Hello World!\"\n",
    "str.index('o')\n",
    "str.index('o', 5)"
   ]
  },
  {
   "cell_type": "code",
   "execution_count": 77,
   "id": "8fa2a8a2-7d40-46d4-a000-685aae67ea51",
   "metadata": {},
   "outputs": [
    {
     "data": {
      "text/plain": [
       "'Pytkon'"
      ]
     },
     "execution_count": 77,
     "metadata": {},
     "output_type": "execute_result"
    }
   ],
   "source": [
    "str = \"Python\"\n",
    "\n",
    "str.replace('h', 'k')"
   ]
  },
  {
   "cell_type": "code",
   "execution_count": 11,
   "id": "0afc4164-f468-49e0-93c5-1c1424545257",
   "metadata": {},
   "outputs": [
    {
     "data": {
      "text/plain": [
       "'no'"
      ]
     },
     "execution_count": 11,
     "metadata": {},
     "output_type": "execute_result"
    }
   ],
   "source": [
    "str[5:3:-1]"
   ]
  },
  {
   "cell_type": "code",
   "execution_count": 12,
   "id": "b4edd341-fc84-4fc7-9352-47b8d74cbff1",
   "metadata": {},
   "outputs": [
    {
     "data": {
      "text/plain": [
       "'ho'"
      ]
     },
     "execution_count": 12,
     "metadata": {},
     "output_type": "execute_result"
    }
   ],
   "source": [
    "str[3:5]"
   ]
  },
  {
   "cell_type": "code",
   "execution_count": 22,
   "id": "2433d8b4-c31a-4f21-9133-b728fb04fe66",
   "metadata": {},
   "outputs": [
    {
     "data": {
      "text/plain": [
       "2"
      ]
     },
     "execution_count": 22,
     "metadata": {},
     "output_type": "execute_result"
    }
   ],
   "source": [
    "str.find('th')\n",
    "# str.index('th')"
   ]
  },
  {
   "cell_type": "code",
   "execution_count": 39,
   "id": "dfb36978-96cd-4167-9fa3-2988869969fc",
   "metadata": {},
   "outputs": [
    {
     "data": {
      "text/plain": [
       "'H%e%l%o%o% % % % %g%e%i%h%g% %n%g% % % % %g%e%n%g'"
      ]
     },
     "execution_count": 39,
     "metadata": {},
     "output_type": "execute_result"
    }
   ],
   "source": [
    "s1 = \"Heloo    geihg ng    geng\"\n",
    "s1.split()\n",
    "'%'.join(s1)"
   ]
  },
  {
   "cell_type": "code",
   "execution_count": 41,
   "id": "5174282b-72c7-49fc-bda1-ea22bd2258fb",
   "metadata": {},
   "outputs": [
    {
     "data": {
      "text/plain": [
       "'hellow*workd'"
      ]
     },
     "execution_count": 41,
     "metadata": {},
     "output_type": "execute_result"
    }
   ],
   "source": [
    "a = 'hellow'\n",
    "b = 'workd'\n",
    "\n",
    "'*'.join([a,b])"
   ]
  },
  {
   "cell_type": "code",
   "execution_count": 43,
   "id": "d8291ff5-ff59-4e6f-bcc6-07e4a21e1daf",
   "metadata": {},
   "outputs": [
    {
     "data": {
      "text/plain": [
       "'Hello rahul'"
      ]
     },
     "execution_count": 43,
     "metadata": {},
     "output_type": "execute_result"
    }
   ],
   "source": [
    "a = \"Hello user\"\n",
    "a.replace('user', 'rahul')"
   ]
  },
  {
   "cell_type": "code",
   "execution_count": 78,
   "id": "7f9acd6b-7eee-483c-a6cb-0853065ea61c",
   "metadata": {},
   "outputs": [],
   "source": [
    "s = {1,2,4,56,3,32,2}"
   ]
  },
  {
   "cell_type": "code",
   "execution_count": 79,
   "id": "febc6739-fbf4-4602-9aee-97234f4d0340",
   "metadata": {},
   "outputs": [
    {
     "data": {
      "text/plain": [
       "{1, 2, 3, 4, 32, 56}"
      ]
     },
     "execution_count": 79,
     "metadata": {},
     "output_type": "execute_result"
    }
   ],
   "source": [
    "s"
   ]
  },
  {
   "cell_type": "code",
   "execution_count": null,
   "id": "80160b54-6a70-489a-95ca-9c4a0beeddd9",
   "metadata": {},
   "outputs": [],
   "source": []
  }
 ],
 "metadata": {
  "kernelspec": {
   "display_name": "Python 3 (ipykernel)",
   "language": "python",
   "name": "python3"
  },
  "language_info": {
   "codemirror_mode": {
    "name": "ipython",
    "version": 3
   },
   "file_extension": ".py",
   "mimetype": "text/x-python",
   "name": "python",
   "nbconvert_exporter": "python",
   "pygments_lexer": "ipython3",
   "version": "3.12.3"
  }
 },
 "nbformat": 4,
 "nbformat_minor": 5
}
