{
 "cells": [
  {
   "cell_type": "markdown",
   "metadata": {
    "id": "vWfYJJJdKIJO",
    "jp-MarkdownHeadingCollapsed": true
   },
   "source": [
    "# Recommendations:\n"
   ]
  },
  {
   "cell_type": "markdown",
   "metadata": {
    "id": "HGxZC059KXcJ"
   },
   "source": [
    "1. **Tim Sort (Python's Built-in `sorted` or `list.sort()`)**:\n",
    "   - **Advantages**:\n",
    "     - Generally the fastest and most versatile due to its \\(O(n \\log n)\\) average time complexity.\n",
    "     - Stable sorting algorithm.\n",
    "   - **Use Case**:\n",
    "     - Use `sorted()` or `list.sort()` for general-purpose sorting tasks unless specific constraints dictate otherwise.\n",
    "\n",
    "2. **Quick Sort**:\n",
    "   - **Advantages**:\n",
    "     - Fast average-case performance (\\(O(n \\log n)\\)).\n",
    "     - Efficient use of memory and cache due to in-place partitioning.\n",
    "   - **Use Case**:\n",
    "     - Ideal when average-case performance is critical and space complexity needs to be minimized.\n",
    "\n",
    "3. **Merge Sort**:\n",
    "   - **Advantages**:\n",
    "     - Guaranteed \\(O(n \\log n)\\) performance.\n",
    "     - Stable sorting algorithm.\n",
    "   - **Use Case**:\n",
    "     - Suitable when stability in sorting order is required or when dealing with large datasets.\n",
    "\n",
    "4. **Heap Sort**:\n",
    "   - **Advantages**:\n",
    "     - \\(O(n \\log n)\\) worst-case performance.\n",
    "     - In-place sorting algorithm with constant extra space.\n",
    "   - **Use Case**:\n",
    "     - Useful when you need a stable sort in place with minimal extra memory overhead.\n",
    "\n",
    "5. **Counting Sort**:\n",
    "   - **Advantages**:\n",
    "     - \\(O(n + k)\\) time complexity for integers with a small range \\(k\\).\n",
    "     - Very fast for small integer values and highly predictable performance.\n",
    "   - **Use Case**:\n",
    "     - Efficient for sorting integers within a small and known range, such as in problems involving frequency counting or histogram generation."
   ]
  },
  {
   "cell_type": "markdown",
   "metadata": {
    "id": "K_YCm9TKF-k_"
   },
   "source": [
    "# Sorting Methods"
   ]
  },
  {
   "cell_type": "markdown",
   "metadata": {
    "id": "3klfQklfGfmp"
   },
   "source": [
    "**Counting Sort**\n",
    "\n",
    "- **Time Complexity**: \\(O(n + k)\\)\n",
    "- **Use Case**: Efficient for sorting integers when the range \\(k\\) of the numbers is not significantly larger than the number of elements \\(n\\). It is particularly useful when the input is a small range of integers.\n"
   ]
  },
  {
   "cell_type": "code",
   "execution_count": 1,
   "metadata": {
    "colab": {
     "base_uri": "https://localhost:8080/"
    },
    "id": "lwLQfpRiHbps",
    "outputId": "72c12842-73e6-4aa0-afa5-3e110586b71d"
   },
   "outputs": [
    {
     "name": "stdout",
     "output_type": "stream",
     "text": [
      "[3, 3, 4, 4, 5, 6, 6, 7, 8, 9, 11]\n"
     ]
    }
   ],
   "source": [
    "def counting_sort(arr):\n",
    "    if not arr:  # Check if the array is empty\n",
    "        return arr\n",
    "\n",
    "    # Find the maximum and minimum values in the array\n",
    "    max_val = max(arr)\n",
    "    min_val = min(arr)\n",
    "\n",
    "    # Create a count array to store the count of each unique element\n",
    "    # Initialize the count array with zeros\n",
    "    range_of_elements = max_val - min_val + 1\n",
    "    count_arr = [0] * range_of_elements\n",
    "\n",
    "    # Count occurrences of each element in the input array\n",
    "    for num in arr:\n",
    "        count_arr[num - min_val] += 1\n",
    "\n",
    "    # Modify the count array such that each element at each index\n",
    "    # stores the sum of previous counts\n",
    "    for i in range(1, len(count_arr)):\n",
    "        count_arr[i] += count_arr[i - 1]\n",
    "\n",
    "\n",
    "    # Create an output array to store the sorted elements\n",
    "    # Traverse the original array in reverse to maintain stability\n",
    "    output_arr = [0] * len(arr)\n",
    "    for num in reversed(arr):\n",
    "        output_arr[count_arr[num - min_val] - 1] = num\n",
    "        count_arr[num - min_val] -= 1\n",
    "\n",
    "    # Copy the sorted elements back into the original array\n",
    "    for i in range(len(arr)):\n",
    "        arr[i] = output_arr[i]\n",
    "\n",
    "    return arr\n",
    "\n",
    "# Example usage:\n",
    "my_list = [4, 4, 8, 3, 3, 7, 9, 6, 6, 11, 5]\n",
    "sorted_list = counting_sort(my_list)\n",
    "print(sorted_list)"
   ]
  },
  {
   "cell_type": "markdown",
   "metadata": {
    "id": "K_lGbXQoGotu"
   },
   "source": [
    "**Radix Sort**\n",
    "\n",
    "- **Time Complexity**: \\(O(nk)\\), where \\(k\\) is the number of digits in the largest number.\n",
    "- **Use Case**: Efficient for sorting large sets of integers or strings where \\(k\\) (number of digits) is relatively small. It's particularly suitable for scenarios where integer keys have a consistent number of digits.\n"
   ]
  },
  {
   "cell_type": "code",
   "execution_count": null,
   "metadata": {
    "colab": {
     "base_uri": "https://localhost:8080/"
    },
    "id": "uq5mv1YXHfOo",
    "outputId": "ddb25969-3531-4c69-ac3e-c9b999aeb66b"
   },
   "outputs": [
    {
     "name": "stdout",
     "output_type": "stream",
     "text": [
      "[2, 24, 45, 66, 75, 90, 170, 802]\n"
     ]
    }
   ],
   "source": [
    "def counting_sort_for_radix(arr, exp):\n",
    "    n = len(arr)\n",
    "    output = [0] * n\n",
    "    count = [0] * 10\n",
    "\n",
    "    for i in range(n):\n",
    "        index = arr[i] // exp\n",
    "        count[index % 10] += 1\n",
    "\n",
    "    for i in range(1, 10):\n",
    "        count[i] += count[i - 1]\n",
    "\n",
    "    i = n - 1\n",
    "    while i >= 0:\n",
    "        index = arr[i] // exp\n",
    "        output[count[index % 10] - 1] = arr[i]\n",
    "        count[index % 10] -= 1\n",
    "        i -= 1\n",
    "\n",
    "    for i in range(n):\n",
    "        arr[i] = output[i]\n",
    "\n",
    "def radix_sort(arr):\n",
    "    max1 = max(arr)\n",
    "    exp = 1\n",
    "    while max1 // exp > 0:\n",
    "        counting_sort_for_radix(arr, exp)\n",
    "        exp *= 10\n",
    "    return arr\n",
    "\n",
    "# Example usage:\n",
    "my_list = [170, 45, 75, 90, 802, 24, 2, 66]\n",
    "sorted_list = radix_sort(my_list)\n",
    "print(sorted_list)\n"
   ]
  },
  {
   "cell_type": "markdown",
   "metadata": {
    "id": "UE6EYD0pGoeE"
   },
   "source": [
    "**Bucket Sort**\n",
    "\n",
    "- **Time Complexity**: \\(O(n + k)\\)\n",
    "- **Use Case**: Efficient for sorting uniformly distributed data. It divides elements into buckets and then individually sorts each bucket, making it suitable when data distribution is even across a range.\n"
   ]
  },
  {
   "cell_type": "code",
   "execution_count": null,
   "metadata": {
    "colab": {
     "base_uri": "https://localhost:8080/"
    },
    "id": "tjHjuZ6kHiG2",
    "outputId": "7c9b553a-d7ea-41d7-8dda-92cc3eaea9da"
   },
   "outputs": [
    {
     "name": "stdout",
     "output_type": "stream",
     "text": [
      "[0.12, 0.17, 0.21, 0.23, 0.26, 0.39, 0.68, 0.72, 0.78, 0.94]\n"
     ]
    }
   ],
   "source": [
    "def bucket_sort(arr):\n",
    "    if len(arr) == 0:\n",
    "        return arr\n",
    "\n",
    "    # Determine minimum and maximum values in the array\n",
    "    min_val = min(arr)\n",
    "    max_val = max(arr)\n",
    "    range_of_elements = max_val - min_val + 1\n",
    "\n",
    "    # Determine the number of buckets and initialize an empty list for each bucket\n",
    "    bucket_count = len(arr)\n",
    "    buckets = [[] for _ in range(bucket_count)]\n",
    "\n",
    "    # Assign each element to an appropriate bucket based on its value\n",
    "    for num in arr:\n",
    "        index = int((num - min_val) * (bucket_count - 1) / range_of_elements)\n",
    "        buckets[index].append(num)\n",
    "\n",
    "    # Sort each bucket individually (using any sorting algorithm)\n",
    "    for i in range(bucket_count):\n",
    "        buckets[i].sort()\n",
    "\n",
    "    # Concatenate all buckets into a single sorted list\n",
    "    sorted_array = []\n",
    "    for bucket in buckets:\n",
    "        sorted_array.extend(bucket)\n",
    "\n",
    "    return sorted_array\n",
    "\n",
    "# Example usage:\n",
    "my_list = [0.78, 0.17, 0.39, 0.26, 0.72, 0.94, 0.21, 0.12, 0.23, 0.68]\n",
    "sorted_list = bucket_sort(my_list)\n",
    "print(sorted_list)\n"
   ]
  },
  {
   "cell_type": "markdown",
   "metadata": {
    "id": "GbhkSB6aG7Hz"
   },
   "source": [
    "**Tim Sort**\n",
    "\n",
    "- **Time Complexity**: \\(O(n \\log n)\\)\n",
    "- **Use Case**: General-purpose sorting algorithm used by Python's built-in `sorted()` function. It is efficient for real-world data and provides stable sorting, making it suitable for a wide range of sorting tasks.\n"
   ]
  },
  {
   "cell_type": "code",
   "execution_count": null,
   "metadata": {
    "colab": {
     "base_uri": "https://localhost:8080/"
    },
    "id": "rztnYAdUIbJv",
    "outputId": "daeff9f5-5bf0-4b68-c58a-8d10ef41d285"
   },
   "outputs": [
    {
     "name": "stdout",
     "output_type": "stream",
     "text": [
      "[1, 1, 2, 3, 3, 4, 5, 5, 5, 6, 9]\n"
     ]
    }
   ],
   "source": [
    "# Tim Sort is the built-in sort function in Python\n",
    "my_list = [3, 1, 4, 1, 5, 9, 2, 6, 5, 3, 5]\n",
    "sorted_list = sorted(my_list)\n",
    "print(sorted_list)"
   ]
  },
  {
   "cell_type": "markdown",
   "metadata": {
    "id": "QaK1BSuoG9D4"
   },
   "source": [
    "**Merge Sort**\n",
    "\n",
    "- **Time Complexity**: \\(O(n \\log n)\\)\n",
    "- **Use Case**: Guarantees \\(O(n \\log n)\\) performance and is stable. Suitable for large datasets or applications where stability and predictable performance are important.\n"
   ]
  },
  {
   "cell_type": "code",
   "execution_count": null,
   "metadata": {
    "colab": {
     "base_uri": "https://localhost:8080/"
    },
    "id": "sPSibjCcIh15",
    "outputId": "f1c61d61-8c89-45ba-d0ef-d7cc059e4b9b"
   },
   "outputs": [
    {
     "name": "stdout",
     "output_type": "stream",
     "text": [
      "[1, 1, 2, 3, 3, 4, 5, 5, 5, 6, 9]\n"
     ]
    }
   ],
   "source": [
    "def merge_sort(arr):\n",
    "    if len(arr) > 1:\n",
    "        mid = len(arr) // 2\n",
    "        L = arr[:mid]\n",
    "        R = arr[mid:]\n",
    "\n",
    "        merge_sort(L)\n",
    "        merge_sort(R)\n",
    "\n",
    "        i = j = k = 0\n",
    "\n",
    "        while i < len(L) and j < len(R):\n",
    "            if L[i] < R[j]:\n",
    "                arr[k] = L[i]\n",
    "                i += 1\n",
    "            else:\n",
    "                arr[k] = R[j]\n",
    "                j += 1\n",
    "            k += 1\n",
    "\n",
    "        while i < len(L):\n",
    "            arr[k] = L[i]\n",
    "            i += 1\n",
    "            k += 1\n",
    "\n",
    "        while j < len(R):\n",
    "            arr[k] = R[j]\n",
    "            j += 1\n",
    "            k += 1\n",
    "\n",
    "    return arr\n",
    "\n",
    "# Example usage:\n",
    "my_list = [3, 1, 4, 1, 5, 9, 2, 6, 5, 3, 5]\n",
    "sorted_list = merge_sort(my_list.copy())\n",
    "print(sorted_list)"
   ]
  },
  {
   "cell_type": "markdown",
   "metadata": {
    "id": "GFR3MqQ0G-Sx"
   },
   "source": [
    "**Quick Sort**\n",
    "\n",
    "- **Time Complexity**: \\(O(n \\log n)\\) average, \\(O(n^2)\\) worst-case\n",
    "- **Use Case**: Fast and widely used in practice due to good average-case performance and low overhead. Suitable for general-purpose sorting where average performance matters more than worst-case performance.\n"
   ]
  },
  {
   "cell_type": "code",
   "execution_count": null,
   "metadata": {
    "colab": {
     "base_uri": "https://localhost:8080/"
    },
    "id": "SxTrhn0UImBz",
    "outputId": "12d10aec-0f9e-43b2-815a-4377ca1509e3"
   },
   "outputs": [
    {
     "name": "stdout",
     "output_type": "stream",
     "text": [
      "[1, 1, 2, 3, 3, 4, 5, 5, 5, 6, 9]\n"
     ]
    }
   ],
   "source": [
    "def quick_sort(arr):\n",
    "    # Base case: if the array has 1 or fewer elements, it is already sorted\n",
    "    if len(arr) <= 1:\n",
    "        return arr\n",
    "    else:\n",
    "        # Choose the first element as the pivot\n",
    "        pivot = arr[0]\n",
    "\n",
    "        # Partition the array into two sub-arrays:\n",
    "        # 1. Elements less than or equal to the pivot\n",
    "        # 2. Elements greater than the pivot\n",
    "        less_than_or_equal_to_pivot = [x for x in arr[1:] if x <= pivot]\n",
    "        greater_than_pivot = [x for x in arr[1:] if x > pivot]\n",
    "\n",
    "        # Recursively apply quick_sort to the sub-arrays\n",
    "        return quick_sort(less_than_or_equal_to_pivot) + [pivot] + quick_sort(greater_than_pivot)\n",
    "\n",
    "\n",
    "# Example usage:\n",
    "my_list = [3, 1, 4, 1, 5, 9, 2, 6, 5, 3, 5]\n",
    "sorted_list = quick_sort(my_list.copy())\n",
    "print(sorted_list)"
   ]
  },
  {
   "cell_type": "markdown",
   "metadata": {
    "id": "HWCfafdnHA1U"
   },
   "source": [
    "**Heap Sort**\n",
    "\n",
    "- **Time Complexity**: \\(O(n \\log n)\\)\n",
    "- **Use Case**: In-place sorting algorithm with no need for additional memory. Useful when memory space is limited or when a stable sorting method is not required.\n"
   ]
  },
  {
   "cell_type": "code",
   "execution_count": null,
   "metadata": {
    "colab": {
     "base_uri": "https://localhost:8080/"
    },
    "id": "Thw8JbgLIoYE",
    "outputId": "7cf37754-850a-4273-95ce-f8354034d6ae"
   },
   "outputs": [
    {
     "name": "stdout",
     "output_type": "stream",
     "text": [
      "[1, 1, 2, 3, 3, 4, 5, 5, 5, 6, 9]\n"
     ]
    }
   ],
   "source": [
    "def heapify(arr, n, i):\n",
    "    largest = i\n",
    "    left = 2 * i + 1\n",
    "    right = 2 * i + 2\n",
    "\n",
    "    if left < n and arr[i] < arr[left]:\n",
    "        largest = left\n",
    "\n",
    "    if right < n and arr[largest] < arr[right]:\n",
    "        largest = right\n",
    "\n",
    "    if largest != i:\n",
    "        arr[i], arr[largest] = arr[largest], arr[i]\n",
    "        heapify(arr, n, largest)\n",
    "\n",
    "def heap_sort(arr):\n",
    "    n = len(arr)\n",
    "\n",
    "    for i in range(n // 2 - 1, -1, -1):\n",
    "        heapify(arr, n, i)\n",
    "\n",
    "    for i in range(n - 1, 0, -1):\n",
    "        arr[i], arr[0] = arr[0], arr[i]\n",
    "        heapify(arr, i, 0)\n",
    "\n",
    "    return arr\n",
    "\n",
    "# Example usage:\n",
    "my_list = [3, 1, 4, 1, 5, 9, 2, 6, 5, 3, 5]\n",
    "sorted_list = heap_sort(my_list.copy())\n",
    "print(sorted_list)"
   ]
  },
  {
   "cell_type": "markdown",
   "metadata": {
    "id": "iXxr4e48HE2H"
   },
   "source": [
    "**Shell Sort**\n",
    "\n",
    "- **Time Complexity**: \\(O(n^{3/2})\\) to \\(O(n^{4/3})\\), depending on the gap sequence.\n",
    "- **Use Case**: Better than \\(O(n^2)\\) algorithms for medium-sized arrays. Suitable for scenarios where some degree of performance improvement over insertion sort is desired.\n"
   ]
  },
  {
   "cell_type": "code",
   "execution_count": null,
   "metadata": {
    "colab": {
     "base_uri": "https://localhost:8080/"
    },
    "id": "L3qEzRbzIqM9",
    "outputId": "d43f872c-2eec-4c50-d5e1-1aeb7a2d457a"
   },
   "outputs": [
    {
     "name": "stdout",
     "output_type": "stream",
     "text": [
      "[2, 3, 12, 34, 54]\n"
     ]
    }
   ],
   "source": [
    "def shell_sort(arr):\n",
    "    n = len(arr)\n",
    "    gap = n // 2\n",
    "\n",
    "    while gap > 0:\n",
    "        for i in range(gap, n):\n",
    "            temp = arr[i]\n",
    "            j = i\n",
    "            while j >= gap and arr[j - gap] > temp:\n",
    "                arr[j] = arr[j - gap]\n",
    "                j -= gap\n",
    "            arr[j] = temp\n",
    "        gap //= 2\n",
    "\n",
    "    return arr\n",
    "\n",
    "# Example usage:\n",
    "my_list = [12, 34, 54, 2, 3]\n",
    "sorted_list = shell_sort(my_list.copy())\n",
    "print(sorted_list)"
   ]
  },
  {
   "cell_type": "markdown",
   "metadata": {
    "id": "gpoqiGvJHG9P"
   },
   "source": [
    "**Insertion Sort**\n",
    "\n",
    "- **Time Complexity**: \\(O(n^2)\\)\n",
    "- **Use Case**: Simple and efficient for small datasets or nearly sorted data. It works well when the dataset is already partially sorted or when the number of elements is small.\n"
   ]
  },
  {
   "cell_type": "code",
   "execution_count": null,
   "metadata": {
    "colab": {
     "base_uri": "https://localhost:8080/"
    },
    "id": "njjsYCUIIsI3",
    "outputId": "99778712-70c9-4cbc-9c2b-bc8eee4d632f"
   },
   "outputs": [
    {
     "name": "stdout",
     "output_type": "stream",
     "text": [
      "[1, 1, 2, 3, 3, 4, 5, 5, 5, 6, 9]\n"
     ]
    }
   ],
   "source": [
    "def insertion_sort(arr):\n",
    "    n = len(arr)\n",
    "    for i in range(1, n):\n",
    "        key = arr[i]\n",
    "        j = i - 1\n",
    "        while j >= 0 and key < arr[j]:\n",
    "            arr[j + 1] = arr[j]\n",
    "            j -= 1\n",
    "        arr[j + 1] = key\n",
    "    return arr\n",
    "\n",
    "# Example usage:\n",
    "my_list = [3, 1, 4, 1, 5, 9, 2, 6, 5, 3, 5]\n",
    "sorted_list = insertion_sort(my_list.copy())\n",
    "print(sorted_list)"
   ]
  },
  {
   "cell_type": "markdown",
   "metadata": {
    "id": "PBUc4rd9HIU0"
   },
   "source": [
    "**Selection Sort**\n",
    "\n",
    "- **Time Complexity**: \\(O(n^2)\\)\n",
    "- **Use Case**: Simple to understand and implement. Suitable for small datasets or when simplicity of implementation is more important than sorting speed.\n"
   ]
  },
  {
   "cell_type": "code",
   "execution_count": null,
   "metadata": {
    "colab": {
     "base_uri": "https://localhost:8080/"
    },
    "id": "b9Ey0A39IurV",
    "outputId": "5b012cc4-949d-4727-efb0-f0a07e16ee12"
   },
   "outputs": [
    {
     "name": "stdout",
     "output_type": "stream",
     "text": [
      "[1, 1, 2, 3, 3, 4, 5, 5, 5, 6, 9]\n"
     ]
    }
   ],
   "source": [
    "def selection_sort(arr):\n",
    "    n = len(arr)\n",
    "    for i in range(n):\n",
    "        min_idx = i\n",
    "        for j in range(i + 1, n):\n",
    "            if arr[j] < arr[min_idx]:\n",
    "                min_idx = j\n",
    "        arr[i], arr[min_idx] = arr[min_idx], arr[i]\n",
    "    return arr\n",
    "\n",
    "# Example usage:\n",
    "my_list = [3, 1, 4, 1, 5, 9, 2, 6, 5, 3, 5]\n",
    "sorted_list = selection_sort(my_list.copy())\n",
    "print(sorted_list)"
   ]
  },
  {
   "cell_type": "markdown",
   "metadata": {
    "id": "0AMQEVRoHKcO"
   },
   "source": [
    "**Bubble Sort**\n",
    "\n",
    "- **Time Complexity**: \\(O(n^2)\\)\n",
    "- **Use Case**: Educational purposes for understanding sorting algorithms. Not recommended for practical use due to its poor performance on large datasets.\n"
   ]
  },
  {
   "cell_type": "code",
   "execution_count": null,
   "metadata": {
    "colab": {
     "base_uri": "https://localhost:8080/"
    },
    "id": "0tkwmGdzIwIk",
    "outputId": "2a7d9333-c6fe-407e-ecd4-59b7f0c86cde"
   },
   "outputs": [
    {
     "name": "stdout",
     "output_type": "stream",
     "text": [
      "[1, 1, 2, 3, 3, 4, 5, 5, 5, 6, 9]\n"
     ]
    }
   ],
   "source": [
    "def bubble_sort(arr):\n",
    "    n = len(arr)\n",
    "    for i in range(n):\n",
    "        for j in range(0, n - i - 1):\n",
    "            if arr[j] > arr[j + 1]:\n",
    "                arr[j], arr[j + 1] = arr[j + 1], arr[j]\n",
    "    return arr\n",
    "\n",
    "# Example usage:\n",
    "my_list = [3, 1, 4, 1, 5, 9, 2, 6, 5, 3, 5]\n",
    "sorted_list = bubble_sort(my_list.copy())\n",
    "print(sorted_list)"
   ]
  }
 ],
 "metadata": {
  "colab": {
   "collapsed_sections": [
    "vWfYJJJdKIJO"
   ],
   "provenance": []
  },
  "kernelspec": {
   "display_name": "Python 3 (ipykernel)",
   "language": "python",
   "name": "python3"
  },
  "language_info": {
   "codemirror_mode": {
    "name": "ipython",
    "version": 3
   },
   "file_extension": ".py",
   "mimetype": "text/x-python",
   "name": "python",
   "nbconvert_exporter": "python",
   "pygments_lexer": "ipython3",
   "version": "3.11.4"
  }
 },
 "nbformat": 4,
 "nbformat_minor": 4
}
