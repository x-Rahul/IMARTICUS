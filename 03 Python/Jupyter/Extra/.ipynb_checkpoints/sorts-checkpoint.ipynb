{
 "cells": [
  {
   "cell_type": "code",
   "execution_count": 1,
   "id": "854f52ee-9f78-43ec-9fb9-27ec3d5fd770",
   "metadata": {},
   "outputs": [],
   "source": [
    "x = [4,7,3,5,1,8]"
   ]
  },
  {
   "cell_type": "code",
   "execution_count": 2,
   "id": "d6d9a83c-61ab-423e-84d9-97c2e9c4760f",
   "metadata": {},
   "outputs": [],
   "source": [
    "def bubble_sort(x):\n",
    "    n = len(x)\n",
    "    for i in range(n):\n",
    "        for j in range(n-i-1):\n",
    "            if(x[j]>x[j+1]):\n",
    "                x[j], x[j+1] = x[j+1], x[j]\n",
    "\n",
    "    return x"
   ]
  },
  {
   "cell_type": "code",
   "execution_count": 3,
   "id": "97b80523-3c7f-4a5c-8293-f8fca3ea3b88",
   "metadata": {},
   "outputs": [
    {
     "data": {
      "text/plain": [
       "[1, 3, 4, 5, 7, 8]"
      ]
     },
     "execution_count": 3,
     "metadata": {},
     "output_type": "execute_result"
    }
   ],
   "source": [
    "bubble_sort(x)"
   ]
  },
  {
   "cell_type": "code",
   "execution_count": 4,
   "id": "049d09a6-2745-4712-8535-b6f01e61da25",
   "metadata": {},
   "outputs": [],
   "source": [
    "def selection_sort(x):\n",
    "    n = len(x)\n",
    "    for i in range(n):\n",
    "        min_idx = i\n",
    "        for j in range(i+1, n):\n",
    "            if (x[j]<x[min_idx]):\n",
    "                min_idx = j\n",
    "        x[min_idx], x[i] = x[i], x[min_idx]\n",
    "    return x"
   ]
  },
  {
   "cell_type": "code",
   "execution_count": 24,
   "id": "99f1ede3-87d4-444b-b275-6349c518b05e",
   "metadata": {},
   "outputs": [
    {
     "data": {
      "text/plain": [
       "[1, 3, 4, 5, 7, 8]"
      ]
     },
     "execution_count": 24,
     "metadata": {},
     "output_type": "execute_result"
    }
   ],
   "source": [
    "selection_sort(x)"
   ]
  },
  {
   "cell_type": "code",
   "execution_count": 27,
   "id": "9752b0c8-5f96-4b8f-90cc-b421fc729ef7",
   "metadata": {},
   "outputs": [],
   "source": [
    "import numpy as np\n",
    "def selection_sort_np(x):\n",
    "    for i in range(len(x)):\n",
    "        min_idx = i+np.argmin(x[i:])\n",
    "        x[min_idx], x[i] = x[i], x[min_idx]\n",
    "    return x"
   ]
  },
  {
   "cell_type": "code",
   "execution_count": 28,
   "id": "f63c4e73-9006-4847-aa2b-9f50283e1f5d",
   "metadata": {},
   "outputs": [
    {
     "data": {
      "text/plain": [
       "[1, 3, 4, 5, 7, 8]"
      ]
     },
     "execution_count": 28,
     "metadata": {},
     "output_type": "execute_result"
    }
   ],
   "source": [
    "selection_sort_np(x)"
   ]
  },
  {
   "cell_type": "code",
   "execution_count": null,
   "id": "0cdb1262-0e2c-42ba-aa9b-c9271b43eb9a",
   "metadata": {},
   "outputs": [],
   "source": []
  }
 ],
 "metadata": {
  "kernelspec": {
   "display_name": "Python 3 (ipykernel)",
   "language": "python",
   "name": "python3"
  },
  "language_info": {
   "codemirror_mode": {
    "name": "ipython",
    "version": 3
   },
   "file_extension": ".py",
   "mimetype": "text/x-python",
   "name": "python",
   "nbconvert_exporter": "python",
   "pygments_lexer": "ipython3",
   "version": "3.11.4"
  }
 },
 "nbformat": 4,
 "nbformat_minor": 5
}
