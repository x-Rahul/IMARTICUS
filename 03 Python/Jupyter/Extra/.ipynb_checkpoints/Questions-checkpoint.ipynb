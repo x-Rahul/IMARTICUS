{
 "cells": [
  {
   "cell_type": "markdown",
   "id": "e11aec4d-87cf-47fa-aa5f-63147b929dc1",
   "metadata": {},
   "source": [
    "Q1. You have total of 100 Rs. a customer bought something from you that can cost 0 Rs to 100 Rs. he gave you 'x' amount for the purchase. you are left with (100-x) Rs. To return the remaining amount you have 1 Rs, 2 Rs, 5 Rs notes. write a python program how can he return the remaining amount with available notes."
   ]
  },
  {
   "cell_type": "code",
   "execution_count": 3,
   "id": "d904f90d-0994-42f5-a78b-a9f89f997e93",
   "metadata": {},
   "outputs": [
    {
     "name": "stdin",
     "output_type": "stream",
     "text": [
      "Enter the amount given by the customer:  5\n"
     ]
    },
    {
     "name": "stdout",
     "output_type": "stream",
     "text": [
      "To return 95 Rs, you can give:\n",
      "19 x 5 Rs\n"
     ]
    }
   ],
   "source": [
    "def return_change(amount):\n",
    "    notes = {'5 Rs': 0, '2 Rs': 0, '1 Rs': 0}\n",
    "    # Calculate the number of 5 Rs notes\n",
    "    if amount >= 5:\n",
    "        notes['5 Rs'] = amount // 5\n",
    "        amount = amount % 5\n",
    "    # Calculate the number of 2 Rs notes\n",
    "    if amount >= 2:\n",
    "        notes['2 Rs'] = amount // 2\n",
    "        amount = amount % 2\n",
    "    # Calculate the number of 1 Rs notes\n",
    "    notes['1 Rs'] = amount\n",
    "    return notes\n",
    "\n",
    "x = int(input(\"Enter the amount given by the customer: \"))\n",
    "remaining_amount = 100 - x\n",
    "if remaining_amount < 0:\n",
    "    print(\"Error: The given amount exceeds 100 Rs.\")\n",
    "else:\n",
    "    change = return_change(remaining_amount)\n",
    "    print(f\"To return {remaining_amount} Rs, you can give:\")\n",
    "    for note, count in change.items():\n",
    "        if count > 0:\n",
    "            print(f\"{count} x {note}\")"
   ]
  },
  {
   "cell_type": "code",
   "execution_count": null,
   "id": "8975f22a-933c-4b99-a28a-2b83f085b52d",
   "metadata": {},
   "outputs": [],
   "source": []
  }
 ],
 "metadata": {
  "kernelspec": {
   "display_name": "Python 3 (ipykernel)",
   "language": "python",
   "name": "python3"
  },
  "language_info": {
   "codemirror_mode": {
    "name": "ipython",
    "version": 3
   },
   "file_extension": ".py",
   "mimetype": "text/x-python",
   "name": "python",
   "nbconvert_exporter": "python",
   "pygments_lexer": "ipython3",
   "version": "3.11.4"
  }
 },
 "nbformat": 4,
 "nbformat_minor": 5
}
