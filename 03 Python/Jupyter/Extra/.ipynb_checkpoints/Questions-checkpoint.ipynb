{
 "cells": [
  {
   "cell_type": "markdown",
   "id": "e11aec4d-87cf-47fa-aa5f-63147b929dc1",
   "metadata": {},
   "source": [
    "Q1. You have total of 100 Rs. a customer bought something from you that can cost 0 Rs to 100 Rs. he gave you 'x' amount for the purchase. you are left with (100-x) Rs. To return the remaining amount you have 1 Rs, 2 Rs, 5 Rs notes. write a python program how can he return the remaining amount with available notes."
   ]
  },
  {
   "cell_type": "code",
   "execution_count": 3,
   "id": "d904f90d-0994-42f5-a78b-a9f89f997e93",
   "metadata": {},
   "outputs": [
    {
     "name": "stdin",
     "output_type": "stream",
     "text": [
      "Enter the amount given by the customer:  5\n"
     ]
    },
    {
     "name": "stdout",
     "output_type": "stream",
     "text": [
      "To return 95 Rs, you can give:\n",
      "19 x 5 Rs\n"
     ]
    }
   ],
   "source": [
    "def return_change(amount):\n",
    "    notes = {'5 Rs': 0, '2 Rs': 0, '1 Rs': 0}\n",
    "    # Calculate the number of 5 Rs notes\n",
    "    if amount >= 5:\n",
    "        notes['5 Rs'] = amount // 5\n",
    "        amount = amount % 5\n",
    "    # Calculate the number of 2 Rs notes\n",
    "    if amount >= 2:\n",
    "        notes['2 Rs'] = amount // 2\n",
    "        amount = amount % 2\n",
    "    # Calculate the number of 1 Rs notes\n",
    "    notes['1 Rs'] = amount\n",
    "    return notes\n",
    "\n",
    "x = int(input(\"Enter the amount given by the customer: \"))\n",
    "remaining_amount = 100 - x\n",
    "if remaining_amount < 0:\n",
    "    print(\"Error: The given amount exceeds 100 Rs.\")\n",
    "else:\n",
    "    change = return_change(remaining_amount)\n",
    "    print(f\"To return {remaining_amount} Rs, you can give:\")\n",
    "    for note, count in change.items():\n",
    "        if count > 0:\n",
    "            print(f\"{count} x {note}\")"
   ]
  },
  {
   "cell_type": "markdown",
   "id": "3368f61f-6d35-4cb2-b1cc-06c30a1d1c89",
   "metadata": {},
   "source": [
    "Q2.  Sort dictionary on the basis of key, value as per requirement."
   ]
  },
  {
   "cell_type": "code",
   "execution_count": 1,
   "id": "8975f22a-933c-4b99-a28a-2b83f085b52d",
   "metadata": {},
   "outputs": [
    {
     "name": "stdout",
     "output_type": "stream",
     "text": [
      "Sorted by names (keys): {'Alice': 30, 'Bob': 25, 'Charlie': 35, 'Diana': 28}\n",
      "Sorted by ages (values): {'Bob': 25, 'Diana': 28, 'Alice': 30, 'Charlie': 35}\n",
      "No sorting: {'Alice': 30, 'Bob': 25, 'Charlie': 35, 'Diana': 28}\n"
     ]
    }
   ],
   "source": [
    "def sort_dict(d, key_bool=False, val_bool=False):\n",
    "    items = list(d.items())\n",
    "    \n",
    "    def bubble_sort(arr, key_func):\n",
    "        n = len(arr)\n",
    "        for i in range(n):\n",
    "            for j in range(0, n - i - 1):\n",
    "                if key_func(arr[j]) > key_func(arr[j + 1]):\n",
    "                    arr[j], arr[j + 1] = arr[j + 1], arr[j]\n",
    "        return arr\n",
    "    \n",
    "    if key_bool != val_bool:\n",
    "        if key_bool:\n",
    "            # Sort by keys (names)\n",
    "            sorted_items = bubble_sort(items, lambda item: item[0])\n",
    "        elif val_bool:\n",
    "            # Sort by values (ages)\n",
    "            sorted_items = bubble_sort(items, lambda item: item[1])\n",
    "        return dict(sorted_items)\n",
    "    else:\n",
    "        # Return the dictionary as is\n",
    "        return dict(items)\n",
    "\n",
    "# Example dictionary of names and ages\n",
    "people_dict = {\n",
    "    'Alice': 30,\n",
    "    'Bob': 25,\n",
    "    'Charlie': 35,\n",
    "    'Diana': 28\n",
    "}\n",
    "\n",
    "# Sort by names (keys)\n",
    "print(\"Sorted by names (keys):\", sort_dict(people_dict, key_bool=True))\n",
    "\n",
    "# Sort by ages (values)\n",
    "print(\"Sorted by ages (values):\", sort_dict(people_dict, val_bool=True))\n",
    "\n",
    "# No sorting\n",
    "print(\"No sorting:\", sort_dict(people_dict))"
   ]
  },
  {
   "cell_type": "code",
   "execution_count": null,
   "id": "44298736-41e4-4f7c-a36e-d9967f652095",
   "metadata": {},
   "outputs": [],
   "source": []
  }
 ],
 "metadata": {
  "kernelspec": {
   "display_name": "Python 3 (ipykernel)",
   "language": "python",
   "name": "python3"
  },
  "language_info": {
   "codemirror_mode": {
    "name": "ipython",
    "version": 3
   },
   "file_extension": ".py",
   "mimetype": "text/x-python",
   "name": "python",
   "nbconvert_exporter": "python",
   "pygments_lexer": "ipython3",
   "version": "3.11.4"
  }
 },
 "nbformat": 4,
 "nbformat_minor": 5
}
