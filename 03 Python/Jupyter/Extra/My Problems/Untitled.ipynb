{
 "cells": [
  {
   "cell_type": "code",
   "execution_count": 1,
   "id": "111fb9ca-a637-449a-a582-0b6d190639d1",
   "metadata": {},
   "outputs": [],
   "source": [
    "d1 = [1,2,3,4,5,6]\n",
    "d2 = [1,2,3,4,5,6]"
   ]
  },
  {
   "cell_type": "code",
   "execution_count": null,
   "id": "ff050d9a-379b-46ac-8f23-37c9e2a3d0df",
   "metadata": {},
   "outputs": [],
   "source": [
    "# Find probability that difference of both numbers on dice is greater than first number"
   ]
  },
  {
   "cell_type": "code",
   "execution_count": 24,
   "id": "f349250c-c6e0-4e2f-87cb-0aec208f922f",
   "metadata": {},
   "outputs": [],
   "source": [
    "fav=[]\n",
    "for i in d1:\n",
    "    for j in d2:\n",
    "        if (i**2<j*2): \n",
    "            fav.append((i,j))"
   ]
  },
  {
   "cell_type": "code",
   "execution_count": 25,
   "id": "136201d0-7c20-468c-a608-5cae594c46d8",
   "metadata": {},
   "outputs": [
    {
     "data": {
      "text/plain": [
       "12"
      ]
     },
     "execution_count": 25,
     "metadata": {},
     "output_type": "execute_result"
    }
   ],
   "source": [
    "len(fav)"
   ]
  },
  {
   "cell_type": "code",
   "execution_count": 27,
   "id": "4ae0b340-8d6a-4a6c-b2a5-24d006c8915c",
   "metadata": {},
   "outputs": [
    {
     "data": {
      "text/plain": [
       "0.3333333333333333"
      ]
     },
     "execution_count": 27,
     "metadata": {},
     "output_type": "execute_result"
    }
   ],
   "source": [
    "prob = len(fav)/36\n",
    "prob"
   ]
  },
  {
   "cell_type": "markdown",
   "id": "b153acd7-3220-4a24-a037-e6d3f2e84d23",
   "metadata": {},
   "source": [
    "# Conditional probability\n",
    "\n",
    "two dice are rolled. what is the probability of both the numbers are even given that first number is 3."
   ]
  }
 ],
 "metadata": {
  "kernelspec": {
   "display_name": "Python 3 (ipykernel)",
   "language": "python",
   "name": "python3"
  },
  "language_info": {
   "codemirror_mode": {
    "name": "ipython",
    "version": 3
   },
   "file_extension": ".py",
   "mimetype": "text/x-python",
   "name": "python",
   "nbconvert_exporter": "python",
   "pygments_lexer": "ipython3",
   "version": "3.11.4"
  }
 },
 "nbformat": 4,
 "nbformat_minor": 5
}
