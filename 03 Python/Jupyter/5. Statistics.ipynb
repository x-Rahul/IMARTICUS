{
 "cells": [
  {
   "cell_type": "markdown",
   "id": "6700bd7d-0789-46bb-8eb9-7788f0b9ac24",
   "metadata": {},
   "source": [
    "# Statistics\n",
    "\n",
    "It is a branch of mathematics that deals with collection, analysis, interepretation, presentation and organization of data. </br>\n",
    "Types of Statistics\n",
    "1. #### Descriptive Statistics\n",
    "   Study the data from past, analyze and interpret.\n",
    "2. #### Inferential Statistics\n",
    "   Study the sample and infer its result to entire population."
   ]
  },
  {
   "cell_type": "markdown",
   "id": "47ee644c-9174-46c2-aac2-42aebb023e6c",
   "metadata": {
    "jp-MarkdownHeadingCollapsed": true
   },
   "source": [
    "## Types of Data\n",
    "1. #### Qualitative\n",
    "   1. Nominal: Names. eg. Delhi, Noida\n",
    "   2. Ordinal: Order. e.g. phd, mtech, btech\n",
    "3. #### Quantitative\n",
    "   1. Discrete: Countable.\n",
    "   2. Continuous: Can take any value within given within range. It is of two types, Interval scale(e.g. Dates, Temperature) and Ratio scale(e.g. sales, inc)"
   ]
  },
  {
   "cell_type": "markdown",
   "id": "c16eaf1e-8f2a-49d5-960f-2007ba278c6a",
   "metadata": {},
   "source": [
    "## Central Tendency\n",
    "#### Mean, Median, Mod"
   ]
  },
  {
   "cell_type": "code",
   "execution_count": null,
   "id": "aef06a78-2577-45a3-a32c-e5ded1b96b2f",
   "metadata": {},
   "outputs": [],
   "source": []
  }
 ],
 "metadata": {
  "kernelspec": {
   "display_name": "Python 3 (ipykernel)",
   "language": "python",
   "name": "python3"
  },
  "language_info": {
   "codemirror_mode": {
    "name": "ipython",
    "version": 3
   },
   "file_extension": ".py",
   "mimetype": "text/x-python",
   "name": "python",
   "nbconvert_exporter": "python",
   "pygments_lexer": "ipython3",
   "version": "3.11.4"
  }
 },
 "nbformat": 4,
 "nbformat_minor": 5
}
