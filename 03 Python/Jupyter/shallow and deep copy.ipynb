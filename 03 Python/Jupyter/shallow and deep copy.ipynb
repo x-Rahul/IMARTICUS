{
 "cells": [
  {
   "cell_type": "markdown",
   "metadata": {},
   "source": [
    "# Shallow Copy and Deep Copy"
   ]
  },
  {
   "cell_type": "code",
   "execution_count": 13,
   "metadata": {},
   "outputs": [
    {
     "name": "stdout",
     "output_type": "stream",
     "text": [
      "4442269376\n",
      "4457312064\n",
      "4457312896\n",
      "4457312896\n"
     ]
    }
   ],
   "source": [
    "# shallow copy\n",
    "# A shallow copy creates a new object, but it does not create copies of nested objects within it.\n",
    "# This means that while the top-level container (e.g., a list) is new, its elements are still references to the same objects as those in the original container.\n",
    "\n",
    "x = [1, [2, 3]]\n",
    "y = x.copy()\n",
    "\n",
    "print(id(x))  # Memory location of the original list\n",
    "print(id(y))  # Memory location of the copied list\n",
    "\n",
    "print(id(x[1]))  # Memory location of the nested list in x\n",
    "print(id(y[1]))  # Memory location of the nested list in y"
   ]
  },
  {
   "cell_type": "code",
   "execution_count": 15,
   "metadata": {},
   "outputs": [
    {
     "name": "stdout",
     "output_type": "stream",
     "text": [
      "4457312064\n",
      "4457635584\n",
      "4457634752\n",
      "4457328000\n"
     ]
    }
   ],
   "source": [
    "# Deep Copy\n",
    "# A deep copy creates a new object and recursively copies all objects found in the original, including nested objects.\n",
    "# This means that the new object is completely independent of the original object and its nested elements.\n",
    "\n",
    "import copy\n",
    "x = [1, [2, 3]]\n",
    "y = copy.deepcopy(x)\n",
    "\n",
    "print(id(x))  # Memory location of the original list\n",
    "print(id(y))  # Memory location of the deep-copied list\n",
    "\n",
    "print(id(x[1]))  # Memory location of the nested list in x\n",
    "print(id(y[1]))  # Memory location of the nested list in y\n",
    "\n"
   ]
  },
  {
   "cell_type": "code",
   "execution_count": 16,
   "metadata": {},
   "outputs": [
    {
     "name": "stdout",
     "output_type": "stream",
     "text": [
      "[1, 2, 3, 4]\n",
      "[1, 2, 3, 4]\n"
     ]
    }
   ],
   "source": [
    "# Reference assignment\n",
    "\n",
    "x = [1, 2, 3]  # Create a list and assign it to x\n",
    "y = x          # y now refers to the same list as x\n",
    "\n",
    "y.append(4)    # Modify the list through y\n",
    "\n",
    "print(x)       # Output: [1, 2, 3, 4]\n",
    "print(y)       # Output: [1, 2, 3, 4]\n"
   ]
  },
  {
   "cell_type": "code",
   "execution_count": null,
   "metadata": {},
   "outputs": [],
   "source": []
  }
 ],
 "metadata": {
  "kernelspec": {
   "display_name": "Python 3",
   "language": "python",
   "name": "python3"
  },
  "language_info": {
   "codemirror_mode": {
    "name": "ipython",
    "version": 3
   },
   "file_extension": ".py",
   "mimetype": "text/x-python",
   "name": "python",
   "nbconvert_exporter": "python",
   "pygments_lexer": "ipython3",
   "version": "3.12.3"
  }
 },
 "nbformat": 4,
 "nbformat_minor": 2
}
