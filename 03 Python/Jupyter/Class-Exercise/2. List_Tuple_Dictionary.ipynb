{
 "cells": [
  {
   "cell_type": "markdown",
   "id": "3e6f731e-a2eb-4d27-afd6-684e4ba7b9e3",
   "metadata": {
    "jp-MarkdownHeadingCollapsed": true
   },
   "source": [
    "### List Methods Questions"
   ]
  },
  {
   "cell_type": "markdown",
   "id": "858f1459-d73d-4faf-8c70-bb627843b54b",
   "metadata": {},
   "source": [
    "1. **Append Method:**\n",
    "   - Write a Python program to append the number 20 to a list of numbers `[1, 2, 3, 4, 5]` and print the updated list."
   ]
  },
  {
   "cell_type": "code",
   "execution_count": 55,
   "id": "33915e89-3639-4853-aeca-0da05b8878b9",
   "metadata": {},
   "outputs": [
    {
     "data": {
      "text/plain": [
       "[1, 2, 3, 4, 5, 20]"
      ]
     },
     "execution_count": 55,
     "metadata": {},
     "output_type": "execute_result"
    }
   ],
   "source": [
    "list_nums = [1, 2, 3, 4, 5]\n",
    "list_nums.append(20)\n",
    "list_nums"
   ]
  },
  {
   "cell_type": "markdown",
   "id": "8c0421c5-40a2-47d0-95bb-89e4494f21f6",
   "metadata": {},
   "source": [
    "2. **Extend Method:**\n",
    "   - Write a Python program to extend a list `[1, 2, 3]` by adding another list `[4, 5, 6]` to it and print the updated list."
   ]
  },
  {
   "cell_type": "code",
   "execution_count": 56,
   "id": "ea3a7383-858f-4ace-a105-714558f2075c",
   "metadata": {},
   "outputs": [
    {
     "data": {
      "text/plain": [
       "[1, 2, 3, 4, 5, 6]"
      ]
     },
     "execution_count": 56,
     "metadata": {},
     "output_type": "execute_result"
    }
   ],
   "source": [
    "list_A = [1, 2, 3]\n",
    "list_B = [4, 5, 6]\n",
    "\n",
    "list_A.extend(list_B)\n",
    "list_A"
   ]
  },
  {
   "cell_type": "markdown",
   "id": "bd21ff17-2620-4ee3-b058-4275f4727afe",
   "metadata": {},
   "source": [
    "3. **Remove Method:**\n",
    "   - Write a Python program to remove the first occurrence of the number 3 from the list `[1, 2, 3, 4, 3, 5]` and print the updated list."
   ]
  },
  {
   "cell_type": "code",
   "execution_count": 57,
   "id": "f0c0f162-3c23-4481-b102-2e922237a0dd",
   "metadata": {},
   "outputs": [
    {
     "data": {
      "text/plain": [
       "[1, 2, 4, 3, 5]"
      ]
     },
     "execution_count": 57,
     "metadata": {},
     "output_type": "execute_result"
    }
   ],
   "source": [
    "list_nums = [1, 2, 3, 4, 3, 5]\n",
    "list_nums.remove(3)\n",
    "list_nums"
   ]
  },
  {
   "cell_type": "markdown",
   "id": "15ef96f0-4fa1-4d94-a486-60f6afae8fec",
   "metadata": {},
   "source": [
    "4. **Sort Method:**\n",
    "   - Write a Python program to sort a list of numbers `[4, 2, 8, 1, 7]` in ascending order and print the sorted list."
   ]
  },
  {
   "cell_type": "code",
   "execution_count": 58,
   "id": "fcd03021-9df5-4619-b377-650548a59aa1",
   "metadata": {},
   "outputs": [
    {
     "data": {
      "text/plain": [
       "[1, 2, 4, 7, 8]"
      ]
     },
     "execution_count": 58,
     "metadata": {},
     "output_type": "execute_result"
    }
   ],
   "source": [
    "list_nums = [4, 2, 8, 1, 7]\n",
    "list_nums.sort()\n",
    "list_nums"
   ]
  },
  {
   "cell_type": "markdown",
   "id": "6847850d-e9d7-4a18-8eae-95db3a8c32a4",
   "metadata": {},
   "source": [
    "5. **Index Method:**\n",
    "   - Write a Python program to find the index of the number 7 in the list `[10, 20, 7, 30, 40]` and print the index."
   ]
  },
  {
   "cell_type": "code",
   "execution_count": 59,
   "id": "7de0b774-5c3a-4389-b76d-be53a92bf6a3",
   "metadata": {},
   "outputs": [
    {
     "data": {
      "text/plain": [
       "2"
      ]
     },
     "execution_count": 59,
     "metadata": {},
     "output_type": "execute_result"
    }
   ],
   "source": [
    "list_nums = [10, 20, 7, 30, 40]\n",
    "list_nums.index(7)"
   ]
  },
  {
   "cell_type": "markdown",
   "id": "4a8ac77d-9221-4218-a774-5caf29790319",
   "metadata": {
    "jp-MarkdownHeadingCollapsed": true
   },
   "source": [
    "### Tuple Methods Questions\n"
   ]
  },
  {
   "cell_type": "markdown",
   "id": "08af96c4-090d-41eb-a5ff-494c9861719c",
   "metadata": {},
   "source": [
    "1. **Count Method:**\n",
    "   - Write a Python program to count the number of times the number 5 appears in the tuple `(1, 2, 5, 5, 3, 5, 4)` and print the count."
   ]
  },
  {
   "cell_type": "code",
   "execution_count": 60,
   "id": "e3db7aa0-5447-4b05-b646-bbca5a86dad4",
   "metadata": {},
   "outputs": [
    {
     "data": {
      "text/plain": [
       "3"
      ]
     },
     "execution_count": 60,
     "metadata": {},
     "output_type": "execute_result"
    }
   ],
   "source": [
    "tuple_nums = (1, 2, 5, 5, 3, 5, 4)\n",
    "tuple_nums.count(5)"
   ]
  },
  {
   "cell_type": "markdown",
   "id": "bf5ca5b5-77e3-45ec-a568-157596dde5e4",
   "metadata": {},
   "source": [
    "2. **Index Method:**\n",
    "   - Write a Python program to find the index of the number 8 in the tuple `(2, 4, 6, 8, 10)` and print the index."
   ]
  },
  {
   "cell_type": "code",
   "execution_count": 61,
   "id": "ea356886-45dc-459c-9052-1a8d396c93e6",
   "metadata": {},
   "outputs": [
    {
     "data": {
      "text/plain": [
       "3"
      ]
     },
     "execution_count": 61,
     "metadata": {},
     "output_type": "execute_result"
    }
   ],
   "source": [
    "tuple_nums = (2, 4, 6, 8, 10)\n",
    "tuple_nums.index(8)"
   ]
  },
  {
   "cell_type": "markdown",
   "id": "7d49eda2-d98f-446e-ab91-5c477b3233b4",
   "metadata": {},
   "source": [
    "3. **Concatenation:**\n",
    "   - Write a Python program to concatenate two tuples `(1, 2, 3)` and `(4, 5, 6)` and print the result."
   ]
  },
  {
   "cell_type": "code",
   "execution_count": 62,
   "id": "c7eaf98a-994c-4f02-b538-de92abec773a",
   "metadata": {},
   "outputs": [
    {
     "name": "stdout",
     "output_type": "stream",
     "text": [
      "(1, 2, 3, 4, 5, 6)\n"
     ]
    }
   ],
   "source": [
    "tuple_A = (1, 2, 3)\n",
    "tuple_B = (4, 5, 6)\n",
    "tuple_C = tuple_A + tuple_B\n",
    "print(tuple_C)"
   ]
  },
  {
   "cell_type": "markdown",
   "id": "145d6e12-adcc-4beb-9249-c38617543db7",
   "metadata": {},
   "source": [
    "4. **Slicing:**\n",
    "   - Write a Python program to slice the tuple `(1, 2, 3, 4, 5)` to get the first three elements and print the sliced tuple."
   ]
  },
  {
   "cell_type": "code",
   "execution_count": 63,
   "id": "4af5cac0-3cae-493c-82d8-9459d6f41701",
   "metadata": {},
   "outputs": [
    {
     "data": {
      "text/plain": [
       "(1, 2, 3)"
      ]
     },
     "execution_count": 63,
     "metadata": {},
     "output_type": "execute_result"
    }
   ],
   "source": [
    "tuple_nums = (1, 2, 3, 4, 5)\n",
    "tuple_nums[0:3]"
   ]
  },
  {
   "cell_type": "markdown",
   "id": "b6ce5a05-ab6c-433c-b93e-2823dfb30689",
   "metadata": {},
   "source": [
    "5. **Length:**\n",
    "   - Write a Python program to find the length of the tuple `(10, 20, 30, 40, 50)` and print the length."
   ]
  },
  {
   "cell_type": "code",
   "execution_count": 64,
   "id": "fc944c7d-a983-40c7-bf8b-f11964c9fd2c",
   "metadata": {},
   "outputs": [
    {
     "data": {
      "text/plain": [
       "5"
      ]
     },
     "execution_count": 64,
     "metadata": {},
     "output_type": "execute_result"
    }
   ],
   "source": [
    "tuple_nums = (10, 20, 30, 40, 50)\n",
    "len(tuple_nums)"
   ]
  },
  {
   "cell_type": "markdown",
   "id": "bf15dcf8-b785-4328-b8eb-699e324c8b8c",
   "metadata": {
    "jp-MarkdownHeadingCollapsed": true
   },
   "source": [
    "### Dictionary Methods Questions\n"
   ]
  },
  {
   "cell_type": "markdown",
   "id": "04f86aa1-2e30-4dd2-93d6-335b214a6fc0",
   "metadata": {},
   "source": [
    "1. **Update Method:**\n",
    "   - Write a Python program to update the dictionary `{1: 'a', 2: 'b'}` with another dictionary `{2: 'c', 3: 'd'}` and print the updated dictionary."
   ]
  },
  {
   "cell_type": "code",
   "execution_count": 65,
   "id": "9e5c1056-faaf-490f-b4ba-5fd7821fda65",
   "metadata": {},
   "outputs": [
    {
     "data": {
      "text/plain": [
       "{1: 'a', 2: 'c', 3: 'd'}"
      ]
     },
     "execution_count": 65,
     "metadata": {},
     "output_type": "execute_result"
    }
   ],
   "source": [
    "dict_A = {\n",
    "    1: 'a',\n",
    "    2: 'b'\n",
    "}\n",
    "dict_B = {\n",
    "    2: 'c',\n",
    "    3: 'd'\n",
    "}\n",
    "dict_A.update(dict_B)\n",
    "dict_A"
   ]
  },
  {
   "cell_type": "markdown",
   "id": "0efbc3db-08af-4ffb-9cc9-abb7cb832883",
   "metadata": {},
   "source": [
    "2. **Keys Method:**\n",
    "   - Write a Python program to get all the keys from the dictionary `{'name': 'John', 'age': 25, 'city': 'New York'}` and print the keys."
   ]
  },
  {
   "cell_type": "code",
   "execution_count": 66,
   "id": "2e90c65a-c253-4f4d-b226-3ae6d6733ee6",
   "metadata": {},
   "outputs": [
    {
     "data": {
      "text/plain": [
       "dict_keys(['name', 'age', 'city'])"
      ]
     },
     "execution_count": 66,
     "metadata": {},
     "output_type": "execute_result"
    }
   ],
   "source": [
    "dict_A = {\n",
    "    'name': 'John', \n",
    "    'age': 25, \n",
    "    'city': 'New York'\n",
    "}\n",
    "dict_A.keys()"
   ]
  },
  {
   "cell_type": "markdown",
   "id": "fa48f560-453b-45be-9104-124e3769cf01",
   "metadata": {},
   "source": [
    "3. **Values Method:**\n",
    "   - Write a Python program to get all the values from the dictionary `{'name': 'Alice', 'age': 30, 'city': 'Los Angeles'}` and print the values."
   ]
  },
  {
   "cell_type": "code",
   "execution_count": 67,
   "id": "106a8a5c-411a-4b93-9293-50a82ed43f9b",
   "metadata": {},
   "outputs": [
    {
     "data": {
      "text/plain": [
       "dict_values(['Alice', 30, 'Los Angeles'])"
      ]
     },
     "execution_count": 67,
     "metadata": {},
     "output_type": "execute_result"
    }
   ],
   "source": [
    "dict_A = {\n",
    "    'name': 'Alice', \n",
    "    'age': 30, \n",
    "    'city': 'Los Angeles'\n",
    "}\n",
    "dict_A.values()"
   ]
  },
  {
   "cell_type": "markdown",
   "id": "7600ea77-c8b0-41ba-ae18-3f97da8f0428",
   "metadata": {},
   "source": [
    "4. **Get Method:**\n",
    "   - Write a Python program to get the value of the key 'age' from the dictionary `{'name': 'Bob', 'age': 35, 'city': 'Chicago'}` and print the value."
   ]
  },
  {
   "cell_type": "code",
   "execution_count": 68,
   "id": "feade261-abfd-457b-81c8-96aff8e73d42",
   "metadata": {},
   "outputs": [
    {
     "data": {
      "text/plain": [
       "35"
      ]
     },
     "execution_count": 68,
     "metadata": {},
     "output_type": "execute_result"
    }
   ],
   "source": [
    "dict_A = {\n",
    "    'name': 'Bob', \n",
    "    'age': 35, \n",
    "    'city': 'Chicago'\n",
    "}\n",
    "dict_A['age']"
   ]
  },
  {
   "cell_type": "markdown",
   "id": "5a5a19cf-ab8b-4c56-bf36-e36c4f84a080",
   "metadata": {},
   "source": [
    "5. **Items Method:**\n",
    "   - Write a Python program to get all the key-value pairs from the dictionary `{'brand': 'Ford', 'model': 'Mustang', 'year': 1964}` and print the pairs."
   ]
  },
  {
   "cell_type": "code",
   "execution_count": 70,
   "id": "cc9081e3-86a1-4796-a35b-c0583b96c212",
   "metadata": {},
   "outputs": [
    {
     "data": {
      "text/plain": [
       "dict_items([('brand', 'Ford'), ('model', 'Mustang'), ('year', 1964)])"
      ]
     },
     "execution_count": 70,
     "metadata": {},
     "output_type": "execute_result"
    }
   ],
   "source": [
    "dict_A = {'brand': 'Ford', \n",
    "          'model': 'Mustang', \n",
    "          'year': 1964\n",
    "}\n",
    "dict_A.items()"
   ]
  }
 ],
 "metadata": {
  "kernelspec": {
   "display_name": "Python 3 (ipykernel)",
   "language": "python",
   "name": "python3"
  },
  "language_info": {
   "codemirror_mode": {
    "name": "ipython",
    "version": 3
   },
   "file_extension": ".py",
   "mimetype": "text/x-python",
   "name": "python",
   "nbconvert_exporter": "python",
   "pygments_lexer": "ipython3",
   "version": "3.11.4"
  }
 },
 "nbformat": 4,
 "nbformat_minor": 5
}
