{
 "cells": [
  {
   "cell_type": "markdown",
   "id": "f0b2b961-1fe3-45cb-9712-ecf1be46ef55",
   "metadata": {},
   "source": [
    "**For Loops:**\n",
    "\n",
    "1. Write a Python program that calculates the sum of all numbers from 1 to 100 using a for loop.\n",
    "2. Create a Python program that prints the multiplication table (up to 10) of 18 using for loop.\n",
    "3. Write a Python program that takes a list of integers and returns the count of even numbers using a for loop.\n",
    "4. Develop a Python program that finds the largest element in a list using a for loop.\n",
    "5. Create a Python program that prints the Fibonacci sequence up to a 12 number( value term 144) using a for loop."
   ]
  },
  {
   "cell_type": "code",
   "execution_count": 43,
   "id": "4c89932c-1476-4426-b645-27b5c7464f38",
   "metadata": {},
   "outputs": [],
   "source": [
    "def sum(a, b):\n",
    "    nums = range(a,b)\n",
    "    sum = 0;\n",
    "    for i in nums:\n",
    "        sum+=i\n",
    "    return sum\n",
    "\n",
    "def multiplicationTable(n):\n",
    "    for i in range(1,11):\n",
    "        print(n*i)\n",
    "\n",
    "def evenCount(nums):\n",
    "    count = 0;\n",
    "    for n in nums:\n",
    "        if (n%2==0):\n",
    "            count+=1\n",
    "    return count\n",
    "\n",
    "def largest(nums):\n",
    "    lrgst = nums[0]\n",
    "    for n in nums:\n",
    "        if(n > lrgst):\n",
    "            lrgst = n;\n",
    "    return lrgst\n",
    "\n",
    "def fibb(n):\n",
    "    f0 = 0\n",
    "    f1 = 1\n",
    "    print(f0)\n",
    "    print(f1)\n",
    "    for _ in range(n-1):\n",
    "        f = f0 + f1\n",
    "        print(f)\n",
    "        f0, f1 = f1, f"
   ]
  },
  {
   "cell_type": "code",
   "execution_count": 44,
   "id": "5aed2931-c0b3-453f-86fa-468e01b3efd1",
   "metadata": {},
   "outputs": [
    {
     "data": {
      "text/plain": [
       "4950"
      ]
     },
     "execution_count": 44,
     "metadata": {},
     "output_type": "execute_result"
    }
   ],
   "source": [
    "sum(1,100)"
   ]
  },
  {
   "cell_type": "code",
   "execution_count": 45,
   "id": "61864412-4e02-4fc6-9880-6293b4d5f4ec",
   "metadata": {},
   "outputs": [
    {
     "name": "stdout",
     "output_type": "stream",
     "text": [
      "18\n",
      "36\n",
      "54\n",
      "72\n",
      "90\n",
      "108\n",
      "126\n",
      "144\n",
      "162\n",
      "180\n"
     ]
    }
   ],
   "source": [
    "multiplicationTable(18)"
   ]
  },
  {
   "cell_type": "code",
   "execution_count": 46,
   "id": "d6ed0a81-178f-4b1c-995a-d6c08ca6740b",
   "metadata": {},
   "outputs": [
    {
     "data": {
      "text/plain": [
       "5"
      ]
     },
     "execution_count": 46,
     "metadata": {},
     "output_type": "execute_result"
    }
   ],
   "source": [
    "nums = [1,12,4,5,7,8,12,6]\n",
    "evenCount(nums)"
   ]
  },
  {
   "cell_type": "code",
   "execution_count": 47,
   "id": "73e745e1-d9ab-4509-8141-c7b3b143f07f",
   "metadata": {},
   "outputs": [
    {
     "data": {
      "text/plain": [
       "13"
      ]
     },
     "execution_count": 47,
     "metadata": {},
     "output_type": "execute_result"
    }
   ],
   "source": [
    "nums = [2,12,4,5,13,7,8,12,6]\n",
    "largest(nums)"
   ]
  },
  {
   "cell_type": "code",
   "execution_count": 48,
   "id": "9e766e28-6e9f-4e61-9409-aa66f47526a5",
   "metadata": {},
   "outputs": [
    {
     "name": "stdout",
     "output_type": "stream",
     "text": [
      "0\n",
      "1\n",
      "1\n",
      "2\n",
      "3\n",
      "5\n",
      "8\n",
      "13\n",
      "21\n",
      "34\n",
      "55\n",
      "89\n",
      "144\n"
     ]
    }
   ],
   "source": [
    "fibb(12)"
   ]
  },
  {
   "cell_type": "markdown",
   "id": "59dea2c9-bfcd-442c-b69e-e1f0599f196f",
   "metadata": {},
   "source": [
    "**While Loops:**\n",
    "\n",
    "1. Write a Python program to find the factorial of 13 using a while loop.\n",
    "2. Create a Python program that adds all the natural numbers up 25 number using a while loop.\n",
    "3. Create a Python program that generates a random number between 1 and 100 and lets the user guess it using a while loop.\n",
    "4. Develop a program that prints the first 10 prime numbers using a while loop\n",
    "5. Develop a program that prompts the user to enter a sentence and then counts the number of vowels (a, e, i, o, u) in that sentence using a while loop."
   ]
  },
  {
   "cell_type": "code",
   "execution_count": 56,
   "id": "9209ba5f-3c34-48b7-88f3-f74a659b0411",
   "metadata": {},
   "outputs": [],
   "source": [
    "def factorial(n):\n",
    "    # 1! = 1*1 = 1\n",
    "    # 2! = 1*2 = 2\n",
    "    # 3! = 2*3 = 6\n",
    "    # 4! = 6*4 = 24\n",
    "    # 5! = 24*5 = 120\n",
    "    count = 1\n",
    "    fact = 1\n",
    "    while(count<=n):\n",
    "        fact *= count\n",
    "        count += 1\n",
    "    return fact\n",
    "\n",
    "def sum_nat(n):\n",
    "    sum = 0;\n",
    "    while(n>0):\n",
    "        sum += n\n",
    "        n-=1\n",
    "    return sum\n"
   ]
  },
  {
   "cell_type": "code",
   "execution_count": 52,
   "id": "da6dea34-0fd8-438e-b458-5644efdd6dc1",
   "metadata": {},
   "outputs": [
    {
     "data": {
      "text/plain": [
       "6227020800"
      ]
     },
     "execution_count": 52,
     "metadata": {},
     "output_type": "execute_result"
    }
   ],
   "source": [
    "factorial(13)"
   ]
  },
  {
   "cell_type": "code",
   "execution_count": 59,
   "id": "05e28f3f-15b8-484a-b9a8-8f19c78e70b4",
   "metadata": {},
   "outputs": [
    {
     "data": {
      "text/plain": [
       "325"
      ]
     },
     "execution_count": 59,
     "metadata": {},
     "output_type": "execute_result"
    }
   ],
   "source": [
    "sum_nat(25)"
   ]
  },
  {
   "cell_type": "code",
   "execution_count": 4,
   "id": "690c8bba-9d0f-4d8a-8f36-cc2a1320eb83",
   "metadata": {},
   "outputs": [
    {
     "name": "stdin",
     "output_type": "stream",
     "text": [
      "Guesss a number between 1 to 10 4\n",
      "Guesss a number between 1 to 10 4\n",
      "Guesss a number between 1 to 10 6\n",
      "Guesss a number between 1 to 10 1\n",
      "Guesss a number between 1 to 10 0\n",
      "Guesss a number between 1 to 10 2\n",
      "Guesss a number between 1 to 10 3\n"
     ]
    },
    {
     "name": "stdout",
     "output_type": "stream",
     "text": [
      "Correct Number\n"
     ]
    }
   ],
   "source": [
    "import random\n",
    "\n",
    "random_num = random.randint(1,5)\n",
    "count = 1\n",
    "while(True):\n",
    "    user_num = int(input(\"Guesss a number between 1 to 10\"))\n",
    "    if(user_num == random_num):\n",
    "        print(\"Correct Number\")\n",
    "        break\n",
    "    if (count == 10):\n",
    "        print(\"limit reached try again\")\n",
    "        break"
   ]
  },
  {
   "cell_type": "markdown",
   "id": "483a8b3a-1494-4e93-825e-1711e7d647cd",
   "metadata": {},
   "source": [
    "2,3,5,7,11,13"
   ]
  },
  {
   "cell_type": "code",
   "execution_count": 13,
   "id": "08d11299-5a14-4ff0-8ccf-a65da812cc47",
   "metadata": {},
   "outputs": [
    {
     "name": "stdout",
     "output_type": "stream",
     "text": [
      "2\n",
      "3\n",
      "5\n",
      "7\n",
      "11\n",
      "13\n",
      "17\n",
      "19\n"
     ]
    }
   ],
   "source": [
    "num = 20;\n",
    "for n in range(2,num):\n",
    "    isPrime=True\n",
    "    for i in range(2,n):\n",
    "        if(n%i==0):\n",
    "            isPrime = False\n",
    "    if(isPrime==True):\n",
    "        print(n)"
   ]
  },
  {
   "cell_type": "code",
   "execution_count": 14,
   "id": "c1d5b75e-f7dc-4a39-af90-e81b89f70869",
   "metadata": {},
   "outputs": [
    {
     "name": "stdout",
     "output_type": "stream",
     "text": [
      "The first 50 prime numbers are:\n",
      "2 3 5 7 11 13 17 19 23 29 31 37 41 43 47 53 59 61 67 71 73 79 83 89 97 101 103 107 109 113 127 131 137 139 149 151 157 163 167 173 179 181 191 193 197 199 211 223 227 229 "
     ]
    }
   ],
   "source": [
    "def is_prime(num):\n",
    "    if num <= 1:\n",
    "        return False\n",
    "    if num <= 3:\n",
    "        return True\n",
    "    if num % 2 == 0 or num % 3 == 0:\n",
    "        return False\n",
    "    i = 5\n",
    "    while i * i <= num:\n",
    "        if num % i == 0 or num % (i + 2) == 0:\n",
    "            return False\n",
    "        i += 6\n",
    "    return True\n",
    "\n",
    "N = 50\n",
    "count = 0\n",
    "num = 2\n",
    "\n",
    "print(\"The first\", N, \"prime numbers are:\")\n",
    "while count < N:\n",
    "    if is_prime(num):\n",
    "        print(num, end=\" \")\n",
    "        count += 1\n",
    "    num += 1"
   ]
  },
  {
   "cell_type": "code",
   "execution_count": 9,
   "id": "e8264dd6-fc98-4e60-9068-1567f7b9b762",
   "metadata": {},
   "outputs": [
    {
     "name": "stdin",
     "output_type": "stream",
     "text": [
      "enter a word your mommy\n"
     ]
    },
    {
     "name": "stdout",
     "output_type": "stream",
     "text": [
      "3\n"
     ]
    }
   ],
   "source": [
    "word = input(\"enter a word\")\n",
    "vovels = ['a','e','i','o','u']\n",
    "i = 0\n",
    "count = 0\n",
    "while(i<len(word)):\n",
    "    if(word[i] in vovels):\n",
    "        count+=1\n",
    "    i+=1\n",
    "print(count)"
   ]
  },
  {
   "cell_type": "code",
   "execution_count": null,
   "id": "5d17a1ad-78c6-4a77-bfbd-b844ab2d34a8",
   "metadata": {},
   "outputs": [],
   "source": [
    "def count_vowels(sentence):\n",
    "    vowels = 'aeiouAEIOU'\n",
    "    return sum(sentence.count(vowel) for vowel in vowels)\n",
    "\n",
    "word = input(\"Enter a sentence: \")\n",
    "count_vowels(word)"
   ]
  },
  {
   "cell_type": "code",
   "execution_count": 24,
   "id": "890d75c6-26ba-4297-bb28-4cd6cf42508c",
   "metadata": {},
   "outputs": [
    {
     "data": {
      "text/plain": [
       "2"
      ]
     },
     "execution_count": 24,
     "metadata": {},
     "output_type": "execute_result"
    }
   ],
   "source": [
    "word = \"ypuradf\"\n",
    "vows = 'aeiouAEIOU'\n",
    "sum(word.count(i) for i in vows)"
   ]
  },
  {
   "cell_type": "markdown",
   "id": "8bc3b287-ee76-485e-bd8f-3b63ee95eb91",
   "metadata": {},
   "source": [
    "**If Conditions:**\n",
    "\n",
    "1. Write a Python program to check if a number is prime or not using if conditions.\n",
    "2. Create a Python program that finds the maximum of three numbers using if-else conditions.\n",
    "3. Write a Python program that prompts the user to enter their age. If the age is less than 18, prompt them to enter their gender. If their gender is 'male', print \"He is a boy\", if 'female', print \"She is a girl\".\n",
    "4. Develop a Python program that determines the type of a triangle (equilateral, isosceles, or scalene) based on the lengths of its sides using if-elif-else conditions.\n",
    "5. Create a Python program that checks if a given year is a leap year or not using if conditions."
   ]
  },
  {
   "cell_type": "code",
   "execution_count": 1,
   "id": "c251c171-9719-4c8d-b61f-dba0cf98af34",
   "metadata": {},
   "outputs": [],
   "source": [
    "def isPrime(N):\n",
    "    if(N==2 or N==3): return True\n",
    "    flag = True\n",
    "    for n in range(2,N):\n",
    "        if (N%n==0):\n",
    "            flag=False\n",
    "    if(flag == True):\n",
    "        return True\n",
    "    else: return False\n",
    "        \n",
    "def is_prime(number):\n",
    "    if number <= 1:\n",
    "        return False\n",
    "    elif number <= 3:\n",
    "        return True\n",
    "    elif number % 2 == 0 or number % 3 == 0:\n",
    "        return False\n",
    "    i = 5\n",
    "    while i * i <= number:\n",
    "        if number % i == 0 or number % (i + 2) == 0:\n",
    "            return False\n",
    "        i += 6\n",
    "    return True\n",
    "\n",
    "def maxNum(a,b,c):\n",
    "    if(a>=b):\n",
    "        if(a>=c): return a\n",
    "        return c\n",
    "    return b\n",
    "\n",
    "def triangleType(x,y,z):\n",
    "    if(x==y==z): return 'Equilateral'\n",
    "    elif(x==y or x==z or y==z): return 'isosceles'\n",
    "    else: return 'scalene'\n",
    "\n",
    "def isLeap(year):\n",
    "        if(year%400==0): return True\n",
    "        if(year%100 != 0 and year%4==0): return True\n",
    "        else: return False"
   ]
  },
  {
   "cell_type": "code",
   "execution_count": 50,
   "id": "3341fe33-5432-4fd7-b43a-39eba1444b38",
   "metadata": {},
   "outputs": [
    {
     "data": {
      "text/plain": [
       "False"
      ]
     },
     "execution_count": 50,
     "metadata": {},
     "output_type": "execute_result"
    }
   ],
   "source": [
    "isPrime(4)"
   ]
  },
  {
   "cell_type": "code",
   "execution_count": 54,
   "id": "f5151ab4-51da-4071-a8c1-0f17c87d9595",
   "metadata": {},
   "outputs": [
    {
     "data": {
      "text/plain": [
       "12"
      ]
     },
     "execution_count": 54,
     "metadata": {},
     "output_type": "execute_result"
    }
   ],
   "source": [
    "maxNum(9,8,12)"
   ]
  },
  {
   "cell_type": "code",
   "execution_count": 65,
   "id": "c3b61e88-793e-4e1b-bcd9-a84e5e9ae08b",
   "metadata": {},
   "outputs": [
    {
     "name": "stdin",
     "output_type": "stream",
     "text": [
      "Enter you age:  85\n"
     ]
    }
   ],
   "source": [
    "age = int(input(\"Enter you age: \"))\n",
    "if(age<18):\n",
    "    gender = input(\"Enter your gender 'male' or 'female': \")\n",
    "    if(gender == 'male'):print(\"He is a boy\")\n",
    "    if(gender == 'female'):print(\"she is a girl\")"
   ]
  },
  {
   "cell_type": "code",
   "execution_count": 72,
   "id": "ace59bef-d20a-4c03-bfc3-0d7af55e5927",
   "metadata": {},
   "outputs": [
    {
     "data": {
      "text/plain": [
       "'Equilateral'"
      ]
     },
     "execution_count": 72,
     "metadata": {},
     "output_type": "execute_result"
    }
   ],
   "source": [
    "triangleType(5,5,5)"
   ]
  },
  {
   "cell_type": "code",
   "execution_count": 10,
   "id": "81c1871d-7fdc-4a8a-a9b4-598bfb10455a",
   "metadata": {},
   "outputs": [
    {
     "data": {
      "text/plain": [
       "True"
      ]
     },
     "execution_count": 10,
     "metadata": {},
     "output_type": "execute_result"
    }
   ],
   "source": [
    "isLeap(1600)"
   ]
  },
  {
   "cell_type": "code",
   "execution_count": null,
   "id": "0de212b6-8664-41d3-a251-c62823a5b5c0",
   "metadata": {},
   "outputs": [],
   "source": []
  }
 ],
 "metadata": {
  "kernelspec": {
   "display_name": "Python 3 (ipykernel)",
   "language": "python",
   "name": "python3"
  },
  "language_info": {
   "codemirror_mode": {
    "name": "ipython",
    "version": 3
   },
   "file_extension": ".py",
   "mimetype": "text/x-python",
   "name": "python",
   "nbconvert_exporter": "python",
   "pygments_lexer": "ipython3",
   "version": "3.12.3"
  }
 },
 "nbformat": 4,
 "nbformat_minor": 5
}
