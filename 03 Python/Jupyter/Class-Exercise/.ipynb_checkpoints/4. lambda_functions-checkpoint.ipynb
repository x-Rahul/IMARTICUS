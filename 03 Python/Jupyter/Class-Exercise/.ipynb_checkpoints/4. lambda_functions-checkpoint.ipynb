{
 "cells": [
  {
   "cell_type": "markdown",
   "id": "98709213-8c56-4d9a-bdf2-17da8049e25c",
   "metadata": {
    "jp-MarkdownHeadingCollapsed": true
   },
   "source": [
    "### Lambda Functions with `map`"
   ]
  },
  {
   "cell_type": "markdown",
   "id": "a57e8a2b-95bd-4784-b34f-7bd837612bb0",
   "metadata": {},
   "source": [
    "1. **Square of Numbers**\n",
    "   - Write a lambda function with `map` to create a list of squares of a given list of numbers."
   ]
  },
  {
   "cell_type": "code",
   "execution_count": 1,
   "id": "4b37e3ca-eaef-4e54-802b-de76766b7f9c",
   "metadata": {},
   "outputs": [
    {
     "data": {
      "text/plain": [
       "[1, 4, 9, 16]"
      ]
     },
     "execution_count": 1,
     "metadata": {},
     "output_type": "execute_result"
    }
   ],
   "source": [
    "itr = [1,2,3,4]\n",
    "func = lambda i:i*i # input i and return i^2\n",
    "\n",
    "list(map(func, itr))"
   ]
  },
  {
   "cell_type": "markdown",
   "id": "aa41f7b1-528e-4570-a987-08fe793c1ef6",
   "metadata": {},
   "source": [
    "2. **Uppercase Strings**\n",
    "   - Write a lambda function with `map` to convert a list of strings to uppercase."
   ]
  },
  {
   "cell_type": "code",
   "execution_count": 2,
   "id": "a18680a8-dda9-4771-8faf-61aa885efce5",
   "metadata": {},
   "outputs": [
    {
     "data": {
      "text/plain": [
       "['RED', 'GREEN', 'BLUE']"
      ]
     },
     "execution_count": 2,
     "metadata": {},
     "output_type": "execute_result"
    }
   ],
   "source": [
    "itr = ['red', 'green', 'blue']\n",
    "func = lambda s:s.upper()\n",
    "\n",
    "list(map(func, itr))"
   ]
  },
  {
   "cell_type": "markdown",
   "id": "1dfd9d6e-5a52-4c45-8449-a51b5256304f",
   "metadata": {},
   "source": [
    "3. **Add Constant to Numbers**\n",
    "   - Write a lambda function with `map` to add a constant (e.g., 5) to each number in a list."
   ]
  },
  {
   "cell_type": "code",
   "execution_count": 3,
   "id": "6a7b1d0d-15b4-451a-bb3c-8002b83a2802",
   "metadata": {},
   "outputs": [
    {
     "data": {
      "text/plain": [
       "[6, 7, 8, 9]"
      ]
     },
     "execution_count": 3,
     "metadata": {},
     "output_type": "execute_result"
    }
   ],
   "source": [
    "itr = [1,2,3,4]\n",
    "func = lambda i:i+5\n",
    "\n",
    "list(map(func, itr))"
   ]
  },
  {
   "cell_type": "markdown",
   "id": "1b9afb26-08e7-495b-9cfe-edee85ede68b",
   "metadata": {},
   "source": [
    "4. **Length of Strings**\n",
    "   - Write a lambda function with `map` to get the length of each string in a list."
   ]
  },
  {
   "cell_type": "code",
   "execution_count": 4,
   "id": "4812a64a-5edf-4af0-9e9e-416551e1c830",
   "metadata": {},
   "outputs": [
    {
     "data": {
      "text/plain": [
       "[3, 5, 5]"
      ]
     },
     "execution_count": 4,
     "metadata": {},
     "output_type": "execute_result"
    }
   ],
   "source": [
    "list(map(lambda s:len(s), ['red', 'green', 'black']))"
   ]
  },
  {
   "cell_type": "markdown",
   "id": "6f436bdb-9bd9-4e10-a4a2-b17e005cab7d",
   "metadata": {},
   "source": [
    "5. **Convert to Float**\n",
    "   - Write a lambda function with `map` to convert a list of integers to floats."
   ]
  },
  {
   "cell_type": "code",
   "execution_count": 5,
   "id": "2f47e51d-b459-407e-bde9-b489be10c361",
   "metadata": {},
   "outputs": [
    {
     "data": {
      "text/plain": [
       "[1.0, 2.0, 3.0, 4.0]"
      ]
     },
     "execution_count": 5,
     "metadata": {},
     "output_type": "execute_result"
    }
   ],
   "source": [
    "list(map(lambda n:float(n), [1,2,3,4]))"
   ]
  },
  {
   "cell_type": "markdown",
   "id": "5cc14982-042c-4996-bf51-aa120551f9ed",
   "metadata": {
    "jp-MarkdownHeadingCollapsed": true
   },
   "source": [
    "### Lambda Functions with `filter`"
   ]
  },
  {
   "cell_type": "markdown",
   "id": "a35a51a7-e3a3-47fe-84da-081f84fb9750",
   "metadata": {},
   "source": [
    "1. **Filter Even Numbers**\n",
    "   - Write a lambda function with `filter` to filter out even numbers from a list."
   ]
  },
  {
   "cell_type": "code",
   "execution_count": 6,
   "id": "cf3b2373-3b7c-43df-936d-c6729e530d54",
   "metadata": {},
   "outputs": [
    {
     "data": {
      "text/plain": [
       "[0, 2, 4, 6, 8]"
      ]
     },
     "execution_count": 6,
     "metadata": {},
     "output_type": "execute_result"
    }
   ],
   "source": [
    "list(filter(lambda i: i%2==0, [0,1,2,3,4,5,6,7,8,9]))"
   ]
  },
  {
   "cell_type": "markdown",
   "id": "c63b02fd-ac8c-4e77-9c38-357b30bd9c23",
   "metadata": {},
   "source": [
    "2. **Filter Strings Longer Than 3 Characters**\n",
    "   - Write a lambda function with `filter` to filter out strings that are longer than 3 characters."
   ]
  },
  {
   "cell_type": "code",
   "execution_count": 7,
   "id": "9947d464-08ae-4450-ae27-3b41eb166cad",
   "metadata": {},
   "outputs": [
    {
     "data": {
      "text/plain": [
       "[0, 2, 4, 6, 8]"
      ]
     },
     "execution_count": 7,
     "metadata": {},
     "output_type": "execute_result"
    }
   ],
   "source": [
    "list(filter(lambda i: i%2==0, [0,1,2,3,4,5,6,7,8,9]))"
   ]
  },
  {
   "cell_type": "markdown",
   "id": "2b64f637-6963-46f9-8c7c-b9c65f217c2b",
   "metadata": {},
   "source": [
    "3. **Filter Positive Numbers**\n",
    "   - Write a lambda function with `filter` to filter out positive numbers from a list."
   ]
  },
  {
   "cell_type": "code",
   "execution_count": 8,
   "id": "c9239b41-620d-4fa9-9ef5-d44c737654fa",
   "metadata": {},
   "outputs": [
    {
     "data": {
      "text/plain": [
       "[1, 4, 7, 8]"
      ]
     },
     "execution_count": 8,
     "metadata": {},
     "output_type": "execute_result"
    }
   ],
   "source": [
    "list(filter(lambda i: i>0, [0,1,-2,-3,4,-5,-6,7,8,-9]))"
   ]
  },
  {
   "cell_type": "markdown",
   "id": "b5155ca1-03cb-421f-8d7e-82a9c31c32b6",
   "metadata": {},
   "source": [
    "4. **Filter Palindromes**\n",
    "   - Write a lambda function with `filter` to filter out strings that are palindromes from a list."
   ]
  },
  {
   "cell_type": "code",
   "execution_count": 9,
   "id": "d3692a45-c062-4067-9561-31cd6aeec05d",
   "metadata": {},
   "outputs": [
    {
     "data": {
      "text/plain": [
       "['racecar', '131', 'madaminedenimadam', 'noon']"
      ]
     },
     "execution_count": 9,
     "metadata": {},
     "output_type": "execute_result"
    }
   ],
   "source": [
    "list_A = [\n",
    "    \"racecar\",\n",
    "    \"hello\",\n",
    "    \"131\",\n",
    "    \"123\",\n",
    "    \"madaminedenimadam\",\n",
    "    \"examplephrase\",\n",
    "    \"A man a plan a canal Panama\",\n",
    "    \"This is a test\",\n",
    "    \"noon\",\n",
    "    \"456\",\n",
    "    \"Eva can I see bees in a cave\",\n",
    "    \"This is not a palindrome\"\n",
    "]\n",
    "list(filter(lambda s: s==s[::-1], list_A))"
   ]
  },
  {
   "cell_type": "markdown",
   "id": "3aa9f76b-6360-4bfb-82d9-e58355a12a33",
   "metadata": {},
   "source": [
    "5. **Filter Divisible by 3**\n",
    "   - Write a lambda function with `filter` to filter out numbers that are divisible by 3 from a list."
   ]
  },
  {
   "cell_type": "code",
   "execution_count": 10,
   "id": "a1b97dfc-9825-4c9e-9c83-4ff3049b4890",
   "metadata": {},
   "outputs": [
    {
     "data": {
      "text/plain": [
       "[24, 87, 39, 72]"
      ]
     },
     "execution_count": 10,
     "metadata": {},
     "output_type": "execute_result"
    }
   ],
   "source": [
    "nums = [53, 24, 87, 14, 68, 39, 91, 72, 10, 55]\n",
    "\n",
    "list(filter(lambda n:n%3==0, nums))"
   ]
  },
  {
   "cell_type": "markdown",
   "id": "230d7807-4937-4234-918e-4c989497bdba",
   "metadata": {
    "jp-MarkdownHeadingCollapsed": true
   },
   "source": [
    "### Lambda Functions with `reduce`"
   ]
  },
  {
   "cell_type": "markdown",
   "id": "eda47442-a9d9-45a8-a349-3c69b6c3bc23",
   "metadata": {},
   "source": [
    "1. **Sum of List**\n",
    "   - Write a lambda function with `reduce` to compute the sum of a list of numbers."
   ]
  },
  {
   "cell_type": "code",
   "execution_count": 11,
   "id": "d63ce789-f10c-4f98-8143-7b6fb5efcc9a",
   "metadata": {},
   "outputs": [],
   "source": [
    "from functools import reduce"
   ]
  },
  {
   "cell_type": "code",
   "execution_count": 12,
   "id": "d67d215e-f0ce-44bf-8ec4-0b029c3d72e6",
   "metadata": {},
   "outputs": [
    {
     "data": {
      "text/plain": [
       "15"
      ]
     },
     "execution_count": 12,
     "metadata": {},
     "output_type": "execute_result"
    }
   ],
   "source": [
    "reduce(lambda i,j: i+j, [1,2,3,4,5])"
   ]
  },
  {
   "cell_type": "markdown",
   "id": "4b3abeab-2060-41e8-a8bb-e08fc108b2f8",
   "metadata": {},
   "source": [
    "2. **Product of List**\n",
    "   - Write a lambda function with `reduce` to compute the product of a list of numbers."
   ]
  },
  {
   "cell_type": "code",
   "execution_count": 13,
   "id": "e069f564-1736-4fab-898e-771af6f15ed5",
   "metadata": {},
   "outputs": [
    {
     "data": {
      "text/plain": [
       "720"
      ]
     },
     "execution_count": 13,
     "metadata": {},
     "output_type": "execute_result"
    }
   ],
   "source": [
    "reduce(lambda i,j: i*j, [1,3,5,6,8])"
   ]
  },
  {
   "cell_type": "markdown",
   "id": "1b0fd987-6c3e-4d4c-b06e-5ef58fffeb80",
   "metadata": {},
   "source": [
    "3. **Concatenate Strings**\n",
    "   - Write a lambda function with `reduce` to concatenate a list of strings."
   ]
  },
  {
   "cell_type": "code",
   "execution_count": 14,
   "id": "be365fd5-63c3-4e69-80e2-080a7b844530",
   "metadata": {},
   "outputs": [
    {
     "data": {
      "text/plain": [
       "'ilikeblack'"
      ]
     },
     "execution_count": 14,
     "metadata": {},
     "output_type": "execute_result"
    }
   ],
   "source": [
    "reduce(lambda i, j: i+j,['i', 'like', 'black'])"
   ]
  },
  {
   "cell_type": "markdown",
   "id": "7f2b6f91-5a87-48a7-a9dc-cd433ae2681f",
   "metadata": {},
   "source": [
    "4. **Find Maximum**\n",
    "   - Write a lambda function with `reduce` to find the maximum number in a list."
   ]
  },
  {
   "cell_type": "code",
   "execution_count": 15,
   "id": "74e27d78-b4d3-40a5-9914-2e39e96db6b4",
   "metadata": {},
   "outputs": [
    {
     "data": {
      "text/plain": [
       "8"
      ]
     },
     "execution_count": 15,
     "metadata": {},
     "output_type": "execute_result"
    }
   ],
   "source": [
    "reduce(lambda i,j: i if i>j else j, [1,3,2,6,8,4,6,2])\n",
    "# reduce(max, [1,3,2,6,8,4,6,2])"
   ]
  },
  {
   "cell_type": "markdown",
   "id": "63e260a0-8137-41df-a88f-4327a9c89b49",
   "metadata": {},
   "source": [
    "5. **Find Minimum**\n",
    "   - Write a lambda function with `reduce` to find the minimum number in a list."
   ]
  },
  {
   "cell_type": "code",
   "execution_count": 16,
   "id": "a05a7df9-a7cb-4f28-b385-29db7ee3bdcb",
   "metadata": {},
   "outputs": [
    {
     "data": {
      "text/plain": [
       "0"
      ]
     },
     "execution_count": 16,
     "metadata": {},
     "output_type": "execute_result"
    }
   ],
   "source": [
    "reduce(lambda i,j: i if i<j else j, [1,3,2,6,8,0,6,2])"
   ]
  }
 ],
 "metadata": {
  "kernelspec": {
   "display_name": "Python 3 (ipykernel)",
   "language": "python",
   "name": "python3"
  },
  "language_info": {
   "codemirror_mode": {
    "name": "ipython",
    "version": 3
   },
   "file_extension": ".py",
   "mimetype": "text/x-python",
   "name": "python",
   "nbconvert_exporter": "python",
   "pygments_lexer": "ipython3",
   "version": "3.12.3"
  }
 },
 "nbformat": 4,
 "nbformat_minor": 5
}
