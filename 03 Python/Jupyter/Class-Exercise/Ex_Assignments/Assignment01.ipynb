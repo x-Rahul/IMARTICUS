{
 "cells": [
  {
   "cell_type": "markdown",
   "id": "aed4a7f3-6d85-4900-9784-994bfe91af98",
   "metadata": {},
   "source": [
    "Q1. Create a variable “Fname” by assigning your first name and perform the followings:\n",
    "1. print it in upper case\n",
    "2. print it in lower case\n",
    "3. find the total character in your name \n"
   ]
  },
  {
   "cell_type": "code",
   "execution_count": 96,
   "id": "5118168f-b9b7-4c55-9994-faad5ed8e002",
   "metadata": {},
   "outputs": [
    {
     "name": "stdout",
     "output_type": "stream",
     "text": [
      "RAHUL rahul\n"
     ]
    }
   ],
   "source": [
    "Fname = 'Rahul'\n",
    "print(Fname.upper(), Fname.lower())"
   ]
  },
  {
   "cell_type": "markdown",
   "id": "3dad1729-a692-4bc4-b1af-c64e1574df9c",
   "metadata": {},
   "source": [
    "Q2 Create two objects “Fname” and “Lname” by assigning your first name and last name. Join them together with a space between and display the name and the length of whole name."
   ]
  },
  {
   "cell_type": "code",
   "execution_count": 97,
   "id": "4114247c-1f4f-4c18-afd4-2931d4a9730c",
   "metadata": {},
   "outputs": [
    {
     "data": {
      "text/plain": [
       "'Rahul Meena'"
      ]
     },
     "execution_count": 97,
     "metadata": {},
     "output_type": "execute_result"
    }
   ],
   "source": [
    "Fname = \"Rahul\"\n",
    "Lname = \"Meena\"\n",
    "\n",
    "# Fname + \" \" + Lname\n",
    "\" \".join([Fname, Lname])"
   ]
  },
  {
   "cell_type": "markdown",
   "id": "81687e07-7ddc-4581-b7be-54bbb6d853d3",
   "metadata": {},
   "source": [
    "Q3. Values assigned to different variables are,</br>\n",
    "A = 10, \n",
    "B = 20,\n",
    "C = 40,\n",
    "D = 4,\n",
    "E = 5\n",
    "</br>\n",
    "Evaluate each of the following Python expression. \n",
    "1. (A + B) * C \n",
    "2. A + (B - E)\n",
    "3. A*B/E \n",
    "4. C/B//5 \n",
    "5. C+(A*E)/(B-A)\n"
   ]
  },
  {
   "cell_type": "code",
   "execution_count": 98,
   "id": "c792ab85-93fd-480a-a370-f6285058a2b3",
   "metadata": {},
   "outputs": [
    {
     "name": "stdout",
     "output_type": "stream",
     "text": [
      "1200 25 40.0 0.4 45.0\n"
     ]
    }
   ],
   "source": [
    "A,B,C,D,E = 10,20,40,4,5\n",
    "print((A + B) * C, A + (B - E), A*B/E, C/B/5, C+(A*E)/(B-A))"
   ]
  },
  {
   "cell_type": "markdown",
   "id": "d490ab05-16b8-4962-b539-a0f05253c932",
   "metadata": {},
   "source": [
    "Q4. Evaluate the expression,</br>\n",
    " (X + Y – abs(X – Y))//2, </br>\n",
    "when X = 4 and Y = 6 X = 5 and Y = 4\n"
   ]
  },
  {
   "cell_type": "code",
   "execution_count": 99,
   "id": "02b4289a-edc2-42f9-a7c8-fb5ba6f6d817",
   "metadata": {},
   "outputs": [
    {
     "data": {
      "text/plain": [
       "4"
      ]
     },
     "execution_count": 99,
     "metadata": {},
     "output_type": "execute_result"
    }
   ],
   "source": [
    "# X, Y = 4, 6\n",
    "X, Y = 5, 4\n",
    "(X + Y - abs(X - Y))//2"
   ]
  },
  {
   "cell_type": "markdown",
   "id": "af629a24-b791-4115-86e8-68cf0c31418f",
   "metadata": {},
   "source": [
    "Q5. Consider Str1, Str2, Str3, Str4 - the four different strings given as </br>\n",
    "Str1=“Welcome to Python Programming” </br>\n",
    "Str2 =”Welcome to Python Programming” </br>\n",
    "Str3=Str1 </br>\n",
    "Str4=”to” \n",
    "What are the results of the following expressions? \n",
    "1. len(Str1) \t\n",
    "2. Str1[5:10]\n",
    "3. Str1[-7] \n",
    "4. Str1.count(‘m’) \n",
    "5. Str1[-3-1] \n",
    "7. Str3==Str1 \n",
    "8. Str1+” “+Str1\n"
   ]
  },
  {
   "cell_type": "code",
   "execution_count": 100,
   "id": "4aca08dd-d4a4-45be-a6e0-e694f3bee744",
   "metadata": {},
   "outputs": [
    {
     "name": "stdout",
     "output_type": "stream",
     "text": [
      "29  |  me to  |  r  |  3 m  |  True  |  Welcome to Python Programming Welcome to Python Programming\n"
     ]
    }
   ],
   "source": [
    "Str1= \"Welcome to Python Programming\"\n",
    "Str2 =\"Welcome to Python Programming\"\n",
    "Str3=Str1\n",
    "Str4=\"to\"\n",
    "print(len(Str1),\" | \", \n",
    "      Str1[5:10],\" | \" , \n",
    "      Str1[-7], \" | \" ,\n",
    "      Str1.count('m'), \n",
    "      Str1[-3-1],\" | \", \n",
    "      Str3==Str1, \" | \", \n",
    "      Str1+\" \"+Str1)"
   ]
  },
  {
   "cell_type": "markdown",
   "id": "748f8d56-b40c-4762-8e43-3177f1cede9c",
   "metadata": {},
   "source": [
    "Q6. What is swapcase() function in the Python? Explain "
   ]
  },
  {
   "cell_type": "code",
   "execution_count": 101,
   "id": "8db8ffcf-8226-4f72-8520-736ed8a31eaf",
   "metadata": {},
   "outputs": [
    {
     "data": {
      "text/plain": [
       "'hElLo'"
      ]
     },
     "execution_count": 101,
     "metadata": {},
     "output_type": "execute_result"
    }
   ],
   "source": [
    "string = \"HeLlO\"\n",
    "string.swapcase()"
   ]
  },
  {
   "cell_type": "markdown",
   "id": "ca8d247b-ce81-4325-971d-1073005adbda",
   "metadata": {},
   "source": [
    "Q7. How to remove whitespaces from a string in Python ?"
   ]
  },
  {
   "cell_type": "code",
   "execution_count": 102,
   "id": "482f411d-78a6-4ac8-9a69-f3db687ce0ea",
   "metadata": {},
   "outputs": [
    {
     "name": "stdout",
     "output_type": "stream",
     "text": [
      "Todayisagoodday\n",
      "Today    is   a good    day   \n",
      "  Today    is   a good    day\n",
      "Today    is   a good    day\n"
     ]
    }
   ],
   "source": [
    "txt = \"  Today    is   a good    day   \"\n",
    "\n",
    "print(txt.replace(\" \", \"\"))\n",
    "print(txt.lstrip())\n",
    "print(txt.rstrip())\n",
    "print(txt.strip())\n",
    "\n",
    "# x = \"\"\n",
    "# for word in txt.split():\n",
    "#     x = \" \".join([x, word])\n",
    "# x.lstrip()"
   ]
  },
  {
   "cell_type": "markdown",
   "id": "95262b35-d095-4ed6-9fc5-353c1f7289f6",
   "metadata": {},
   "source": [
    "Q8. Create a string made of the first, middle and last character of your name."
   ]
  },
  {
   "cell_type": "code",
   "execution_count": null,
   "id": "9ca49a79-11d3-496d-b1ae-cf992688a0a6",
   "metadata": {},
   "outputs": [],
   "source": [
    "fname, mname,lname = input().split()\n",
    "string = fname+mname+lname\n",
    "print(string)"
   ]
  },
  {
   "cell_type": "markdown",
   "id": "d1ed3bc7-2135-4b9a-9041-ff59227720b1",
   "metadata": {},
   "source": [
    "Q9 . Write a program to find all occurrences of “USA” in a given string ignoring the case.</br>\n",
    "str1 = \"Welcome to USA. usa awesome, isn't it?\"\n"
   ]
  },
  {
   "cell_type": "code",
   "execution_count": 104,
   "id": "1c7e8732-2299-4076-8227-29a77b3daafd",
   "metadata": {},
   "outputs": [
    {
     "name": "stdout",
     "output_type": "stream",
     "text": [
      "1\n"
     ]
    }
   ],
   "source": [
    "## case specific\n",
    "str1 = \"Welcome to USA. usa awesome, isn't it?\"\n",
    "\n",
    "word = 'USA'\n",
    "count = 0\n",
    "i = 0\n",
    "word_length = len(word)\n",
    "\n",
    "while i <= len(str1) - word_length:\n",
    "    if str1[i:i+word_length] == word:\n",
    "        count += 1\n",
    "        i += word_length \n",
    "    else: i += 1  \n",
    "\n",
    "print(count)"
   ]
  },
  {
   "cell_type": "code",
   "execution_count": 105,
   "id": "38e1d6be-4db0-4dc2-a383-1bf714de68cc",
   "metadata": {},
   "outputs": [
    {
     "name": "stdout",
     "output_type": "stream",
     "text": [
      "2\n"
     ]
    }
   ],
   "source": [
    "# Method II --Better\n",
    "str1 = \"Welcome to USA. usa awesome, isn't it?\"\n",
    "word = 'USA'\n",
    "word_lower = word.lower()  \n",
    "word_length = len(word)\n",
    "count = 0\n",
    "search_idx = 0\n",
    "\n",
    "str1_lower = str1.lower()\n",
    "\n",
    "while search_idx < len(str1_lower):\n",
    "    pos = str1_lower.find(word_lower, search_idx)\n",
    "    if pos == -1:\n",
    "        break\n",
    "    else:\n",
    "        count += 1\n",
    "        search_idx = pos + word_length\n",
    "\n",
    "print(count)"
   ]
  },
  {
   "cell_type": "code",
   "execution_count": 106,
   "id": "913a9982-ac01-489f-bf74-92bea94ad765",
   "metadata": {},
   "outputs": [
    {
     "name": "stdout",
     "output_type": "stream",
     "text": [
      "Occurrences of \"USA\" (case insensitive): [11, 16]\n"
     ]
    }
   ],
   "source": [
    "## CHAT GPT-----\n",
    "def find_usa_occurrences(input_str):\n",
    "    \n",
    "    input_str_lower = input_str.lower()\n",
    "    search_term = \"usa\"\n",
    "    occurrences = []\n",
    "    index = input_str_lower.find(search_term)\n",
    "    \n",
    "    while index != -1:\n",
    "        # If found, record the starting index of the occurrence\n",
    "        occurrences.append(index)\n",
    "        \n",
    "        # Move index forward to search for the next occurrence\n",
    "        index = input_str_lower.find(search_term, index + 1)\n",
    "    \n",
    "    return occurrences\n",
    "\n",
    "str1 = \"Welcome to USA. usa awesome, isn't it?\"\n",
    "results = find_usa_occurrences(str1)\n",
    "print(f'Occurrences of \"USA\" (case insensitive): {results}')"
   ]
  },
  {
   "cell_type": "markdown",
   "id": "f7301718-195c-407e-bc86-fa1d7904ca96",
   "metadata": {},
   "source": [
    "Q10 . What would the out of the following.</br>\n",
    "X=”Hello”</br>\n",
    "X[::-1]"
   ]
  },
  {
   "cell_type": "code",
   "execution_count": 107,
   "id": "5ad31074-d57b-423c-9758-395571950570",
   "metadata": {},
   "outputs": [
    {
     "data": {
      "text/plain": [
       "'olleH'"
      ]
     },
     "execution_count": 107,
     "metadata": {},
     "output_type": "execute_result"
    }
   ],
   "source": [
    "X=\"Hello\"\n",
    "X[::-1]"
   ]
  },
  {
   "cell_type": "code",
   "execution_count": 108,
   "id": "27af351d-2459-4f19-ab58-ae48a80fb22e",
   "metadata": {},
   "outputs": [
    {
     "data": {
      "text/plain": [
       "\u001b[0;31mSignature:\u001b[0m \u001b[0msorted\u001b[0m\u001b[0;34m(\u001b[0m\u001b[0miterable\u001b[0m\u001b[0;34m,\u001b[0m \u001b[0;34m/\u001b[0m\u001b[0;34m,\u001b[0m \u001b[0;34m*\u001b[0m\u001b[0;34m,\u001b[0m \u001b[0mkey\u001b[0m\u001b[0;34m=\u001b[0m\u001b[0;32mNone\u001b[0m\u001b[0;34m,\u001b[0m \u001b[0mreverse\u001b[0m\u001b[0;34m=\u001b[0m\u001b[0;32mFalse\u001b[0m\u001b[0;34m)\u001b[0m\u001b[0;34m\u001b[0m\u001b[0;34m\u001b[0m\u001b[0m\n",
       "\u001b[0;31mDocstring:\u001b[0m\n",
       "Return a new list containing all items from the iterable in ascending order.\n",
       "\n",
       "A custom key function can be supplied to customize the sort order, and the\n",
       "reverse flag can be set to request the result in descending order.\n",
       "\u001b[0;31mType:\u001b[0m      builtin_function_or_method"
      ]
     },
     "metadata": {},
     "output_type": "display_data"
    }
   ],
   "source": [
    "?sorted"
   ]
  },
  {
   "cell_type": "code",
   "execution_count": null,
   "id": "181aee12-0848-4013-ad66-ff85aa156a3f",
   "metadata": {},
   "outputs": [],
   "source": []
  }
 ],
 "metadata": {
  "kernelspec": {
   "display_name": "Python 3 (ipykernel)",
   "language": "python",
   "name": "python3"
  },
  "language_info": {
   "codemirror_mode": {
    "name": "ipython",
    "version": 3
   },
   "file_extension": ".py",
   "mimetype": "text/x-python",
   "name": "python",
   "nbconvert_exporter": "python",
   "pygments_lexer": "ipython3",
   "version": "3.11.4"
  }
 },
 "nbformat": 4,
 "nbformat_minor": 5
}
