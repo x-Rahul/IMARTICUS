{
 "cells": [
  {
   "cell_type": "markdown",
   "id": "e4b97119-2928-430d-862b-ff32824daee4",
   "metadata": {},
   "source": [
    "1. \tWhat will be the output of the following expression if it is executed in Python interactive mode?\n",
    "\n",
    "\n",
    "    16 % 3\n",
    "\n",
    "\n",
    "    a. 5\t\t\t b. 1\n",
    "\n",
    "\n",
    "    c. 0\t\t\t d. -1"
   ]
  },
  {
   "cell_type": "code",
   "execution_count": 58,
   "id": "477ab875-0c8e-45e7-8bd2-6fd9ecca0374",
   "metadata": {},
   "outputs": [
    {
     "data": {
      "text/plain": [
       "1"
      ]
     },
     "execution_count": 58,
     "metadata": {},
     "output_type": "execute_result"
    }
   ],
   "source": [
    "16 % 3"
   ]
  },
  {
   "cell_type": "markdown",
   "id": "32f6a338-c4b0-4076-9df2-822e5f27f086",
   "metadata": {},
   "source": [
    "2. \tWhat will be the output of the following program?\n",
    "\n",
    "\n",
    "    X=5\n",
    "\n",
    "\n",
    "    Y=5\n",
    "\n",
    "\n",
    "    print(X/Y)\n",
    "\n",
    "\n",
    "    a. 1 \t\t\tb. 1.0\n",
    "\n",
    "\n",
    "    c. 0.1 \t\t\td. None of the above"
   ]
  },
  {
   "cell_type": "code",
   "execution_count": 59,
   "id": "65ab9d5a-00a0-422e-8314-d4ddcf6c0d68",
   "metadata": {},
   "outputs": [
    {
     "name": "stdout",
     "output_type": "stream",
     "text": [
      "1.0\n"
     ]
    }
   ],
   "source": [
    "X,Y = 5, 5\n",
    "print(X/Y)"
   ]
  },
  {
   "cell_type": "markdown",
   "id": "804d768b-5e5f-4637-95ca-7f3b82c4064e",
   "metadata": {},
   "source": [
    "3.\tWhat will be the output of the following statement? \n",
    "\n",
    "    print(15 + 20 / 5 + 3 * 2 - 1) \n",
    "\n",
    "    a. 19.0 \t\t\tb. 19 \n",
    "\n",
    "    c. 12.0 \t\t\td. 24.0"
   ]
  },
  {
   "cell_type": "code",
   "execution_count": 60,
   "id": "07dd6878-cc47-4443-b8aa-322f2015c03f",
   "metadata": {},
   "outputs": [
    {
     "name": "stdout",
     "output_type": "stream",
     "text": [
      "24.0\n"
     ]
    }
   ],
   "source": [
    "print(15 + 20 / 5 + 3 * 2 - 1)"
   ]
  },
  {
   "cell_type": "markdown",
   "id": "f0f0a257-f6f9-4976-a323-d4664b6b9aed",
   "metadata": {},
   "source": [
    "4.\tWhat will be the output of the following program?\n",
    "\n",
    "    A=7 \n",
    "    B=4 \n",
    "    C=2\n",
    "    \n",
    "    print(a//b/c) \n",
    "    \n",
    "    a. 0.85 \t\t\tb. 0\n",
    "    \n",
    "    c. 0.5 \t\t\td. 0.0\n"
   ]
  },
  {
   "cell_type": "markdown",
   "id": "07d3bf5e-59ae-4db0-bc04-9853d359ec97",
   "metadata": {},
   "source": [
    "5.\tWhich one of the following operators belongs to floor division? \n",
    "\n",
    "    a. % \t\t\tb. / \n",
    "    \n",
    "    c. // \t\t\td. None of the above"
   ]
  },
  {
   "cell_type": "markdown",
   "id": "1f996fa3-48ed-43de-9080-678120b1d684",
   "metadata": {},
   "source": [
    "//"
   ]
  },
  {
   "cell_type": "markdown",
   "id": "9cf3e3d9-dbce-44ae-a4da-cc892971ac87",
   "metadata": {},
   "source": [
    "6. \tWhat will be the output of the following program? \n",
    "\n",
    "    X=4.6 \n",
    "    Y=15 \n",
    "    Z=X//Y \n",
    "    \n",
    "    print(Z) \n",
    "    \n",
    "    a. 0 \t\t\tb. 0.0 \n",
    "    \n",
    "    c. 0.30 \t\t\td. None of the above"
   ]
  },
  {
   "cell_type": "code",
   "execution_count": 66,
   "id": "7dcec6d9-b5fa-4de3-897d-f5eca11ecd1e",
   "metadata": {},
   "outputs": [
    {
     "name": "stdout",
     "output_type": "stream",
     "text": [
      "0.0\n"
     ]
    }
   ],
   "source": [
    "X=4.6 \n",
    "Y=15 \n",
    "Z=X//Y \n",
    "print(Z)"
   ]
  },
  {
   "cell_type": "markdown",
   "id": "5c7391dc-de30-4e62-943c-0cbb05b26644",
   "metadata": {},
   "source": [
    "7.\tIf str1='Hari', what is the output of print(str1[4]) \n",
    "\n",
    "    a. i \t\t\tb. \\0 \n",
    "    \n",
    "    c. Exception is raised \td. None of the above\n"
   ]
  },
  {
   "cell_type": "code",
   "execution_count": 67,
   "id": "682588ac-e8ac-4b3a-aa5e-b2360ae7b651",
   "metadata": {},
   "outputs": [
    {
     "ename": "IndexError",
     "evalue": "string index out of range",
     "output_type": "error",
     "traceback": [
      "\u001b[0;31m---------------------------------------------------------------------------\u001b[0m",
      "\u001b[0;31mIndexError\u001b[0m                                Traceback (most recent call last)",
      "Cell \u001b[0;32mIn[67], line 2\u001b[0m\n\u001b[1;32m      1\u001b[0m str1 \u001b[38;5;241m=\u001b[39m \u001b[38;5;124m'\u001b[39m\u001b[38;5;124mHari\u001b[39m\u001b[38;5;124m'\u001b[39m\n\u001b[0;32m----> 2\u001b[0m \u001b[38;5;28mprint\u001b[39m(\u001b[43mstr1\u001b[49m\u001b[43m[\u001b[49m\u001b[38;5;241;43m4\u001b[39;49m\u001b[43m]\u001b[49m)\n",
      "\u001b[0;31mIndexError\u001b[0m: string index out of range"
     ]
    }
   ],
   "source": [
    "str1 = 'Hari'\n",
    "print(str1[4])"
   ]
  },
  {
   "cell_type": "markdown",
   "id": "d14727f3-2f40-4d5b-9fdd-46a4d8bdb0b4",
   "metadata": {},
   "source": [
    "8. \tWhat is the output of \"Hari\"==\"hari\"\n",
    "\n",
    "     a. True \t\tb. False \n",
    "    \n",
    "     c. An exception is raised\n"
   ]
  },
  {
   "cell_type": "code",
   "execution_count": 69,
   "id": "f08d2d4c-bf64-4198-9262-de2ce0f595a7",
   "metadata": {},
   "outputs": [
    {
     "data": {
      "text/plain": [
       "False"
      ]
     },
     "execution_count": 69,
     "metadata": {},
     "output_type": "execute_result"
    }
   ],
   "source": [
    "\"Hari\"==\"hari\""
   ]
  },
  {
   "cell_type": "markdown",
   "id": "fcac8ed8-b964-48ba-9a20-d713282f9c50",
   "metadata": {},
   "source": [
    "9.\tWhat is the output of '567'>'989' \n",
    "\n",
    "    a. True\t\t\t b. False \n",
    "    \n",
    "    c. An exception is raised d. None of the above"
   ]
  },
  {
   "cell_type": "code",
   "execution_count": 71,
   "id": "4b314053-ab66-44fc-9460-b9c3a6f17527",
   "metadata": {},
   "outputs": [
    {
     "data": {
      "text/plain": [
       "False"
      ]
     },
     "execution_count": 71,
     "metadata": {},
     "output_type": "execute_result"
    }
   ],
   "source": [
    "'567'>'989' # 5<9 ascii"
   ]
  },
  {
   "cell_type": "markdown",
   "id": "f1a0f914-7b6c-430b-81be-15d6da918884",
   "metadata": {},
   "source": [
    "10.\tWhat is the output of 3*'A' \n",
    "\n",
    "    (a) '3A' \t\t\t(b) Character corresponding to the ascii value 65 × 3? \n",
    "    \n",
    "    (c) 'AAA' \t\t(d) None of the above"
   ]
  },
  {
   "cell_type": "code",
   "execution_count": 73,
   "id": "19bd4964-f815-4f94-9e96-d6615a547407",
   "metadata": {},
   "outputs": [
    {
     "data": {
      "text/plain": [
       "'AAA'"
      ]
     },
     "execution_count": 73,
     "metadata": {},
     "output_type": "execute_result"
    }
   ],
   "source": [
    "3*'A'"
   ]
  },
  {
   "cell_type": "markdown",
   "id": "442c193d-2fa9-4b1d-a700-8ff42ef21c9e",
   "metadata": {},
   "source": [
    "11.  Write a program with conditional if to find the bigger number in two x=10, y=12."
   ]
  },
  {
   "cell_type": "code",
   "execution_count": 149,
   "id": "bc050333-50a3-45a7-825b-13d51fb2e77e",
   "metadata": {},
   "outputs": [
    {
     "name": "stdout",
     "output_type": "stream",
     "text": [
      "12\n"
     ]
    }
   ],
   "source": [
    "x,y = 10, 12\n",
    "\n",
    "if x>y: print(x)\n",
    "else: print(y)"
   ]
  },
  {
   "cell_type": "markdown",
   "id": "c77d5213-d467-4b7c-add2-4dcae4b7cf6b",
   "metadata": {},
   "source": [
    "12. Create the following function in python and check for x=3 and x=1.5</br>\n",
    "\n",
    "    f(x) = x^2 + 5x + 3, if x>2 </br>\n",
    "    f(x) = x+3, if x<=2"
   ]
  },
  {
   "cell_type": "code",
   "execution_count": 150,
   "id": "a7b3c55f-6fd6-484d-b8ae-6d2cfbe02f87",
   "metadata": {},
   "outputs": [],
   "source": [
    "def f(x):\n",
    "    if x>2: return (x**2 + 5*x + 3)\n",
    "    return (x+3)"
   ]
  },
  {
   "cell_type": "code",
   "execution_count": 151,
   "id": "8e5f1129-4c21-41c5-874c-5d756019102a",
   "metadata": {},
   "outputs": [
    {
     "name": "stdout",
     "output_type": "stream",
     "text": [
      "27 4.5\n"
     ]
    }
   ],
   "source": [
    "print(f(3), f(1.5))"
   ]
  },
  {
   "cell_type": "code",
   "execution_count": 152,
   "id": "c3652a10-0a93-4109-b1e2-1f784eb0f744",
   "metadata": {},
   "outputs": [],
   "source": [
    "def f(x):\n",
    "    return (x+3) if x<=2 else (x**2 + 5*x + 3)"
   ]
  },
  {
   "cell_type": "code",
   "execution_count": 153,
   "id": "12fde8e2-2a11-46a2-95a3-9c869f8e9f9c",
   "metadata": {},
   "outputs": [
    {
     "name": "stdout",
     "output_type": "stream",
     "text": [
      "27 4.5\n"
     ]
    }
   ],
   "source": [
    "print(f(3), f(1.5))"
   ]
  },
  {
   "cell_type": "markdown",
   "id": "8d7ae65a-e567-447d-83fa-6f0aa3fd2b9e",
   "metadata": {},
   "source": [
    "13.  Find the factor of x=45. \n",
    "     (Example for Factors; all those number which can divide 12, i.e. 1,2,3,4,6,12)\n"
   ]
  },
  {
   "cell_type": "code",
   "execution_count": 187,
   "id": "cfec141a-6444-4695-a26e-7c52daf4f4b3",
   "metadata": {},
   "outputs": [],
   "source": [
    "# Method I\n",
    "def factors(x):\n",
    "    return [i for i in range(1,x+1) if x%i==0]"
   ]
  },
  {
   "cell_type": "code",
   "execution_count": 188,
   "id": "fe73e69a-34fb-433f-8ce8-efdee3c2a0e7",
   "metadata": {},
   "outputs": [
    {
     "data": {
      "text/plain": [
       "[1, 3, 5, 9, 15, 45]"
      ]
     },
     "execution_count": 188,
     "metadata": {},
     "output_type": "execute_result"
    }
   ],
   "source": [
    "factors(45)"
   ]
  },
  {
   "cell_type": "code",
   "execution_count": 189,
   "id": "32bb4f9d-7af5-4d69-bc38-1c1cd72e0fc6",
   "metadata": {},
   "outputs": [],
   "source": [
    "# Method II\n",
    "import math\n",
    "def factors(x):\n",
    "    fact = []\n",
    "    for i in range(1,int(math.sqrt(x))+1):\n",
    "        if x%i == 0:\n",
    "            fact.append(i)\n",
    "            if x//i != i: fact.append(x//i)\n",
    "    return fact"
   ]
  },
  {
   "cell_type": "code",
   "execution_count": 183,
   "id": "ed4fc986-1431-4585-b042-b62c862f4f24",
   "metadata": {},
   "outputs": [
    {
     "data": {
      "text/plain": [
       "[1, 45, 3, 15, 5, 9]"
      ]
     },
     "execution_count": 183,
     "metadata": {},
     "output_type": "execute_result"
    }
   ],
   "source": [
    "factors(45)"
   ]
  },
  {
   "cell_type": "markdown",
   "id": "3478405d-52f7-4bdf-8f0f-05a712481603",
   "metadata": {},
   "source": [
    "14. Ask the user to enter their name and then display their name three times."
   ]
  },
  {
   "cell_type": "code",
   "execution_count": 195,
   "id": "4c20e120-204b-4396-a88d-faaae1e14f88",
   "metadata": {},
   "outputs": [
    {
     "name": "stdin",
     "output_type": "stream",
     "text": [
      "Enter your name:  dog\n"
     ]
    },
    {
     "name": "stdout",
     "output_type": "stream",
     "text": [
      "dog\n",
      "dog\n",
      "dog\n"
     ]
    }
   ],
   "source": [
    "ip = input(\"Enter your name: \")\n",
    "for i in range(3):\n",
    "    print(ip)"
   ]
  },
  {
   "cell_type": "markdown",
   "id": "afbd8a7a-a436-4a12-8aa9-48faceb47402",
   "metadata": {},
   "source": [
    "15. Write a program to display the numbers of a series 1, 4, 9, 16, 25,…625 by using for loop.\n",
    "\n",
    "324\n",
    "361\n",
    "400\n",
    "441\n",
    "484\n",
    "529\n",
    "576\n",
    "625\n"
   ]
  },
  {
   "cell_type": "code",
   "execution_count": 221,
   "id": "4a52a279-a185-472f-a7f8-04442e17f196",
   "metadata": {},
   "outputs": [
    {
     "data": {
      "text/plain": [
       "[324, 361, 400, 441, 484, 529, 576, 625]"
      ]
     },
     "execution_count": 221,
     "metadata": {},
     "output_type": "execute_result"
    }
   ],
   "source": [
    "import math\n",
    "x = 625\n",
    "[i**2 for i in range(1, int(math.sqrt(x))+1) if i>=18]"
   ]
  },
  {
   "cell_type": "markdown",
   "id": "c5412a9f-93ab-4d89-a937-c592d187c667",
   "metadata": {},
   "source": [
    "16.  create two list using for loop where one list contains only positive elements and second list contains only negatives from the below.</br>[0,5,-3,2,4,-6,4,3,-5,3,6,-7,5,35,6,-7,8,7,6,5,-7,8,-19,5,43,45,-34,5,67,566,3,3,4,6,7,84,64,4]"
   ]
  },
  {
   "cell_type": "code",
   "execution_count": 237,
   "id": "24672b3e-d0d5-4b0c-a495-ff7b04b2f595",
   "metadata": {},
   "outputs": [],
   "source": [
    "nums = [0,5,-3,2,4,-6,4,3,-5,3,6,-7,5,35,6,-7,8,7,6,5,-7,8,-19,5,43,45,-34,5,67,566,3,3,4,6,7,84,64,4]\n",
    "\n",
    "pos, neg = [n for n in nums if n>0], [n for n in nums if n<0]"
   ]
  },
  {
   "cell_type": "code",
   "execution_count": 238,
   "id": "792271ba-5916-4472-9289-c45bfadeb8d6",
   "metadata": {},
   "outputs": [
    {
     "name": "stdout",
     "output_type": "stream",
     "text": [
      "Positive: [5, 2, 4, 4, 3, 3, 6, 5, 35, 6, 8, 7, 6, 5, 8, 5, 43, 45, 5, 67, 566, 3, 3, 4, 6, 7, 84, 64, 4] '\n",
      "' Negative: [-3, -6, -5, -7, -7, -7, -19, -34]\n"
     ]
    }
   ],
   "source": [
    "print(f\"Positive: {pos} '\\n' Negative: {neg}\")"
   ]
  },
  {
   "cell_type": "code",
   "execution_count": null,
   "id": "edac245b-b45e-480a-916e-ff30e21b9ff5",
   "metadata": {},
   "outputs": [],
   "source": []
  }
 ],
 "metadata": {
  "kernelspec": {
   "display_name": "Python 3 (ipykernel)",
   "language": "python",
   "name": "python3"
  },
  "language_info": {
   "codemirror_mode": {
    "name": "ipython",
    "version": 3
   },
   "file_extension": ".py",
   "mimetype": "text/x-python",
   "name": "python",
   "nbconvert_exporter": "python",
   "pygments_lexer": "ipython3",
   "version": "3.11.4"
  }
 },
 "nbformat": 4,
 "nbformat_minor": 5
}
