{
 "cells": [
  {
   "cell_type": "markdown",
   "id": "computational-dallas",
   "metadata": {},
   "source": [
    "Q1 Ask for the user’s first name and display the output message"
   ]
  },
  {
   "cell_type": "code",
   "execution_count": 18,
   "id": "endless-mambo",
   "metadata": {},
   "outputs": [
    {
     "name": "stdin",
     "output_type": "stream",
     "text": [
      "Enter your first name:  Rahul\n"
     ]
    },
    {
     "name": "stdout",
     "output_type": "stream",
     "text": [
      "Rahul\n"
     ]
    }
   ],
   "source": [
    "# your answer\n",
    "fname = input(\"Enter your first name: \")\n",
    "print(fname)"
   ]
  },
  {
   "cell_type": "markdown",
   "id": "rapid-sierra",
   "metadata": {},
   "source": [
    "Q2 Ask for the user’s first name and then ask for their surname and display the output message "
   ]
  },
  {
   "cell_type": "code",
   "execution_count": 21,
   "id": "phantom-filling",
   "metadata": {},
   "outputs": [
    {
     "name": "stdin",
     "output_type": "stream",
     "text": [
      "Enter your first name:  Rahul\n",
      "Enter your last name:  Meena\n"
     ]
    },
    {
     "name": "stdout",
     "output_type": "stream",
     "text": [
      "Rahul Meena\n"
     ]
    }
   ],
   "source": [
    "# your answer\n",
    "fname = input(\"Enter your first name: \")\n",
    "lname = input(\"Enter your last name: \")\n",
    "\n",
    "fullname = fname+' '+lname\n",
    "print(fullname)"
   ]
  },
  {
   "cell_type": "markdown",
   "id": "nuclear-finish",
   "metadata": {},
   "source": [
    "Q3 Write code that will display the joke “What do you call a bear with no \n",
    "teeth?” and on the next line display the answer “A gummy bear!” Try to \n",
    "create it using only one line of code."
   ]
  },
  {
   "cell_type": "code",
   "execution_count": 24,
   "id": "drawn-verse",
   "metadata": {},
   "outputs": [
    {
     "name": "stdout",
     "output_type": "stream",
     "text": [
      "What do you call a bear with no teeth?\n",
      "A gummy bear!\n"
     ]
    }
   ],
   "source": [
    "# your answer\n",
    "print(\"What do you call a bear with no teeth?\\nA gummy bear!\")"
   ]
  },
  {
   "cell_type": "markdown",
   "id": "visible-synthetic",
   "metadata": {},
   "source": [
    "Q4 Ask the user to enter \n",
    "two numbers. Add \n",
    "them together and \n",
    "display the answer as"
   ]
  },
  {
   "cell_type": "code",
   "execution_count": 30,
   "id": "compound-nightmare",
   "metadata": {},
   "outputs": [
    {
     "name": "stdin",
     "output_type": "stream",
     "text": [
      "Enter two numbers:  1 2\n"
     ]
    },
    {
     "name": "stdout",
     "output_type": "stream",
     "text": [
      "3\n"
     ]
    }
   ],
   "source": [
    "# your answer \n",
    "a,b = input(\"Enter two numbers: \").split()\n",
    "a = int(a)\n",
    "b = int(b)\n",
    "print(a+b)"
   ]
  },
  {
   "cell_type": "code",
   "execution_count": 31,
   "id": "89fe283e-364d-406a-84d4-a55a4b2ad832",
   "metadata": {},
   "outputs": [
    {
     "name": "stdin",
     "output_type": "stream",
     "text": [
      "Enter two numbers:  1 2\n"
     ]
    },
    {
     "name": "stdout",
     "output_type": "stream",
     "text": [
      "3\n"
     ]
    }
   ],
   "source": [
    "a, b = map(int, input(\"Enter two numbers: \").split())\n",
    "print(a + b)"
   ]
  },
  {
   "cell_type": "markdown",
   "id": "wrapped-sodium",
   "metadata": {},
   "source": [
    "Q5 Ask the user to enter three \n",
    "numbers. Add together the first \n",
    "two numbers and then multiply \n",
    "this total by the third. Display the \n",
    "answer as ***The answer is \n",
    "[answer].*** "
   ]
  },
  {
   "cell_type": "code",
   "execution_count": 35,
   "id": "metropolitan-pregnancy",
   "metadata": {},
   "outputs": [
    {
     "name": "stdin",
     "output_type": "stream",
     "text": [
      "Enter 3 numbers:  1 2 3\n"
     ]
    },
    {
     "name": "stdout",
     "output_type": "stream",
     "text": [
      "9\n"
     ]
    }
   ],
   "source": [
    "# your answer\n",
    "a,b,c = input(\"Enter 3 numbers: \").split()\n",
    "a,b,c = map(int, [a,b,c]) # convert string to int data type\n",
    "\n",
    "print((a+b)*c)"
   ]
  },
  {
   "cell_type": "markdown",
   "id": "false-commons",
   "metadata": {},
   "source": [
    "Q6 Ask how many slices \n",
    "of pizza the user \n",
    "started with and ask \n",
    "how many slices \n",
    "they have eaten. \n",
    "Work out how many \n",
    "slices they have left \n",
    "and display the \n",
    "answer in a user\u0002friendly format. "
   ]
  },
  {
   "cell_type": "code",
   "execution_count": 36,
   "id": "egyptian-validity",
   "metadata": {},
   "outputs": [
    {
     "name": "stdin",
     "output_type": "stream",
     "text": [
      "Enter the number of slices of pizza at start:  9\n",
      "How many slices were eaten:  3\n"
     ]
    },
    {
     "name": "stdout",
     "output_type": "stream",
     "text": [
      "Number of slices left: 6\n"
     ]
    }
   ],
   "source": [
    "# your answer\n",
    "pizza_slices = int(input(\"Enter the number of slices of pizza at start: \"))\n",
    "slices_eaten = int(input(\"How many slices were eaten: \"))\n",
    "\n",
    "print(f\"Number of slices left: {pizza_slices - slices_eaten}\")"
   ]
  },
  {
   "cell_type": "markdown",
   "id": "cultural-morris",
   "metadata": {},
   "source": [
    "Q7 Ask for the total price of the bill, then ask how \n",
    "many diners there are. Divide the total bill by the \n",
    "number of diners and show how much each \n",
    "person must pay. "
   ]
  },
  {
   "cell_type": "code",
   "execution_count": 38,
   "id": "regular-raleigh",
   "metadata": {},
   "outputs": [
    {
     "name": "stdin",
     "output_type": "stream",
     "text": [
      "Enter Total bill amount:  500\n",
      "No. of diners?:  5\n"
     ]
    },
    {
     "name": "stdout",
     "output_type": "stream",
     "text": [
      "Each person pay: 100.0\n"
     ]
    }
   ],
   "source": [
    "# your answer\n",
    "bill_amt = float(input(\"Enter Total bill amount: \"))\n",
    "diners = int(input(\"No. of diners?: \"))\n",
    "pay_per_person = bill_amt/diners\n",
    "\n",
    "print(f\"Each person pay: {pay_per_person}\")"
   ]
  },
  {
   "cell_type": "markdown",
   "id": "fuzzy-fifty",
   "metadata": {},
   "source": [
    "Q9 Write a program \n",
    "that will ask for a \n",
    "number of days \n",
    "and then will \n",
    "show how many \n",
    "hours, minutes \n",
    "and seconds are \n",
    "in that number of \n",
    "days. "
   ]
  },
  {
   "cell_type": "code",
   "execution_count": 42,
   "id": "stopped-philosophy",
   "metadata": {},
   "outputs": [
    {
     "name": "stdin",
     "output_type": "stream",
     "text": [
      "Enter number of days:  2\n"
     ]
    },
    {
     "name": "stdout",
     "output_type": "stream",
     "text": [
      "There are 48hrs, 2880 mins, 172800 secs in 2 days\n"
     ]
    }
   ],
   "source": [
    "# your answer\n",
    "days = int(input(\"Enter number of days: \"))\n",
    "hr = 24*days\n",
    "mn = hr*60\n",
    "sc = mn*60\n",
    "print(f\"There are {hr}hrs, {mn} mins, {sc} secs in {days} days\")"
   ]
  },
  {
   "cell_type": "markdown",
   "id": "sporting-christmas",
   "metadata": {},
   "source": [
    "Q10 There are 2,204 pounds in a kilogram. Ask the \n",
    "user to enter a weight in kilograms and convert it \n",
    "to pounds."
   ]
  },
  {
   "cell_type": "code",
   "execution_count": 44,
   "id": "piano-solid",
   "metadata": {},
   "outputs": [
    {
     "name": "stdin",
     "output_type": "stream",
     "text": [
      "Enter your weight in kg:  5\n"
     ]
    },
    {
     "name": "stdout",
     "output_type": "stream",
     "text": [
      "Weight in pounds: 11020.0\n"
     ]
    }
   ],
   "source": [
    "# your answer\n",
    "kg = float(input(\"Enter your weight in kg: \"))\n",
    "pounds = kg*2204\n",
    "print(f\"Weight in pounds: {pounds}\")"
   ]
  },
  {
   "cell_type": "markdown",
   "id": "communist-ranch",
   "metadata": {},
   "source": [
    "Q11 Task the user to enter a number over 100 and then enter a number under \n",
    "10 and tell them how many times the smaller number goes into the larger \n",
    "number in a user-friendly format"
   ]
  },
  {
   "cell_type": "code",
   "execution_count": 49,
   "id": "still-consequence",
   "metadata": {},
   "outputs": [
    {
     "name": "stdin",
     "output_type": "stream",
     "text": [
      "Enter a number greater than 100 500\n",
      "Enter a number less than 10 5\n"
     ]
    },
    {
     "name": "stdout",
     "output_type": "stream",
     "text": [
      "500 is 100.0 times 5\n"
     ]
    }
   ],
   "source": [
    "# your answer\n",
    "n1 = int(input(\"Enter a number greater than 100\"))\n",
    "if n1>100:\n",
    "    n2 = int(input(\"Enter a number less than 10\"))\n",
    "    if n2<10:\n",
    "        print(f\"{n1} is {n1/n2} times {n2}\")\n",
    "\n",
    "    else: print(\"Entered number is not less than 10\")\n",
    "\n",
    "else: print(\"Entered number is not greater than 100\")"
   ]
  },
  {
   "cell_type": "markdown",
   "id": "intensive-fetish",
   "metadata": {},
   "source": [
    "Q12 \n",
    "Ask for two numbers. If \n",
    "the first one is larger \n",
    "than the second, display \n",
    "the second number first \n",
    "and then the first \n",
    "number, otherwise show \n",
    "the first number first and \n",
    "then the second. "
   ]
  },
  {
   "cell_type": "code",
   "execution_count": 50,
   "id": "worldwide-theorem",
   "metadata": {},
   "outputs": [
    {
     "name": "stdin",
     "output_type": "stream",
     "text": [
      "Enter two numbers:  4 5\n"
     ]
    },
    {
     "name": "stdout",
     "output_type": "stream",
     "text": [
      "4\n"
     ]
    }
   ],
   "source": [
    "# your answer\n",
    "a, b = map(int, input(\"Enter two numbers: \").split())\n",
    "\n",
    "print(b) if b<a else print(a)"
   ]
  },
  {
   "cell_type": "markdown",
   "id": "similar-reservoir",
   "metadata": {},
   "source": [
    "Q13 \n",
    "Ask the user to enter a \n",
    "number that is under \n",
    "20. If they enter a \n",
    "number that is 20 or \n",
    "more, display the \n",
    "message “Too high”, \n",
    "otherwise display \n",
    "“Thank you”. "
   ]
  },
  {
   "cell_type": "code",
   "execution_count": 56,
   "id": "varied-scanning",
   "metadata": {},
   "outputs": [
    {
     "name": "stdin",
     "output_type": "stream",
     "text": [
      "Enter a number < 20:  5\n"
     ]
    },
    {
     "name": "stdout",
     "output_type": "stream",
     "text": [
      "Thank you\n"
     ]
    }
   ],
   "source": [
    "# your answer\n",
    "print(\"Too high\") if int(input(\"Enter a number < 20: \"))>20 else print(\"Thank you\")"
   ]
  },
  {
   "cell_type": "markdown",
   "id": "therapeutic-entrepreneur",
   "metadata": {},
   "source": [
    "Q14 Ask the user to enter a \n",
    "number between 10 and 20 \n",
    "(inclusive). If they enter a \n",
    "number within this range, \n",
    "display the message “Thank \n",
    "you”, otherwise display the \n",
    "message “Incorrect \n",
    "answer”. `"
   ]
  },
  {
   "cell_type": "code",
   "execution_count": 61,
   "id": "passive-kelly",
   "metadata": {},
   "outputs": [
    {
     "name": "stdin",
     "output_type": "stream",
     "text": [
      "Enter a number between 10 and 20 (inclusive):  11\n"
     ]
    },
    {
     "name": "stdout",
     "output_type": "stream",
     "text": [
      "Thank you\n"
     ]
    }
   ],
   "source": [
    "# your answer\n",
    "print(\"Thank you\") if int(input(\"Enter a number between 10 and 20 (inclusive): \")) in range(10, 21) else print(\"Incorrect\")"
   ]
  },
  {
   "cell_type": "markdown",
   "id": "naked-civilization",
   "metadata": {},
   "source": [
    "Q15 Ask the user to enter their favourite colour. If they enter “red”, “RED” or \n",
    "“Red” display the message “I like red too”, otherwise display the message \n",
    "“I don’t like [colour], I prefer red”."
   ]
  },
  {
   "cell_type": "code",
   "execution_count": 65,
   "id": "accessory-channels",
   "metadata": {},
   "outputs": [
    {
     "name": "stdin",
     "output_type": "stream",
     "text": [
      "Enter your favourite colour:  blue\n"
     ]
    },
    {
     "name": "stdout",
     "output_type": "stream",
     "text": [
      "I don't like blue\n"
     ]
    }
   ],
   "source": [
    "# your answer\n",
    "colour = input('Enter your favourite colour: ').lower()\n",
    "print(\"I like red too\") if colour == 'red' else print(f\"I don't like {colour}\")"
   ]
  },
  {
   "cell_type": "markdown",
   "id": "direct-affair",
   "metadata": {},
   "source": [
    "Q16 Ask the user if it is raining and convert their answer to lower case \n",
    "so it doesn’t matter what case they type it in. If they answer “yes”, \n",
    "ask if it is windy. If they answer “yes” to this second question, \n",
    "display the answer “It is too windy for an umbrella”, otherwise \n",
    "display the message “Take an umbrella”. If they did not answer yes \n",
    "to the first question, display the answer “Enjoy your day”."
   ]
  },
  {
   "cell_type": "code",
   "execution_count": 69,
   "id": "verbal-rogers",
   "metadata": {},
   "outputs": [
    {
     "name": "stdin",
     "output_type": "stream",
     "text": [
      "Is it raining?  yes\n",
      "Is it windy?  no\n"
     ]
    },
    {
     "name": "stdout",
     "output_type": "stream",
     "text": [
      "Take an umbrella\n"
     ]
    }
   ],
   "source": [
    "# your answer\n",
    "raining = input(\"Is it raining? \").strip().lower()\n",
    "\n",
    "if raining == \"yes\":\n",
    "    windy = input(\"Is it windy? \").strip().lower()\n",
    "    if windy == \"yes\":\n",
    "        print(\"It is too windy for an umbrella\")\n",
    "    else:\n",
    "        print(\"Take an umbrella\")\n",
    "else: print(\"Enjoy your day\")"
   ]
  },
  {
   "cell_type": "markdown",
   "id": "twenty-uncle",
   "metadata": {},
   "source": [
    "Q17 Ask the user’s age. If they \n",
    "are 18 or over, display the \n",
    "message “You can vote”, if \n",
    "they are aged 17, display the \n",
    "message “You can learn to \n",
    "drive”, if they are 16, display \n",
    "the message “You can buy a \n",
    "lottery ticket”, if they are \n",
    "under 16, display the \n",
    "message “You can go Trick\u0002or-Treating”. "
   ]
  },
  {
   "cell_type": "code",
   "execution_count": 70,
   "id": "advanced-apparel",
   "metadata": {},
   "outputs": [
    {
     "name": "stdin",
     "output_type": "stream",
     "text": [
      "Enter your age:  25\n"
     ]
    },
    {
     "name": "stdout",
     "output_type": "stream",
     "text": [
      "You can vote\n"
     ]
    }
   ],
   "source": [
    "# your answer\n",
    "age = int(input(\"Enter your age: \"))\n",
    "\n",
    "if age >= 18: print(\"You can vote\")\n",
    "elif age == 17: print(\"You can learn to drive\")\n",
    "elif age == 16: print(\"You can buy a lottery ticket\")\n",
    "else: print(\"You can go Trick-or-Treating\")"
   ]
  },
  {
   "cell_type": "markdown",
   "id": "ceramic-council",
   "metadata": {},
   "source": [
    "Q18 Ask the user to enter a number. If it is under 10, \n",
    "display the message “Too low”, if their number is \n",
    "between 10 and 20, display “Correct”, otherwise \n",
    "display “Too high”. "
   ]
  },
  {
   "cell_type": "code",
   "execution_count": 75,
   "id": "adapted-pocket",
   "metadata": {},
   "outputs": [
    {
     "name": "stdin",
     "output_type": "stream",
     "text": [
      "Enter a number:  11\n"
     ]
    },
    {
     "name": "stdout",
     "output_type": "stream",
     "text": [
      "Correct\n"
     ]
    }
   ],
   "source": [
    "# your answer\n",
    "n = int(input(\"Enter a number: \"))\n",
    "\n",
    "if n<=10: print(\"Too low\")\n",
    "elif n<20: print(\"Correct\")\n",
    "else: print(\"Too high\")"
   ]
  },
  {
   "cell_type": "markdown",
   "id": "choice-blond",
   "metadata": {},
   "source": [
    "Q19 Ask the user to enter 1, 2 or 3. If they enter a 1, display \n",
    "the message “Thank you”, if they enter a 2, display \n",
    "“Well done”, if they enter a 3, display “Correct”. If \n",
    "they enter anything else, display “Error message”"
   ]
  },
  {
   "cell_type": "code",
   "execution_count": 78,
   "id": "defensive-seeker",
   "metadata": {},
   "outputs": [
    {
     "name": "stdin",
     "output_type": "stream",
     "text": [
      "Enter 1, 2, or 3:  2\n"
     ]
    },
    {
     "name": "stdout",
     "output_type": "stream",
     "text": [
      "Well done\n"
     ]
    }
   ],
   "source": [
    "# your answer\n",
    "message = {\n",
    "    '1': \"Thank you\",\n",
    "    '2': \"Well done\",\n",
    "    '3': \"Correct\"\n",
    "}\n",
    "\n",
    "user_input = input(\"Enter 1, 2, or 3: \")\n",
    "print(message.get(user_input, \"Error message\"))"
   ]
  },
  {
   "cell_type": "markdown",
   "id": "quick-pilot",
   "metadata": {},
   "source": [
    "Q20 Ask the user to enter \n",
    "their first name and \n",
    "then display the \n",
    "length of their name. "
   ]
  },
  {
   "cell_type": "code",
   "execution_count": 80,
   "id": "multiple-folks",
   "metadata": {},
   "outputs": [
    {
     "name": "stdin",
     "output_type": "stream",
     "text": [
      "Enter your first name:  Rahul\n"
     ]
    },
    {
     "name": "stdout",
     "output_type": "stream",
     "text": [
      "The length of your name is: 5\n"
     ]
    }
   ],
   "source": [
    "# your answer \n",
    "fname = input(\"Enter your first name: \")\n",
    "print(f\"The length of your name is: {len(fname)}\")"
   ]
  },
  {
   "cell_type": "markdown",
   "id": "purple-mouth",
   "metadata": {},
   "source": [
    "Q21 Ask the user to enter their first name and then ask them to \n",
    "enter their surname. Join them together with a space between \n",
    "and display the name and the length of whole name."
   ]
  },
  {
   "cell_type": "code",
   "execution_count": 82,
   "id": "heard-coach",
   "metadata": {},
   "outputs": [
    {
     "name": "stdin",
     "output_type": "stream",
     "text": [
      "Enter your first name:  Rahul\n",
      "Enter your surname:  Meena\n"
     ]
    },
    {
     "name": "stdout",
     "output_type": "stream",
     "text": [
      "full name: Rahul Meena and length: 11\n"
     ]
    }
   ],
   "source": [
    "# your answer\n",
    "fname = input(\"Enter your first name: \")\n",
    "lname = input(\"Enter your surname: \")\n",
    "full_name = \" \".join([fname,lname])\n",
    "print(f\"full name: {full_name} and length: {len(full_name)}\")"
   ]
  },
  {
   "cell_type": "markdown",
   "id": "weekly-wealth",
   "metadata": {},
   "source": [
    "Q22 Ask the user to enter their first name and surname in lower \n",
    "case. Change the case to title case and join them together. \n",
    "Display the finished result. "
   ]
  },
  {
   "cell_type": "code",
   "execution_count": 83,
   "id": "floppy-westminster",
   "metadata": {},
   "outputs": [
    {
     "name": "stdin",
     "output_type": "stream",
     "text": [
      "Enter your first name in lower case:  rahul\n",
      "Enter your surname in lower case:  meena\n"
     ]
    },
    {
     "name": "stdout",
     "output_type": "stream",
     "text": [
      "Your name:  Rahul Meena\n"
     ]
    }
   ],
   "source": [
    "# your answer\n",
    "first_name = input(\"Enter your first name in lower case: \")\n",
    "surname = input(\"Enter your surname in lower case: \")\n",
    "full_name = first_name.title() + \" \" + surname.title()\n",
    "\n",
    "\n",
    "print(\"Your name: \", full_name)"
   ]
  },
  {
   "cell_type": "markdown",
   "id": "wound-secretary",
   "metadata": {},
   "source": [
    "Q23 Ask the user to type in the first \n",
    "line of a nursery rhyme and \n",
    "display the length of the string. \n",
    "Ask for a starting number and an \n",
    "ending number and then display \n",
    "just that section of the text \n",
    "(remember Python starts \n",
    "counting from 0 and not 1). "
   ]
  },
  {
   "cell_type": "code",
   "execution_count": 108,
   "id": "quarterly-compression",
   "metadata": {},
   "outputs": [
    {
     "name": "stdin",
     "output_type": "stream",
     "text": [
      "Enter a rhyme:  Whispers of wind, leaves dance in the light, Nature's symphony, a serene delight.\n"
     ]
    },
    {
     "name": "stdout",
     "output_type": "stream",
     "text": [
      "Length of string: 81\n",
      "\n"
     ]
    },
    {
     "name": "stdin",
     "output_type": "stream",
     "text": [
      "Enter starting number and ending number:  17 50\n"
     ]
    },
    {
     "name": "stdout",
     "output_type": "stream",
     "text": [
      " leaves dance in the light, Nature"
     ]
    }
   ],
   "source": [
    "# your answer\n",
    "# Whispers of wind, leaves dance in the light, Nature's symphony, a serene delight.\n",
    "rhyme = input(\"Enter a rhyme: \")\n",
    "print(f\"Length of string: {len(rhyme)}\\n\")\n",
    "\n",
    "s,e = map(int, input(\"Enter starting number and ending number: \").split())\n",
    "\n",
    "for n in range(s, e+1): print(rhyme[n], end ='')"
   ]
  },
  {
   "cell_type": "markdown",
   "id": "medical-record",
   "metadata": {},
   "source": [
    "Q24 Ask the user to type in any word and display it in \n",
    "upper case. \n"
   ]
  },
  {
   "cell_type": "code",
   "execution_count": 109,
   "id": "experienced-analysis",
   "metadata": {},
   "outputs": [
    {
     "name": "stdin",
     "output_type": "stream",
     "text": [
      "Enter a word:  word\n"
     ]
    },
    {
     "name": "stdout",
     "output_type": "stream",
     "text": [
      "WORD\n"
     ]
    }
   ],
   "source": [
    "# your answer\n",
    "word = input(\"Enter a word: \")\n",
    "print(word.upper())"
   ]
  },
  {
   "cell_type": "markdown",
   "id": "brazilian-niagara",
   "metadata": {},
   "source": [
    "Q25 Ask the user to enter their first name. If the length \n",
    "of their first name is under five characters, ask \n",
    "them to enter their surname and join them \n",
    "together (without a space) and display the name \n",
    "in upper case. If the length of the first name is five\n",
    "or more characters, display their first name in \n",
    "lower case."
   ]
  },
  {
   "cell_type": "code",
   "execution_count": 50,
   "id": "designed-translator",
   "metadata": {
    "scrolled": true
   },
   "outputs": [
    {
     "name": "stdin",
     "output_type": "stream",
     "text": [
      "Enter your first name:  Wild\n",
      "Enter your surname:  Hunt\n"
     ]
    },
    {
     "name": "stdout",
     "output_type": "stream",
     "text": [
      "Formatted name: WILDHUNT\n"
     ]
    }
   ],
   "source": [
    "# your answer\n",
    "first_name = input(\"Enter your first name: \")\n",
    "\n",
    "if len(first_name) < 5:\n",
    "    surname = input(\"Enter your surname: \")\n",
    "    full_name = (first_name + surname).upper()\n",
    "else: full_name = first_name.lower()\n",
    "\n",
    "print(\"Formatted name:\", full_name)"
   ]
  },
  {
   "cell_type": "markdown",
   "id": "3681e660-021c-408b-bc3e-259978251ffa",
   "metadata": {},
   "source": [
    "Q26 Pig Latin takes the first consonant of a word, moves it to the end of the word and adds on an “ay”. If a word begins with a vowel you just add “way” to the end. For example, pig becomes igpay, banana becomes ananabay, and aadvark becomes aadvarkway. Create a program that will ask the user to enter a word and change it into Pig Latin. Make sure the new word is displayed in lower case. "
   ]
  },
  {
   "cell_type": "code",
   "execution_count": 37,
   "id": "western-summary",
   "metadata": {},
   "outputs": [
    {
     "data": {
      "text/plain": [
       "'aadvarkway'"
      ]
     },
     "execution_count": 37,
     "metadata": {},
     "output_type": "execute_result"
    }
   ],
   "source": [
    "# your answer\n",
    "def isvowel(alpha):\n",
    "    return alpha.lower() in ['a', 'e', 'i', 'o', 'u']\n",
    "    \n",
    "\n",
    "# word = \"aadvark\"\n",
    "# word_copy = word\n",
    "# for alpha in word:\n",
    "#     if not isvowel(alpha): \n",
    "#         word_copy = word_copy+alpha\n",
    "#         word_copy = word_copy.replace(alpha,'', 1)\n",
    "#         word_copy = word_copy+'ay'\n",
    "#         break\n",
    "#     else: \n",
    "#         word_copy = word_copy+\"way\"\n",
    "#         break\n",
    "# word_copy"
   ]
  },
  {
   "cell_type": "code",
   "execution_count": 39,
   "id": "81e2de9f-03a0-484e-a525-f34af017da4f",
   "metadata": {},
   "outputs": [
    {
     "name": "stdin",
     "output_type": "stream",
     "text": [
      "Enter a word:  cruelworld\n"
     ]
    },
    {
     "name": "stdout",
     "output_type": "stream",
     "text": [
      "Pig Latin: uelworldcray\n"
     ]
    }
   ],
   "source": [
    "def pig_latin(word):\n",
    "    vowels = \"aeiou\"\n",
    "    word = word.lower()\n",
    "\n",
    "    if word[0] in vowels:\n",
    "        return word + \"way\"\n",
    "    else:\n",
    "        for i in range(len(word)):\n",
    "            if word[i] in vowels:\n",
    "                return word[i:] + word[:i] + \"ay\"\n",
    "        # If no vowel is found (for unusual cases)\n",
    "        return word + \"ay\"\n",
    "\n",
    "# Ask the user to enter a word\n",
    "user_word = input(\"Enter a word: \").strip()\n",
    "# Convert the word to Pig Latin and display it\n",
    "pig_latin_word = pig_latin(user_word)\n",
    "print(\"Pig Latin:\", pig_latin_word)"
   ]
  },
  {
   "cell_type": "markdown",
   "id": "ordered-recruitment",
   "metadata": {},
   "source": [
    "Q27 Ask the user to enter a \n",
    "number with lots of \n",
    "decimal places. Multiply \n",
    "this number by two and \n",
    "display the answer. "
   ]
  },
  {
   "cell_type": "code",
   "execution_count": 49,
   "id": "d0320146-c572-4801-8aa2-4035788e215c",
   "metadata": {},
   "outputs": [
    {
     "data": {
      "text/plain": [
       "14.71305251253129"
      ]
     },
     "execution_count": 49,
     "metadata": {},
     "output_type": "execute_result"
    }
   ],
   "source": [
    "n = 7.356526256265645432536364677737383\n"
   ]
  },
  {
   "cell_type": "code",
   "execution_count": 85,
   "id": "6fd68230-28ff-497c-b4d7-d0299a01a5fe",
   "metadata": {},
   "outputs": [
    {
     "name": "stdin",
     "output_type": "stream",
     "text": [
      " 453.57659745972746934751075642543536374\n"
     ]
    },
    {
     "name": "stdout",
     "output_type": "stream",
     "text": [
      "The result is: 907.15319491945490426587639376521110535\n"
     ]
    }
   ],
   "source": [
    "num_str = str(input())\n",
    "number = float(num_str)\n",
    "\n",
    "c = 0\n",
    "for n in num_str:\n",
    "    c+=1\n",
    "    if n == '.': break\n",
    "        \n",
    "result = 2*number\n",
    "prec = len(num_str)-c\n",
    "print(f\"The result is: {result:.{prec}f}\")"
   ]
  },
  {
   "cell_type": "code",
   "execution_count": 57,
   "id": "cd0be32c-4f34-4277-a9d7-c55343a989dc",
   "metadata": {},
   "outputs": [
    {
     "name": "stdout",
     "output_type": "stream",
     "text": [
      "The result is: 14.713052512531290865072729355474766\n"
     ]
    }
   ],
   "source": [
    "# from decimal import Decimal, getcontext\n",
    "\n",
    "# getcontext().prec = 50 \n",
    "\n",
    "# number = Decimal('7.356526256265645432536364677737383')\n",
    "# result = number * Decimal('2')\n",
    "\n",
    "# print(f\"The result is: {result}\")"
   ]
  },
  {
   "cell_type": "markdown",
   "id": "silver-suspect",
   "metadata": {},
   "source": [
    "Q28 Update program 027 so that it will display the answer to \n",
    "two decimal places."
   ]
  },
  {
   "cell_type": "code",
   "execution_count": 51,
   "id": "09442bf3-3bc4-4d43-9c67-6a7572540c84",
   "metadata": {},
   "outputs": [
    {
     "data": {
      "text/plain": [
       "7.36"
      ]
     },
     "execution_count": 51,
     "metadata": {},
     "output_type": "execute_result"
    }
   ],
   "source": [
    "n = 7.3565262562656452536364677737383\n",
    "round(n,2)"
   ]
  },
  {
   "cell_type": "markdown",
   "id": "equivalent-harassment",
   "metadata": {},
   "source": [
    "Q29 \n",
    "Ask the user to enter an integer that is over 500. Work \n",
    "out the square root of that number and display it to two\n",
    "decimal places. "
   ]
  },
  {
   "cell_type": "code",
   "execution_count": 98,
   "id": "474a95c8-4ad3-4eef-b4b4-467aa96c567f",
   "metadata": {},
   "outputs": [
    {
     "name": "stdin",
     "output_type": "stream",
     "text": [
      "Enter a number greater than 500:  864\n"
     ]
    },
    {
     "data": {
      "text/plain": [
       "29.39"
      ]
     },
     "execution_count": 98,
     "metadata": {},
     "output_type": "execute_result"
    }
   ],
   "source": [
    "n = int(input(\"Enter a number greater than 500: \"))\n",
    "round(n**(1/2), 2)\n",
    "# print(f\"{n**(1/2):.2f}\")"
   ]
  },
  {
   "cell_type": "markdown",
   "id": "settled-education",
   "metadata": {},
   "source": [
    "Q30 decimal places. \n",
    "Display pi (π) to five \n",
    "decimal places."
   ]
  },
  {
   "cell_type": "code",
   "execution_count": 99,
   "id": "4bebce32-7aac-4ac6-b3e6-81cca7b96f88",
   "metadata": {},
   "outputs": [
    {
     "data": {
      "text/plain": [
       "3.14159"
      ]
     },
     "execution_count": 99,
     "metadata": {},
     "output_type": "execute_result"
    }
   ],
   "source": [
    "import math\n",
    "pi = math.pi\n",
    "\n",
    "round(pi, 5)"
   ]
  },
  {
   "cell_type": "markdown",
   "id": "silent-pipeline",
   "metadata": {},
   "source": [
    "Q31 \n",
    "Ask the user to enter the radius of a circle \n",
    "(measurement from the centre point to the edge). \n",
    "`Work out the area of the circle (π*radius2).`"
   ]
  },
  {
   "cell_type": "code",
   "execution_count": 112,
   "id": "621de19a-152e-4c3f-aea4-9e2c106e5260",
   "metadata": {},
   "outputs": [
    {
     "name": "stdin",
     "output_type": "stream",
     "text": [
      "Enter radius of circle (cm):  10\n"
     ]
    },
    {
     "name": "stdout",
     "output_type": "stream",
     "text": [
      "Area of circle with radius 10.0: 314.159 cm^2\n"
     ]
    }
   ],
   "source": [
    "r = float(input(\"Enter radius of circle (cm): \"))\n",
    "print(f\"Area of circle with radius {r}: {round(math.pi*r**2, 3)} cm^2\")"
   ]
  },
  {
   "cell_type": "markdown",
   "id": "pressed-plane",
   "metadata": {},
   "source": [
    "Q32 \n",
    "Ask for the radius and the depth of a cylinder \n",
    "and work out the `total volume = (circle \n",
    "area*depth)` rounded to three decimal \n",
    "places. "
   ]
  },
  {
   "cell_type": "code",
   "execution_count": 113,
   "id": "523d796f-4c61-4aec-8300-dc70a6d89292",
   "metadata": {},
   "outputs": [
    {
     "name": "stdin",
     "output_type": "stream",
     "text": [
      " Enter radius and depth of a cylinder:  5.2 10.8\n"
     ]
    },
    {
     "data": {
      "text/plain": [
       "917.4455858131346"
      ]
     },
     "execution_count": 113,
     "metadata": {},
     "output_type": "execute_result"
    }
   ],
   "source": [
    "r, h = map(float, input(\" Enter radius and depth of a cylinder: \").split())\n",
    "vol = math.pi * r**2 * h\n",
    "vol"
   ]
  },
  {
   "cell_type": "code",
   "execution_count": 114,
   "id": "87055827-e711-4ac2-90e5-22ef99413e2c",
   "metadata": {},
   "outputs": [
    {
     "name": "stdin",
     "output_type": "stream",
     "text": [
      "Enter radius and height of a cylinder (separated by space):  5.2 10.8\n"
     ]
    },
    {
     "name": "stdout",
     "output_type": "stream",
     "text": [
      "The volume of the cylinder is: 917.45\n"
     ]
    }
   ],
   "source": [
    "import math\n",
    "\n",
    "try:\n",
    "    # Prompt the user to enter radius and height of a cylinder\n",
    "    r, h = map(float, input(\"Enter radius and height of a cylinder (separated by space): \").split())\n",
    "\n",
    "    # Calculate the volume of the cylinder\n",
    "    vol = math.pi * r**2 * h\n",
    "\n",
    "    # Display the calculated volume\n",
    "    print(f\"The volume of the cylinder is: {vol:.2f}\")\n",
    "\n",
    "except ValueError:\n",
    "    print(\"Invalid input. Please enter valid numerical values for radius and height.\")\n"
   ]
  },
  {
   "cell_type": "markdown",
   "id": "arabic-triangle",
   "metadata": {},
   "source": [
    "Q33 \n",
    "Ask the user to enter two numbers. \n",
    "Use whole number division to divide \n",
    "the first number by the second and \n",
    "also work out the remainder and \n",
    "display the answer in a user-friendly \n",
    "way `(e.g. if they enter 7 and 2 display  “7 divided by 2 is 3 with 1 remaining”)`."
   ]
  },
  {
   "cell_type": "code",
   "execution_count": 117,
   "id": "1128694d-b97d-4c8f-8d1c-5b80ac45f905",
   "metadata": {},
   "outputs": [
    {
     "name": "stdin",
     "output_type": "stream",
     "text": [
      "Enter 2 numbers:  7 2\n"
     ]
    },
    {
     "name": "stdout",
     "output_type": "stream",
     "text": [
      "7 divided by 2 is 3 and remainder is 1\n"
     ]
    }
   ],
   "source": [
    "n1, n2 = map(int, input(\"Enter 2 numbers: \").split()) \n",
    "print(f\"{n1} divided by {n2} is {n1//n2} and remainder is {n1%n2}\")"
   ]
  },
  {
   "cell_type": "markdown",
   "id": "super-intensity",
   "metadata": {},
   "source": [
    "Q35 \n",
    "Ask the user to enter \n",
    "their name and then \n",
    "display their name \n",
    "three times. "
   ]
  },
  {
   "cell_type": "code",
   "execution_count": 118,
   "id": "ab1d4c95-8936-4f35-b79f-8e135da08306",
   "metadata": {},
   "outputs": [
    {
     "name": "stdin",
     "output_type": "stream",
     "text": [
      "Enter your name:  Rahul\n"
     ]
    },
    {
     "name": "stdout",
     "output_type": "stream",
     "text": [
      "RahulRahulRahul\n"
     ]
    }
   ],
   "source": [
    "name = input(\"Enter your name: \")\n",
    "print(3*name)"
   ]
  },
  {
   "cell_type": "markdown",
   "id": "lyric-elizabeth",
   "metadata": {},
   "source": [
    "Q36 \n",
    "Alter program 035 so that it will ask the user to enter their \n",
    "name and a number and then display their name that \n",
    "number of times. "
   ]
  },
  {
   "cell_type": "code",
   "execution_count": 119,
   "id": "aa762a49-040a-4e51-b41e-4820e2397f64",
   "metadata": {},
   "outputs": [
    {
     "name": "stdin",
     "output_type": "stream",
     "text": [
      "Enter your name followed by a space and a number:  Rahul 5\n"
     ]
    },
    {
     "name": "stdout",
     "output_type": "stream",
     "text": [
      "RahulRahulRahulRahulRahul\n"
     ]
    }
   ],
   "source": [
    "name, n = input(\"Enter your name followed by a space and a number: \").split()\n",
    "n = int(n)\n",
    "print(name*n)"
   ]
  },
  {
   "cell_type": "markdown",
   "id": "massive-neighbor",
   "metadata": {},
   "source": [
    "Q37 \n",
    "Ask the user to enter their name and display each letter in \n",
    "their name on a separate line"
   ]
  },
  {
   "cell_type": "code",
   "execution_count": 129,
   "id": "44ea8454-92f0-47c8-a478-c5492235cae2",
   "metadata": {},
   "outputs": [
    {
     "name": "stdin",
     "output_type": "stream",
     "text": [
      "Enter your name:  Rahul\n"
     ]
    },
    {
     "name": "stdout",
     "output_type": "stream",
     "text": [
      "R\n",
      "a\n",
      "h\n",
      "u\n",
      "l\n"
     ]
    }
   ],
   "source": [
    "name = input(\"Enter your name: \")\n",
    "for i in name:\n",
    "    print(i)"
   ]
  },
  {
   "cell_type": "markdown",
   "id": "broad-narrow",
   "metadata": {},
   "source": [
    "Q38 \n",
    "Change program \n",
    "037 to also ask for a \n",
    "number. Display \n",
    "their name (one \n",
    "letter at a time on \n",
    "each line) and \n",
    "repeat this for the \n",
    "number of times \n",
    "they entered. "
   ]
  },
  {
   "cell_type": "code",
   "execution_count": 131,
   "id": "2c7d444f-bd54-4826-99d9-eb91b58f64fc",
   "metadata": {},
   "outputs": [
    {
     "name": "stdin",
     "output_type": "stream",
     "text": [
      "Enter your name followed by a space and a number:  Rahul 3\n"
     ]
    },
    {
     "name": "stdout",
     "output_type": "stream",
     "text": [
      "R\n",
      "a\n",
      "h\n",
      "u\n",
      "l\n",
      "R\n",
      "a\n",
      "h\n",
      "u\n",
      "l\n",
      "R\n",
      "a\n",
      "h\n",
      "u\n",
      "l\n"
     ]
    }
   ],
   "source": [
    "name, n = input(\"Enter your name followed by a space and a number: \").split()\n",
    "n = int(n)\n",
    "\n",
    "for i in range(n):\n",
    "    for letter in name: print(letter)"
   ]
  },
  {
   "cell_type": "markdown",
   "id": "accepted-class",
   "metadata": {},
   "source": [
    "Q39 \n",
    "Ask the user to enter a number between 1 \n",
    "and 12 and then display the times table for \n",
    "that number. "
   ]
  },
  {
   "cell_type": "code",
   "execution_count": 140,
   "id": "ed469916-5f9a-456d-8379-d944f5e0e985",
   "metadata": {},
   "outputs": [
    {
     "name": "stdin",
     "output_type": "stream",
     "text": [
      "Enter a number between 1 and 12:  5\n"
     ]
    },
    {
     "name": "stdout",
     "output_type": "stream",
     "text": [
      "5 10 15 20 25 30 35 40 45 50 "
     ]
    }
   ],
   "source": [
    "n = int(input(\"Enter a number between 1 and 12: \"))\n",
    "if n < 12 and n > 1: \n",
    "    for i in range(1,11):\n",
    "        print(n*i, end = ' ')\n",
    "else: print(\"Try agin\")"
   ]
  },
  {
   "cell_type": "markdown",
   "id": "clean-following",
   "metadata": {},
   "source": [
    "Q40 \n",
    "Ask for a number below 50 and then count down from \n",
    "50 to that number, making sure you show the number \n",
    "they entered in the output. "
   ]
  },
  {
   "cell_type": "code",
   "execution_count": 154,
   "id": "ae00c552-6f0e-47f1-a86f-fa774fb43cfc",
   "metadata": {},
   "outputs": [
    {
     "name": "stdin",
     "output_type": "stream",
     "text": [
      "Enter a number between 0 and 50:  45\n"
     ]
    },
    {
     "name": "stdout",
     "output_type": "stream",
     "text": [
      "Count down from 50 to 45\n",
      "50\n",
      "49\n",
      "48\n",
      "47\n",
      "46\n",
      "45\n"
     ]
    }
   ],
   "source": [
    "N = 50\n",
    "n = int(input(\"Enter a number between 0 and 50: \"))\n",
    "print(f\"Count down from {N} to {n}\")\n",
    "for i in range(N, n-1, -1):\n",
    "    print(i)"
   ]
  },
  {
   "cell_type": "markdown",
   "id": "decreased-struggle",
   "metadata": {},
   "source": [
    "Q41 \n",
    "Ask the user to enter their \n",
    "name and a number. If the \n",
    "number is less than 10, then \n",
    "display their name that \n",
    "number of times; otherwise \n",
    "display the message “Too \n",
    "high” three times."
   ]
  },
  {
   "cell_type": "code",
   "execution_count": 160,
   "id": "755f1bbd-d2b7-40b6-8d95-610ca9eba66c",
   "metadata": {},
   "outputs": [
    {
     "name": "stdin",
     "output_type": "stream",
     "text": [
      "Enter your name followed by a space and a number:  Rahul 3\n"
     ]
    },
    {
     "name": "stdout",
     "output_type": "stream",
     "text": [
      "RahulRahulRahul  \n"
     ]
    }
   ],
   "source": [
    "name, n = input(\"Enter your name followed by a space and a number: \").split()\n",
    "n = int(n)\n",
    "if n<10:\n",
    "    print(n*name)\n",
    "else: print(\"Too high \"*3)"
   ]
  },
  {
   "cell_type": "markdown",
   "id": "tutorial-composite",
   "metadata": {},
   "source": [
    "Q 42 \n",
    "Set a variable called total to 0. Ask the user to enter \n",
    "five numbers and after each input ask them if they \n",
    "want that number included. If they do, then add the \n",
    "number to the total. If they do not want it included, \n",
    "don’t add it to the total. After they have entered all five\n",
    "numbers, display the total."
   ]
  },
  {
   "cell_type": "code",
   "execution_count": 164,
   "id": "1d10ca3f-3fbf-4e34-b415-749760aa8f6f",
   "metadata": {},
   "outputs": [
    {
     "name": "stdout",
     "output_type": "stream",
     "text": [
      "Enter 5 inputs: \n"
     ]
    },
    {
     "name": "stdin",
     "output_type": "stream",
     "text": [
      "Enter 1 number:  4\n",
      "Do you want to include this number to Total, Press y for yes and n for no:  y\n",
      "Enter 2 number:  7\n",
      "Do you want to include this number to Total, Press y for yes and n for no:  n\n",
      "Enter 3 number:  3\n",
      "Do you want to include this number to Total, Press y for yes and n for no:  n\n",
      "Enter 4 number:  7\n",
      "Do you want to include this number to Total, Press y for yes and n for no:  y\n",
      "Enter 5 number:  8\n",
      "Do you want to include this number to Total, Press y for yes and n for no:  y\n"
     ]
    },
    {
     "name": "stdout",
     "output_type": "stream",
     "text": [
      "Total of your numbers: 19\n"
     ]
    }
   ],
   "source": [
    "total = 0\n",
    "print(\"Enter 5 inputs: \")\n",
    "\n",
    "for i in range(1, 6):\n",
    "    n = int(input(f\"Enter {i} number: \"))\n",
    "    ip = input(\"Do you want to include this number to Total, Press y for yes and n for no: \")\n",
    "    if ip.lower() == 'y':\n",
    "        total+=n\n",
    "print(f\"Total of your numbers: {total}\")"
   ]
  },
  {
   "cell_type": "markdown",
   "id": "wooden-recipe",
   "metadata": {},
   "source": [
    "Q43 \n",
    "Ask which direction the user wants to count (up or down). If they select up, then ask \n",
    "them for the top number and then count from 1 to that number. If they select down, ask \n",
    "them to enter a number below 20 and then count down from 20 to that number. If they \n",
    "entered something other than up or down, display the message “I don’t understand”. "
   ]
  },
  {
   "cell_type": "code",
   "execution_count": 172,
   "id": "fd5f0264-445b-4816-9b52-0a1c972c2a0a",
   "metadata": {},
   "outputs": [
    {
     "name": "stdin",
     "output_type": "stream",
     "text": [
      "up or down:  up\n",
      "Enter top number:  5\n"
     ]
    },
    {
     "name": "stdout",
     "output_type": "stream",
     "text": [
      "1\n",
      "2\n",
      "3\n",
      "4\n",
      "5\n"
     ]
    }
   ],
   "source": [
    "direction = input(\"up or down: \").lower()\n",
    "if direction=='up':\n",
    "    top_num = int(input(\"Enter top number: \"))\n",
    "    for i in range(1, top_num+1): print(i)\n",
    "elif direction=='down':\n",
    "    num = int(input(\"Enter a number below 20: \"))\n",
    "    if num<20:\n",
    "        for n in range(20, num-1, -1): print(n)\n",
    "    else: print(\"I don't understand\")\n",
    "else: print(\"I don't understand\")"
   ]
  },
  {
   "cell_type": "markdown",
   "id": "auburn-flight",
   "metadata": {},
   "source": [
    "Q44 Ask the user to enter \n",
    "a number. Keep \n",
    "asking until they enter \n",
    "a value over 5 and \n",
    "then display the \n",
    "message “The last \n",
    "number you entered \n",
    "was a [number]” and \n",
    "stop the program. "
   ]
  },
  {
   "cell_type": "code",
   "execution_count": 174,
   "id": "87b5a387-7843-43d2-a60a-bb05599e8b3d",
   "metadata": {},
   "outputs": [
    {
     "name": "stdin",
     "output_type": "stream",
     "text": [
      "Enter a number:  3\n"
     ]
    },
    {
     "name": "stdout",
     "output_type": "stream",
     "text": [
      "The last number you entered was a 3\n"
     ]
    },
    {
     "name": "stdin",
     "output_type": "stream",
     "text": [
      "Enter a number:  2\n"
     ]
    },
    {
     "name": "stdout",
     "output_type": "stream",
     "text": [
      "The last number you entered was a 2\n"
     ]
    },
    {
     "name": "stdin",
     "output_type": "stream",
     "text": [
      "Enter a number:  7\n"
     ]
    },
    {
     "name": "stdout",
     "output_type": "stream",
     "text": [
      "The last number you entered was a 7\n",
      "Success\n"
     ]
    }
   ],
   "source": [
    "while (True):\n",
    "    num = int(input(\"Enter a number: \"))\n",
    "    print(f\"The last number you entered was a {num}\")\n",
    "    if num>5: break\n",
    "print(\"Success\")"
   ]
  },
  {
   "cell_type": "markdown",
   "id": "brutal-assignment",
   "metadata": {},
   "source": [
    "Q45 Create a tuple containing the names of five countries and display the whole tuple. Ask \n",
    "the user to enter one of the countries that have been shown to them and then display \n",
    "the index number (i.e. position in the list) of that item in the tuple."
   ]
  },
  {
   "cell_type": "code",
   "execution_count": 180,
   "id": "5df62ff4-10ba-4ece-8681-19e3dccb0f23",
   "metadata": {},
   "outputs": [
    {
     "name": "stdin",
     "output_type": "stream",
     "text": [
      "Enter on of the countries from following countries: ('India', 'Japan', 'Australia', 'Germany', 'France') Japan\n"
     ]
    },
    {
     "name": "stdout",
     "output_type": "stream",
     "text": [
      "Country Japan is at index 1\n"
     ]
    }
   ],
   "source": [
    "countries = ('India', \"Japan\", \"Australia\", \"Germany\", \"France\")\n",
    "ip = input(f\"Enter on of the countries from following countries: {countries}\")\n",
    "print(f\"Country {ip} is at index {countries.index(ip)}\")"
   ]
  },
  {
   "cell_type": "markdown",
   "id": "heard-adapter",
   "metadata": {},
   "source": [
    "Q46 Add to program 45 to ask the \n",
    "user to enter a number and \n",
    "display the country in that \n",
    "position."
   ]
  },
  {
   "cell_type": "code",
   "execution_count": 182,
   "id": "bd67d809-9adf-4d3d-bd75-c47ed0092253",
   "metadata": {},
   "outputs": [
    {
     "name": "stdin",
     "output_type": "stream",
     "text": [
      "Enter a number between 0 and 4 (inclusive):  3\n"
     ]
    },
    {
     "name": "stdout",
     "output_type": "stream",
     "text": [
      "Germany\n"
     ]
    }
   ],
   "source": [
    "countries = ('India', \"Japan\", \"Australia\", \"Germany\", \"France\")\n",
    "n = int(input(\"Enter a number between 0 and 4 (inclusive): \"))\n",
    "if n in range(0,5):\n",
    "    print(countries[n])\n",
    "else: print(\"Try again\")"
   ]
  },
  {
   "cell_type": "markdown",
   "id": "opening-energy",
   "metadata": {},
   "source": [
    "Q47 Create a list of two sports. Ask the \n",
    "user what their favourite sport is and \n",
    "add this to the end of the list. Sort the \n",
    "list and display it."
   ]
  },
  {
   "cell_type": "code",
   "execution_count": 193,
   "id": "92075691-0ae3-4a64-8d0b-4c07eb53f329",
   "metadata": {},
   "outputs": [
    {
     "name": "stdin",
     "output_type": "stream",
     "text": [
      "What is your favorite sport?  Football\n"
     ]
    },
    {
     "data": {
      "text/plain": [
       "['Badminton', 'Cricket', 'Football']"
      ]
     },
     "execution_count": 193,
     "metadata": {},
     "output_type": "execute_result"
    }
   ],
   "source": [
    "sports = ['Cricket', 'Badminton']\n",
    "favorite_sport = input(\"What is your favorite sport? \")\n",
    "sports+=[favorite_sport]\n",
    "sports.sort()\n",
    "sports"
   ]
  },
  {
   "cell_type": "markdown",
   "id": "shared-incentive",
   "metadata": {},
   "source": [
    "Q48 Create a list of six school subjects. Ask the user which of these \n",
    "subjects they don’t like. Delete the subject they have chosen from the \n",
    "list before you display the list again."
   ]
  },
  {
   "cell_type": "code",
   "execution_count": 194,
   "id": "355d4e7b-b24b-430d-90cb-d934cd6141cd",
   "metadata": {},
   "outputs": [
    {
     "name": "stdin",
     "output_type": "stream",
     "text": [
      "Enter one subject that you don't like from ['Math', 'Chemistry', 'Biology', 'English', 'Hindi', 'History']:  History\n"
     ]
    },
    {
     "name": "stdout",
     "output_type": "stream",
     "text": [
      "Subject History removed. New list ['Math', 'Chemistry', 'Biology', 'English', 'Hindi']\n"
     ]
    }
   ],
   "source": [
    "subjects = [\"Math\", \"Chemistry\", \"Biology\", \"English\", \"Hindi\", \"History\"]\n",
    "dislike = input(f\"Enter one subject that you don't like from {subjects}: \")\n",
    "subjects.remove(dislike)\n",
    "print(f\"Subject {dislike} removed. New list {subjects}\")"
   ]
  },
  {
   "cell_type": "markdown",
   "id": "criminal-jones",
   "metadata": {},
   "source": [
    "Q49 Enter a list of ten colours. \n",
    "Ask the user for a starting \n",
    "number between 0 and 4 \n",
    "and an end number \n",
    "between 5 and 9. Display \n",
    "the list for those colours \n",
    "between the start and end \n",
    "numbers the user input."
   ]
  },
  {
   "cell_type": "code",
   "execution_count": 195,
   "id": "ac314014-65ae-4f06-ab4f-0ed47e3bb044",
   "metadata": {},
   "outputs": [
    {
     "name": "stdin",
     "output_type": "stream",
     "text": [
      "Enter a starting number between 0 and 4:  3\n",
      "Enter an ending number between 5 and 9:  6\n"
     ]
    },
    {
     "name": "stdout",
     "output_type": "stream",
     "text": [
      "The selected colors are: ['Yellow', 'Orange', 'Purple', 'Brown']\n"
     ]
    }
   ],
   "source": [
    "colors = ['Red', 'Blue', 'Green', 'Yellow', 'Orange', 'Purple', 'Brown', 'Black', 'White', 'Pink']\n",
    "\n",
    "start = int(input(\"Enter a starting number between 0 and 4: \"))\n",
    "end = int(input(\"Enter an ending number between 5 and 9: \"))\n",
    "\n",
    "if 0 <= start <= 4 and 5 <= end <= 9:\n",
    "    selected_colors = colors[start:end+1]\n",
    "    print(\"The selected colors are:\", selected_colors)\n",
    "else:\n",
    "    print(\"Invalid input\")"
   ]
  },
  {
   "cell_type": "markdown",
   "id": "exterior-brush",
   "metadata": {},
   "source": [
    "Q50 Create a list of four three-digit \n",
    "numbers. Display the list to the \n",
    "user, showing each item from \n",
    "the list on a separate line. Ask \n",
    "the user to enter a three-digit \n",
    "number. If the number they \n",
    "have typed in matches one in \n",
    "the list, display the position of \n",
    "that number in the list, \n",
    "otherwise display the message \n",
    "“That is not in the list”. "
   ]
  },
  {
   "cell_type": "code",
   "execution_count": null,
   "id": "dcc4a368-1b97-4dc2-b0b0-100cec645191",
   "metadata": {},
   "outputs": [],
   "source": []
  },
  {
   "cell_type": "markdown",
   "id": "abroad-uzbekistan",
   "metadata": {},
   "source": [
    "Q51 Ask the user to type in their favourite school subject. \n",
    "Display it with “-” after each letter, e.g. S-p-a-n-i-s-h-."
   ]
  },
  {
   "cell_type": "markdown",
   "id": "documented-qualification",
   "metadata": {},
   "source": [
    "Q52 Show the user a line of text from your favourite poem \n",
    "and ask for a starting and ending point. Display the \n",
    "characters between those two points. "
   ]
  },
  {
   "cell_type": "markdown",
   "id": "dressed-benjamin",
   "metadata": {},
   "source": [
    "Q53 Ask the user to type in a word in upper case. If they \n",
    "type it in lower case, ask them to try again. Keep \n",
    "repeating this until they type in a message all in \n",
    "uppercase."
   ]
  },
  {
   "cell_type": "markdown",
   "id": "featured-beach",
   "metadata": {},
   "source": [
    "Q54 Ask the user to enter a new password. Ask \n",
    "them to enter it again. If the two passwords \n",
    "match, display “Thank you”. If the letters are \n",
    "correct but in the wrong case, display the \n",
    "message “They must be in the same case”, \n",
    "otherwise display the message “Incorrect”."
   ]
  },
  {
   "cell_type": "code",
   "execution_count": null,
   "id": "acting-rebate",
   "metadata": {},
   "outputs": [],
   "source": []
  }
 ],
 "metadata": {
  "kernelspec": {
   "display_name": "Python 3 (ipykernel)",
   "language": "python",
   "name": "python3"
  },
  "language_info": {
   "codemirror_mode": {
    "name": "ipython",
    "version": 3
   },
   "file_extension": ".py",
   "mimetype": "text/x-python",
   "name": "python",
   "nbconvert_exporter": "python",
   "pygments_lexer": "ipython3",
   "version": "3.11.4"
  }
 },
 "nbformat": 4,
 "nbformat_minor": 5
}
