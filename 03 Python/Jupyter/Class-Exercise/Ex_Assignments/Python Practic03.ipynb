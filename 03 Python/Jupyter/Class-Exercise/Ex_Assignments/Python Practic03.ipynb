{
 "cells": [
  {
   "cell_type": "markdown",
   "id": "computational-dallas",
   "metadata": {},
   "source": [
    "Q1 Ask for the user’s first name and display the output message"
   ]
  },
  {
   "cell_type": "code",
   "execution_count": 15,
   "id": "endless-mambo",
   "metadata": {},
   "outputs": [
    {
     "name": "stdout",
     "output_type": "stream",
     "text": [
      "[main 43b7a4d] Files Added\n",
      " 12 files changed, 4781 insertions(+)\n",
      " create mode 100644 03 Python/Jupyter/Class-Exercise/Ex_Assignments/.DS_Store\n",
      " create mode 100644 03 Python/Jupyter/Class-Exercise/Ex_Assignments/.ipynb_checkpoints/Assignment01-checkpoint.ipynb\n",
      " create mode 100644 03 Python/Jupyter/Class-Exercise/Ex_Assignments/.ipynb_checkpoints/Assignment02-checkpoint.ipynb\n",
      " create mode 100644 03 Python/Jupyter/Class-Exercise/Ex_Assignments/.ipynb_checkpoints/Python Practic03-checkpoint.ipynb\n",
      " create mode 100644 03 Python/Jupyter/Class-Exercise/Ex_Assignments/.ipynb_checkpoints/Python_In_Class_Exercise_Questions[1]-checkpoint.ipynb\n",
      " create mode 100644 03 Python/Jupyter/Class-Exercise/Ex_Assignments/Assignment01.docx\n",
      " create mode 100644 03 Python/Jupyter/Class-Exercise/Ex_Assignments/Assignment01.ipynb\n",
      " create mode 100644 03 Python/Jupyter/Class-Exercise/Ex_Assignments/Assignment02.docx\n",
      " create mode 100644 03 Python/Jupyter/Class-Exercise/Ex_Assignments/Assignment02.ipynb\n",
      " create mode 100644 03 Python/Jupyter/Class-Exercise/Ex_Assignments/Python Practic03.ipynb\n",
      " create mode 100644 03 Python/Jupyter/Class-Exercise/Ex_Assignments/Python_In_Class_Exercise_Questions[1].ipynb\n",
      " create mode 100644 03 Python/Jupyter/Class-Exercise/Ex_Assignments/test2.txt\n",
      "Enumerating objects: 22, done.\n",
      "Counting objects: 100% (22/22), done.\n",
      "Delta compression using up to 8 threads\n",
      "Compressing objects: 100% (17/17), done.\n",
      "Writing objects: 100% (18/18), 48.71 KiB | 16.24 MiB/s, done.\n",
      "Total 18 (delta 6), reused 0 (delta 0), pack-reused 0 (from 0)\n",
      "remote: Resolving deltas: 100% (6/6), completed with 3 local objects.\u001b[K\n",
      "To https://github.com/x-Rahul/IMARTICUS.git\n",
      "   0a1ad0e..43b7a4d  main -> main\n"
     ]
    }
   ],
   "source": [
    "# your answer\n",
    "!git add .\n",
    "!git commit -m \"Files Added\"\n",
    "!git push origin main"
   ]
  },
  {
   "cell_type": "markdown",
   "id": "rapid-sierra",
   "metadata": {},
   "source": [
    "Q2 Ask for the user’s first name and then ask for their surname and display the output message "
   ]
  },
  {
   "cell_type": "code",
   "execution_count": 16,
   "id": "phantom-filling",
   "metadata": {},
   "outputs": [
    {
     "name": "stdout",
     "output_type": "stream",
     "text": [
      "On branch main\n",
      "Your branch is up to date with 'origin/main'.\n",
      "\n",
      "Changes not staged for commit:\n",
      "  (use \"git add/rm <file>...\" to update what will be committed)\n",
      "  (use \"git restore <file>...\" to discard changes in working directory)\n",
      "\t\u001b[31mmodified:   ../../../.DS_Store\u001b[m\n",
      "\t\u001b[31mmodified:   ../../.DS_Store\u001b[m\n",
      "\t\u001b[31mmodified:   ../../.ipynb_checkpoints/1. Basics-checkpoint.ipynb\u001b[m\n",
      "\t\u001b[31mmodified:   ../../1. Basics.ipynb\u001b[m\n",
      "\t\u001b[31mdeleted:    ../../Class Exercise/.DS_Store\u001b[m\n",
      "\n",
      "Untracked files:\n",
      "  (use \"git add <file>...\" to include in what will be committed)\n",
      "\t\u001b[31m../.DS_Store\u001b[m\n",
      "\t\u001b[31m../Ex_Assignments-20240623T053532Z-001.zip\u001b[m\n",
      "\t\u001b[31m../../../../test1.txt\u001b[m\n",
      "\n",
      "no changes added to commit (use \"git add\" and/or \"git commit -a\")\n"
     ]
    }
   ],
   "source": [
    "# your answer\n",
    "!git status"
   ]
  },
  {
   "cell_type": "markdown",
   "id": "nuclear-finish",
   "metadata": {},
   "source": [
    "Q3 Write code that will display the joke “What do you call a bear with no \n",
    "teeth?” and on the next line display the answer “A gummy bear!” Try to \n",
    "create it using only one line of code."
   ]
  },
  {
   "cell_type": "code",
   "execution_count": 2,
   "id": "drawn-verse",
   "metadata": {},
   "outputs": [],
   "source": [
    "# your answer"
   ]
  },
  {
   "cell_type": "markdown",
   "id": "visible-synthetic",
   "metadata": {},
   "source": [
    "Q4 Ask the user to enter \n",
    "two numbers. Add \n",
    "them together and \n",
    "display the answer as"
   ]
  },
  {
   "cell_type": "code",
   "execution_count": 3,
   "id": "compound-nightmare",
   "metadata": {},
   "outputs": [],
   "source": [
    "# your answer "
   ]
  },
  {
   "cell_type": "markdown",
   "id": "wrapped-sodium",
   "metadata": {},
   "source": [
    "Q5 Ask the user to enter three \n",
    "numbers. Add together the first \n",
    "two numbers and then multiply \n",
    "this total by the third. Display the \n",
    "answer as ***The answer is \n",
    "[answer].*** "
   ]
  },
  {
   "cell_type": "code",
   "execution_count": 4,
   "id": "metropolitan-pregnancy",
   "metadata": {},
   "outputs": [],
   "source": [
    "# your answer"
   ]
  },
  {
   "cell_type": "markdown",
   "id": "false-commons",
   "metadata": {},
   "source": [
    "Q6 Ask how many slices \n",
    "of pizza the user \n",
    "started with and ask \n",
    "how many slices \n",
    "they have eaten. \n",
    "Work out how many \n",
    "slices they have left \n",
    "and display the \n",
    "answer in a user\u0002friendly format. "
   ]
  },
  {
   "cell_type": "code",
   "execution_count": 5,
   "id": "egyptian-validity",
   "metadata": {},
   "outputs": [],
   "source": [
    "# your answer"
   ]
  },
  {
   "cell_type": "markdown",
   "id": "cultural-morris",
   "metadata": {},
   "source": [
    "Q7 Ask for the total price of the bill, then ask how \n",
    "many diners there are. Divide the total bill by the \n",
    "number of diners and show how much each \n",
    "person must pay. "
   ]
  },
  {
   "cell_type": "code",
   "execution_count": 6,
   "id": "regular-raleigh",
   "metadata": {},
   "outputs": [],
   "source": [
    "# your answer"
   ]
  },
  {
   "cell_type": "markdown",
   "id": "fuzzy-fifty",
   "metadata": {},
   "source": [
    "Q9 Write a program \n",
    "that will ask for a \n",
    "number of days \n",
    "and then will \n",
    "show how many \n",
    "hours, minutes \n",
    "and seconds are \n",
    "in that number of \n",
    "days. "
   ]
  },
  {
   "cell_type": "code",
   "execution_count": 7,
   "id": "stopped-philosophy",
   "metadata": {},
   "outputs": [],
   "source": [
    "# your answer"
   ]
  },
  {
   "cell_type": "markdown",
   "id": "sporting-christmas",
   "metadata": {},
   "source": [
    "Q10 There are 2,204 pounds in a kilogram. Ask the \n",
    "user to enter a weight in kilograms and convert it \n",
    "to pounds."
   ]
  },
  {
   "cell_type": "code",
   "execution_count": 8,
   "id": "piano-solid",
   "metadata": {},
   "outputs": [],
   "source": [
    "# your answer"
   ]
  },
  {
   "cell_type": "markdown",
   "id": "communist-ranch",
   "metadata": {},
   "source": [
    "Q11 Task the user to enter a number over 100 and then enter a number under \n",
    "10 and tell them how many times the smaller number goes into the larger \n",
    "number in a user-friendly format"
   ]
  },
  {
   "cell_type": "code",
   "execution_count": 9,
   "id": "still-consequence",
   "metadata": {},
   "outputs": [],
   "source": [
    "# your answer"
   ]
  },
  {
   "cell_type": "markdown",
   "id": "intensive-fetish",
   "metadata": {},
   "source": [
    "Q12 \n",
    "Ask for two numbers. If \n",
    "the first one is larger \n",
    "than the second, display \n",
    "the second number first \n",
    "and then the first \n",
    "number, otherwise show \n",
    "the first number first and \n",
    "then the second. "
   ]
  },
  {
   "cell_type": "code",
   "execution_count": 10,
   "id": "worldwide-theorem",
   "metadata": {},
   "outputs": [],
   "source": [
    "# your answer"
   ]
  },
  {
   "cell_type": "markdown",
   "id": "similar-reservoir",
   "metadata": {},
   "source": [
    "Q13 \n",
    "Ask the user to enter a \n",
    "number that is under \n",
    "20. If they enter a \n",
    "number that is 20 or \n",
    "more, display the \n",
    "message “Too high”, \n",
    "otherwise display \n",
    "“Thank you”. "
   ]
  },
  {
   "cell_type": "code",
   "execution_count": 11,
   "id": "varied-scanning",
   "metadata": {},
   "outputs": [],
   "source": [
    "# your answer"
   ]
  },
  {
   "cell_type": "markdown",
   "id": "therapeutic-entrepreneur",
   "metadata": {},
   "source": [
    "Q14 Ask the user to enter a \n",
    "number between 10 and 20 \n",
    "(inclusive). If they enter a \n",
    "number within this range, \n",
    "display the message “Thank \n",
    "you”, otherwise display the \n",
    "message “Incorrect \n",
    "answer”. `"
   ]
  },
  {
   "cell_type": "code",
   "execution_count": 12,
   "id": "passive-kelly",
   "metadata": {},
   "outputs": [],
   "source": [
    "# your answer"
   ]
  },
  {
   "cell_type": "markdown",
   "id": "naked-civilization",
   "metadata": {},
   "source": [
    "Q15 Ask the user to enter their favourite colour. If they enter “red”, “RED” or \n",
    "“Red” display the message “I like red too”, otherwise display the message \n",
    "“I don’t like [colour], I prefer red”."
   ]
  },
  {
   "cell_type": "code",
   "execution_count": 13,
   "id": "accessory-channels",
   "metadata": {},
   "outputs": [],
   "source": [
    "# your answer"
   ]
  },
  {
   "cell_type": "markdown",
   "id": "direct-affair",
   "metadata": {},
   "source": [
    "Q16 Ask the user if it is raining and convert their answer to lower case \n",
    "so it doesn’t matter what case they type it in. If they answer “yes”, \n",
    "ask if it is windy. If they answer “yes” to this second question, \n",
    "display the answer “It is too windy for an umbrella”, otherwise \n",
    "display the message “Take an umbrella”. If they did not answer yes \n",
    "to the first question, display the answer “Enjoy your day”."
   ]
  },
  {
   "cell_type": "code",
   "execution_count": 14,
   "id": "verbal-rogers",
   "metadata": {},
   "outputs": [],
   "source": [
    "# your answe"
   ]
  },
  {
   "cell_type": "markdown",
   "id": "twenty-uncle",
   "metadata": {},
   "source": [
    "Q17 Ask the user’s age. If they \n",
    "are 18 or over, display the \n",
    "message “You can vote”, if \n",
    "they are aged 17, display the \n",
    "message “You can learn to \n",
    "drive”, if they are 16, display \n",
    "the message “You can buy a \n",
    "lottery ticket”, if they are \n",
    "under 16, display the \n",
    "message “You can go Trick\u0002or-Treating”. "
   ]
  },
  {
   "cell_type": "code",
   "execution_count": 15,
   "id": "advanced-apparel",
   "metadata": {},
   "outputs": [],
   "source": [
    "# your answer"
   ]
  },
  {
   "cell_type": "markdown",
   "id": "ceramic-council",
   "metadata": {},
   "source": [
    "Q18 Ask the user to enter a number. If it is under 10, \n",
    "display the message “Too low”, if their number is \n",
    "between 10 and 20, display “Correct”, otherwise \n",
    "display “Too high”. "
   ]
  },
  {
   "cell_type": "code",
   "execution_count": 16,
   "id": "adapted-pocket",
   "metadata": {},
   "outputs": [],
   "source": [
    "# your answer"
   ]
  },
  {
   "cell_type": "markdown",
   "id": "choice-blond",
   "metadata": {},
   "source": [
    "Q19 Ask the user to enter 1, 2 or 3. If they enter a 1, display \n",
    "the message “Thank you”, if they enter a 2, display \n",
    "“Well done”, if they enter a 3, display “Correct”. If \n",
    "they enter anything else, display “Error message”"
   ]
  },
  {
   "cell_type": "code",
   "execution_count": 17,
   "id": "defensive-seeker",
   "metadata": {},
   "outputs": [],
   "source": [
    "# your answer"
   ]
  },
  {
   "cell_type": "markdown",
   "id": "quick-pilot",
   "metadata": {},
   "source": [
    "Q20 Ask the user to enter \n",
    "their first name and \n",
    "then display the \n",
    "length of their name. "
   ]
  },
  {
   "cell_type": "code",
   "execution_count": 18,
   "id": "multiple-folks",
   "metadata": {},
   "outputs": [],
   "source": [
    "# your answer "
   ]
  },
  {
   "cell_type": "markdown",
   "id": "purple-mouth",
   "metadata": {},
   "source": [
    "Q21 Ask the user to enter their first name and then ask them to \n",
    "enter their surname. Join them together with a space between \n",
    "and display the name and the length of whole name."
   ]
  },
  {
   "cell_type": "code",
   "execution_count": 19,
   "id": "heard-coach",
   "metadata": {},
   "outputs": [],
   "source": [
    "# your answer"
   ]
  },
  {
   "cell_type": "markdown",
   "id": "weekly-wealth",
   "metadata": {},
   "source": [
    "Q22 Ask the user to enter their first name and surname in lower \n",
    "case. Change the case to title case and join them together. \n",
    "Display the finished result. "
   ]
  },
  {
   "cell_type": "code",
   "execution_count": 20,
   "id": "floppy-westminster",
   "metadata": {},
   "outputs": [],
   "source": [
    "# your answer"
   ]
  },
  {
   "cell_type": "markdown",
   "id": "wound-secretary",
   "metadata": {},
   "source": [
    "Q23 Ask the user to type in the first \n",
    "line of a nursery rhyme and \n",
    "display the length of the string. \n",
    "Ask for a starting number and an \n",
    "ending number and then display \n",
    "just that section of the text \n",
    "(remember Python starts \n",
    "counting from 0 and not 1). "
   ]
  },
  {
   "cell_type": "code",
   "execution_count": 22,
   "id": "quarterly-compression",
   "metadata": {},
   "outputs": [],
   "source": [
    "# your answer"
   ]
  },
  {
   "cell_type": "markdown",
   "id": "medical-record",
   "metadata": {},
   "source": [
    "Q24 Ask the user to type in any word and display it in \n",
    "upper case. \n"
   ]
  },
  {
   "cell_type": "code",
   "execution_count": 23,
   "id": "experienced-analysis",
   "metadata": {},
   "outputs": [],
   "source": [
    "# your answer"
   ]
  },
  {
   "cell_type": "markdown",
   "id": "brazilian-niagara",
   "metadata": {},
   "source": [
    "Q25 Ask the user to enter their first name. If the length \n",
    "of their first name is under five characters, ask \n",
    "them to enter their surname and join them \n",
    "together (without a space) and display the name \n",
    "in upper case. If the length of the first name is five\n",
    "or more characters, display their first name in \n",
    "lower case."
   ]
  },
  {
   "cell_type": "code",
   "execution_count": 24,
   "id": "designed-translator",
   "metadata": {},
   "outputs": [],
   "source": [
    "# your answer"
   ]
  },
  {
   "cell_type": "markdown",
   "id": "subtle-basket",
   "metadata": {},
   "source": [
    "Q26 Pig Latin takes the first consonant of a word, \n",
    "moves it to the end of the word and adds on an \n",
    "“ay”. If a word begins with a vowel you just add \n",
    "“way” to the end. For example, pig becomes igpay, \n",
    "banana becomes ananabay, and aadvark becomes \n",
    "aadvarkway. Create a program that will ask the \n",
    "user to enter a word and change it into Pig Latin. \n",
    "Make sure the new word is displayed in lower case. "
   ]
  },
  {
   "cell_type": "code",
   "execution_count": 25,
   "id": "western-summary",
   "metadata": {},
   "outputs": [],
   "source": [
    "# your answer"
   ]
  },
  {
   "cell_type": "markdown",
   "id": "ordered-recruitment",
   "metadata": {},
   "source": [
    "Q27 Ask the user to enter a \n",
    "number with lots of \n",
    "decimal places. Multiply \n",
    "this number by two and \n",
    "display the answer. "
   ]
  },
  {
   "cell_type": "markdown",
   "id": "silver-suspect",
   "metadata": {},
   "source": [
    "Q28 Update program 027 so that it will display the answer to \n",
    "two decimal places."
   ]
  },
  {
   "cell_type": "markdown",
   "id": "equivalent-harassment",
   "metadata": {},
   "source": [
    "Q29 \n",
    "Ask the user to enter an integer that is over 500. Work \n",
    "out the square root of that number and display it to two\n",
    "decimal places. "
   ]
  },
  {
   "cell_type": "markdown",
   "id": "settled-education",
   "metadata": {},
   "source": [
    "Q30 decimal places. \n",
    "Display pi (π) to five \n",
    "decimal places."
   ]
  },
  {
   "cell_type": "markdown",
   "id": "silent-pipeline",
   "metadata": {},
   "source": [
    "Q31 \n",
    "Ask the user to enter the radius of a circle \n",
    "(measurement from the centre point to the edge). \n",
    "`Work out the area of the circle (π*radius2).`"
   ]
  },
  {
   "cell_type": "markdown",
   "id": "pressed-plane",
   "metadata": {},
   "source": [
    "Q32 \n",
    "Ask for the radius and the depth of a cylinder \n",
    "and work out the `total volume = (circle \n",
    "area*depth)` rounded to three decimal \n",
    "places. "
   ]
  },
  {
   "cell_type": "markdown",
   "id": "arabic-triangle",
   "metadata": {},
   "source": [
    "Q33 \n",
    "Ask the user to enter two numbers. \n",
    "Use whole number division to divide \n",
    "the first number by the second and \n",
    "also work out the remainder and \n",
    "display the answer in a user-friendly \n",
    "way `(e.g. if they enter 7 and 2 display  “7 divided by 2 is 3 with 1 remaining”)`."
   ]
  },
  {
   "cell_type": "markdown",
   "id": "super-intensity",
   "metadata": {},
   "source": [
    "Q35 \n",
    "Ask the user to enter \n",
    "their name and then \n",
    "display their name \n",
    "three times. "
   ]
  },
  {
   "cell_type": "markdown",
   "id": "lyric-elizabeth",
   "metadata": {},
   "source": [
    "Q36 \n",
    "Alter program 035 so that it will ask the user to enter their \n",
    "name and a number and then display their name that \n",
    "number of times. "
   ]
  },
  {
   "cell_type": "markdown",
   "id": "massive-neighbor",
   "metadata": {},
   "source": [
    "Q37 \n",
    "Ask the user to enter their name and display each letter in \n",
    "their name on a separate line"
   ]
  },
  {
   "cell_type": "markdown",
   "id": "broad-narrow",
   "metadata": {},
   "source": [
    "Q38 \n",
    "Change program \n",
    "037 to also ask for a \n",
    "number. Display \n",
    "their name (one \n",
    "letter at a time on \n",
    "each line) and \n",
    "repeat this for the \n",
    "number of times \n",
    "they entered. "
   ]
  },
  {
   "cell_type": "markdown",
   "id": "accepted-class",
   "metadata": {},
   "source": [
    "Q39 \n",
    "Ask the user to enter a number between 1 \n",
    "and 12 and then display the times table for \n",
    "that number. "
   ]
  },
  {
   "cell_type": "markdown",
   "id": "clean-following",
   "metadata": {},
   "source": [
    "Q40 \n",
    "Ask for a number below 50 and then count down from \n",
    "50 to that number, making sure you show the number \n",
    "they entered in the output. "
   ]
  },
  {
   "cell_type": "markdown",
   "id": "decreased-struggle",
   "metadata": {},
   "source": [
    "Q41 \n",
    "Ask the user to enter their \n",
    "name and a number. If the \n",
    "number is less than 10, then \n",
    "display their name that \n",
    "number of times; otherwise \n",
    "display the message “Too \n",
    "high” three times."
   ]
  },
  {
   "cell_type": "markdown",
   "id": "tutorial-composite",
   "metadata": {},
   "source": [
    "Q 42 \n",
    "Set a variable called total to 0. Ask the user to enter \n",
    "five numbers and after each input ask them if they \n",
    "want that number included. If they do, then add the \n",
    "number to the total. If they do not want it included, \n",
    "don’t add it to the total. After they have entered all five\n",
    "numbers, display the total."
   ]
  },
  {
   "cell_type": "markdown",
   "id": "wooden-recipe",
   "metadata": {},
   "source": [
    "Q43 \n",
    "Ask which direction the user wants to count (up or down). If they select up, then ask \n",
    "them for the top number and then count from 1 to that number. If they select down, ask \n",
    "them to enter a number below 20 and then count down from 20 to that number. If they \n",
    "entered something other than up or down, display the message “I don’t understand”. "
   ]
  },
  {
   "cell_type": "markdown",
   "id": "auburn-flight",
   "metadata": {},
   "source": [
    "Q44 Ask the user to enter \n",
    "a number. Keep \n",
    "asking until they enter \n",
    "a value over 5 and \n",
    "then display the \n",
    "message “The last \n",
    "number you entered \n",
    "was a [number]” and \n",
    "stop the program. "
   ]
  },
  {
   "cell_type": "markdown",
   "id": "brutal-assignment",
   "metadata": {},
   "source": [
    "Q45 Create a tuple containing the names of five countries and display the whole tuple. Ask \n",
    "the user to enter one of the countries that have been shown to them and then display \n",
    "the index number (i.e. position in the list) of that item in the tuple."
   ]
  },
  {
   "cell_type": "markdown",
   "id": "heard-adapter",
   "metadata": {},
   "source": [
    "Q46 Add to program 069 to ask the \n",
    "user to enter a number and \n",
    "display the country in that \n",
    "position."
   ]
  },
  {
   "cell_type": "markdown",
   "id": "opening-energy",
   "metadata": {},
   "source": [
    "Q47 Create a list of two sports. Ask the \n",
    "user what their favourite sport is and \n",
    "add this to the end of the list. Sort the \n",
    "list and display it."
   ]
  },
  {
   "cell_type": "markdown",
   "id": "shared-incentive",
   "metadata": {},
   "source": [
    "Q48 Create a list of six school subjects. Ask the user which of these \n",
    "subjects they don’t like. Delete the subject they have chosen from the \n",
    "list before you display the list again."
   ]
  },
  {
   "cell_type": "markdown",
   "id": "criminal-jones",
   "metadata": {},
   "source": [
    "Q49 Enter a list of ten colours. \n",
    "Ask the user for a starting \n",
    "number between 0 and 4 \n",
    "and an end number \n",
    "between 5 and 9. Display \n",
    "the list for those colours \n",
    "between the start and end \n",
    "numbers the user input."
   ]
  },
  {
   "cell_type": "markdown",
   "id": "exterior-brush",
   "metadata": {},
   "source": [
    "Q50 Create a list of four three-digit \n",
    "numbers. Display the list to the \n",
    "user, showing each item from \n",
    "the list on a separate line. Ask \n",
    "the user to enter a three-digit \n",
    "number. If the number they \n",
    "have typed in matches one in \n",
    "the list, display the position of \n",
    "that number in the list, \n",
    "otherwise display the message \n",
    "“That is not in the list”. "
   ]
  },
  {
   "cell_type": "markdown",
   "id": "abroad-uzbekistan",
   "metadata": {},
   "source": [
    "Q51 Ask the user to type in their favourite school subject. \n",
    "Display it with “-” after each letter, e.g. S-p-a-n-i-s-h-."
   ]
  },
  {
   "cell_type": "markdown",
   "id": "documented-qualification",
   "metadata": {},
   "source": [
    "Q52 Show the user a line of text from your favourite poem \n",
    "and ask for a starting and ending point. Display the \n",
    "characters between those two points. "
   ]
  },
  {
   "cell_type": "markdown",
   "id": "dressed-benjamin",
   "metadata": {},
   "source": [
    "Q53 Ask the user to type in a word in upper case. If they \n",
    "type it in lower case, ask them to try again. Keep \n",
    "repeating this until they type in a message all in \n",
    "uppercase."
   ]
  },
  {
   "cell_type": "markdown",
   "id": "featured-beach",
   "metadata": {},
   "source": [
    "Q54 Ask the user to enter a new password. Ask \n",
    "them to enter it again. If the two passwords \n",
    "match, display “Thank you”. If the letters are \n",
    "correct but in the wrong case, display the \n",
    "message “They must be in the same case”, \n",
    "otherwise display the message “Incorrect”."
   ]
  },
  {
   "cell_type": "code",
   "execution_count": null,
   "id": "acting-rebate",
   "metadata": {},
   "outputs": [],
   "source": []
  }
 ],
 "metadata": {
  "kernelspec": {
   "display_name": "Python 3 (ipykernel)",
   "language": "python",
   "name": "python3"
  },
  "language_info": {
   "codemirror_mode": {
    "name": "ipython",
    "version": 3
   },
   "file_extension": ".py",
   "mimetype": "text/x-python",
   "name": "python",
   "nbconvert_exporter": "python",
   "pygments_lexer": "ipython3",
   "version": "3.11.4"
  }
 },
 "nbformat": 4,
 "nbformat_minor": 5
}
