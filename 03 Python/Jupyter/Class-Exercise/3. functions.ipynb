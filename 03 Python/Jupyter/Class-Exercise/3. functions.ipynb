{
 "cells": [
  {
   "cell_type": "markdown",
   "id": "9a9cbb11-9a12-4f89-95b6-95b42ac89250",
   "metadata": {},
   "source": [
    "# User defined function practice question"
   ]
  },
  {
   "cell_type": "markdown",
   "id": "9bbca5f0-3bdc-4934-b62a-bd34f556c4c2",
   "metadata": {},
   "source": [
    "1. Define a simple function that returns the square of a number."
   ]
  },
  {
   "cell_type": "code",
   "execution_count": 1,
   "id": "ae3145a4-16e3-48b4-bd60-895c81e96e6d",
   "metadata": {},
   "outputs": [
    {
     "data": {
      "text/plain": [
       "9"
      ]
     },
     "execution_count": 1,
     "metadata": {},
     "output_type": "execute_result"
    }
   ],
   "source": [
    "def square(n):\n",
    "    return n*n\n",
    "    \n",
    "square(3)"
   ]
  },
  {
   "cell_type": "markdown",
   "id": "86e76543-63ff-4612-bce6-37a8e97c2f6b",
   "metadata": {},
   "source": [
    "2. Create a function that takes two arguments and returns their sum."
   ]
  },
  {
   "cell_type": "code",
   "execution_count": 2,
   "id": "e5806a54-5bbc-4e36-82b9-4dcbf330e557",
   "metadata": {},
   "outputs": [
    {
     "data": {
      "text/plain": [
       "5"
      ]
     },
     "execution_count": 2,
     "metadata": {},
     "output_type": "execute_result"
    }
   ],
   "source": [
    "def sum(x, y):\n",
    "    return x+y\n",
    "\n",
    "sum(2,3)"
   ]
  },
  {
   "cell_type": "markdown",
   "id": "c11fd83a-0636-4e70-8f3c-bf76cdeac165",
   "metadata": {},
   "source": [
    "3. Write a function that accepts a string and returns it reversed."
   ]
  },
  {
   "cell_type": "code",
   "execution_count": 3,
   "id": "dbf72fd1-3caa-48f3-8b54-ed6e62a419d8",
   "metadata": {},
   "outputs": [
    {
     "data": {
      "text/plain": [
       "'ymmoMruoy'"
      ]
     },
     "execution_count": 3,
     "metadata": {},
     "output_type": "execute_result"
    }
   ],
   "source": [
    "def revString(s):\n",
    "    return s[::-1]\n",
    "    # return ''.join(reversed(s))\n",
    "\n",
    "revString('yourMommy')"
   ]
  },
  {
   "cell_type": "markdown",
   "id": "f0e991c9-9396-4a5f-af86-79d9630c86f5",
   "metadata": {},
   "source": [
    "4. Define a function that checks if a number is prime."
   ]
  },
  {
   "cell_type": "code",
   "execution_count": 4,
   "id": "04d6ea22-5686-4c01-9175-0b078255f03d",
   "metadata": {},
   "outputs": [
    {
     "data": {
      "text/plain": [
       "True"
      ]
     },
     "execution_count": 4,
     "metadata": {},
     "output_type": "execute_result"
    }
   ],
   "source": [
    "def isPrime(n):\n",
    "    if n <= 1: return False\n",
    "    if n <= 3: return True\n",
    "    if n % 2 == 0 or n % 3 == 0: return False\n",
    "    \n",
    "    i = 5\n",
    "    while i * i <= n:\n",
    "        if n % i == 0 or n % (i + 2) == 0:\n",
    "            return False\n",
    "        i += 6\n",
    "    return True\n",
    "isPrime(7)"
   ]
  },
  {
   "cell_type": "markdown",
   "id": "c1d14ea1-2922-4954-84f1-a3bb60dd17ff",
   "metadata": {},
   "source": [
    "5. Write a function that takes a list of numbers and returns the maximum value."
   ]
  },
  {
   "cell_type": "code",
   "execution_count": 5,
   "id": "2ad5e391-6842-4587-b3ed-a1d5d811714d",
   "metadata": {},
   "outputs": [
    {
     "data": {
      "text/plain": [
       "87"
      ]
     },
     "execution_count": 5,
     "metadata": {},
     "output_type": "execute_result"
    }
   ],
   "source": [
    "def maxNum(nums):\n",
    "    # return max(nums)\n",
    "    mx = -99999\n",
    "    for n in nums:\n",
    "        if n>mx: mx = n\n",
    "    return mx\n",
    "\n",
    "maxNum([65,43,87,32,67,54])"
   ]
  },
  {
   "cell_type": "markdown",
   "id": "096a27a1-e25f-4127-a9b2-60fbce0cfefb",
   "metadata": {},
   "source": [
    "6. Create a function that calculates the factorial of a number."
   ]
  },
  {
   "cell_type": "code",
   "execution_count": 6,
   "id": "949cbe8e-ecec-40a7-af77-600ba6828645",
   "metadata": {},
   "outputs": [
    {
     "data": {
      "text/plain": [
       "120"
      ]
     },
     "execution_count": 6,
     "metadata": {},
     "output_type": "execute_result"
    }
   ],
   "source": [
    "def factorial(n):\n",
    "    fact = 1\n",
    "    for i in range(1,n+1):\n",
    "        fact = fact*i\n",
    "    return fact\n",
    "factorial(5)"
   ]
  },
  {
   "cell_type": "markdown",
   "id": "a1692c69-5106-4a98-93f6-5168651eeade",
   "metadata": {},
   "source": [
    "7. Define a function that takes a list and returns a new list with only the even numbers."
   ]
  },
  {
   "cell_type": "code",
   "execution_count": 7,
   "id": "a8a4cb03-f956-4b82-93eb-231a3444dc33",
   "metadata": {},
   "outputs": [
    {
     "data": {
      "text/plain": [
       "[4, 4, 0, 8, 4]"
      ]
     },
     "execution_count": 7,
     "metadata": {},
     "output_type": "execute_result"
    }
   ],
   "source": [
    "def evens(nums):\n",
    "    # return [n for n in nums if n % 2 == 0]\n",
    "    ev = []\n",
    "    for n in nums:\n",
    "        if n%2==0: ev.append(n)\n",
    "    return ev\n",
    "\n",
    "evens([1,5,7,4,4,7,9,5,9,0,8,4,5])"
   ]
  },
  {
   "cell_type": "markdown",
   "id": "8d0c53f9-abd2-42d1-9bdc-6160f867187f",
   "metadata": {},
   "source": [
    "8. Write a function that takes a list of strings and returns the longest string."
   ]
  },
  {
   "cell_type": "code",
   "execution_count": 8,
   "id": "94ee2b87-c0c5-4d04-bcd2-dd48bdbd913c",
   "metadata": {},
   "outputs": [
    {
     "data": {
      "text/plain": [
       "'yourBrother'"
      ]
     },
     "execution_count": 8,
     "metadata": {},
     "output_type": "execute_result"
    }
   ],
   "source": [
    "def longStr(*s):\n",
    "    # return max(s, key=len)\n",
    "    ans = ''\n",
    "    for i in s:\n",
    "        if len(i)>len(ans): ans = i;\n",
    "    return ans\n",
    "    \n",
    "longStr('yourMommy', 'yourDaddy', 'yourBrother', 'yourSister')"
   ]
  },
  {
   "cell_type": "markdown",
   "id": "c308d0fa-bd72-4393-9fb3-3b1f36224c6f",
   "metadata": {},
   "source": [
    "9. Create a function that accepts any number of arguments and returns their product."
   ]
  },
  {
   "cell_type": "code",
   "execution_count": 9,
   "id": "4f33d933-b37a-4c98-a1bd-0db534c336e6",
   "metadata": {},
   "outputs": [
    {
     "data": {
      "text/plain": [
       "120"
      ]
     },
     "execution_count": 9,
     "metadata": {},
     "output_type": "execute_result"
    }
   ],
   "source": [
    "def multiply(*n):\n",
    "    output = 1\n",
    "    for i in n:\n",
    "        output*=i\n",
    "    return output\n",
    "\n",
    "multiply(1,2,3,4,5)"
   ]
  },
  {
   "cell_type": "markdown",
   "id": "8f73891f-1535-4d4d-b552-8c6b4038f5c3",
   "metadata": {},
   "source": [
    "10. Define a function that takes a dictionary and returns a list of its keys."
   ]
  },
  {
   "cell_type": "code",
   "execution_count": 10,
   "id": "bf6f9322-1d04-49fb-add0-6ae0418c55ad",
   "metadata": {},
   "outputs": [
    {
     "data": {
      "text/plain": [
       "dict_keys(['+', '-', '/', '*', '**', '//', '%'])"
      ]
     },
     "execution_count": 10,
     "metadata": {},
     "output_type": "execute_result"
    }
   ],
   "source": [
    "def retKeys(D):\n",
    "    return D.keys()\n",
    "\n",
    "operators = {\n",
    "    '+': 'addition',\n",
    "    '-': 'subtraction',\n",
    "    '/': 'division',\n",
    "    '*': 'multiplication',\n",
    "    '**': 'exponentiation',\n",
    "    '//': 'floor division',\n",
    "    '%': 'modulus'\n",
    "}\n",
    "\n",
    "retKeys(operators)"
   ]
  },
  {
   "cell_type": "code",
   "execution_count": null,
   "id": "bf1634e7-e794-4e1d-bbfc-eb23d833a983",
   "metadata": {},
   "outputs": [],
   "source": []
  }
 ],
 "metadata": {
  "kernelspec": {
   "display_name": "Python 3 (ipykernel)",
   "language": "python",
   "name": "python3"
  },
  "language_info": {
   "codemirror_mode": {
    "name": "ipython",
    "version": 3
   },
   "file_extension": ".py",
   "mimetype": "text/x-python",
   "name": "python",
   "nbconvert_exporter": "python",
   "pygments_lexer": "ipython3",
   "version": "3.12.3"
  }
 },
 "nbformat": 4,
 "nbformat_minor": 5
}
