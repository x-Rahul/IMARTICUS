{
 "cells": [
  {
   "cell_type": "code",
   "execution_count": 7,
   "id": "b24edea2-2b48-4a1b-817b-c07fae2f66b3",
   "metadata": {},
   "outputs": [
    {
     "name": "stdout",
     "output_type": "stream",
     "text": [
      "Original 1D array:\n",
      "[1 2 3 4 5]\n",
      "Shape of original array: (5,)\n",
      "\n",
      "Column vector:\n",
      "[[1]\n",
      " [2]\n",
      " [3]\n",
      " [4]\n",
      " [5]]\n",
      "Shape of column vector: (5, 1)\n",
      "\n",
      "Row vector:\n",
      " [[1 2 3 4 5]]\n",
      "Shape of row vector: (1, 5)\n"
     ]
    }
   ],
   "source": [
    "import numpy as np\n",
    "\n",
    "# Example 1D array\n",
    "a = np.array([1, 2, 3, 4, 5])\n",
    "\n",
    "# Convert to a column vector using np.newaxis\n",
    "column_vector = a[:, np.newaxis]\n",
    "\n",
    "print(\"Original 1D array:\")\n",
    "print(a)\n",
    "print(\"Shape of original array:\", a.shape)\n",
    "\n",
    "print(\"\\nColumn vector:\")\n",
    "print(column_vector)\n",
    "print(\"Shape of column vector:\", column_vector.shape)\n",
    "\n",
    "# Adding a new axis to convert 1D array to a row vector\n",
    "a_row = a[np.newaxis,:]\n",
    "print(\"\\nRow vector:\\n\", a_row)\n",
    "print(\"Shape of row vector:\", a_row.shape)"
   ]
  },
  {
   "cell_type": "code",
   "execution_count": 9,
   "id": "d32c6797-8f4b-4da4-a430-9c6afa2fbdb4",
   "metadata": {},
   "outputs": [
    {
     "name": "stdout",
     "output_type": "stream",
     "text": [
      "Original 2D array (matrix):\n",
      "[[1 2 3]\n",
      " [4 5 6]]\n",
      "Shape of original array: (2, 3)\n",
      "\n",
      "Matrix with new axis at position 1 (rows):\n",
      "[[[1 2 3]\n",
      "  [4 5 6]]]\n",
      "Shape of matrix with new axis at position 1: (1, 2, 3)\n",
      "\n",
      "Matrix with new axis at position 2 (columns):\n",
      "[[[1 2 3]]\n",
      "\n",
      " [[4 5 6]]]\n",
      "Shape of matrix with new axis at position 2: (2, 1, 3)\n",
      "\n",
      "Matrix with new axis at the end (depth):\n",
      "[[[1]\n",
      "  [2]\n",
      "  [3]]\n",
      "\n",
      " [[4]\n",
      "  [5]\n",
      "  [6]]]\n",
      "Shape of matrix with new axis at the end: (2, 3, 1)\n"
     ]
    }
   ],
   "source": [
    "import numpy as np\n",
    "\n",
    "# Example 2D array (matrix)\n",
    "b = np.array([[1, 2, 3],\n",
    "              [4, 5, 6]])\n",
    "print(\"Original 2D array (matrix):\")\n",
    "print(b)\n",
    "print(\"Shape of original array:\", b.shape)\n",
    "\n",
    "# Insert a new axis at position 1 (rows) using np.newaxis\n",
    "matrix_with_axis = b[np.newaxis,:,:]\n",
    "\n",
    "print(\"\\nMatrix with new axis at position 1 (rows):\")\n",
    "print(matrix_with_axis)\n",
    "print(\"Shape of matrix with new axis at position 1:\", matrix_with_axis.shape)\n",
    "\n",
    "# Insert a new axis at position 2 (columns) using np.newaxis\n",
    "matrix_with_axis_columns = b[:, np.newaxis, :]\n",
    "\n",
    "print(\"\\nMatrix with new axis at position 2 (columns):\")\n",
    "print(matrix_with_axis_columns)\n",
    "print(\"Shape of matrix with new axis at position 2:\", matrix_with_axis_columns.shape)\n",
    "\n",
    "# Insert a new axis at the end (depth) using np.newaxis\n",
    "matrix_with_axis_depth = b[:, :, np.newaxis]\n",
    "\n",
    "print(\"\\nMatrix with new axis at the end (depth):\")\n",
    "print(matrix_with_axis_depth)\n",
    "print(\"Shape of matrix with new axis at the end:\", matrix_with_axis_depth.shape)"
   ]
  },
  {
   "cell_type": "code",
   "execution_count": null,
   "id": "c0f1c91c-6459-4485-96e8-26de4f3fd4f0",
   "metadata": {},
   "outputs": [],
   "source": []
  }
 ],
 "metadata": {
  "kernelspec": {
   "display_name": "Python 3 (ipykernel)",
   "language": "python",
   "name": "python3"
  },
  "language_info": {
   "codemirror_mode": {
    "name": "ipython",
    "version": 3
   },
   "file_extension": ".py",
   "mimetype": "text/x-python",
   "name": "python",
   "nbconvert_exporter": "python",
   "pygments_lexer": "ipython3",
   "version": "3.11.4"
  }
 },
 "nbformat": 4,
 "nbformat_minor": 5
}
