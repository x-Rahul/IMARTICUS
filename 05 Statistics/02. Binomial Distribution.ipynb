{
 "cells": [
  {
   "cell_type": "markdown",
   "id": "f9fea08b-aedc-44be-8b23-c1ba06dec249",
   "metadata": {},
   "source": [
    "### Binomial Distribution\n",
    "\n",
    "The Binomial distribution is a discrete probability distribution that describes the number of successes $ k $ in a fixed number $ n $ of independent Bernoulli trials, where each trial has two possible outcomes (success or failure) with a constant probability of success $ p $.\n",
    "\n",
    "#### Characteristics of the Binomial Distribution\n",
    "\n",
    "1. **Parameters**:\n",
    "   - $ n $: The number of independent trials.\n",
    "   - $ p $: The probability of success on each trial.\n",
    "   - $ q = 1 - p $: The probability of failure on each trial.\n",
    "\n",
    "2. **Probability Mass Function (PMF)**:\n",
    "   For a random variable $ X $ following a Binomial distribution with parameters $ n $ and $ p $, the PMF is:\n",
    "   \n",
    "   $$\n",
    "   P(X = k) = \\binom{n}{k} p^k q^{n-k}, \\quad \\text{for } k = 0, 1, 2, \\ldots, n\n",
    "   $$\n",
    "   \n",
    "   where $ \\binom{n}{k} $ is the binomial coefficient.\n",
    "\n",
    "3. **Mean and Variance**:\n",
    "   The mean and variance of a Binomial distributed random variable $ X $ are:\n",
    "   \n",
    "   $$\n",
    "   E(X) = n \\cdot p\n",
    "   $$\n",
    "   $$\n",
    "   \\text{Var}(X) = n \\cdot p \\cdot q\n",
    "   $$\n",
    "\n",
    "#### Applications\n",
    "\n",
    "The Bernoulli distribution is fundamental in probability theory and is used in modeling binary outcomes, such as success/failure, true/false, and yes/no scenarios.\n",
    "\n",
    "- **Business**: Sales success rates, customer conversion rates.\n",
    "- **Science**: Biological experiments, quality control.\n",
    "- **Engineering**: Reliability testing, failure analysis.\n",
    "\n",
    "#### Example\n",
    "\n",
    "If you flip a fair coin 10 times (where $ n = 10 $) and want to find the probability of getting exactly 3 heads (where $ k = 3 $), you can use the Binomial distribution with $ p = 0.5 $:\n",
    "\n",
    "$$\n",
    "P(X = 3) = \\binom{10}{3} (0.5)^3 (0.5)^7 = \\binom{10}{3} (0.5)^{10}\n",
    "$$\n"
   ]
  },
  {
   "cell_type": "markdown",
   "id": "7f021fb8-34da-43ba-b5a2-787df11feab5",
   "metadata": {},
   "source": [
    "### Binomial Distribution Example\n",
    "\n",
    "**Example:**\n",
    "Suppose a factory produces light bulbs, and each light bulb has a 5% chance of being defective. If we select 100 light bulbs at random, the number of defective bulbs follows a binomial distribution with parameters $n = 100$ (number of trials) and $p = 0.05$ (probability of success, in this case, a bulb being defective).\n",
    "\n",
    "The probability mass function (PMF) of a binomial distribution is given by:\n",
    "\n",
    "$$ P(X = k) = \\binom{n}{k} p^k (1 - p)^{n - k} $$\n",
    "\n",
    "Where:\n",
    "- $n$ is the number of trials (100 in this example).\n",
    "- $k$ is the number of successes (number of defective bulbs).\n",
    "- $p$ is the probability of success (0.05 in this example).\n",
    "\n",
    "The mean $\\mu$ and standard deviation $\\sigma$ of a binomial distribution are given by:\n",
    "\n",
    "$$ \\mu = np $$\n",
    "$$ \\sigma = \\sqrt{np(1-p)} $$\n",
    "\n",
    "### Calculations:\n",
    "- Mean: $\\mu = np = 100 \\times 0.05 = 5$\n",
    "- Standard deviation: $\\sigma = \\sqrt{np(1-p)} = \\sqrt{100 \\times 0.05 \\times 0.95} \\approx 2.18$\n",
    "\n",
    "### Plotting the Binomial Distribution\n",
    "\n",
    "The plot below shows the binomial distribution for $n = 100$ and $p = 0.05$. \n",
    "\n",
    "From our calculations:\n",
    "- The mean $\\mu$ is 5.\n",
    "- The standard deviation $\\sigma$ is approximately 2.18.\n",
    "\n",
    "This means that on average, we expect 5 defective bulbs out of 100, with a standard deviation of about 2.18 bulbs.\n",
    "\n",
    "```python\n",
    "import numpy as np\n",
    "import matplotlib.pyplot as plt\n",
    "from scipy.stats import binom\n",
    "\n",
    "# Parameters\n",
    "n = 100\n",
    "p = 0.05\n",
    "\n",
    "# Mean and standard deviation\n",
    "mean = n * p\n",
    "std_dev = np.sqrt(n * p * (1 - p))\n",
    "\n",
    "# Binomial distribution\n",
    "x = np.arange(0, n+1)\n",
    "pmf = binom.pmf(x, n, p)\n",
    "\n",
    "# Plotting\n",
    "plt.figure(figsize=(10, 6))\n",
    "plt.bar(x, pmf, color='blue', alpha=0.7)\n",
    "plt.title('Binomial Distribution (n=100, p=0.05)')\n",
    "plt.xlabel('Number of Defective Bulbs')\n",
    "plt.ylabel('Probability')\n",
    "plt.grid(True)\n",
    "plt.show()\n",
    "\n",
    "mean, std_dev\n"
   ]
  },
  {
   "cell_type": "code",
   "execution_count": 5,
   "id": "44fc5d74-f542-41de-8067-668b3f86d03e",
   "metadata": {},
   "outputs": [
    {
     "data": {
      "image/png": "[encoded data removed]",
      "text/plain": [
       "<Figure size 1000x600 with 1 Axes>"
      ]
     },
     "metadata": {},
     "output_type": "display_data"
    },
    {
     "data": {
      "text/plain": [
       "(5.0, 2.179449471770337)"
      ]
     },
     "execution_count": 5,
     "metadata": {},
     "output_type": "execute_result"
    }
   ],
   "source": [
    "import numpy as np\n",
    "import matplotlib.pyplot as plt\n",
    "from scipy.stats import binom\n",
    "\n",
    "# Parameters\n",
    "n = 100\n",
    "p = 0.05\n",
    "\n",
    "# Mean and standard deviation\n",
    "mean = n * p\n",
    "std_dev = np.sqrt(n * p * (1 - p))\n",
    "\n",
    "# Binomial distribution\n",
    "x = np.arange(0, n+1)\n",
    "pmf = binom.pmf(x, n, p)\n",
    "\n",
    "# Plotting\n",
    "plt.figure(figsize=(10, 6))\n",
    "plt.bar(x, pmf, color='blue', alpha=0.7)\n",
    "plt.title('Binomial Distribution (n=100, p=0.05)')\n",
    "plt.xlabel('Number of Defective Bulbs')\n",
    "plt.ylabel('Probability')\n",
    "plt.grid(True)\n",
    "plt.show()\n",
    "\n",
    "mean, std_dev"
   ]
  },
  {
   "cell_type": "code",
   "execution_count": null,
   "id": "4c02cf63",
   "metadata": {},
   "outputs": [],
   "source": []
  }
 ],
 "metadata": {
  "kernelspec": {
   "display_name": "Python 3 (ipykernel)",
   "language": "python",
   "name": "python3"
  },
  "language_info": {
   "codemirror_mode": {
    "name": "ipython",
    "version": 3
   },
   "file_extension": ".py",
   "mimetype": "text/x-python",
   "name": "python",
   "nbconvert_exporter": "python",
   "pygments_lexer": "ipython3",
   "version": "3.11.4"
  }
 },
 "nbformat": 4,
 "nbformat_minor": 5
}
