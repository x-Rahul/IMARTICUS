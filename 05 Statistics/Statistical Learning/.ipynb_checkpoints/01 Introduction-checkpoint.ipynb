{
 "cells": [
  {
   "cell_type": "markdown",
   "id": "9365294b-d093-4014-a24f-89a8fe6885d6",
   "metadata": {},
   "source": [
    "# Chapter 01\n",
    "## Introduction"
   ]
  },
  {
   "cell_type": "markdown",
   "id": "1bda8d97-85ab-41d7-982d-0998835619a4",
   "metadata": {},
   "source": [
    "### A Brief History of Statistical Learning"
   ]
  },
  {
   "cell_type": "markdown",
   "id": "a9cd9886-73fd-4e99-8db9-778733dba5c2",
   "metadata": {},
   "source": [
    "- **Early 19th Century**: Development of the method of least squares, the earliest form of linear regression, used in astronomy.\n",
    "- **1936**: Introduction of linear discriminant analysis for predicting qualitative values.\n",
    "- **1940s**: Development of logistic regression as an alternative to linear discriminant analysis.\n",
    "- **Early 1970s**: The term generalized linear model was introduced, encompassing both linear and logistic regression.\n",
    "- **Late 1970s**: Many more linear methods for data learning became available, although non-linear methods were computationally difficult.\n",
    "- **1980s**: Advances in computing technology allowed the use of non-linear methods. Development of classification and regression trees, generalized additive models, and the rise of neural networks.\n",
    "- **1990s**: Emergence of support vector machines.\n",
    "- **Recent Years**: Statistical learning has evolved into a prominent subfield with a focus on supervised and unsupervised modeling and prediction, driven by the availability of powerful and user-friendly software like Python."
   ]
  },
  {
   "cell_type": "code",
   "execution_count": null,
   "id": "bd4e9f93-41a8-4a6a-8278-3e5ffd020342",
   "metadata": {},
   "outputs": [],
   "source": []
  }
 ],
 "metadata": {
  "kernelspec": {
   "display_name": "Python 3 (ipykernel)",
   "language": "python",
   "name": "python3"
  },
  "language_info": {
   "codemirror_mode": {
    "name": "ipython",
    "version": 3
   },
   "file_extension": ".py",
   "mimetype": "text/x-python",
   "name": "python",
   "nbconvert_exporter": "python",
   "pygments_lexer": "ipython3",
   "version": "3.11.4"
  }
 },
 "nbformat": 4,
 "nbformat_minor": 5
}
