{
 "cells": [
  {
   "cell_type": "markdown",
   "id": "5aad9036-49bb-481b-b105-2195036a3cc6",
   "metadata": {},
   "source": [
    "# Linear Regression\n",
    "\n",
    "Linear regression is a fundamental statistical method used in data science and machine learning to model the relationship between one dependent variable and one or more independent variables. It is one of the simplest and most widely used techniques for predictive analysis.\n",
    "\n",
    "## Key Concepts\n",
    "\n",
    "### 1. Dependent and Independent Variables\n",
    "\n",
    "- **Dependent Variable**: The variable you are trying to predict or explain, denoted as $y$.\n",
    "- **Independent Variables**: The variables used to predict the dependent variable, denoted as $x_1, x_2, \\dots, x_n$.\n",
    "\n",
    "### 2. Equation of a Linear Model\n",
    "\n",
    "#### Simple Linear Regression\n",
    "\n",
    "For simple linear regression (with one independent variable), the relationship is modeled as:\n",
    "$$\n",
    "y = \\beta_0 + \\beta_1 x + \\epsilon\n",
    "$$\n",
    "- $y$: Dependent variable\n",
    "- $x$: Independent variable\n",
    "- $\\beta_0$: Intercept (value of $y$ when $x$ is 0)\n",
    "- $\\beta_1$: Slope (change in $y$ for a one-unit change in $x$)\n",
    "- $\\epsilon$: Error term (difference between observed and predicted values of $y$)\n",
    "\n",
    "#### Multiple Linear Regression\n",
    "\n",
    "For multiple linear regression (with multiple independent variables), the model extends to:\n",
    "$$\n",
    "y = \\beta_0 + \\beta_1 x_1 + \\beta_2 x_2 + \\dots + \\beta_n x_n + \\epsilon\n",
    "$$\n",
    "- $y$: Dependent variable\n",
    "- $x_1, x_2, \\dots, x_n$: Independent variables\n",
    "- $\\beta_0$: Intercept\n",
    "- $\\beta_1, \\beta_2, \\dots, \\beta_n$: Coefficients of the predictors\n",
    "- $\\epsilon$: Error term\n",
    "\n",
    "### 3. Objective\n",
    "\n",
    "The goal of linear regression (both simple and multiple) is to find the values of the coefficients $\\beta_0, \\beta_1, \\dots, \\beta_n$ that minimize the difference between the predicted and actual values of $y$. This is achieved using **Least Squares**, which minimizes the sum of the squared differences between observed and predicted values.\n",
    "\n",
    "### 4. Calculation of Coefficients\n",
    "\n",
    "#### Simple Linear Regression\n",
    "\n",
    "- **Slope $\\beta_1$**:\n",
    "  $$\n",
    "  \\beta_1 = \\frac{\\sum_{i=1}^{n} (x_i - \\bar{x})(y_i - \\bar{y})}{\\sum_{i=1}^{n} (x_i - \\bar{x})^2}\n",
    "  $$\n",
    "\n",
    "- **Intercept $\\beta_0$**:\n",
    "  $$\n",
    "  \\beta_0 = \\bar{y} - \\beta_1 \\bar{x}\n",
    "  $$\n",
    "\n",
    "#### Multiple Linear Regression\n",
    "\n",
    "For multiple regression, the coefficients $\\beta_j$ are computed using matrix algebra to solve the normal equations:\n",
    "$$\n",
    "\\mathbf{\\hat{\\beta}} = (\\mathbf{X}^T \\mathbf{X})^{-1} \\mathbf{X}^T \\mathbf{y}\n",
    "$$\n",
    "where $\\mathbf{X}$ is the matrix of independent variables (including a column of ones for the intercept), and $\\mathbf{y}$ is the vector of observed values.\n",
    "\n",
    "## Key Statistical Metrics in Linear Regression\n",
    "\n",
    "### 1. Residual\n",
    "\n",
    "The residual is the difference between the observed value of the dependent variable and the value predicted by the model:\n",
    "$$\n",
    "e_i = y_i - \\hat{y}_i\n",
    "$$\n",
    "\n",
    "### 2. Residual Sum of Squares (RSS)\n",
    "\n",
    "RSS measures the total discrepancy between observed values and predicted values:\n",
    "$$\n",
    "\\text{RSS} = \\sum_{i=1}^{n} (y_i - \\hat{y}_i)^2\n",
    "$$\n",
    "\n",
    "### 3. Residual Standard Error (RSE)\n",
    "\n",
    "RSE measures the average distance of observed values from the regression line:\n",
    "$$\n",
    "\\text{RSE} = \\sqrt{\\frac{\\text{RSS}}{n - p - 1}}\n",
    "$$\n",
    "where $n$ is the number of observations and $p$ is the number of predictors (including the intercept term).\n",
    "\n",
    "### 4. Standard Error of the Coefficients\n",
    "\n",
    "The Standard Error of the coefficients measures the precision of the estimated coefficients. For a coefficient $\\hat{\\beta}_j$, it is calculated as:\n",
    "$$\n",
    "\\text{SE}(\\hat{\\beta}_j) = \\sqrt{\\text{Var}(\\hat{\\beta}_j)}\n",
    "$$\n",
    "where $\\text{Var}(\\hat{\\beta}_j)$ is the variance of the coefficient estimate.\n",
    "\n",
    "### 5. t-Statistics\n",
    "\n",
    "The t-statistic tests the null hypothesis that a regression coefficient is equal to zero:\n",
    "$$\n",
    "t = \\frac{\\hat{\\beta}_j}{\\text{SE}(\\hat{\\beta}_j)}\n",
    "$$\n",
    "where $\\hat{\\beta}_j$ is the estimated coefficient and $\\text{SE}(\\hat{\\beta}_j)$ is its standard error.\n",
    "\n",
    "### 6. p-Value\n",
    "\n",
    "The p-value measures the probability of observing the data if the null hypothesis is true. It tests whether the coefficient is significantly different from zero. A low p-value (< 0.05) indicates statistical significance.\n",
    "\n",
    "### 7. R-Squared ($R^2$)\n",
    "\n",
    "R-squared represents the proportion of variance in the dependent variable that is predictable from the independent variables:\n",
    "$$\n",
    "R^2 = 1 - \\frac{\\text{RSS}}{\\text{TSS}}\n",
    "$$\n",
    "where TSS is the Total Sum of Squares:\n",
    "$$\n",
    "\\text{TSS} = \\sum_{i=1}^{n} (y_i - \\bar{y})^2\n",
    "$$\n",
    "\n",
    "### 8. Correlation\n",
    "\n",
    "Correlation measures the strength and direction of a linear relationship between two variables. It ranges from -1 to 1.\n",
    "\n",
    "### 9. Covariance\n",
    "\n",
    "Covariance measures how two variables change together:\n",
    "$$\n",
    "\\text{Cov}(X, Y) = \\frac{\\sum_{i=1}^{n} (x_i - \\bar{x})(y_i - \\bar{y})}{n - 1}\n",
    "$$\n",
    "\n",
    "### 10. F-Statistic \n",
    "\n",
    "The F-statistic is used to assess the overall significance of a linear regression model. It tests whether the model as a whole provides a better fit to the data compared to a model with no predictors.\n",
    "\n",
    "The F-statistic is calculated as:\n",
    "$$\n",
    "F = \\frac{\\text{MSR}}{\\text{MSE}}\n",
    "$$\n",
    "where:\n",
    "- **MSR (Mean Square for Regression)** is given by:\n",
    "$$\n",
    "\\text{MSR} = \\frac{\\text{SSR}}{p}\n",
    "$$\n",
    "- **MSE (Mean Squared Error)** is given by:\n",
    "$$\n",
    "\\text{MSE} = \\frac{\\text{RSS}}{n - p - 1}\n",
    "$$\n",
    "\n",
    "Combining these, the formula becomes:\n",
    "$$\n",
    "F = \\frac{\\text{SSR} / p}{\\text{RSS} / (n - p - 1)}\n",
    "$$\n",
    "where:\n",
    "- **SSR (Sum of Squares for Regression)** measures the variation explained by the model.\n",
    "- **RSS (Residual Sum of Squares)** measures the variation not explained by the model.\n",
    "- **p**: Number of predictors.\n",
    "- **n**: Number of observations."
   ]
  },
  {
   "cell_type": "code",
   "execution_count": null,
   "id": "2c0c6fb8-2a13-4db7-a931-9f1fe1cbcb86",
   "metadata": {},
   "outputs": [],
   "source": []
  },
  {
   "cell_type": "code",
   "execution_count": 1,
   "id": "a7e467d7-c0e2-4c5b-b5d7-0774bcba1beb",
   "metadata": {},
   "outputs": [],
   "source": [
    "# pip install pandas scikit-learn statsmodels matplotlib"
   ]
  },
  {
   "cell_type": "code",
   "execution_count": 2,
   "id": "3c2df27c-8b9d-45af-9144-e2985726e4e2",
   "metadata": {},
   "outputs": [],
   "source": [
    "import pandas as pd\n",
    "import numpy as np\n",
    "import statsmodels.api as sm\n",
    "from sklearn.linear_model import LinearRegression\n",
    "from sklearn.metrics import mean_squared_error, r2_score\n",
    "import matplotlib.pyplot as plt"
   ]
  },
  {
   "cell_type": "code",
   "execution_count": 3,
   "id": "9f7e66be-1c3e-49e4-a548-ef4646871cc8",
   "metadata": {},
   "outputs": [
    {
     "name": "stdout",
     "output_type": "stream",
     "text": [
      "<class 'pandas.core.frame.DataFrame'>\n",
      "RangeIndex: 200 entries, 0 to 199\n",
      "Data columns (total 5 columns):\n",
      " #   Column      Non-Null Count  Dtype  \n",
      "---  ------      --------------  -----  \n",
      " 0   Unnamed: 0  200 non-null    int64  \n",
      " 1   TV          200 non-null    float64\n",
      " 2   radio       200 non-null    float64\n",
      " 3   newspaper   200 non-null    float64\n",
      " 4   sales       200 non-null    float64\n",
      "dtypes: float64(4), int64(1)\n",
      "memory usage: 7.9 KB\n"
     ]
    }
   ],
   "source": [
    "# Load dataset\n",
    "df = pd.read_csv('Dataset/Advertising.csv')\n",
    "df.info()"
   ]
  },
  {
   "cell_type": "code",
   "execution_count": 4,
   "id": "47035b3e-dcc5-428a-ba79-11781b6aebfa",
   "metadata": {},
   "outputs": [
    {
     "data": {
      "text/html": [
       "<div>\n",
       "<style scoped>\n",
       "    .dataframe tbody tr th:only-of-type {\n",
       "        vertical-align: middle;\n",
       "    }\n",
       "\n",
       "    .dataframe tbody tr th {\n",
       "        vertical-align: top;\n",
       "    }\n",
       "\n",
       "    .dataframe thead th {\n",
       "        text-align: right;\n",
       "    }\n",
       "</style>\n",
       "<table border=\"1\" class=\"dataframe\">\n",
       "  <thead>\n",
       "    <tr style=\"text-align: right;\">\n",
       "      <th></th>\n",
       "      <th>Unnamed: 0</th>\n",
       "      <th>TV</th>\n",
       "      <th>radio</th>\n",
       "      <th>newspaper</th>\n",
       "      <th>sales</th>\n",
       "    </tr>\n",
       "  </thead>\n",
       "  <tbody>\n",
       "    <tr>\n",
       "      <th>0</th>\n",
       "      <td>1</td>\n",
       "      <td>230.1</td>\n",
       "      <td>37.8</td>\n",
       "      <td>69.2</td>\n",
       "      <td>22.1</td>\n",
       "    </tr>\n",
       "    <tr>\n",
       "      <th>1</th>\n",
       "      <td>2</td>\n",
       "      <td>44.5</td>\n",
       "      <td>39.3</td>\n",
       "      <td>45.1</td>\n",
       "      <td>10.4</td>\n",
       "    </tr>\n",
       "    <tr>\n",
       "      <th>2</th>\n",
       "      <td>3</td>\n",
       "      <td>17.2</td>\n",
       "      <td>45.9</td>\n",
       "      <td>69.3</td>\n",
       "      <td>9.3</td>\n",
       "    </tr>\n",
       "    <tr>\n",
       "      <th>3</th>\n",
       "      <td>4</td>\n",
       "      <td>151.5</td>\n",
       "      <td>41.3</td>\n",
       "      <td>58.5</td>\n",
       "      <td>18.5</td>\n",
       "    </tr>\n",
       "    <tr>\n",
       "      <th>4</th>\n",
       "      <td>5</td>\n",
       "      <td>180.8</td>\n",
       "      <td>10.8</td>\n",
       "      <td>58.4</td>\n",
       "      <td>12.9</td>\n",
       "    </tr>\n",
       "  </tbody>\n",
       "</table>\n",
       "</div>"
      ],
      "text/plain": [
       "   Unnamed: 0     TV  radio  newspaper  sales\n",
       "0           1  230.1   37.8       69.2   22.1\n",
       "1           2   44.5   39.3       45.1   10.4\n",
       "2           3   17.2   45.9       69.3    9.3\n",
       "3           4  151.5   41.3       58.5   18.5\n",
       "4           5  180.8   10.8       58.4   12.9"
      ]
     },
     "execution_count": 4,
     "metadata": {},
     "output_type": "execute_result"
    }
   ],
   "source": [
    "df.head()"
   ]
  },
  {
   "cell_type": "code",
   "execution_count": 5,
   "id": "cba431c7-18e9-4214-97d2-bfa7ffaad2c2",
   "metadata": {},
   "outputs": [
    {
     "data": {
      "image/png": "[encoded data removed]",
      "text/plain": [
       "<Figure size 1500x500 with 3 Axes>"
      ]
     },
     "metadata": {},
     "output_type": "display_data"
    }
   ],
   "source": [
    "# Plot sales vs. TV\n",
    "plt.figure(figsize=(15, 5))\n",
    "\n",
    "plt.subplot(1, 3, 1)\n",
    "plt.scatter(df['TV'], df['sales'], color='blue', alpha=0.5)\n",
    "plt.xlabel('TV')\n",
    "plt.ylabel('sales')\n",
    "plt.title('sales vs. TV')\n",
    "\n",
    "# Plot sales vs. radio\n",
    "plt.subplot(1, 3, 2)\n",
    "plt.scatter(df['radio'], df['sales'], color='green', alpha=0.5)\n",
    "plt.xlabel('radio')\n",
    "plt.ylabel('sales')\n",
    "plt.title('sales vs. radio')\n",
    "\n",
    "# Plot sales vs. newspaper\n",
    "plt.subplot(1, 3, 3)\n",
    "plt.scatter(df['newspaper'], df['sales'], color='red', alpha=0.5)\n",
    "plt.xlabel('newspaper')\n",
    "plt.ylabel('sales')\n",
    "plt.title('sales vs. newspaper')\n",
    "\n",
    "plt.tight_layout()\n",
    "plt.show()\n"
   ]
  },
  {
   "cell_type": "code",
   "execution_count": 6,
   "id": "aeff5b09-6090-4fc9-863d-ee70d35d36eb",
   "metadata": {},
   "outputs": [
    {
     "data": {
      "text/html": [
       "<style>#sk-container-id-1 {color: black;}#sk-container-id-1 pre{padding: 0;}#sk-container-id-1 div.sk-toggleable {background-color: white;}#sk-container-id-1 label.sk-toggleable__label {cursor: pointer;display: block;width: 100%;margin-bottom: 0;padding: 0.3em;box-sizing: border-box;text-align: center;}#sk-container-id-1 label.sk-toggleable__label-arrow:before {content: \"▸\";float: left;margin-right: 0.25em;color: #696969;}#sk-container-id-1 label.sk-toggleable__label-arrow:hover:before {color: black;}#sk-container-id-1 div.sk-estimator:hover label.sk-toggleable__label-arrow:before {color: black;}#sk-container-id-1 div.sk-toggleable__content {max-height: 0;max-width: 0;overflow: hidden;text-align: left;background-color: #f0f8ff;}#sk-container-id-1 div.sk-toggleable__content pre {margin: 0.2em;color: black;border-radius: 0.25em;background-color: #f0f8ff;}#sk-container-id-1 input.sk-toggleable__control:checked~div.sk-toggleable__content {max-height: 200px;max-width: 100%;overflow: auto;}#sk-container-id-1 input.sk-toggleable__control:checked~label.sk-toggleable__label-arrow:before {content: \"▾\";}#sk-container-id-1 div.sk-estimator input.sk-toggleable__control:checked~label.sk-toggleable__label {background-color: #d4ebff;}#sk-container-id-1 div.sk-label input.sk-toggleable__control:checked~label.sk-toggleable__label {background-color: #d4ebff;}#sk-container-id-1 input.sk-hidden--visually {border: 0;clip: rect(1px 1px 1px 1px);clip: rect(1px, 1px, 1px, 1px);height: 1px;margin: -1px;overflow: hidden;padding: 0;position: absolute;width: 1px;}#sk-container-id-1 div.sk-estimator {font-family: monospace;background-color: #f0f8ff;border: 1px dotted black;border-radius: 0.25em;box-sizing: border-box;margin-bottom: 0.5em;}#sk-container-id-1 div.sk-estimator:hover {background-color: #d4ebff;}#sk-container-id-1 div.sk-parallel-item::after {content: \"\";width: 100%;border-bottom: 1px solid gray;flex-grow: 1;}#sk-container-id-1 div.sk-label:hover label.sk-toggleable__label {background-color: #d4ebff;}#sk-container-id-1 div.sk-serial::before {content: \"\";position: absolute;border-left: 1px solid gray;box-sizing: border-box;top: 0;bottom: 0;left: 50%;z-index: 0;}#sk-container-id-1 div.sk-serial {display: flex;flex-direction: column;align-items: center;background-color: white;padding-right: 0.2em;padding-left: 0.2em;position: relative;}#sk-container-id-1 div.sk-item {position: relative;z-index: 1;}#sk-container-id-1 div.sk-parallel {display: flex;align-items: stretch;justify-content: center;background-color: white;position: relative;}#sk-container-id-1 div.sk-item::before, #sk-container-id-1 div.sk-parallel-item::before {content: \"\";position: absolute;border-left: 1px solid gray;box-sizing: border-box;top: 0;bottom: 0;left: 50%;z-index: -1;}#sk-container-id-1 div.sk-parallel-item {display: flex;flex-direction: column;z-index: 1;position: relative;background-color: white;}#sk-container-id-1 div.sk-parallel-item:first-child::after {align-self: flex-end;width: 50%;}#sk-container-id-1 div.sk-parallel-item:last-child::after {align-self: flex-start;width: 50%;}#sk-container-id-1 div.sk-parallel-item:only-child::after {width: 0;}#sk-container-id-1 div.sk-dashed-wrapped {border: 1px dashed gray;margin: 0 0.4em 0.5em 0.4em;box-sizing: border-box;padding-bottom: 0.4em;background-color: white;}#sk-container-id-1 div.sk-label label {font-family: monospace;font-weight: bold;display: inline-block;line-height: 1.2em;}#sk-container-id-1 div.sk-label-container {text-align: center;}#sk-container-id-1 div.sk-container {/* jupyter's `normalize.less` sets `[hidden] { display: none; }` but bootstrap.min.css set `[hidden] { display: none !important; }` so we also need the `!important` here to be able to override the default hidden behavior on the sphinx rendered scikit-learn.org. See: https://github.com/scikit-learn/scikit-learn/issues/21755 */display: inline-block !important;position: relative;}#sk-container-id-1 div.sk-text-repr-fallback {display: none;}</style><div id=\"sk-container-id-1\" class=\"sk-top-container\"><div class=\"sk-text-repr-fallback\"><pre>LinearRegression()</pre><b>In a Jupyter environment, please rerun this cell to show the HTML representation or trust the notebook. <br />On GitHub, the HTML representation is unable to render, please try loading this page with nbviewer.org.</b></div><div class=\"sk-container\" hidden><div class=\"sk-item\"><div class=\"sk-estimator sk-toggleable\"><input class=\"sk-toggleable__control sk-hidden--visually\" id=\"sk-estimator-id-1\" type=\"checkbox\" checked><label for=\"sk-estimator-id-1\" class=\"sk-toggleable__label sk-toggleable__label-arrow\">LinearRegression</label><div class=\"sk-toggleable__content\"><pre>LinearRegression()</pre></div></div></div></div></div>"
      ],
      "text/plain": [
       "LinearRegression()"
      ]
     },
     "execution_count": 6,
     "metadata": {},
     "output_type": "execute_result"
    }
   ],
   "source": [
    "# Simple Linear Regression with TV\n",
    "X_tv = df[['TV']]\n",
    "y = df['sales']\n",
    "\n",
    "model_tv = LinearRegression()\n",
    "model_tv.fit(X_tv, y)"
   ]
  },
  {
   "cell_type": "code",
   "execution_count": 7,
   "id": "35ebf1cb-4aec-4dfd-a23d-33d525c9746c",
   "metadata": {},
   "outputs": [
    {
     "name": "stdout",
     "output_type": "stream",
     "text": [
      "Residual Sum of Squares (RSS): 2102.5305831313512\n",
      "Total Sum of Squares (TSS): 5417.14875\n",
      "R-squared: 0.611875050850071\n",
      "Mean Squared Error (MSE): 10.512652915656757\n",
      "Residual Standard Error (RSE): 3.2423221486546887\n"
     ]
    }
   ],
   "source": [
    "# Predicting values\n",
    "y_pred_tv = model_tv.predict(X_tv)\n",
    "\n",
    "# Calculate Key Statistical Metrics\n",
    "rss_tv = np.sum((y - y_pred_tv) ** 2)\n",
    "tss_tv = np.sum((y - np.mean(y)) ** 2)\n",
    "r2_tv = r2_score(y, y_pred_tv)\n",
    "mse_tv = mean_squared_error(y, y_pred_tv)\n",
    "se_tv = np.sqrt(mse_tv)  # Standard Error of the Residuals\n",
    "\n",
    "print(f\"Residual Sum of Squares (RSS): {rss_tv}\")\n",
    "print(f\"Total Sum of Squares (TSS): {tss_tv}\")\n",
    "print(f\"R-squared: {r2_tv}\")\n",
    "print(f\"Mean Squared Error (MSE): {mse_tv}\")\n",
    "print(f\"Residual Standard Error (RSE): {se_tv}\")"
   ]
  },
  {
   "cell_type": "code",
   "execution_count": 8,
   "id": "d0a7b23e-afa9-419c-824b-e34c284d0d36",
   "metadata": {
    "scrolled": true
   },
   "outputs": [
    {
     "name": "stdout",
     "output_type": "stream",
     "text": [
      "                            OLS Regression Results                            \n",
      "==============================================================================\n",
      "Dep. Variable:                  sales   R-squared:                       0.897\n",
      "Model:                            OLS   Adj. R-squared:                  0.896\n",
      "Method:                 Least Squares   F-statistic:                     570.3\n",
      "Date:                Sat, 24 Aug 2024   Prob (F-statistic):           1.58e-96\n",
      "Time:                        10:23:19   Log-Likelihood:                -386.18\n",
      "No. Observations:                 200   AIC:                             780.4\n",
      "Df Residuals:                     196   BIC:                             793.6\n",
      "Df Model:                           3                                         \n",
      "Covariance Type:            nonrobust                                         \n",
      "==============================================================================\n",
      "                 coef    std err          t      P>|t|      [0.025      0.975]\n",
      "------------------------------------------------------------------------------\n",
      "const          2.9389      0.312      9.422      0.000       2.324       3.554\n",
      "TV             0.0458      0.001     32.809      0.000       0.043       0.049\n",
      "radio          0.1885      0.009     21.893      0.000       0.172       0.206\n",
      "newspaper     -0.0010      0.006     -0.177      0.860      -0.013       0.011\n",
      "==============================================================================\n",
      "Omnibus:                       60.414   Durbin-Watson:                   2.084\n",
      "Prob(Omnibus):                  0.000   Jarque-Bera (JB):              151.241\n",
      "Skew:                          -1.327   Prob(JB):                     1.44e-33\n",
      "Kurtosis:                       6.332   Cond. No.                         454.\n",
      "==============================================================================\n",
      "\n",
      "Notes:\n",
      "[1] Standard Errors assume that the covariance matrix of the errors is correctly specified.\n"
     ]
    }
   ],
   "source": [
    "# Multiple Linear Regression with TV, radio, newspaper\n",
    "X = df[['TV', 'radio', 'newspaper']]\n",
    "y = df['sales']\n",
    "\n",
    "# Add constant for intercept\n",
    "X = sm.add_constant(X)\n",
    "\n",
    "model_multi = sm.OLS(y, X).fit()\n",
    "print(model_multi.summary())"
   ]
  },
  {
   "cell_type": "markdown",
   "id": "c40d725f-93ae-49d6-89a8-390623f9df79",
   "metadata": {},
   "source": [
    "## OLS Regression Results Summary\n",
    "\n",
    "### Model Fit Statistics\n",
    "\n",
    "- **Dependent Variable**: `sales`\n",
    "- **R-squared**: 0.897  \n",
    "  Approximately 89.7% of the variance in `sales` is explained by the model.\n",
    "- **Adjusted R-squared**: 0.896  \n",
    "  Adjusted for the number of predictors, indicating a very good fit.\n",
    "- **F-statistic**: 570.3  \n",
    "  High value suggests at least one predictor is significantly related to the dependent variable.\n",
    "- **Prob (F-statistic)**: 1.58e-96  \n",
    "  p-value indicates the model is statistically significant.\n",
    "- **Log-Likelihood**: -386.18  \n",
    "  Used for model comparison; higher (less negative) values indicate a better fit.\n",
    "- **No. Observations**: 200  \n",
    "  Number of observations in the dataset.\n",
    "- **AIC**: 780.4  \n",
    "  Akaike Information Criterion; lower values indicate a better model.\n",
    "- **BIC**: 793.6  \n",
    "  Bayesian Information Criterion; lower values indicate a better model.\n",
    "- **Df Residuals**: 196  \n",
    "  Degrees of freedom of residuals.\n",
    "- **Df Model**: 3  \n",
    "  Number of predictors in the model.\n",
    "\n",
    "### Coefficients and Significance\n",
    "\n",
    "| Predictor   | Coefficient | Std. Error | t-Statistic | p-Value | 95% Confidence Interval |\n",
    "|-------------|-------------|------------|-------------|---------|-------------------------|\n",
    "| const        | 2.9389      | 0.312      | 9.422       | 0.000   | [2.324, 3.554]          |\n",
    "| TV           | 0.0458      | 0.001      | 32.809      | 0.000   | [0.043, 0.049]          |\n",
    "| Radio        | 0.1885      | 0.009      | 21.893      | 0.000   | [0.172, 0.206]          |\n",
    "| Newspaper    | -0.0010     | 0.006      | -0.177      | 0.860   | [-0.013, 0.011]         |\n",
    "\n",
    "- **Intercept (const)**: 2.9389  \n",
    "  The estimated `Sales` when all predictors are zero.\n",
    "- **TV**: 0.0458  \n",
    "  Estimated increase in `Sales` for each unit increase in `TV` advertising.\n",
    "- **Radio**: 0.1885  \n",
    "  Estimated increase in `Sales` for each unit increase in `Radio` advertising.\n",
    "- **Newspaper**: -0.0010  \n",
    "  Estimated decrease in `Sales` for each unit increase in `Newspaper` advertising. Not statistically significant (p-value = 0.860).\n",
    "\n",
    "### Statistical Tests and Diagnostics\n",
    "\n",
    "- **Omnibus**: 60.414  \n",
    "  Test for normality of residuals. High value suggests non-normal residuals.\n",
    "- **Prob(Omnibus)**: 0.000  \n",
    "  p-value indicates residuals are not normally distributed.\n",
    "- **Jarque-Bera (JB)**: 151.241  \n",
    "  Another test for normality of residuals. High value suggests non-normal residuals.\n",
    "- **Prob(JB)**: 1.44e-33  \n",
    "  p-value indicates residuals are not normally distributed.\n",
    "- **Skew**: -1.327  \n",
    "  Negative skew indicates a longer left tail in residual distribution.\n",
    "- **Kurtosis**: 6.332  \n",
    "  Higher kurtosis indicates heavier tails in residual distribution.\n",
    "- **Condition Number**: 454  \n",
    "  Indicates potential issues with multicollinearity; values above 30 suggest potential concern.\n",
    "\n",
    "### Summary\n",
    "\n",
    "- The model explains a high percentage of the variance in `Sales` (R-squared = 0.897).\n",
    "- `TV` and `Radio` are significant predictors of `Sales`, while `Newspaper` is not.\n",
    "- Potential issues with the normality of residuals and multicollinearity may need further investigation.\n"
   ]
  },
  {
   "cell_type": "markdown",
   "id": "6e4d17ce-adc9-4e6d-b5d2-b522f119dc3d",
   "metadata": {},
   "source": [
    "## Pair Plot of the Predictors vs. Target:\n",
    "\n",
    "Purpose: To visualize the relationships between each predictor (independent variable) and the target variable (dependent variable).\n",
    "\n",
    "Interpretation:\n",
    "This plot shows scatter plots for each pair of variables and regression lines if specified. It helps in understanding the individual relationships between predictors and the target variable.\n",
    "Strong linear relationships between predictors and the target are usually indicated by a clear, straight-line pattern in the scatter plots.\n",
    "\n",
    "This plot can also help identify any obvious outliers or non-linear patterns that may affect the model."
   ]
  },
  {
   "cell_type": "code",
   "execution_count": 9,
   "id": "0486d963-15b7-47b8-8253-088ce6bddf17",
   "metadata": {},
   "outputs": [
    {
     "ename": "NameError",
     "evalue": "name 'sns' is not defined",
     "output_type": "error",
     "traceback": [
      "\u001b[0;31m---------------------------------------------------------------------------\u001b[0m",
      "\u001b[0;31mNameError\u001b[0m                                 Traceback (most recent call last)",
      "Cell \u001b[0;32mIn[9], line 1\u001b[0m\n\u001b[0;32m----> 1\u001b[0m \u001b[43msns\u001b[49m\u001b[38;5;241m.\u001b[39mpairplot(df, x_vars\u001b[38;5;241m=\u001b[39m[\u001b[38;5;124m'\u001b[39m\u001b[38;5;124mTV\u001b[39m\u001b[38;5;124m'\u001b[39m, \u001b[38;5;124m'\u001b[39m\u001b[38;5;124mradio\u001b[39m\u001b[38;5;124m'\u001b[39m, \u001b[38;5;124m'\u001b[39m\u001b[38;5;124mnewspaper\u001b[39m\u001b[38;5;124m'\u001b[39m], y_vars\u001b[38;5;241m=\u001b[39m\u001b[38;5;124m'\u001b[39m\u001b[38;5;124msales\u001b[39m\u001b[38;5;124m'\u001b[39m, height\u001b[38;5;241m=\u001b[39m\u001b[38;5;241m7\u001b[39m, aspect\u001b[38;5;241m=\u001b[39m\u001b[38;5;241m0.7\u001b[39m, kind\u001b[38;5;241m=\u001b[39m\u001b[38;5;124m'\u001b[39m\u001b[38;5;124mreg\u001b[39m\u001b[38;5;124m'\u001b[39m)\n\u001b[1;32m      2\u001b[0m plt\u001b[38;5;241m.\u001b[39mshow()\n",
      "\u001b[0;31mNameError\u001b[0m: name 'sns' is not defined"
     ]
    }
   ],
   "source": [
    "sns.pairplot(df, x_vars=['TV', 'radio', 'newspaper'], y_vars='sales', height=7, aspect=0.7, kind='reg')\n",
    "plt.show()"
   ]
  },
  {
   "cell_type": "markdown",
   "id": "4e393cf8-0562-4d70-89d0-8e112c5b3373",
   "metadata": {},
   "source": [
    "## Residual Plot \n",
    "Purpose: To check the assumption of linearity and homoscedasticity (constant variance).\n",
    "\n",
    "This plot shows the residuals (errors) against the predicted sales values. Ideally, residuals should be randomly scattered around zero, with no clear pattern. This suggests that the model's assumptions are valid.\n",
    "\n",
    "Interpretation: The residuals should be randomly scattered around zero, without any clear pattern. If you see a pattern (e.g., a curve), it indicates a non-linear relationship.\n",
    "If the spread of residuals increases or decreases, it might suggest heteroscedasticity (non-constant variance)."
   ]
  },
  {
   "cell_type": "code",
   "execution_count": null,
   "id": "b40da8b5-6896-444d-a21b-8f9eab3712de",
   "metadata": {},
   "outputs": [],
   "source": [
    "# Residuals vs. Fitted Values Plot\n",
    "fitted_values = model_multi.fittedvalues\n",
    "residuals = model_multi.resid\n",
    "\n",
    "plt.scatter(fitted_values, residuals)\n",
    "plt.axhline(y=0, color='r', linestyle='--')\n",
    "plt.xlabel('Fitted Values: predicted sales')\n",
    "plt.ylabel('Residuals')\n",
    "plt.title('Residuals vs. Fitted Values')\n",
    "plt.show()"
   ]
  },
  {
   "cell_type": "markdown",
   "id": "c7ec3f1e-1f60-4d84-a005-346774d2a791",
   "metadata": {},
   "source": [
    "## Q-Q Plot of Residuals\n",
    "Purpose: To check the normality of residuals. If the residuals are normally distributed, they should lie on the line in the Q-Q plot.\n",
    "\n",
    "The Q-Q plot compares the distribution of the residuals to a normal distribution. If the residuals fall along the 45-degree line, it suggests that they are normally distributed, which supports the assumptions of linear regression.\n",
    "\n",
    "Interpretation:\n",
    "\n",
    "Points should lie close to the diagonal line where predicted values equal actual values.\n",
    "Large deviations from the line indicate prediction errors or model inadequacies."
   ]
  },
  {
   "cell_type": "code",
   "execution_count": null,
   "id": "be46f571-23fa-4620-a01f-896db807eeb3",
   "metadata": {},
   "outputs": [],
   "source": [
    "# Q-Q plot of residuals\n",
    "sm.qqplot(residuals, line='45')\n",
    "plt.title('Q-Q Plot of Residuals')\n",
    "plt.show()\n"
   ]
  },
  {
   "cell_type": "markdown",
   "id": "e66a7248-6857-4634-a0ef-4884d9080702",
   "metadata": {},
   "source": [
    "## Predicted vs. Actual Plot \n",
    "Purpose: To evaluate how well the model's predictions match the actual data.\n",
    "\n",
    "This plot shows how the actual sales values compare to the predicted sales values. The red dashed line represents perfect predictions (actual = predicted). The closer the points are to this line, the better the model's predictions.\n",
    "\n",
    "Interpretation:\n",
    "\n",
    "Points should lie close to the diagonal line where predicted values equal actual values.\n",
    "Large deviations from the line indicate prediction errors or model inadequacies."
   ]
  },
  {
   "cell_type": "code",
   "execution_count": null,
   "id": "045d325a-c429-483e-9d8b-019d97efb82c",
   "metadata": {},
   "outputs": [],
   "source": [
    "# Predicted sales from the model\n",
    "y_pred = model_multi.predict(X)\n",
    "\n",
    "# Scatter plot of actual vs. predicted sales\n",
    "plt.figure(figsize=(8, 6))\n",
    "plt.scatter(y, y_pred, edgecolor='k', alpha=0.7)\n",
    "plt.plot([y.min(), y.max()], [y.min(), y.max()], 'r--', lw=2)  # Diagonal line\n",
    "plt.xlabel('Actual Sales')\n",
    "plt.ylabel('Predicted Sales')\n",
    "plt.title('Actual vs. Predicted Sales')\n",
    "plt.show()"
   ]
  },
  {
   "cell_type": "markdown",
   "id": "3f5c6c20-d755-4bbb-bf37-0c0c4a86c217",
   "metadata": {},
   "source": [
    "## Histogram of Residuals\n",
    "\n",
    "The histogram shows the distribution of residuals. A roughly normal distribution (bell curve) indicates that the errors are normally distributed, which is a good sign for the linear regression model.\n",
    "\n",
    "Interpretation:\n",
    "\n",
    "The histogram should resemble a bell curve (normal distribution).\n",
    "Skewness or kurtosis in the histogram may suggest issues with the model."
   ]
  },
  {
   "cell_type": "code",
   "execution_count": null,
   "id": "804f8eca-674d-45da-83f5-6598e67c97ac",
   "metadata": {},
   "outputs": [],
   "source": [
    "# Histogram of residuals\n",
    "plt.figure(figsize=(8, 6))\n",
    "sns.histplot(residuals, kde=True, color='blue')\n",
    "plt.xlabel('Residuals')\n",
    "plt.title('Histogram: Distribution of Residuals')\n",
    "plt.show()\n"
   ]
  },
  {
   "cell_type": "markdown",
   "id": "dae741b1-d783-4208-9f12-29a69381babd",
   "metadata": {},
   "source": [
    "## Partial Regression Plots\n",
    "Purpose: To understand the effect of each predictor while controlling for the others.\n",
    "\n",
    "Interpretation:\n",
    "\n",
    "A linear pattern suggests that the predictor has a linear relationship with the target variable.\n",
    "Non-linear patterns or lack of correlation might suggest that the predictor isn’t contributing much to the model."
   ]
  },
  {
   "cell_type": "code",
   "execution_count": null,
   "id": "0491fa96-03fd-45dd-8190-beb29cdf987d",
   "metadata": {},
   "outputs": [],
   "source": [
    "# Partial regression plots\n",
    "fig = plt.figure(figsize=(12, 8))\n",
    "sm.graphics.plot_partregress_grid(model_multi, fig=fig)\n",
    "plt.show()"
   ]
  },
  {
   "cell_type": "markdown",
   "id": "45adfd64-3e16-4087-b1d9-b8e91196bf47",
   "metadata": {},
   "source": [
    "## 3D Plot"
   ]
  },
  {
   "cell_type": "code",
   "execution_count": null,
   "id": "94d33c03-2b1d-4db2-b7d0-dd01a4e383f3",
   "metadata": {},
   "outputs": [],
   "source": [
    "from mpl_toolkits.mplot3d import Axes3D\n",
    "\n",
    "# Assuming you want to visualize TV and radio vs. sales\n",
    "fig = plt.figure(figsize=(10, 7))\n",
    "ax = fig.add_subplot(111, projection='3d')\n",
    "\n",
    "# Data points\n",
    "ax.scatter(df['TV'], df['radio'], y, c='blue', marker='o')\n",
    "\n",
    "# Create a mesh grid for TV and radio\n",
    "tv = np.linspace(df['TV'].min(), df['TV'].max(), 10)\n",
    "radio = np.linspace(df['radio'].min(), df['radio'].max(), 10)\n",
    "tv, radio = np.meshgrid(tv, radio)\n",
    "\n",
    "# Predicted sales based on the model\n",
    "z = model_multi.params[0] + model_multi.params[1] * tv + model_multi.params[2] * radio\n",
    "\n",
    "# Surface plot\n",
    "ax.plot_surface(tv, radio, z, color='red', alpha=0.3)\n",
    "\n",
    "ax.set_xlabel('TV')\n",
    "ax.set_ylabel('Radio')\n",
    "ax.set_zlabel('Sales')\n",
    "plt.title('3D Plot of TV and Radio vs. Sales')\n",
    "plt.show()"
   ]
  },
  {
   "cell_type": "code",
   "execution_count": 10,
   "id": "6bb8057b-ebc2-4bd5-8059-9e91eafcdce2",
   "metadata": {},
   "outputs": [
    {
     "name": "stdout",
     "output_type": "stream",
     "text": [
      "Predicted Sales:\n",
      "Sample 1: $13.54\n",
      "Sample 2: $17.71\n"
     ]
    }
   ],
   "source": [
    "# Example new data for prediction\n",
    "new_data = pd.DataFrame({\n",
    "    'TV': [150.0, 200.0],\n",
    "    'Radio': [20.0, 30.0],\n",
    "    'Newspaper': [30.0, 40.0]\n",
    "})\n",
    "# Add constant if your model includes an intercept\n",
    "new_data = sm.add_constant(new_data)\n",
    "\n",
    "# Predict sales for new data\n",
    "predicted_sales = model_multi.predict(new_data)\n",
    "\n",
    "# Display predictions\n",
    "print(\"Predicted Sales:\")\n",
    "for i, prediction in enumerate(predicted_sales, start=1):\n",
    "    print(f\"Sample {i}: ${prediction:.2f}\")"
   ]
  },
  {
   "cell_type": "code",
   "execution_count": null,
   "id": "6cd5e33d-6dc7-455e-b99e-9ff57740200f",
   "metadata": {},
   "outputs": [],
   "source": []
  }
 ],
 "metadata": {
  "kernelspec": {
   "display_name": "Python 3 (ipykernel)",
   "language": "python",
   "name": "python3"
  },
  "language_info": {
   "codemirror_mode": {
    "name": "ipython",
    "version": 3
   },
   "file_extension": ".py",
   "mimetype": "text/x-python",
   "name": "python",
   "nbconvert_exporter": "python",
   "pygments_lexer": "ipython3",
   "version": "3.11.4"
  }
 },
 "nbformat": 4,
 "nbformat_minor": 5
}
