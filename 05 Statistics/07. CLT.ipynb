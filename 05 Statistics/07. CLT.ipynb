{
 "cells": [
  {
   "cell_type": "markdown",
   "id": "ce2bf429-ceba-4526-8a79-e6aa016a9510",
   "metadata": {},
   "source": [
    "### Central Limit Theorem (CLT)\n",
    "\n",
    "The Central Limit Theorem (CLT) is a fundamental theorem in statistics that describes the behavior of the sum (or average) of a large number of independent and identically distributed (i.i.d.) random variables. It states that, regardless of the original distribution of the variables, the distribution of the sum (or average) of these variables will approximate a normal (Gaussian) distribution as the number of variables increases. This approximation becomes more accurate as the sample size grows.\n",
    "\n",
    "#### Statement of the Central Limit Theorem\n",
    "\n",
    "Given a set of $ n $ i.i.d. random variables $ X_1, X_2, X_3, \\ldots, X_n $ with mean $ \\mu $ and standard deviation $ \\sigma $, the sum (or average) of these variables will tend to follow a normal distribution with mean $ n\\mu $ (or $ \\mu $) and standard deviation $ \\sigma\\sqrt{n} $ or $ \\frac{\\sigma}{\\sqrt{n}} $ as $ n $ becomes large. Formally, if $ \\bar{X} $ is the sample mean:\n",
    "\n",
    "$$\n",
    "\\bar{X} = \\frac{1}{n} \\sum_{i=1}^{n} X_i\n",
    "$$\n",
    "\n",
    "then the standardized form of $ \\bar{X} $ approaches a standard normal distribution:\n",
    "\n",
    "$$\n",
    "Z = \\frac{\\bar{X} - \\mu}{\\sigma / \\sqrt{n}} \\approx \\mathcal{N}(0, 1) \\quad \\text{as} \\quad n \\to \\infty\n",
    "$$\n",
    "\n",
    "#### Implications of the Central Limit Theorem\n",
    "\n",
    "1. **Normal Approximation**:\n",
    "   - Even if the underlying distribution of the data is not normal, the distribution of the sample mean will approximate a normal distribution for large sample sizes.\n",
    "\n",
    "2. **Facilitates Inference**:\n",
    "   - The CLT allows us to use normal distribution techniques to make inferences about population parameters (e.g., confidence intervals, hypothesis testing) even when the data does not follow a normal distribution.\n",
    "\n",
    "3. **Sample Size**:\n",
    "   - In practice, a sample size of 30 or more is often considered sufficient for the CLT to hold, though this can vary depending on the distribution of the original data.\n",
    "\n",
    "#### Example\n",
    "\n",
    "Suppose we have a population with a mean of 50 and a standard deviation of 10. We take a sample of size 40 from this population and calculate the sample mean. According to the CLT, the distribution of the sample mean will be approximately normal with mean 50 and standard deviation $ \\frac{10}{\\sqrt{40}} \\approx 1.58 $.\n"
   ]
  },
  {
   "cell_type": "code",
   "execution_count": null,
   "id": "9f904ec7-e95b-4e9f-b336-afd1e8261cdc",
   "metadata": {},
   "outputs": [],
   "source": []
  }
 ],
 "metadata": {
  "kernelspec": {
   "display_name": "Python 3 (ipykernel)",
   "language": "python",
   "name": "python3"
  },
  "language_info": {
   "codemirror_mode": {
    "name": "ipython",
    "version": 3
   },
   "file_extension": ".py",
   "mimetype": "text/x-python",
   "name": "python",
   "nbconvert_exporter": "python",
   "pygments_lexer": "ipython3",
   "version": "3.11.4"
  }
 },
 "nbformat": 4,
 "nbformat_minor": 5
}
