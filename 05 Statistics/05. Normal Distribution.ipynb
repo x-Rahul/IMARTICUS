{
 "cells": [
  {
   "cell_type": "markdown",
   "id": "6c0d1cf7-e6e0-4843-8f5b-269fe3e48b0f",
   "metadata": {},
   "source": [
    "### Normal Distribution\n",
    "\n",
    "The Normal distribution, also known as the Gaussian distribution, is a continuous probability distribution that is symmetric around its mean $ \\mu $. It is defined by two parameters: the mean $\\mu$ and the standard deviation $\\sigma$.\n",
    "\n",
    "#### Characteristics of the Normal Distribution\n",
    "\n",
    "1. **Shape**:\n",
    "   - Symmetric around its mean $ \\mu $.\n",
    "   - Bell-shaped with a single peak.\n",
    "\n",
    "2. **Parameters**:\n",
    "   - $ \\mu $: Mean, determines the center of the distribution.\n",
    "   - $ \\sigma $: Standard deviation, measures the spread.\n",
    "\n",
    "3. **Probability Density Function (PDF)**:\n",
    "   $$\n",
    "   f(x) = \\frac{1}{\\sigma \\sqrt{2\\pi}} \\exp\\left( -\\frac{(x - \\mu)^2}{2\\sigma^2} \\right), \\quad -\\infty < x < \\infty\n",
    "   $$\n",
    "\n",
    "4. **Standard Normal Distribution**:\n",
    "   - $ \\mu = 0 $, $ \\sigma = 1 $.\n",
    "   - PDF:\n",
    "     $$\n",
    "     \\phi(x) = \\frac{1}{\\sqrt{2\\pi}} \\exp\\left( -\\frac{x^2}{2} \\right), \\quad -\\infty < x < \\infty\n",
    "     $$\n",
    "\n",
    "5. **Mean and Variance**:\n",
    "   - Mean $ E(X) = \\mu $.\n",
    "   - Variance $ \\text{Var}(X) = \\sigma^2 $.\n",
    "\n",
    "#### Applications\n",
    "\n",
    "- Natural phenomena, statistical inference, engineering, economics."
   ]
  },
  {
   "cell_type": "markdown",
   "id": "7cb61868-70c5-42eb-a110-93a7b3e3d7c8",
   "metadata": {},
   "source": [
    "**Example:**\n",
    "Suppose the heights of adult men are normally distributed with a mean height of 70 inches and a standard deviation of 3 inches.\n",
    "\n",
    "#### Calculations:\n",
    "- Mean: $\\mu = 70$\n",
    "- Standard deviation: $\\sigma = 3$\n",
    "\n",
    "#### Probability Density Function (PDF):\n",
    "The PDF of a normal distribution is given by:\n",
    "\n",
    "$$ f(x) = \\frac{1}{\\sigma \\sqrt{2\\pi}} e^{-\\frac{(x - \\mu)^2}{2\\sigma^2}} $$\n",
    "\n",
    "#### Plot:\n",
    "```python\n",
    "import numpy as np\n",
    "import matplotlib.pyplot as plt\n",
    "from scipy.stats import norm\n",
    "\n",
    "# Parameters\n",
    "mu = 70\n",
    "sigma = 3\n",
    "\n",
    "# Normal distribution\n",
    "x = np.linspace(mu - 4*sigma, mu + 4*sigma, 1000)\n",
    "pdf = norm.pdf(x, mu, sigma)\n",
    "\n",
    "# Plotting\n",
    "plt.figure(figsize=(10, 6))\n",
    "plt.plot(x, pdf, color='blue')\n",
    "plt.title('Normal Distribution (mean=70, std=3)')\n",
    "plt.xlabel('Height (inches)')\n",
    "plt.ylabel('Probability Density')\n",
    "plt.grid(True)\n",
    "plt.show()\n"
   ]
  },
  {
   "cell_type": "code",
   "execution_count": null,
   "id": "699c2ad6-e541-4992-b4df-7e92fa52f23e",
   "metadata": {},
   "outputs": [],
   "source": []
  }
 ],
 "metadata": {
  "kernelspec": {
   "display_name": "Python 3 (ipykernel)",
   "language": "python",
   "name": "python3"
  },
  "language_info": {
   "codemirror_mode": {
    "name": "ipython",
    "version": 3
   },
   "file_extension": ".py",
   "mimetype": "text/x-python",
   "name": "python",
   "nbconvert_exporter": "python",
   "pygments_lexer": "ipython3",
   "version": "3.11.4"
  }
 },
 "nbformat": 4,
 "nbformat_minor": 5
}
