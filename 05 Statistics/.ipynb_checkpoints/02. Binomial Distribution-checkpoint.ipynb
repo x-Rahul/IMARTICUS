{
 "cells": [
  {
   "cell_type": "markdown",
   "id": "f9fea08b-aedc-44be-8b23-c1ba06dec249",
   "metadata": {},
   "source": [
    "### Binomial Distribution\n",
    "\n",
    "The Binomial distribution is a discrete probability distribution that describes the number of successes $ k $ in a fixed number $ n $ of independent Bernoulli trials, where each trial has two possible outcomes (success or failure) with a constant probability of success $ p $.\n",
    "\n",
    "#### Characteristics of the Binomial Distribution\n",
    "\n",
    "1. **Parameters**:\n",
    "   - $ n $: The number of independent trials.\n",
    "   - $ p $: The probability of success on each trial.\n",
    "   - $ q = 1 - p $: The probability of failure on each trial.\n",
    "\n",
    "2. **Probability Mass Function (PMF)**:\n",
    "   For a random variable $ X $ following a Binomial distribution with parameters $ n $ and $ p $, the PMF is:\n",
    "   \n",
    "   $$\n",
    "   P(X = k) = \\binom{n}{k} p^k q^{n-k}, \\quad \\text{for } k = 0, 1, 2, \\ldots, n\n",
    "   $$\n",
    "   \n",
    "   where $ \\binom{n}{k} $ is the binomial coefficient.\n",
    "\n",
    "3. **Mean and Variance**:\n",
    "   The mean and variance of a Binomial distributed random variable $ X $ are:\n",
    "   \n",
    "   $$\n",
    "   E(X) = n \\cdot p\n",
    "   $$\n",
    "   $$\n",
    "   \\text{Var}(X) = n \\cdot p \\cdot q\n",
    "   $$\n",
    "\n",
    "#### Applications\n",
    "\n",
    "- **Business**: Sales success rates, customer conversion rates.\n",
    "- **Science**: Biological experiments, quality control.\n",
    "- **Engineering**: Reliability testing, failure analysis.\n",
    "\n",
    "#### Example\n",
    "\n",
    "If you flip a fair coin 10 times (where $ n = 10 $) and want to find the probability of getting exactly 3 heads (where $ k = 3 $), you can use the Binomial distribution with $ p = 0.5 $:\n",
    "\n",
    "$$\n",
    "P(X = 3) = \\binom{10}{3} (0.5)^3 (0.5)^7 = \\binom{10}{3} (0.5)^{10}\n",
    "$$\n"
   ]
  },
  {
   "cell_type": "code",
   "execution_count": null,
   "id": "44fc5d74-f542-41de-8067-668b3f86d03e",
   "metadata": {},
   "outputs": [],
   "source": []
  }
 ],
 "metadata": {
  "kernelspec": {
   "display_name": "Python 3 (ipykernel)",
   "language": "python",
   "name": "python3"
  },
  "language_info": {
   "codemirror_mode": {
    "name": "ipython",
    "version": 3
   },
   "file_extension": ".py",
   "mimetype": "text/x-python",
   "name": "python",
   "nbconvert_exporter": "python",
   "pygments_lexer": "ipython3",
   "version": "3.11.4"
  }
 },
 "nbformat": 4,
 "nbformat_minor": 5
}
