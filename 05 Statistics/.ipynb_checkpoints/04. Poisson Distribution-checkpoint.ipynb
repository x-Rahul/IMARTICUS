{
 "cells": [
  {
   "cell_type": "markdown",
   "id": "33c7acdb-4948-4dab-a3d8-647921508fba",
   "metadata": {},
   "source": [
    "### Poisson Distribution\n",
    "\n",
    "The Poisson distribution is a probability distribution that describes the number of events occurring in a fixed interval of time or space, given a known average rate of occurrence, and under the assumption that events occur independently of each other.  It is defined by the parameter $\\lambda$ (the average rate of occurrence).\n",
    "\n",
    "#### Characteristics of the Poisson Distribution\n",
    "\n",
    "1. **Parameter**: The Poisson distribution is characterized by a single parameter $ \\lambda $, representing the average rate of occurrence of the events.\n",
    "   \n",
    "2. **Probability Mass Function (PMF)**: For a random variable $ X $ following a Poisson distribution with parameter $ \\lambda $, the PMF is:\n",
    "   \n",
    "   $$\n",
    "   P(X = k) = \\frac{\\lambda^k e^{-\\lambda}}{k!}, \\quad \\text{for } k = 0, 1, 2, \\ldots\n",
    "   $$\n",
    "   \n",
    "   where $ e $ is the base of the natural logarithm.\n",
    "\n",
    "3. **Mean and Variance**: The mean and variance of a Poisson distributed random variable $ X $ are both $ \\lambda $:\n",
    "   \n",
    "   $$\n",
    "   E(X) = \\lambda, \\quad \\text{Var}(X) = \\lambda\n",
    "   $$\n",
    "\n",
    "#### Applications\n",
    "\n",
    "- **Business**: Quality control, customer service, insurance.\n",
    "- **Science**: Biology, physics, medicine.\n",
    "- **Engineering**: Reliability engineering.\n",
    "\n",
    "#### Example\n",
    "\n",
    "If a machine in a factory produces defects at an average rate of 2 defects per hour, the number of defects $ X $ produced in an hour follows a Poisson distribution with $ \\lambda = 2 $:\n",
    "\n",
    "$$\n",
    "P(X = k) = \\frac{2^k e^{-2}}{k!}, \\quad \\text{for } k = 0, 1, 2, \\ldots\n",
    "$$\n",
    "\n",
    "This distribution allows us to predict the probability of observing a specific number of defects in any given hour.\n"
   ]
  },
  {
   "cell_type": "markdown",
   "id": "97a0dd3e-171d-4b26-b4fd-aaf26ee2a9fa",
   "metadata": {},
   "source": [
    "### Poisson Distribution Example\n",
    "\n",
    "**Example:**\n",
    "Suppose a call center receives an average of 5 calls per hour.\n",
    "\n",
    "#### Calculations:\n",
    "- Rate: $\\lambda = 5$\n",
    "\n",
    "#### Probability Mass Function (PMF):\n",
    "The PMF of a Poisson distribution is given by:\n",
    "\n",
    "$$ P(X = k) = \\frac{\\lambda^k e^{-\\lambda}}{k!} $$\n",
    "\n",
    "#### Plot:\n",
    "```python\n",
    "import numpy as np\n",
    "import matplotlib.pyplot as plt\n",
    "from scipy.stats import poisson\n",
    "\n",
    "# Parameters\n",
    "lambda_ = 5\n",
    "\n",
    "# Poisson distribution\n",
    "x = np.arange(0, 20)\n",
    "pmf = poisson.pmf(x, lambda_)\n",
    "\n",
    "# Plotting\n",
    "plt.figure(figsize=(10, 6))\n",
    "plt.bar(x, pmf, color='blue', alpha=0.7)\n",
    "plt.title('Poisson Distribution (lambda=5)')\n",
    "plt.xlabel('Number of Calls')\n",
    "plt.ylabel('Probability')\n",
    "plt.grid(True)\n",
    "plt.show()\n"
   ]
  },
  {
   "cell_type": "code",
   "execution_count": null,
   "id": "5ed17213-321c-4c16-b638-8c3059b47d5e",
   "metadata": {},
   "outputs": [],
   "source": []
  }
 ],
 "metadata": {
  "kernelspec": {
   "display_name": "Python 3 (ipykernel)",
   "language": "python",
   "name": "python3"
  },
  "language_info": {
   "codemirror_mode": {
    "name": "ipython",
    "version": 3
   },
   "file_extension": ".py",
   "mimetype": "text/x-python",
   "name": "python",
   "nbconvert_exporter": "python",
   "pygments_lexer": "ipython3",
   "version": "3.11.4"
  }
 },
 "nbformat": 4,
 "nbformat_minor": 5
}
