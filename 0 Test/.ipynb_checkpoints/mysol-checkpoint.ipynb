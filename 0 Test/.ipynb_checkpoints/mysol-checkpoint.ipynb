{
 "cells": [
  {
   "cell_type": "code",
   "execution_count": 92,
   "id": "861e24a2-d43c-4bb5-88ac-485decaaf035",
   "metadata": {},
   "outputs": [
    {
     "name": "stdout",
     "output_type": "stream",
     "text": [
      "Positive comments: ['He is a good boy', 'He is an awesome player', 'She is the best', 'These burger are really nice']\n",
      "Negative comments: ['Food is the worst here', 'This pizza tastes awful']\n"
     ]
    }
   ],
   "source": [
    "positive = ['good','awesome', 'best', 'nice']\n",
    "negative = ['worst','awful']\n",
    "\n",
    "comments = ['He is a good boy',\n",
    "'Food is the worst here',\n",
    "'He is an awesome player',\n",
    "'She is the best',\n",
    "'This pizza tastes awful',\n",
    "'These burger are really nice']\n",
    "\n",
    "pos_comments = []\n",
    "neg_coments = []\n",
    "\n",
    "for word in positive:\n",
    "    for cmt in comments:\n",
    "        if word in cmt:\n",
    "            pos_comments.append(cmt)\n",
    "\n",
    "for word in negative:\n",
    "    for cmt in comments:\n",
    "        if word in cmt:\n",
    "            neg_coments.append(cmt)\n",
    "\n",
    "print(f\"Positive comments: {pos_comments}\")\n",
    "print(f\"Negative comments: {neg_coments}\")"
   ]
  },
  {
   "cell_type": "code",
   "execution_count": 91,
   "id": "b975ae6b-e327-4901-bfe5-ecf8e756ef7a",
   "metadata": {},
   "outputs": [
    {
     "name": "stdout",
     "output_type": "stream",
     "text": [
      "Positive Comments:\n",
      "['He is a good boy', 'He is an awesome player', 'She is the best', 'These burger are really nice']\n",
      "\n",
      "Negative Comments:\n",
      "['Food is the worst here', 'This pizza tastes awful']\n"
     ]
    }
   ],
   "source": [
    "# Lists of positive and negative words\n",
    "positive = ['good', 'awesome', 'best', 'nice']\n",
    "negative = ['worst', 'awful']\n",
    "\n",
    "# List of comments\n",
    "comments = [\n",
    "    'He is a good boy',\n",
    "    'Food is the worst here',\n",
    "    'He is an awesome player',\n",
    "    'She is the best',\n",
    "    'This pizza tastes awful',\n",
    "    'These burger are really nice'\n",
    "]\n",
    "\n",
    "# Initialize lists to store segregated comments\n",
    "positive_comments = []\n",
    "negative_comments = []\n",
    "\n",
    "# Function to check sentiment of each comment\n",
    "def classify_comment(comment):\n",
    "    # Convert comment to lowercase for case-insensitive comparison\n",
    "    comment_lower = comment.lower()\n",
    "    if any(word in comment_lower for word in positive):\n",
    "        return 'positive'\n",
    "    elif any(word in comment_lower for word in negative):\n",
    "        return 'negative'\n",
    "    return 'neutral'\n",
    "\n",
    "# Segregate comments based on their sentiment\n",
    "for comment in comments:\n",
    "    sentiment = classify_comment(comment)\n",
    "    if sentiment == 'positive':\n",
    "        positive_comments.append(comment)\n",
    "    elif sentiment == 'negative':\n",
    "        negative_comments.append(comment)\n",
    "\n",
    "# Output the segregated comments\n",
    "print(\"Positive Comments:\")\n",
    "print(positive_comments)\n",
    "print(\"\\nNegative Comments:\")\n",
    "print(negative_comments)\n"
   ]
  },
  {
   "cell_type": "code",
   "execution_count": 20,
   "id": "5243c65b-4f8b-4de6-bdde-f31f47415d38",
   "metadata": {},
   "outputs": [
    {
     "name": "stdin",
     "output_type": "stream",
     "text": [
      "Enter a number:  5\n"
     ]
    },
    {
     "name": "stdout",
     "output_type": "stream",
     "text": [
      "152.2360679774998\n"
     ]
    }
   ],
   "source": [
    "dictlambda = {\n",
    "    'Square' : lambda x: x**2,\n",
    "    'Cube': lambda x: x**3,\n",
    "    'Squareroot': lambda x: x**(1/2)\n",
    "}\n",
    "\n",
    "user_ip = int(input(\"Enter a number: \"))\n",
    "\n",
    "sq = dictlambda['Square'](user_ip) \n",
    "cb = dictlambda['Cube'](user_ip) \n",
    "sqrt = dictlambda['Squareroot'](user_ip)\n",
    "\n",
    "print(sq+cb+sqrt)"
   ]
  },
  {
   "cell_type": "code",
   "execution_count": 23,
   "id": "27887d32-2114-4796-926f-f56350d1444c",
   "metadata": {},
   "outputs": [
    {
     "name": "stdout",
     "output_type": "stream",
     "text": [
      "Sour Fruits: ['Lemon', 'Grapes', 'Kiwi', 'Orange', 'Limes']\n"
     ]
    }
   ],
   "source": [
    "fruits = (\n",
    "    ('Lemon','sour'),\n",
    "    ('DragonFruit', 'Sweet'),\n",
    "    ('Grapes','soUr'),\n",
    "    ('Kiwi','Sour'),\n",
    "    ('Apples','sweet'),\n",
    "    ('Orange','sour'),\n",
    "    ('Blueberries','sweet'),\n",
    "    ('Limes','Sour')\n",
    ")\n",
    "\n",
    "sour_fruits = []\n",
    "for i, j in fruits:\n",
    "    if j.lower() == 'sour':\n",
    "        sour_fruits.append(i)\n",
    "        \n",
    "print(f\"Sour Fruits: {sour_fruits}\")"
   ]
  },
  {
   "cell_type": "code",
   "execution_count": 27,
   "id": "fc14447d-cfc8-4e8c-b4a2-fee92f8c3ef5",
   "metadata": {},
   "outputs": [
    {
     "name": "stdout",
     "output_type": "stream",
     "text": [
      "['hOw', 'ARe']\n"
     ]
    }
   ],
   "source": [
    "ls = ['hello', 'Dear', 'hOw', 'ARe', 'You']\n",
    "\n",
    "output = []\n",
    "for word in ls:\n",
    "    if word[1] >= 'A' and word[1] <= 'Z':\n",
    "        output.append(word)\n",
    "print(output)"
   ]
  },
  {
   "cell_type": "code",
   "execution_count": 54,
   "id": "eeec1974-ba8c-4d2e-8ed4-5fa34db8c57f",
   "metadata": {},
   "outputs": [
    {
     "name": "stdout",
     "output_type": "stream",
     "text": [
      "Weight on Moon: {'John': 7.44, 'Shelly': 10.75, 'Marry': 5.79}\n"
     ]
    }
   ],
   "source": [
    "\n",
    "\n",
    "WeightOnEarth = {'John':45, 'Shelly':65, 'Marry':35}\n",
    "GMoon = 1.622\n",
    "GEarth = 9.81\n",
    "\n",
    "# wMoon = (wEarth * GMoon) / GEarth\n",
    "\n",
    "# WeightOnEarth.map(lambda x: x )\n",
    "\n",
    "output = dict(map(lambda pair: (pair[0], round(pair[1] * GMoon / GEarth, 2)), WeightOnEarth.items()))\n",
    "print(f\"Weight on Moon: {output}\")"
   ]
  },
  {
   "cell_type": "code",
   "execution_count": 59,
   "id": "ceb89d59-ff96-41aa-bbe1-afaaa5d08c65",
   "metadata": {},
   "outputs": [
    {
     "name": "stdout",
     "output_type": "stream",
     "text": [
      "['Maria', 'Hello', 'World', 'Merry', 'You']\n"
     ]
    }
   ],
   "source": [
    "namesList = ['santa Maria', 'Hello World','Merry christmas', 'tHank You']\n",
    "\n",
    "word = []\n",
    "\n",
    "for i in namesList:\n",
    "    for j in i.split():\n",
    "        if j[0]>='A' and j[0]<='Z':\n",
    "            word.append(j)\n",
    "\n",
    "print(word)"
   ]
  },
  {
   "cell_type": "code",
   "execution_count": 69,
   "id": "9fcd55e6-482d-4da9-ad97-9c38b2f093a1",
   "metadata": {},
   "outputs": [
    {
     "name": "stdout",
     "output_type": "stream",
     "text": [
      "{8, 3}\n"
     ]
    }
   ],
   "source": [
    "from functools import reduce\n",
    "given_sets = [[1, 2, 3, 4, 8], [2, 3, 8, 5, 6], [8, 4, 5, 3, 7], [6, 9, 8, 3], [9, 12, 3, 7, 6, 8, 4, 6, 21, 1, 6]]\n",
    "\n",
    "print(set(reduce(lambda x, y: set(x) & set(y), s)))"
   ]
  },
  {
   "cell_type": "code",
   "execution_count": 61,
   "id": "d02224d4-447d-49eb-a7c8-1d6320e4c334",
   "metadata": {},
   "outputs": [
    {
     "data": {
      "text/plain": [
       "{1, 4, 5, 6}"
      ]
     },
     "execution_count": 61,
     "metadata": {},
     "output_type": "execute_result"
    }
   ],
   "source": [
    "A = {1, 2, 3, 4, 8}\n",
    "B = {2, 3, 8, 5, 6}\n",
    "A^B"
   ]
  },
  {
   "cell_type": "code",
   "execution_count": 86,
   "id": "29c631b5-d100-4475-bfbc-562114837c8c",
   "metadata": {},
   "outputs": [
    {
     "name": "stdout",
     "output_type": "stream",
     "text": [
      "[9.0, 7.0, 7.0, 7.25, 6.8]\n"
     ]
    }
   ],
   "source": [
    "from itertools import accumulate\n",
    "\n",
    "# nums = [9,8,7,6,5]\n",
    "nums = [9, 5, 7, 8, 5]\n",
    "sums = list(accumulate(nums))\n",
    "\n",
    "output = list(map(lambda i: (sums[i]/(i+1)) , range(len(sums)) ))\n",
    "\n",
    "print(output)"
   ]
  },
  {
   "cell_type": "code",
   "execution_count": 89,
   "id": "60581286-fdf0-4cbf-9975-ae300d518052",
   "metadata": {},
   "outputs": [
    {
     "data": {
      "text/plain": [
       "['TRUE', 'FALSE', 'TRUE', 'TRUE', 'FALSE', 'FALSE']"
      ]
     },
     "execution_count": 89,
     "metadata": {},
     "output_type": "execute_result"
    }
   ],
   "source": [
    "lsbool = ['True','FALse','tRUe','tRue','False','faLse']\n",
    "list(map(lambda x: x.upper(), lsbool))"
   ]
  },
  {
   "cell_type": "code",
   "execution_count": 90,
   "id": "711d871a-dddd-4250-8295-54709637e240",
   "metadata": {},
   "outputs": [
    {
     "data": {
      "text/plain": [
       "['1997', '2011', '1993', '2020']"
      ]
     },
     "execution_count": 90,
     "metadata": {},
     "output_type": "execute_result"
    }
   ],
   "source": [
    "datesList = ['17-12-1997','22-04-2011','01-05-1993','19-06-2020']\n",
    "\n",
    "[date[-4:] for date in datesList]"
   ]
  },
  {
   "cell_type": "code",
   "execution_count": null,
   "id": "1a38c752-8609-49f5-a6a7-d2a0edba848c",
   "metadata": {},
   "outputs": [],
   "source": []
  }
 ],
 "metadata": {
  "kernelspec": {
   "display_name": "Python 3 (ipykernel)",
   "language": "python",
   "name": "python3"
  },
  "language_info": {
   "codemirror_mode": {
    "name": "ipython",
    "version": 3
   },
   "file_extension": ".py",
   "mimetype": "text/x-python",
   "name": "python",
   "nbconvert_exporter": "python",
   "pygments_lexer": "ipython3",
   "version": "3.11.4"
  }
 },
 "nbformat": 4,
 "nbformat_minor": 5
}
