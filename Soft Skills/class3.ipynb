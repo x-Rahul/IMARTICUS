{
 "cells": [
  {
   "cell_type": "markdown",
   "metadata": {},
   "source": [
    "## What are SMART goals?\n",
    "\n",
    "The SMART in SMART goals stands for Specific, Measurable, Achievable, Relevant, and Time-Bound.\n",
    "\n",
    "Defining these parameters as they pertain to your goal helps ensure that your objectives are attainable within a certain time frame. "
   ]
  },
  {
   "cell_type": "markdown",
   "metadata": {},
   "source": [
    "## How to write SMART goals"
   ]
  },
  {
   "cell_type": "markdown",
   "metadata": {
    "vscode": {
     "languageId": "plaintext"
    }
   },
   "source": [
    "### 1. S: Specific"
   ]
  },
  {
   "cell_type": "markdown",
   "metadata": {},
   "source": [
    "What needs to be accomplished?\n",
    "\n",
    "Who’s responsible for it?\n",
    "\n",
    "What steps need to be taken to achieve it?"
   ]
  },
  {
   "cell_type": "markdown",
   "metadata": {},
   "source": [
    "### 2. M: Measurable"
   ]
  },
  {
   "cell_type": "markdown",
   "metadata": {},
   "source": [
    "Specificity is a solid start, but quantifying your goals (that is, making sure they’re measurable) makes it easier to track progress and know when you’ve reached the finish line."
   ]
  },
  {
   "cell_type": "markdown",
   "metadata": {},
   "source": [
    "### 3. A: Achievable"
   ]
  },
  {
   "cell_type": "markdown",
   "metadata": {},
   "source": [
    "This is the point in the process when you give yourself a serious reality check. Goals should be realistic – not pedestals from which you inevitably tumble. Ask yourself: is your objective something your team can reasonably accomplish?"
   ]
  },
  {
   "cell_type": "markdown",
   "metadata": {},
   "source": [
    "### 4. R: Relevant"
   ]
  },
  {
   "cell_type": "markdown",
   "metadata": {},
   "source": [
    "### 5. T: Time-bound"
   ]
  },
  {
   "cell_type": "markdown",
   "metadata": {},
   "source": [
    "To properly measure success, you and your team need to be on the same page about when a goal has been reached. What’s your time horizon? When will the team start creating and implementing the tasks they’ve identified? When will they finish?"
   ]
  },
  {
   "cell_type": "markdown",
   "metadata": {},
   "source": [
    "## S.W.O.T Analysis: Personal and profeesional Strenght and weakness"
   ]
  },
  {
   "cell_type": "markdown",
   "metadata": {},
   "source": [
    "### Strengths\n",
    "\n",
    "| **Category**      | **Strength**              | **Description**                                                                   |\n",
    "|-------------------|---------------------------|-----------------------------------------------------------------------------------|\n",
    "| **Personal**      | **Empathy**                | Understanding and sharing the feelings of others.                                 |\n",
    "| **Personal**      | **Adaptability**           | Being flexible and adjusting well to changes.                                     |\n",
    "| **Personal**      | **Resilience**             | Ability to recover quickly from difficulties or setbacks.                         |\n",
    "| **Personal**      | **Emotional Intelligence** | Awareness and control of one's emotions, and understanding the emotions of others.|\n",
    "| **Personal**      | **Optimism**               | Having a positive outlook on situations and focusing on solutions.                |\n",
    "| **Professional**  | **Communication**          | Clear, effective verbal and written communication skills.                         |\n",
    "| **Professional**  | **Problem-solving**        | Analyzing situations and developing solutions to challenges.                      |\n",
    "| **Professional**  | **Time management**        | Prioritizing tasks efficiently to meet deadlines.                                 |\n",
    "| **Professional**  | **Collaboration**          | Working effectively as part of a team and fostering a cooperative environment.    |\n",
    "| **Professional**  | **Leadership**             | Inspiring and motivating others to achieve common goals.                          |\n",
    "| **Professional**  | **Attention to Detail**    | Careful and thorough in checking for accuracy and precision in tasks.             |\n",
    "| **Professional**  | **Creativity**             | Innovating new ideas, approaches, and solutions to problems.                      |\n"
   ]
  },
  {
   "cell_type": "markdown",
   "metadata": {},
   "source": [
    "### Weaknesses\n",
    "\n",
    "| **Category**      | **Weakness**               | **Description**                                                                   |\n",
    "|-------------------|---------------------------|-----------------------------------------------------------------------------------|\n",
    "| **Personal**      | **Procrastination**        | Delaying tasks unnecessarily, often leading to last-minute pressure.              |\n",
    "| **Personal**      | **Self-criticism**         | Being overly harsh on oneself, leading to decreased self-esteem or confidence.    |\n",
    "| **Personal**      | **Impatience**             | Difficulty waiting for results or expecting immediate outcomes.                   |\n",
    "| **Personal**      | **Stubbornness**           | Reluctance to change one’s views or decisions, even when needed.                  |\n",
    "| **Personal**      | **Overthinking**           | Spending too much time analyzing situations, leading to indecision.               |\n",
    "| **Professional**  | **Delegation**             | Struggling to assign tasks to others, preferring to handle everything oneself.     |\n",
    "| **Professional**  | **Perfectionism**          | Spending excessive time on tasks to make them perfect, which may delay progress.  |\n",
    "| **Professional**  | **Public speaking**        | Feeling anxious or nervous when speaking in front of an audience.                 |\n",
    "| **Professional**  | **Micromanagement**        | Overly controlling or scrutinizing subordinates, hindering their autonomy.        |\n",
    "| **Professional**  | **Risk-aversion**          | Hesitating to take risks, even when they are calculated and beneficial.           |\n",
    "| **Professional**  | **Multitasking**           | Trying to handle too many tasks at once, often reducing the quality of work.      |\n"
   ]
  },
  {
   "cell_type": "markdown",
   "metadata": {},
   "source": [
    "### Stephen Covey's Time Management Matrix:"
   ]
  },
  {
   "cell_type": "markdown",
   "metadata": {
    "vscode": {
     "languageId": "plaintext"
    }
   },
   "source": [
    "| **Quadrant**     | **Description**                                              | **Examples**                           | **Action**                    |\n",
    "|------------------|--------------------------------------------------------------|---------------------------------------|--------------------------------|\n",
    "| **Quadrant I**   |                                                              |                                       |                                |\n",
    "| **Quadrant II**  |                                                              |                                       |                                |\n",
    "| **Quadrant III** |                                                              |                                       |                                |\n",
    "| **Quadrant IV**  |                                                              |                                       |                                |"
   ]
  },
  {
   "cell_type": "code",
   "execution_count": null,
   "metadata": {
    "vscode": {
     "languageId": "plaintext"
    }
   },
   "outputs": [],
   "source": []
  },
  {
   "cell_type": "markdown",
   "metadata": {},
   "source": []
  }
 ],
 "metadata": {
  "language_info": {
   "name": "python"
  }
 },
 "nbformat": 4,
 "nbformat_minor": 2
}
